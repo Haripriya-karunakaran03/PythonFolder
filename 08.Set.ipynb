{
 "cells": [
  {
   "cell_type": "code",
   "execution_count": 1,
   "id": "c2839b51",
   "metadata": {},
   "outputs": [
    {
     "data": {
      "text/plain": [
       "dict"
      ]
     },
     "execution_count": 1,
     "metadata": {},
     "output_type": "execute_result"
    }
   ],
   "source": [
    "# The empty set of curly braces denotes the empty dictionary, not empty set\n",
    "s = {}\n",
    "type(s)"
   ]
  },
  {
   "cell_type": "code",
   "execution_count": null,
   "id": "883b5913",
   "metadata": {},
   "outputs": [],
   "source": [
    "# To take a set without elements, use set() function without any items\n",
    "\n",
    "y = set()\n",
    "print(y,type(y))"
   ]
  },
  {
   "cell_type": "code",
   "execution_count": 58,
   "id": "d9a783b0",
   "metadata": {},
   "outputs": [
    {
     "name": "stdout",
     "output_type": "stream",
     "text": [
      "{1, 2, 3}\n"
     ]
    }
   ],
   "source": [
    "a = set([1,2,3])\n",
    "print(a)"
   ]
  },
  {
   "cell_type": "code",
   "execution_count": 2,
   "id": "840b68cd",
   "metadata": {},
   "outputs": [
    {
     "name": "stdout",
     "output_type": "stream",
     "text": [
      "<class 'set'>\n"
     ]
    }
   ],
   "source": [
    "x = {\"Hari\"}\n",
    "print(type(x))"
   ]
  },
  {
   "cell_type": "code",
   "execution_count": 4,
   "id": "2c924b5b",
   "metadata": {},
   "outputs": [
    {
     "name": "stdout",
     "output_type": "stream",
     "text": [
      "{1, 2, 3, 4}\n"
     ]
    }
   ],
   "source": [
    "a = {1,1,2,3,1,2,4,3,2}   # removes duplicate values and make the elements unique\n",
    "print(a)"
   ]
  },
  {
   "cell_type": "code",
   "execution_count": 6,
   "id": "7d0e8e9b",
   "metadata": {},
   "outputs": [],
   "source": [
    "# set() can have any type of elements tho it doesnt allow mutable types eg.list,dict\n",
    "\n",
    "s = {10,10.4,\"Haripriya\",(1,2,3,4)}  "
   ]
  },
  {
   "cell_type": "code",
   "execution_count": 7,
   "id": "abfcc0e9",
   "metadata": {},
   "outputs": [
    {
     "ename": "TypeError",
     "evalue": "unhashable type: 'list'",
     "output_type": "error",
     "traceback": [
      "\u001b[1;31m---------------------------------------------------------------------------\u001b[0m",
      "\u001b[1;31mTypeError\u001b[0m                                 Traceback (most recent call last)",
      "Cell \u001b[1;32mIn[7], line 1\u001b[0m\n\u001b[1;32m----> 1\u001b[0m s \u001b[38;5;241m=\u001b[39m {\u001b[38;5;241m10\u001b[39m,\u001b[38;5;241m10.4\u001b[39m,\u001b[38;5;124m\"\u001b[39m\u001b[38;5;124mHaripriya\u001b[39m\u001b[38;5;124m\"\u001b[39m,(\u001b[38;5;241m1\u001b[39m,\u001b[38;5;241m2\u001b[39m,\u001b[38;5;241m3\u001b[39m,\u001b[38;5;241m4\u001b[39m),[\u001b[38;5;241m1\u001b[39m,\u001b[38;5;241m2\u001b[39m,\u001b[38;5;241m3\u001b[39m,\u001b[38;5;241m4\u001b[39m]}\n",
      "\u001b[1;31mTypeError\u001b[0m: unhashable type: 'list'"
     ]
    }
   ],
   "source": [
    "s = {10,10.4,\"Haripriya\",(1,2,3,4),[1,2,3,4]}  "
   ]
  },
  {
   "cell_type": "code",
   "execution_count": 8,
   "id": "590a6f0a",
   "metadata": {},
   "outputs": [
    {
     "ename": "TypeError",
     "evalue": "unhashable type: 'dict'",
     "output_type": "error",
     "traceback": [
      "\u001b[1;31m---------------------------------------------------------------------------\u001b[0m",
      "\u001b[1;31mTypeError\u001b[0m                                 Traceback (most recent call last)",
      "Cell \u001b[1;32mIn[8], line 1\u001b[0m\n\u001b[1;32m----> 1\u001b[0m s \u001b[38;5;241m=\u001b[39m {\u001b[38;5;241m10\u001b[39m,\u001b[38;5;241m10.4\u001b[39m,\u001b[38;5;124m\"\u001b[39m\u001b[38;5;124mHaripriya\u001b[39m\u001b[38;5;124m\"\u001b[39m,(\u001b[38;5;241m1\u001b[39m,\u001b[38;5;241m2\u001b[39m,\u001b[38;5;241m3\u001b[39m,\u001b[38;5;241m4\u001b[39m),{\u001b[38;5;241m1\u001b[39m:\u001b[38;5;241m10\u001b[39m,\u001b[38;5;241m2\u001b[39m:\u001b[38;5;241m40\u001b[39m}}\n",
      "\u001b[1;31mTypeError\u001b[0m: unhashable type: 'dict'"
     ]
    }
   ],
   "source": [
    "s = {10,10.4,\"Haripriya\",(1,2,3,4),{1:10,2:40}}  # it allows only immutable elements and mutable items not possible"
   ]
  },
  {
   "cell_type": "code",
   "execution_count": 12,
   "id": "a54224c0",
   "metadata": {},
   "outputs": [
    {
     "name": "stdout",
     "output_type": "stream",
     "text": [
      "3\n",
      "4\n",
      "5\n",
      "20\n",
      "10\n"
     ]
    }
   ],
   "source": [
    "# using for loop\n",
    "\n",
    "s = {10,20,3,4,10,3,5,4,20}\n",
    "\n",
    "for i in s:\n",
    "    print(i)"
   ]
  },
  {
   "cell_type": "code",
   "execution_count": 13,
   "id": "dab356ed",
   "metadata": {},
   "outputs": [
    {
     "name": "stdout",
     "output_type": "stream",
     "text": [
      "(0, 3)\n",
      "(1, 4)\n",
      "(2, 5)\n",
      "(3, 20)\n",
      "(4, 10)\n"
     ]
    }
   ],
   "source": [
    "s = {10,20,3,4,10,3,5,4,20}\n",
    "\n",
    "for i in enumerate(s):\n",
    "    print(i)"
   ]
  },
  {
   "cell_type": "code",
   "execution_count": 16,
   "id": "2f7ec038",
   "metadata": {},
   "outputs": [
    {
     "ename": "TypeError",
     "evalue": "'set' object is not subscriptable",
     "output_type": "error",
     "traceback": [
      "\u001b[1;31m---------------------------------------------------------------------------\u001b[0m",
      "\u001b[1;31mTypeError\u001b[0m                                 Traceback (most recent call last)",
      "Cell \u001b[1;32mIn[16], line 4\u001b[0m\n\u001b[0;32m      1\u001b[0m s \u001b[38;5;241m=\u001b[39m {\u001b[38;5;241m10\u001b[39m,\u001b[38;5;241m20\u001b[39m,\u001b[38;5;241m3\u001b[39m,\u001b[38;5;241m4\u001b[39m,\u001b[38;5;241m10\u001b[39m,\u001b[38;5;241m3\u001b[39m,\u001b[38;5;241m5\u001b[39m,\u001b[38;5;241m4\u001b[39m,\u001b[38;5;241m20\u001b[39m}\n\u001b[0;32m      3\u001b[0m \u001b[38;5;28;01mfor\u001b[39;00m i \u001b[38;5;129;01min\u001b[39;00m \u001b[38;5;28mrange\u001b[39m(\u001b[38;5;241m0\u001b[39m,\u001b[38;5;28mlen\u001b[39m(s)):\n\u001b[1;32m----> 4\u001b[0m     \u001b[38;5;28mprint\u001b[39m(i,s[i])\n",
      "\u001b[1;31mTypeError\u001b[0m: 'set' object is not subscriptable"
     ]
    }
   ],
   "source": [
    "s = {10,20,3,4,10,3,5,4,20}\n",
    "\n",
    "for i in range(0,len(s)):\n",
    "    print(i,s[i])             # since set cannot be accessed with indexing"
   ]
  },
  {
   "cell_type": "code",
   "execution_count": 17,
   "id": "81e3237f",
   "metadata": {},
   "outputs": [
    {
     "data": {
      "text/plain": [
       "True"
      ]
     },
     "execution_count": 17,
     "metadata": {},
     "output_type": "execute_result"
    }
   ],
   "source": [
    "# membership\n",
    "s = {10,20,3,4,10,3,5,4,20}\n",
    "\n",
    "10 in s"
   ]
  },
  {
   "cell_type": "code",
   "execution_count": 19,
   "id": "69e8d61b",
   "metadata": {},
   "outputs": [
    {
     "ename": "TypeError",
     "evalue": "unsupported operand type(s) for +: 'set' and 'set'",
     "output_type": "error",
     "traceback": [
      "\u001b[1;31m---------------------------------------------------------------------------\u001b[0m",
      "\u001b[1;31mTypeError\u001b[0m                                 Traceback (most recent call last)",
      "Cell \u001b[1;32mIn[19], line 3\u001b[0m\n\u001b[0;32m      1\u001b[0m s \u001b[38;5;241m=\u001b[39m {\u001b[38;5;241m10\u001b[39m,\u001b[38;5;241m20\u001b[39m,\u001b[38;5;241m3\u001b[39m,\u001b[38;5;241m4\u001b[39m,\u001b[38;5;241m10\u001b[39m,\u001b[38;5;241m3\u001b[39m,\u001b[38;5;241m5\u001b[39m,\u001b[38;5;241m4\u001b[39m,\u001b[38;5;241m20\u001b[39m}\n\u001b[0;32m      2\u001b[0m s1 \u001b[38;5;241m=\u001b[39m {\u001b[38;5;241m100\u001b[39m,\u001b[38;5;241m200\u001b[39m,\u001b[38;5;241m300\u001b[39m}\n\u001b[1;32m----> 3\u001b[0m \u001b[38;5;28mprint\u001b[39m(s \u001b[38;5;241m+\u001b[39m s1)\n",
      "\u001b[1;31mTypeError\u001b[0m: unsupported operand type(s) for +: 'set' and 'set'"
     ]
    }
   ],
   "source": [
    "# concatenation\n",
    "\n",
    "s = {10,20,3,4,10,3,5,4,20}  \n",
    "s1 = {100,200,300}\n",
    "print(s + s1)"
   ]
  },
  {
   "cell_type": "code",
   "execution_count": 20,
   "id": "78dfed8e",
   "metadata": {},
   "outputs": [
    {
     "name": "stdout",
     "output_type": "stream",
     "text": [
      "{10, 2.43, 100, 'Hari'}\n"
     ]
    }
   ],
   "source": [
    "# Typecasting\n",
    "\n",
    "# list to set\n",
    "\n",
    "l = [10,10,2.43,\"Hari\",100,\"Hari\"]\n",
    "print(set(l))"
   ]
  },
  {
   "cell_type": "code",
   "execution_count": 66,
   "id": "bceee416",
   "metadata": {},
   "outputs": [
    {
     "name": "stdout",
     "output_type": "stream",
     "text": [
      "lenght  5\n",
      "Maximum  20\n",
      "Minimum  3\n",
      "sorted  {3, 4, 5, 10, 20}\n",
      "Sum  42\n",
      "True\n",
      "True\n",
      "False\n",
      "Ascending: {3, 4, 5, 10, 20}\n",
      "Descending: {3, 4, 5, 10, 20}\n"
     ]
    }
   ],
   "source": [
    "# Basic methods len(),max(),min(),sum(),any(),all() and sorted()\n",
    "\n",
    "s = {10,20,3,4,10,3,5,4,20}\n",
    "s1 = {10,20,3,4,10,3,5,4,20,0}\n",
    "print(\"lenght \",len(s))\n",
    "print(\"Maximum \",max(s))\n",
    "print(\"Minimum \",min(s))\n",
    "print(\"sorted \",set(sorted(s)))\n",
    "print(\"Sum \",sum(s))\n",
    "print(any(s))\n",
    "print(all(s))\n",
    "print(all(s1))\n",
    "\n",
    "\n",
    "\n",
    "print(f\"Ascending: {set(sorted(s))}\")\n",
    "print(f\"Descending: {set(sorted(s,reverse = True))}\")"
   ]
  },
  {
   "cell_type": "code",
   "execution_count": 56,
   "id": "be721c1d",
   "metadata": {},
   "outputs": [
    {
     "name": "stdout",
     "output_type": "stream",
     "text": [
      "True\n",
      "False\n",
      "True\n",
      "False\n"
     ]
    }
   ],
   "source": [
    "# comparison operators\n",
    "\n",
    "s1 = {1,2,3,4}\n",
    "s2 = {1,2,3,4}\n",
    "print(s1 == s2)\n",
    "\n",
    "s3 = {1,2,3,4,5}\n",
    "s4 = {1,2,3}\n",
    "print(s3 == s4)\n",
    "\n",
    "s3 = {1,2,3,4,5}\n",
    "s1 = {1,2,3,4}\n",
    "print(s3 > s1)\n",
    "print(s3 < s1)"
   ]
  },
  {
   "cell_type": "markdown",
   "id": "8084e5d3",
   "metadata": {},
   "source": [
    "### Set is immutable but can add or remove elements but cant update the available element"
   ]
  },
  {
   "cell_type": "code",
   "execution_count": 59,
   "id": "1b276b34",
   "metadata": {},
   "outputs": [
    {
     "ename": "TypeError",
     "evalue": "'set' object is not subscriptable",
     "output_type": "error",
     "traceback": [
      "\u001b[1;31m---------------------------------------------------------------------------\u001b[0m",
      "\u001b[1;31mTypeError\u001b[0m                                 Traceback (most recent call last)",
      "Cell \u001b[1;32mIn[59], line 2\u001b[0m\n\u001b[0;32m      1\u001b[0m s \u001b[38;5;241m=\u001b[39m {\u001b[38;5;241m10\u001b[39m,\u001b[38;5;241m20\u001b[39m,\u001b[38;5;241m30\u001b[39m,\u001b[38;5;241m40\u001b[39m}\n\u001b[1;32m----> 2\u001b[0m \u001b[38;5;28mprint\u001b[39m(s[\u001b[38;5;241m0\u001b[39m])\n",
      "\u001b[1;31mTypeError\u001b[0m: 'set' object is not subscriptable"
     ]
    }
   ],
   "source": [
    "s = {10,20,30,40}\n",
    "print(s[0])"
   ]
  },
  {
   "cell_type": "code",
   "execution_count": 61,
   "id": "f114106f",
   "metadata": {},
   "outputs": [
    {
     "name": "stdout",
     "output_type": "stream",
     "text": [
      "{40, 10, 20, 60, 30}\n"
     ]
    }
   ],
   "source": [
    "s.add(60)\n",
    "print(s)"
   ]
  },
  {
   "cell_type": "code",
   "execution_count": 62,
   "id": "3df17453",
   "metadata": {},
   "outputs": [
    {
     "name": "stdout",
     "output_type": "stream",
     "text": [
      "{40, 10, 20, 30}\n"
     ]
    }
   ],
   "source": [
    "s.remove(60)\n",
    "print(s)"
   ]
  },
  {
   "cell_type": "markdown",
   "id": "c5298d3f",
   "metadata": {},
   "source": [
    "### Set operators and methods\n",
    "```\n",
    "Most, though not quite all, set operations in Python can be performed in two different ways: by operator or by method\n",
    "```\n",
    "\n",
    "```\n",
    "the operator and method behave identically. But there is a subtle difference between them. When you use the | operator, both operands must be sets. The .union() method, on the other hand, will take any iterable as an argument, convert it to a set, and then perform the union.\n",
    "```"
   ]
  },
  {
   "attachments": {
    "image.png": {
     "image/png": "[encoded data removed]"
    }
   },
   "cell_type": "markdown",
   "id": "988c6179",
   "metadata": {},
   "source": [
    "### Union\n",
    "<div>\n",
    "<img src=\"attachment:image.png\" width=\"400\">\n",
    "</div>\n"
   ]
  },
  {
   "cell_type": "code",
   "execution_count": 22,
   "id": "b6bfb04e",
   "metadata": {},
   "outputs": [
    {
     "name": "stdout",
     "output_type": "stream",
     "text": [
      "{1, 2, 3, 4, 5, 6, 7, 8, 9, 10}\n"
     ]
    }
   ],
   "source": [
    "# Union-To combine two or more sets into one set in Python, use the union() function.if operatorvthen (|) if method union()\n",
    "\n",
    "\n",
    "s1 = {1,2,3,4,5}\n",
    "s2 = {6,7,8,9,10}\n",
    "\n",
    "print(s1|s2)"
   ]
  },
  {
   "cell_type": "code",
   "execution_count": 26,
   "id": "41278f0b",
   "metadata": {},
   "outputs": [
    {
     "ename": "TypeError",
     "evalue": "unsupported operand type(s) for |: 'set' and 'str'",
     "output_type": "error",
     "traceback": [
      "\u001b[1;31m---------------------------------------------------------------------------\u001b[0m",
      "\u001b[1;31mTypeError\u001b[0m                                 Traceback (most recent call last)",
      "Cell \u001b[1;32mIn[26], line 3\u001b[0m\n\u001b[0;32m      1\u001b[0m a \u001b[38;5;241m=\u001b[39m {\u001b[38;5;241m100\u001b[39m,\u001b[38;5;241m200\u001b[39m,\u001b[38;5;241m300\u001b[39m}\n\u001b[0;32m      2\u001b[0m b \u001b[38;5;241m=\u001b[39m \u001b[38;5;124m\"\u001b[39m\u001b[38;5;124mHari\u001b[39m\u001b[38;5;124m\"\u001b[39m\n\u001b[1;32m----> 3\u001b[0m \u001b[38;5;28mprint\u001b[39m(a\u001b[38;5;241m|\u001b[39mb)\n",
      "\u001b[1;31mTypeError\u001b[0m: unsupported operand type(s) for |: 'set' and 'str'"
     ]
    }
   ],
   "source": [
    "a = {100,200,300}   # cant do union when both are not set using operator\n",
    "b = \"Hari\"\n",
    "print(a|b)"
   ]
  },
  {
   "cell_type": "code",
   "execution_count": 24,
   "id": "ed7c5322",
   "metadata": {},
   "outputs": [
    {
     "name": "stdout",
     "output_type": "stream",
     "text": [
      "{1, 2, 3, 4, 5, 6, 7, 8, 9, 10}\n"
     ]
    }
   ],
   "source": [
    "# union method\n",
    "\n",
    "s1 = {1,2,3,4,5}\n",
    "s2 = {6,7,8,9,10}\n",
    "\n",
    "print(s1.union(s2))"
   ]
  },
  {
   "cell_type": "code",
   "execution_count": 25,
   "id": "aacabb39",
   "metadata": {},
   "outputs": [
    {
     "name": "stdout",
     "output_type": "stream",
     "text": [
      "{'a', 'y', 40, 'p', 10, 'H', 'r', 20, 'i', 30}\n"
     ]
    }
   ],
   "source": [
    "x = {10,20,30,40}\n",
    "y = \"Haripriya\"\n",
    "\n",
    "print(x.union(y))"
   ]
  },
  {
   "cell_type": "code",
   "execution_count": 27,
   "id": "bf0da8c8",
   "metadata": {},
   "outputs": [
    {
     "name": "stdout",
     "output_type": "stream",
     "text": [
      "{1, 2, 3, 4, 5, 6, 7}\n"
     ]
    }
   ],
   "source": [
    "a = {1, 2, 3, 4}\n",
    "b = {2, 3, 4, 5}\n",
    "c = {3, 4, 5, 6}\n",
    "d = {4, 5, 6, 7}\n",
    "\n",
    "print(a|b|c|d)"
   ]
  },
  {
   "cell_type": "code",
   "execution_count": 28,
   "id": "4194011b",
   "metadata": {},
   "outputs": [
    {
     "name": "stdout",
     "output_type": "stream",
     "text": [
      "{1, 2, 3, 4, 5, 6, 7}\n"
     ]
    }
   ],
   "source": [
    "print(a.union(b,c,d))"
   ]
  },
  {
   "attachments": {
    "image.png": {
     "image/png": "[encoded data removed]"
    }
   },
   "cell_type": "markdown",
   "id": "ad361939",
   "metadata": {},
   "source": [
    "### Intersection\n",
    "\n",
    "<div>\n",
    "<img src = \"attachment:image.png\" width = \"400\" >\n",
    "</div>\n"
   ]
  },
  {
   "cell_type": "code",
   "execution_count": 29,
   "id": "f4ccfeca",
   "metadata": {},
   "outputs": [
    {
     "name": "stdout",
     "output_type": "stream",
     "text": [
      "{2, 3, 4}\n"
     ]
    }
   ],
   "source": [
    "# Intersection() - To discover what is common between two or more sets in Python, apply the intersection() function. \n",
    "# intersection_update() - Removes the items in this set that are not present in other, specified set(s)\n",
    "\n",
    "\n",
    "# intersection operator(&)\n",
    "a = {1, 2, 3, 4}\n",
    "b = {2, 3, 4, 5}\n",
    "\n",
    "print(a&b)"
   ]
  },
  {
   "cell_type": "code",
   "execution_count": 31,
   "id": "045580e1",
   "metadata": {},
   "outputs": [
    {
     "ename": "TypeError",
     "evalue": "unsupported operand type(s) for &: 'set' and 'tuple'",
     "output_type": "error",
     "traceback": [
      "\u001b[1;31m---------------------------------------------------------------------------\u001b[0m",
      "\u001b[1;31mTypeError\u001b[0m                                 Traceback (most recent call last)",
      "Cell \u001b[1;32mIn[31], line 3\u001b[0m\n\u001b[0;32m      1\u001b[0m a \u001b[38;5;241m=\u001b[39m {\u001b[38;5;241m1\u001b[39m, \u001b[38;5;241m2\u001b[39m, \u001b[38;5;241m3\u001b[39m, \u001b[38;5;241m4\u001b[39m}\n\u001b[0;32m      2\u001b[0m x \u001b[38;5;241m=\u001b[39m (\u001b[38;5;241m1\u001b[39m,\u001b[38;5;241m2\u001b[39m,\u001b[38;5;241m3\u001b[39m,\u001b[38;5;241m5\u001b[39m)\n\u001b[1;32m----> 3\u001b[0m \u001b[38;5;28mprint\u001b[39m(a \u001b[38;5;241m&\u001b[39m x)\n",
      "\u001b[1;31mTypeError\u001b[0m: unsupported operand type(s) for &: 'set' and 'tuple'"
     ]
    }
   ],
   "source": [
    "a = {1, 2, 3, 4}\n",
    "x = (1,2,3,5)\n",
    "print(a & x)"
   ]
  },
  {
   "cell_type": "code",
   "execution_count": 30,
   "id": "bcc837ab",
   "metadata": {},
   "outputs": [
    {
     "name": "stdout",
     "output_type": "stream",
     "text": [
      "{2, 3, 4}\n"
     ]
    }
   ],
   "source": [
    "# intersection() method\n",
    "\n",
    "a = {1, 2, 3, 4}\n",
    "b = {2, 3, 4, 5}\n",
    "\n",
    "print(a.intersection(b))"
   ]
  },
  {
   "cell_type": "code",
   "execution_count": 32,
   "id": "f934ef94",
   "metadata": {},
   "outputs": [
    {
     "name": "stdout",
     "output_type": "stream",
     "text": [
      "{1, 2, 3}\n"
     ]
    }
   ],
   "source": [
    "a = {1, 2, 3, 4}\n",
    "x = (1,2,3,5)\n",
    "\n",
    "print(a.intersection(x))"
   ]
  },
  {
   "cell_type": "code",
   "execution_count": 33,
   "id": "3f23903a",
   "metadata": {},
   "outputs": [
    {
     "data": {
      "text/plain": [
       "{4}"
      ]
     },
     "execution_count": 33,
     "metadata": {},
     "output_type": "execute_result"
    }
   ],
   "source": [
    "a = {1, 2, 3, 4}\n",
    "b = {2, 3, 4, 5}\n",
    "c = {3, 4, 5, 6}\n",
    "d = {4, 5, 6, 7}\n",
    "\n",
    "a.intersection(b,c,d)"
   ]
  },
  {
   "cell_type": "code",
   "execution_count": 67,
   "id": "8b8eab8a",
   "metadata": {},
   "outputs": [
    {
     "name": "stdout",
     "output_type": "stream",
     "text": [
      "{2, 3, 4}\n"
     ]
    }
   ],
   "source": [
    "# intersection_update() - permanantly updates the output in the first set\n",
    "\n",
    "a = {1, 2, 3, 4}\n",
    "b = {2, 3, 4, 5}\n",
    "a.intersection_update(b)\n",
    "print(a)"
   ]
  },
  {
   "attachments": {
    "image.png": {
     "image/png": "[encoded data removed]"
    }
   },
   "cell_type": "markdown",
   "id": "29af20e2",
   "metadata": {},
   "source": [
    "### Difference\n",
    "\n",
    "<div>\n",
    "    <img src = \"attachment:image.png\" width = \"400\" >\n",
    "</div>"
   ]
  },
  {
   "cell_type": "code",
   "execution_count": 35,
   "id": "9b28d837",
   "metadata": {},
   "outputs": [
    {
     "name": "stdout",
     "output_type": "stream",
     "text": [
      "{40, 20}\n"
     ]
    }
   ],
   "source": [
    "\"\"\"\n",
    "Difference() - The difference of two sets can be calculated by using the subtraction (-) operator \n",
    "or intersection() method. Suppose there are two sets A and B, \n",
    "and the difference is A-B that denotes the resulting set will be obtained that element of A, \n",
    "which is not present in the set B.\n",
    "\"\"\"\n",
    "\n",
    "\n",
    "s1 = {10,20,30,40}\n",
    "s2 = {10,50,30,60}\n",
    "\n",
    "print(s1-s2)"
   ]
  },
  {
   "cell_type": "code",
   "execution_count": 36,
   "id": "c374bd71",
   "metadata": {},
   "outputs": [
    {
     "data": {
      "text/plain": [
       "{20, 40}"
      ]
     },
     "execution_count": 36,
     "metadata": {},
     "output_type": "execute_result"
    }
   ],
   "source": [
    "s1 = {10,20,30,40}\n",
    "s2 = {10,50,30,60}\n",
    "\n",
    "s1.difference(s2)"
   ]
  },
  {
   "cell_type": "code",
   "execution_count": 61,
   "id": "8a7039c1",
   "metadata": {},
   "outputs": [
    {
     "name": "stdout",
     "output_type": "stream",
     "text": [
      "{40, 10, 20, 30}\n"
     ]
    },
    {
     "data": {
      "text/plain": [
       "{20, 40}"
      ]
     },
     "execution_count": 61,
     "metadata": {},
     "output_type": "execute_result"
    }
   ],
   "source": [
    "# difference_update() - returns the value which is present in first set but not in second set and it updates the output with the first set permentantly\n",
    "# difference() - returns the value which is present in first set bit not in second set temporary\n",
    "\n",
    "\n",
    "# difference\n",
    "s1 = {10,20,30,40}\n",
    "s2 = {10,50,30,60}\n",
    "s1.difference(s2)  # it doesnt update the difference in first set\n",
    "print(s1)\n",
    "\n",
    "s1.difference(s2) # when you print first set it has same elements\n"
   ]
  },
  {
   "cell_type": "code",
   "execution_count": 62,
   "id": "e2932968",
   "metadata": {},
   "outputs": [
    {
     "name": "stdout",
     "output_type": "stream",
     "text": [
      "{20, 40}\n"
     ]
    }
   ],
   "source": [
    "# difference_update()\n",
    "\n",
    "s1 = {10,20,30,40}\n",
    "s2 = {10,50,30,60}\n",
    "\n",
    "s1.difference_update(s2)\n",
    "print(s1)                    # it updates the output in first set"
   ]
  },
  {
   "attachments": {
    "image.png": {
     "image/png": "[encoded data removed]"
    }
   },
   "cell_type": "markdown",
   "id": "4e81a684",
   "metadata": {},
   "source": [
    "### Symmetric difference\n",
    "\n",
    "<div>\n",
    "    <img src = \"attachment:image.png\" width = \"400\" >\n",
    "</div>"
   ]
  },
  {
   "cell_type": "code",
   "execution_count": 37,
   "id": "20c7763c",
   "metadata": {},
   "outputs": [
    {
     "name": "stdout",
     "output_type": "stream",
     "text": [
      "{40, 50, 20, 60}\n"
     ]
    }
   ],
   "source": [
    "# Symmetric difference() - return the set of all elements in either x1 or x2, but not both\n",
    "\n",
    "s1 = {10,20,30,40}\n",
    "s2 = {10,50,30,60}\n",
    "\n",
    "print(s1^s2)"
   ]
  },
  {
   "cell_type": "code",
   "execution_count": 38,
   "id": "1fa52fde",
   "metadata": {},
   "outputs": [
    {
     "data": {
      "text/plain": [
       "{20, 40, 50, 60}"
      ]
     },
     "execution_count": 38,
     "metadata": {},
     "output_type": "execute_result"
    }
   ],
   "source": [
    "# symmetric difference method\n",
    "\n",
    "s1 = {10,20,30,40}\n",
    "s2 = {10,50,30,60}\n",
    "s1.symmetric_difference(s2)"
   ]
  },
  {
   "cell_type": "code",
   "execution_count": 72,
   "id": "63700294",
   "metadata": {},
   "outputs": [
    {
     "name": "stdout",
     "output_type": "stream",
     "text": [
      "{40, 50, 20, 60}\n"
     ]
    }
   ],
   "source": [
    "# symmetric_difference_update() - stores the output permanantly in the first set\n",
    "\n",
    "s1 = {10,20,30,40}\n",
    "s2 = {10,50,30,60}\n",
    "s1.symmetric_difference_update(s2)\n",
    "print(s1)"
   ]
  },
  {
   "cell_type": "code",
   "execution_count": 40,
   "id": "a01fabe5",
   "metadata": {},
   "outputs": [
    {
     "name": "stdout",
     "output_type": "stream",
     "text": [
      "{40, 10, 50, 20, 60, 30}\n"
     ]
    }
   ],
   "source": [
    "# Update() - Adding all the elements from one set into another set and it is same like union.\n",
    "s1 = {10,20,30,40}\n",
    "s2 = {10,50,30,60}\n",
    "\n",
    "s1.update(s2)\n",
    "print(s1)"
   ]
  },
  {
   "cell_type": "code",
   "execution_count": 41,
   "id": "8b6e2738",
   "metadata": {},
   "outputs": [
    {
     "data": {
      "text/plain": [
       "False"
      ]
     },
     "execution_count": 41,
     "metadata": {},
     "output_type": "execute_result"
    }
   ],
   "source": [
    "# isdisjoint() Return True if two sets have a null intersection( there is no common element in these sets)\n",
    "# Returns whether two sets have a intersection or not\n",
    "\n",
    "s1 = {10,20,30,40}\n",
    "s2 = {10,50,30,60}\n",
    "s1.isdisjoint(s2)    # false because there is a common elemnents"
   ]
  },
  {
   "cell_type": "code",
   "execution_count": 42,
   "id": "fc719263",
   "metadata": {},
   "outputs": [
    {
     "data": {
      "text/plain": [
       "True"
      ]
     },
     "execution_count": 42,
     "metadata": {},
     "output_type": "execute_result"
    }
   ],
   "source": [
    "# issubset() - Report whether another set contains this set.\n",
    "# Returns whether another set contains this set or not\n",
    "\n",
    "x = {10,20,30,40}\n",
    "y = {10,20,30,40,50}\n",
    "x.issubset(y)"
   ]
  },
  {
   "cell_type": "code",
   "execution_count": 44,
   "id": "8f7e896d",
   "metadata": {},
   "outputs": [
    {
     "data": {
      "text/plain": [
       "False"
      ]
     },
     "execution_count": 44,
     "metadata": {},
     "output_type": "execute_result"
    }
   ],
   "source": [
    "s1 = {10,20,30,40}\n",
    "s2 = {10,50,30,60}\n",
    "\n",
    "s1.issubset(s2)"
   ]
  },
  {
   "cell_type": "code",
   "execution_count": 45,
   "id": "0d5351d6",
   "metadata": {},
   "outputs": [
    {
     "data": {
      "text/plain": [
       "False"
      ]
     },
     "execution_count": 45,
     "metadata": {},
     "output_type": "execute_result"
    }
   ],
   "source": [
    "# issuperset() - Report whether this set contains another set.\n",
    "# Returns whether this set contains another set or not\n",
    "\n",
    "x = {10,20,30,40}\n",
    "y = {10,20,30,40,50}\n",
    "\n",
    "x.issuperset(y)"
   ]
  },
  {
   "cell_type": "code",
   "execution_count": 46,
   "id": "3a074c21",
   "metadata": {},
   "outputs": [
    {
     "data": {
      "text/plain": [
       "True"
      ]
     },
     "execution_count": 46,
     "metadata": {},
     "output_type": "execute_result"
    }
   ],
   "source": [
    "x = {10,20,30,40}\n",
    "y = {10,20,30}\n",
    "\n",
    "x.issuperset(y)"
   ]
  },
  {
   "cell_type": "code",
   "execution_count": 49,
   "id": "2df41567",
   "metadata": {},
   "outputs": [
    {
     "name": "stdout",
     "output_type": "stream",
     "text": [
      "{40, 10, 50, 20, 30}\n"
     ]
    }
   ],
   "source": [
    "#add()-The add() method adds an element to the set.If the element already exists,the add() method does not add the element.\n",
    "\n",
    "x = {10,20,30,40}\n",
    "x.add(50)\n",
    "print(x)"
   ]
  },
  {
   "cell_type": "code",
   "execution_count": 50,
   "id": "b420e9d6",
   "metadata": {},
   "outputs": [
    {
     "name": "stdout",
     "output_type": "stream",
     "text": [
      "{40, 10, 20, 30}\n"
     ]
    }
   ],
   "source": [
    "x = {10,20,30,40}\n",
    "x.add(40)\n",
    "print(x)"
   ]
  },
  {
   "cell_type": "code",
   "execution_count": 52,
   "id": "0deddbc3",
   "metadata": {},
   "outputs": [
    {
     "name": "stdout",
     "output_type": "stream",
     "text": [
      "set()\n"
     ]
    }
   ],
   "source": [
    "# clear() - The clear() method removes all elements in a set.\n",
    "\n",
    "x = {10,20,30,40}\n",
    "x.clear()\n",
    "print(x)"
   ]
  },
  {
   "cell_type": "code",
   "execution_count": 53,
   "id": "17a1374a",
   "metadata": {},
   "outputs": [
    {
     "name": "stdout",
     "output_type": "stream",
     "text": [
      "{40, 10, 20, 30}\n"
     ]
    }
   ],
   "source": [
    "# copy() - The copy() method copies the set.but the copy of the set is different.if we change anythingin original set,it wont reflect in copied set\n",
    "\n",
    "x = {10,20,30,40}\n",
    "y = x.copy()\n",
    "print(y)"
   ]
  },
  {
   "cell_type": "code",
   "execution_count": 54,
   "id": "359b972b",
   "metadata": {},
   "outputs": [
    {
     "name": "stdout",
     "output_type": "stream",
     "text": [
      "2575550261824\n",
      "2575550252192\n"
     ]
    }
   ],
   "source": [
    "print(id(x))\n",
    "print(id(y))"
   ]
  },
  {
   "cell_type": "code",
   "execution_count": 63,
   "id": "340ae6e1",
   "metadata": {},
   "outputs": [
    {
     "name": "stdout",
     "output_type": "stream",
     "text": [
      "{'mango', 'banana'}\n"
     ]
    }
   ],
   "source": [
    "# discard() - The discard() method removes the specified item from the set.\n",
    "# This method is different from the remove() method, because the remove() method will raise an error if the specified item does not exist, and the discard() method will not.\n",
    "\n",
    "fruits = {\"apple\",\"mango\",\"banana\"}\n",
    "fruits.discard(\"apple\")\n",
    "print(fruits)"
   ]
  },
  {
   "cell_type": "code",
   "execution_count": 64,
   "id": "97e39c36",
   "metadata": {},
   "outputs": [
    {
     "name": "stdout",
     "output_type": "stream",
     "text": [
      "{'mango', 'banana', 'apple'}\n"
     ]
    }
   ],
   "source": [
    "fruits = {\"apple\",\"mango\",\"banana\"}\n",
    "fruits.discard(\"grapes\")\n",
    "print(fruits)                      # no error eventhough the element is not present"
   ]
  },
  {
   "cell_type": "code",
   "execution_count": 65,
   "id": "42298122",
   "metadata": {},
   "outputs": [
    {
     "ename": "KeyError",
     "evalue": "'grapes'",
     "output_type": "error",
     "traceback": [
      "\u001b[1;31m---------------------------------------------------------------------------\u001b[0m",
      "\u001b[1;31mKeyError\u001b[0m                                  Traceback (most recent call last)",
      "Cell \u001b[1;32mIn[65], line 4\u001b[0m\n\u001b[0;32m      1\u001b[0m \u001b[38;5;66;03m# remove() - Removes the specified element but gives error if the element is not present\u001b[39;00m\n\u001b[0;32m      3\u001b[0m fruits \u001b[38;5;241m=\u001b[39m {\u001b[38;5;124m\"\u001b[39m\u001b[38;5;124mapple\u001b[39m\u001b[38;5;124m\"\u001b[39m,\u001b[38;5;124m\"\u001b[39m\u001b[38;5;124mmango\u001b[39m\u001b[38;5;124m\"\u001b[39m,\u001b[38;5;124m\"\u001b[39m\u001b[38;5;124mbanana\u001b[39m\u001b[38;5;124m\"\u001b[39m}\n\u001b[1;32m----> 4\u001b[0m fruits\u001b[38;5;241m.\u001b[39mremove(\u001b[38;5;124m\"\u001b[39m\u001b[38;5;124mgrapes\u001b[39m\u001b[38;5;124m\"\u001b[39m)\n",
      "\u001b[1;31mKeyError\u001b[0m: 'grapes'"
     ]
    }
   ],
   "source": [
    "# remove() - Removes the specified element but gives error if the element is not present\n",
    "\n",
    "fruits = {\"apple\",\"mango\",\"banana\"}\n",
    "fruits.remove(\"grapes\")"
   ]
  },
  {
   "cell_type": "code",
   "execution_count": 66,
   "id": "e40d6a63",
   "metadata": {},
   "outputs": [
    {
     "name": "stdout",
     "output_type": "stream",
     "text": [
      "{'mango', 'banana'}\n"
     ]
    }
   ],
   "source": [
    "fruits = {\"apple\",\"mango\",\"banana\"}\n",
    "fruits.remove(\"apple\")\n",
    "print(fruits)"
   ]
  },
  {
   "cell_type": "code",
   "execution_count": 70,
   "id": "189cc0e0",
   "metadata": {},
   "outputs": [
    {
     "data": {
      "text/plain": [
       "'mango'"
      ]
     },
     "execution_count": 70,
     "metadata": {},
     "output_type": "execute_result"
    }
   ],
   "source": [
    "# pop() - The pop() method removes a random item from the set.This method returns the removed item.\n",
    "\n",
    "fruits = {\"apple\",\"mango\",\"banana\"}\n",
    "fruits.pop()"
   ]
  },
  {
   "cell_type": "markdown",
   "id": "46340244",
   "metadata": {},
   "source": [
    "### Udemy exercises"
   ]
  },
  {
   "cell_type": "markdown",
   "id": "736f9ac4",
   "metadata": {},
   "source": [
    "#### Exercise 45\n",
    "```\n",
    "The following set is given:\n",
    "\n",
    "subjects = {'mathematics', 'biology'}\n",
    "\n",
    "Using the appropriate method add 'english' to this set. In response print subjects set to the console.\n",
    "\n",
    "Expected result:\n",
    "\n",
    "{'biology', 'mathematics', 'english'}\n",
    "\n",
    "Note: Remember that the set is an unordered data structure. You may get a different order of items than the expected result.\n",
    "```"
   ]
  },
  {
   "cell_type": "code",
   "execution_count": 3,
   "id": "bd2ab003",
   "metadata": {},
   "outputs": [
    {
     "name": "stdout",
     "output_type": "stream",
     "text": [
      "{'biology', 'mathematics', 'english'}\n"
     ]
    }
   ],
   "source": [
    "subjects = {'mathematics', 'biology'}\n",
    "\n",
    "subjects.add(\"english\")\n",
    "print(subjects)"
   ]
  },
  {
   "cell_type": "markdown",
   "id": "8db6508c",
   "metadata": {},
   "source": [
    "#### Exercise 46\n",
    "```\n",
    "The following text is given:\n",
    "\n",
    "text = 'Programming in python.'\n",
    "\n",
    "Follow the next steps:\n",
    "\n",
    "Change all letters to lowercase.\n",
    "\n",
    "Delete spaces and period.\n",
    "\n",
    "Create a set consisting of all letters in the text and assign to letters variable\n",
    "\n",
    "Using the appropriate method for sets, remove all vowels from letters set:\n",
    "\n",
    "vowels = {'a', 'e', 'i', 'o', 'u'}\n",
    "\n",
    "\n",
    "      5. Print the number of items in the letters set as shown below.\n",
    "\n",
    "Expected result:\n",
    "Number of items: 8\n",
    "```"
   ]
  },
  {
   "cell_type": "code",
   "execution_count": 38,
   "id": "289ea2a8",
   "metadata": {},
   "outputs": [
    {
     "name": "stdout",
     "output_type": "stream",
     "text": [
      "Number of items: 8\n"
     ]
    }
   ],
   "source": [
    "text = 'Programming in python.'\n",
    "lower_x = text.replace(\" \",\"\")\n",
    "\n",
    "lower_x = lower_x.replace(\".\",\"\")\n",
    "lower_x = lower_x.lower()\n",
    "\n",
    "set_text = set(lower_x)\n",
    "\n",
    "vowels = {\"A\",\"E\",\"I\",\"O\",\"U\",\"a\",\"e\",\"i\",\"o\",\"u\"}\n",
    "\n",
    "result = set_text.difference(vowels)\n",
    "# print(result)\n",
    "\n",
    "print(f\"Number of items:\",len(result))"
   ]
  },
  {
   "cell_type": "markdown",
   "id": "67d62bf0",
   "metadata": {},
   "source": [
    "#### Exercise 47\n",
    "```\n",
    "In mathematics, the symmetric difference of two sets is the set of elements which are in either of the sets, but not in their intersection.\n",
    "\n",
    "Two following sets are given:\n",
    "\n",
    "A = {2, 4, 6, 8}\n",
    "B = {4, 10}\n",
    "\n",
    "Using the appropriate method, extract the symmetrical difference of sets A and B and print the result to the console as shown below.\n",
    "\n",
    "Expected result:\n",
    "\n",
    "Symmetric difference: {2, 6, 8, 10}\n",
    "```"
   ]
  },
  {
   "cell_type": "code",
   "execution_count": 41,
   "id": "ed7b5e43",
   "metadata": {},
   "outputs": [
    {
     "name": "stdout",
     "output_type": "stream",
     "text": [
      "Symmetric difference: {2, 6, 8, 10}\n"
     ]
    }
   ],
   "source": [
    "A = {2, 4, 6, 8}\n",
    "B = {4, 10}\n",
    "\n",
    "print(f\"Symmetric difference: {A.symmetric_difference(B)}\")"
   ]
  },
  {
   "cell_type": "markdown",
   "id": "07dffe0d",
   "metadata": {},
   "source": [
    "#### Exercise 48\n",
    "```\n",
    "We have two sets of customer IDs:\n",
    "\n",
    "ad1_id = {'001', '002', '003'}\n",
    "ad2_id = {'002', '003', '007'}\n",
    "\n",
    "Each set stores the id of the customers who made the purchase based on the specific ad. We have two ads. Each customer can use the offer only twice in campaign. Choose the ID of the customers to whom you can send another ad (or ids that only appeared once in both sets).\n",
    "\n",
    "Expected result:\n",
    "\n",
    "Selected ID: { '007', '001'}\n",
    "\n",
    "Note: Remember that the set is an unordered data structure. You may get a different order of items than the expected result. You don't have to worry about it.\n",
    "```"
   ]
  },
  {
   "cell_type": "code",
   "execution_count": 46,
   "id": "3d80deb7",
   "metadata": {},
   "outputs": [
    {
     "name": "stdout",
     "output_type": "stream",
     "text": [
      "Selected ID: {'001', '007'}\n"
     ]
    }
   ],
   "source": [
    "ad1_id = {'001', '002', '003'}\n",
    "ad2_id = {'002', '003', '007'}\n",
    "\n",
    "ads = ad1_id.symmetric_difference(ad2_id)\n",
    "print(f\"Selected ID: {ads}\")"
   ]
  },
  {
   "cell_type": "markdown",
   "id": "81965b27",
   "metadata": {},
   "source": [
    "#### Exercise 49\n",
    "```\n",
    "Two customer ID sets are given. The first one tells you whether a person clicked on the banner ad. Second, whether the person purchased the product:\n",
    "\n",
    "is_clicked = {'9001', '9002', '9005'}\n",
    "is_bought = {'9002', '9004', '9005'}\n",
    "\n",
    "\n",
    "Return the ID of those customers who clicked on the ad and bought the product.\n",
    "\n",
    "Expected result:\n",
    "\n",
    "Customer ID: { '9002', '9005'}\n",
    "\n",
    "Note: Remember that the set is an unordered data structure. You may get a different order of items than the expected result. You don't have to worry about it.\n",
    "```"
   ]
  },
  {
   "cell_type": "code",
   "execution_count": 47,
   "id": "f90f870a",
   "metadata": {},
   "outputs": [
    {
     "name": "stdout",
     "output_type": "stream",
     "text": [
      "Customer ID: {'9002', '9005'}\n"
     ]
    }
   ],
   "source": [
    "is_clicked = {'9001', '9002', '9005'}\n",
    "is_bought = {'9002', '90\n",
    "             04', '9005'}\n",
    "\n",
    "result = is_clicked.intersection(is_bought)\n",
    "print(f\"Customer ID: {result}\")"
   ]
  },
  {
   "cell_type": "code",
   "execution_count": null,
   "id": "6bb92212",
   "metadata": {},
   "outputs": [],
   "source": []
  }
 ],
 "metadata": {
  "kernelspec": {
   "display_name": "Python 3 (ipykernel)",
   "language": "python",
   "name": "python3"
  },
  "language_info": {
   "codemirror_mode": {
    "name": "ipython",
    "version": 3
   },
   "file_extension": ".py",
   "mimetype": "text/x-python",
   "name": "python",
   "nbconvert_exporter": "python",
   "pygments_lexer": "ipython3",
   "version": "3.11.4"
  }
 },
 "nbformat": 4,
 "nbformat_minor": 5
}
