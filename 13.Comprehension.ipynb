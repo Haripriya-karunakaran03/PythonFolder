{
 "cells": [
  {
   "cell_type": "markdown",
   "id": "54d7ff3f",
   "metadata": {},
   "source": [
    "## List comprehension\n",
    "```python\n",
    "syntax\n",
    "newlist = [expression for item in iterable if condition == True]\n",
    "```"
   ]
  },
  {
   "cell_type": "code",
   "execution_count": 3,
   "id": "2d0d5ef1",
   "metadata": {},
   "outputs": [
    {
     "data": {
      "text/plain": [
       "[0, 11, 122, 1233]"
      ]
     },
     "execution_count": 3,
     "metadata": {},
     "output_type": "execute_result"
    }
   ],
   "source": [
    "l = [1,12,123,1234]\n",
    "\n",
    "[i - 1 for i in l]"
   ]
  },
  {
   "cell_type": "code",
   "execution_count": 10,
   "id": "9b02c482",
   "metadata": {},
   "outputs": [
    {
     "name": "stdout",
     "output_type": "stream",
     "text": [
      "['Apple', 'Mango', 'Orange', 'Grapes']\n"
     ]
    }
   ],
   "source": [
    "fruits = [\"Apple\",\"Mango\",\"Orange\",\"Grapes\"]\n",
    "f = []\n",
    "for i in fruits:\n",
    "    f.append(i)\n",
    "print(f)"
   ]
  },
  {
   "cell_type": "code",
   "execution_count": 12,
   "id": "5ad4e906",
   "metadata": {},
   "outputs": [],
   "source": [
    "fruits = [\"Apple\",\"Mango\",\"Orange\",\"Grapes\"]\n",
    "fy = []\n",
    "for i in fruits:\n",
    "    if \"Orange\" in i:\n",
    "        fy.append(i)"
   ]
  },
  {
   "cell_type": "code",
   "execution_count": 13,
   "id": "6058cff9",
   "metadata": {},
   "outputs": [
    {
     "data": {
      "text/plain": [
       "['Orange']"
      ]
     },
     "execution_count": 13,
     "metadata": {},
     "output_type": "execute_result"
    }
   ],
   "source": [
    "fy"
   ]
  },
  {
   "cell_type": "code",
   "execution_count": 15,
   "id": "f95749c9",
   "metadata": {},
   "outputs": [],
   "source": [
    "fruits = [\"Apple\",\"Mango\",\"Orange\",\"Grapes\"]\n",
    "\n",
    "x = [i for i in fruits if \"Orange\" in i]"
   ]
  },
  {
   "cell_type": "code",
   "execution_count": 16,
   "id": "f6444e97",
   "metadata": {},
   "outputs": [
    {
     "data": {
      "text/plain": [
       "['Orange']"
      ]
     },
     "execution_count": 16,
     "metadata": {},
     "output_type": "execute_result"
    }
   ],
   "source": [
    "x"
   ]
  },
  {
   "cell_type": "code",
   "execution_count": 23,
   "id": "bde4aafc",
   "metadata": {},
   "outputs": [],
   "source": [
    "l = [1,2,3,4,5,6,7,8,9,10]\n",
    "\n",
    "l1 = [i for i in l if i%2==0]"
   ]
  },
  {
   "cell_type": "code",
   "execution_count": 24,
   "id": "d88918af",
   "metadata": {},
   "outputs": [
    {
     "data": {
      "text/plain": [
       "[2, 4, 6, 8, 10]"
      ]
     },
     "execution_count": 24,
     "metadata": {},
     "output_type": "execute_result"
    }
   ],
   "source": [
    "l1"
   ]
  },
  {
   "cell_type": "code",
   "execution_count": 25,
   "id": "99f4e3ea",
   "metadata": {},
   "outputs": [],
   "source": [
    "l2 = [i for i in range(11) if i % 2 != 0]"
   ]
  },
  {
   "cell_type": "code",
   "execution_count": 26,
   "id": "32171679",
   "metadata": {},
   "outputs": [
    {
     "data": {
      "text/plain": [
       "[1, 3, 5, 7, 9]"
      ]
     },
     "execution_count": 26,
     "metadata": {},
     "output_type": "execute_result"
    }
   ],
   "source": [
    "l2"
   ]
  },
  {
   "cell_type": "code",
   "execution_count": 27,
   "id": "ea674771",
   "metadata": {},
   "outputs": [],
   "source": [
    "l3 = [i for i in range(11)]"
   ]
  },
  {
   "cell_type": "code",
   "execution_count": 28,
   "id": "51525725",
   "metadata": {},
   "outputs": [
    {
     "data": {
      "text/plain": [
       "[0, 1, 2, 3, 4, 5, 6, 7, 8, 9, 10]"
      ]
     },
     "execution_count": 28,
     "metadata": {},
     "output_type": "execute_result"
    }
   ],
   "source": [
    "l3"
   ]
  },
  {
   "cell_type": "code",
   "execution_count": 29,
   "id": "2541b9b6",
   "metadata": {},
   "outputs": [],
   "source": [
    "l4 = [i for i in range(10) if i <=5]"
   ]
  },
  {
   "cell_type": "code",
   "execution_count": 30,
   "id": "1da1c9e1",
   "metadata": {},
   "outputs": [
    {
     "data": {
      "text/plain": [
       "[0, 1, 2, 3, 4, 5]"
      ]
     },
     "execution_count": 30,
     "metadata": {},
     "output_type": "execute_result"
    }
   ],
   "source": [
    "l4"
   ]
  },
  {
   "cell_type": "code",
   "execution_count": 41,
   "id": "aea2fd87",
   "metadata": {},
   "outputs": [],
   "source": [
    "fruits = [\"Apple\",\"Mango\",\"Orange\",\"Grapes\"]\n",
    "x = list(map(lambda i:i if i!=\"Orangee\" else \"no\",fruits))"
   ]
  },
  {
   "cell_type": "code",
   "execution_count": 42,
   "id": "522e1ecf",
   "metadata": {},
   "outputs": [
    {
     "data": {
      "text/plain": [
       "['Apple', 'Mango', 'Orange', 'Grapes']"
      ]
     },
     "execution_count": 42,
     "metadata": {},
     "output_type": "execute_result"
    }
   ],
   "source": [
    "x"
   ]
  },
  {
   "cell_type": "code",
   "execution_count": 43,
   "id": "f7ee1742",
   "metadata": {},
   "outputs": [],
   "source": [
    "l = [2,4,6,1,10]\n",
    "\n",
    "y = list(map(lambda i:i**2,l))"
   ]
  },
  {
   "cell_type": "code",
   "execution_count": 44,
   "id": "7a0ee058",
   "metadata": {},
   "outputs": [
    {
     "data": {
      "text/plain": [
       "[4, 16, 36, 1, 100]"
      ]
     },
     "execution_count": 44,
     "metadata": {},
     "output_type": "execute_result"
    }
   ],
   "source": [
    "y"
   ]
  },
  {
   "cell_type": "code",
   "execution_count": 53,
   "id": "4ad88cbf",
   "metadata": {},
   "outputs": [],
   "source": [
    "l = [2,4,6,1,10,9]\n",
    "\n",
    "u = list(filter(lambda j :j % 2 != 0,l))"
   ]
  },
  {
   "cell_type": "code",
   "execution_count": 54,
   "id": "df424931",
   "metadata": {},
   "outputs": [
    {
     "data": {
      "text/plain": [
       "[1, 9]"
      ]
     },
     "execution_count": 54,
     "metadata": {},
     "output_type": "execute_result"
    }
   ],
   "source": [
    "u"
   ]
  },
  {
   "cell_type": "code",
   "execution_count": 55,
   "id": "34109952",
   "metadata": {},
   "outputs": [],
   "source": [
    "from functools import reduce"
   ]
  },
  {
   "cell_type": "code",
   "execution_count": 65,
   "id": "e3363947",
   "metadata": {},
   "outputs": [],
   "source": [
    "l = [1,2,3,4,5,6,7,8,9,10]\n",
    "x = reduce(lambda i,j:i+j,l)"
   ]
  },
  {
   "cell_type": "code",
   "execution_count": 66,
   "id": "0d2c2f14",
   "metadata": {},
   "outputs": [
    {
     "data": {
      "text/plain": [
       "55"
      ]
     },
     "execution_count": 66,
     "metadata": {},
     "output_type": "execute_result"
    }
   ],
   "source": [
    "x"
   ]
  },
  {
   "cell_type": "code",
   "execution_count": 68,
   "id": "ff8e81ff",
   "metadata": {},
   "outputs": [],
   "source": [
    "s = [\"happy\",\"sad\",\"cry\",\"irritating\"]\n",
    "x = [i if i != \"happy\"  else \"emotion\" for i in s]"
   ]
  },
  {
   "cell_type": "code",
   "execution_count": 69,
   "id": "37d1b827",
   "metadata": {},
   "outputs": [
    {
     "data": {
      "text/plain": [
       "['emotion', 'sad', 'cry', 'irritating']"
      ]
     },
     "execution_count": 69,
     "metadata": {},
     "output_type": "execute_result"
    }
   ],
   "source": [
    "x"
   ]
  },
  {
   "cell_type": "code",
   "execution_count": 70,
   "id": "bc13e69d",
   "metadata": {},
   "outputs": [],
   "source": [
    "# for loop\n",
    "\n",
    "l = [1,2,33,5,6,1]\n",
    "y = [i for i in l]"
   ]
  },
  {
   "cell_type": "code",
   "execution_count": 71,
   "id": "3edfe9c6",
   "metadata": {},
   "outputs": [
    {
     "data": {
      "text/plain": [
       "[1, 2, 33, 5, 6, 1]"
      ]
     },
     "execution_count": 71,
     "metadata": {},
     "output_type": "execute_result"
    }
   ],
   "source": [
    "y"
   ]
  },
  {
   "cell_type": "code",
   "execution_count": 72,
   "id": "4184838b",
   "metadata": {},
   "outputs": [],
   "source": [
    "# if\n",
    "l = [1,2,33,5,6,1]\n",
    "\n",
    "y = [i for i in l if i % 2 == 0]"
   ]
  },
  {
   "cell_type": "code",
   "execution_count": 73,
   "id": "76b612f7",
   "metadata": {},
   "outputs": [
    {
     "data": {
      "text/plain": [
       "[2, 6]"
      ]
     },
     "execution_count": 73,
     "metadata": {},
     "output_type": "execute_result"
    }
   ],
   "source": [
    "y"
   ]
  },
  {
   "cell_type": "code",
   "execution_count": 75,
   "id": "25dcaee3",
   "metadata": {},
   "outputs": [],
   "source": [
    "# if else\n",
    "\n",
    "l = [1,2,33,5,6,1]\n",
    "y = [\"even\" if i%2 == 0 else \"odd\" for i in l]"
   ]
  },
  {
   "cell_type": "code",
   "execution_count": 76,
   "id": "b1c35238",
   "metadata": {},
   "outputs": [
    {
     "data": {
      "text/plain": [
       "['odd', 'even', 'odd', 'odd', 'even', 'odd']"
      ]
     },
     "execution_count": 76,
     "metadata": {},
     "output_type": "execute_result"
    }
   ],
   "source": [
    "y"
   ]
  },
  {
   "cell_type": "code",
   "execution_count": 77,
   "id": "27a9eb4f",
   "metadata": {},
   "outputs": [],
   "source": [
    "l = [1,2,33,5,6,1]\n",
    "\n",
    "y = [i*2 for i in l]"
   ]
  },
  {
   "cell_type": "code",
   "execution_count": 78,
   "id": "6be25c05",
   "metadata": {},
   "outputs": [
    {
     "data": {
      "text/plain": [
       "[2, 4, 66, 10, 12, 2]"
      ]
     },
     "execution_count": 78,
     "metadata": {},
     "output_type": "execute_result"
    }
   ],
   "source": [
    "y"
   ]
  },
  {
   "cell_type": "code",
   "execution_count": 82,
   "id": "39a77c81",
   "metadata": {},
   "outputs": [],
   "source": [
    "mat = [[j for j in range(3)] for i in range(3)]"
   ]
  },
  {
   "cell_type": "code",
   "execution_count": 83,
   "id": "1c5d86f1",
   "metadata": {},
   "outputs": [
    {
     "data": {
      "text/plain": [
       "[[0, 1, 2], [0, 1, 2], [0, 1, 2]]"
      ]
     },
     "execution_count": 83,
     "metadata": {},
     "output_type": "execute_result"
    }
   ],
   "source": [
    "mat"
   ]
  },
  {
   "cell_type": "code",
   "execution_count": 84,
   "id": "8e0b64ef",
   "metadata": {},
   "outputs": [],
   "source": [
    "s = \"Haripriya\"\n",
    "p = [i for i in s]"
   ]
  },
  {
   "cell_type": "code",
   "execution_count": 85,
   "id": "88aecb00",
   "metadata": {},
   "outputs": [
    {
     "data": {
      "text/plain": [
       "['H', 'a', 'r', 'i', 'p', 'r', 'i', 'y', 'a']"
      ]
     },
     "execution_count": 85,
     "metadata": {},
     "output_type": "execute_result"
    }
   ],
   "source": [
    "p"
   ]
  },
  {
   "cell_type": "code",
   "execution_count": 86,
   "id": "d3cb63e0",
   "metadata": {},
   "outputs": [],
   "source": [
    "l = [i*10 for i in range(1,11)]"
   ]
  },
  {
   "cell_type": "code",
   "execution_count": 87,
   "id": "71ed244e",
   "metadata": {},
   "outputs": [
    {
     "data": {
      "text/plain": [
       "[10, 20, 30, 40, 50, 60, 70, 80, 90, 100]"
      ]
     },
     "execution_count": 87,
     "metadata": {},
     "output_type": "execute_result"
    }
   ],
   "source": [
    "l"
   ]
  },
  {
   "cell_type": "code",
   "execution_count": 96,
   "id": "d03324cd",
   "metadata": {},
   "outputs": [],
   "source": [
    "l = list(map(lambda i:i*10,[i for i in range(1,11)]))"
   ]
  },
  {
   "cell_type": "code",
   "execution_count": 97,
   "id": "b999ea14",
   "metadata": {},
   "outputs": [
    {
     "data": {
      "text/plain": [
       "[10, 20, 30, 40, 50, 60, 70, 80, 90, 100]"
      ]
     },
     "execution_count": 97,
     "metadata": {},
     "output_type": "execute_result"
    }
   ],
   "source": [
    "l"
   ]
  },
  {
   "cell_type": "markdown",
   "id": "2dfb1563",
   "metadata": {},
   "source": [
    "## Tuple comprehension\n"
   ]
  },
  {
   "cell_type": "code",
   "execution_count": 102,
   "id": "b07d24be",
   "metadata": {},
   "outputs": [],
   "source": [
    "x = tuple(i for i in range(10))"
   ]
  },
  {
   "cell_type": "code",
   "execution_count": 103,
   "id": "7121d941",
   "metadata": {},
   "outputs": [
    {
     "data": {
      "text/plain": [
       "(0, 1, 2, 3, 4, 5, 6, 7, 8, 9)"
      ]
     },
     "execution_count": 103,
     "metadata": {},
     "output_type": "execute_result"
    }
   ],
   "source": [
    "x"
   ]
  },
  {
   "cell_type": "code",
   "execution_count": 104,
   "id": "044cabd1",
   "metadata": {},
   "outputs": [],
   "source": [
    "y = tuple(\"even\" if i%2 == 0 else \"odd\" for i in range(1,11))"
   ]
  },
  {
   "cell_type": "code",
   "execution_count": 105,
   "id": "87f65623",
   "metadata": {},
   "outputs": [
    {
     "data": {
      "text/plain": [
       "('odd', 'even', 'odd', 'even', 'odd', 'even', 'odd', 'even', 'odd', 'even')"
      ]
     },
     "execution_count": 105,
     "metadata": {},
     "output_type": "execute_result"
    }
   ],
   "source": [
    "y"
   ]
  },
  {
   "cell_type": "code",
   "execution_count": 108,
   "id": "f251573b",
   "metadata": {},
   "outputs": [],
   "source": [
    "z  = tuple(i for i in range(10,101) if i%10==0)"
   ]
  },
  {
   "cell_type": "code",
   "execution_count": 109,
   "id": "f7836361",
   "metadata": {},
   "outputs": [
    {
     "data": {
      "text/plain": [
       "(10, 20, 30, 40, 50, 60, 70, 80, 90, 100)"
      ]
     },
     "execution_count": 109,
     "metadata": {},
     "output_type": "execute_result"
    }
   ],
   "source": [
    "z"
   ]
  },
  {
   "cell_type": "markdown",
   "id": "8aa6ea5c",
   "metadata": {},
   "source": [
    "## Dictionary comprehension"
   ]
  },
  {
   "cell_type": "code",
   "execution_count": 110,
   "id": "4a84e021",
   "metadata": {},
   "outputs": [],
   "source": [
    "d = {i:i**2 for i in range(10)}"
   ]
  },
  {
   "cell_type": "code",
   "execution_count": 111,
   "id": "bcd286cf",
   "metadata": {},
   "outputs": [
    {
     "data": {
      "text/plain": [
       "{0: 0, 1: 1, 2: 4, 3: 9, 4: 16, 5: 25, 6: 36, 7: 49, 8: 64, 9: 81}"
      ]
     },
     "execution_count": 111,
     "metadata": {},
     "output_type": "execute_result"
    }
   ],
   "source": [
    "d"
   ]
  },
  {
   "cell_type": "code",
   "execution_count": 119,
   "id": "e11b4ef7",
   "metadata": {},
   "outputs": [],
   "source": [
    "key = [1,2,3,4,5] \n",
    "value = [10,20,30,40,50]\n",
    "\n",
    "d = {k:v for (k,v) in zip(key,value)}"
   ]
  },
  {
   "cell_type": "code",
   "execution_count": 120,
   "id": "bc9b5d16",
   "metadata": {},
   "outputs": [
    {
     "data": {
      "text/plain": [
       "{1: 10, 2: 20, 3: 30, 4: 40, 5: 50}"
      ]
     },
     "execution_count": 120,
     "metadata": {},
     "output_type": "execute_result"
    }
   ],
   "source": [
    "d"
   ]
  },
  {
   "cell_type": "code",
   "execution_count": 123,
   "id": "37365221",
   "metadata": {},
   "outputs": [],
   "source": [
    "d1 = {i : i*100 for i in [1,2,3,4,5]}"
   ]
  },
  {
   "cell_type": "code",
   "execution_count": 124,
   "id": "1b66e245",
   "metadata": {},
   "outputs": [
    {
     "data": {
      "text/plain": [
       "{1: 100, 2: 200, 3: 300, 4: 400, 5: 500}"
      ]
     },
     "execution_count": 124,
     "metadata": {},
     "output_type": "execute_result"
    }
   ],
   "source": [
    "d1"
   ]
  },
  {
   "cell_type": "code",
   "execution_count": 127,
   "id": "11263566",
   "metadata": {},
   "outputs": [],
   "source": [
    "s = \"Haripriya\"\n",
    "\n",
    "d2 = {i:i.upper() for i in s}"
   ]
  },
  {
   "cell_type": "code",
   "execution_count": 128,
   "id": "2117a91d",
   "metadata": {},
   "outputs": [
    {
     "data": {
      "text/plain": [
       "{'H': 'H', 'a': 'A', 'r': 'R', 'i': 'I', 'p': 'P', 'y': 'Y'}"
      ]
     },
     "execution_count": 128,
     "metadata": {},
     "output_type": "execute_result"
    }
   ],
   "source": [
    "d2"
   ]
  },
  {
   "cell_type": "code",
   "execution_count": 135,
   "id": "994c8bff",
   "metadata": {},
   "outputs": [],
   "source": [
    "d3 = {i : i for i in range(1,50) if i%5==0}"
   ]
  },
  {
   "cell_type": "code",
   "execution_count": 136,
   "id": "37748e00",
   "metadata": {},
   "outputs": [
    {
     "data": {
      "text/plain": [
       "{5: 5, 10: 10, 15: 15, 20: 20, 25: 25, 30: 30, 35: 35, 40: 40, 45: 45}"
      ]
     },
     "execution_count": 136,
     "metadata": {},
     "output_type": "execute_result"
    }
   ],
   "source": [
    "d3"
   ]
  },
  {
   "cell_type": "code",
   "execution_count": 143,
   "id": "3509e7fa",
   "metadata": {},
   "outputs": [],
   "source": [
    "# nested list\n",
    "x = [[j for j in range(5)] for i in range(5)]"
   ]
  },
  {
   "cell_type": "code",
   "execution_count": 144,
   "id": "873f4ec7",
   "metadata": {},
   "outputs": [
    {
     "data": {
      "text/plain": [
       "[[0, 1, 2, 3, 4],\n",
       " [0, 1, 2, 3, 4],\n",
       " [0, 1, 2, 3, 4],\n",
       " [0, 1, 2, 3, 4],\n",
       " [0, 1, 2, 3, 4]]"
      ]
     },
     "execution_count": 144,
     "metadata": {},
     "output_type": "execute_result"
    }
   ],
   "source": [
    "x"
   ]
  },
  {
   "cell_type": "code",
   "execution_count": 147,
   "id": "56a6047c",
   "metadata": {},
   "outputs": [],
   "source": [
    "d4 = {i : {j*2 for j in range(10)} for i in range(5)}"
   ]
  },
  {
   "cell_type": "code",
   "execution_count": 148,
   "id": "6528412a",
   "metadata": {},
   "outputs": [
    {
     "data": {
      "text/plain": [
       "{0: {0, 2, 4, 6, 8, 10, 12, 14, 16, 18},\n",
       " 1: {0, 2, 4, 6, 8, 10, 12, 14, 16, 18},\n",
       " 2: {0, 2, 4, 6, 8, 10, 12, 14, 16, 18},\n",
       " 3: {0, 2, 4, 6, 8, 10, 12, 14, 16, 18},\n",
       " 4: {0, 2, 4, 6, 8, 10, 12, 14, 16, 18}}"
      ]
     },
     "execution_count": 148,
     "metadata": {},
     "output_type": "execute_result"
    }
   ],
   "source": [
    "d4"
   ]
  },
  {
   "cell_type": "code",
   "execution_count": 2,
   "id": "226e6d4b",
   "metadata": {},
   "outputs": [],
   "source": [
    "l = [1,2,3,4,5]\n",
    "x = {i :i * 2 for i in l}"
   ]
  },
  {
   "cell_type": "code",
   "execution_count": 3,
   "id": "a7162f76",
   "metadata": {},
   "outputs": [
    {
     "data": {
      "text/plain": [
       "{1: 2, 2: 4, 3: 6, 4: 8, 5: 10}"
      ]
     },
     "execution_count": 3,
     "metadata": {},
     "output_type": "execute_result"
    }
   ],
   "source": [
    "x"
   ]
  },
  {
   "cell_type": "code",
   "execution_count": null,
   "id": "9897f50b",
   "metadata": {},
   "outputs": [],
   "source": []
  }
 ],
 "metadata": {
  "kernelspec": {
   "display_name": "Python 3 (ipykernel)",
   "language": "python",
   "name": "python3"
  },
  "language_info": {
   "codemirror_mode": {
    "name": "ipython",
    "version": 3
   },
   "file_extension": ".py",
   "mimetype": "text/x-python",
   "name": "python",
   "nbconvert_exporter": "python",
   "pygments_lexer": "ipython3",
   "version": "3.11.4"
  }
 },
 "nbformat": 4,
 "nbformat_minor": 5
}
