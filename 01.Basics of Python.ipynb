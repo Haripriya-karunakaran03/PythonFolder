{
 "cells": [
  {
   "cell_type": "code",
   "execution_count": 1,
   "id": "7f9bc424",
   "metadata": {},
   "outputs": [
    {
     "name": "stdout",
     "output_type": "stream",
     "text": [
      "The Zen of Python, by Tim Peters\n",
      "\n",
      "Beautiful is better than ugly.\n",
      "Explicit is better than implicit.\n",
      "Simple is better than complex.\n",
      "Complex is better than complicated.\n",
      "Flat is better than nested.\n",
      "Sparse is better than dense.\n",
      "Readability counts.\n",
      "Special cases aren't special enough to break the rules.\n",
      "Although practicality beats purity.\n",
      "Errors should never pass silently.\n",
      "Unless explicitly silenced.\n",
      "In the face of ambiguity, refuse the temptation to guess.\n",
      "There should be one-- and preferably only one --obvious way to do it.\n",
      "Although that way may not be obvious at first unless you're Dutch.\n",
      "Now is better than never.\n",
      "Although never is often better than *right* now.\n",
      "If the implementation is hard to explain, it's a bad idea.\n",
      "If the implementation is easy to explain, it may be a good idea.\n",
      "Namespaces are one honking great idea -- let's do more of those!\n"
     ]
    }
   ],
   "source": [
    "import this"
   ]
  },
  {
   "cell_type": "code",
   "execution_count": 78,
   "id": "5d4d8da6",
   "metadata": {},
   "outputs": [
    {
     "name": "stdout",
     "output_type": "stream",
     "text": [
      "Help on built-in module sys:\n",
      "\n",
      "NAME\n",
      "    sys\n",
      "\n",
      "MODULE REFERENCE\n",
      "    https://docs.python.org/3.11/library/sys.html\n",
      "    \n",
      "    The following documentation is automatically generated from the Python\n",
      "    source files.  It may be incomplete, incorrect or include features that\n",
      "    are considered implementation detail and may vary between Python\n",
      "    implementations.  When in doubt, consult the module reference at the\n",
      "    location listed above.\n",
      "\n",
      "DESCRIPTION\n",
      "    This module provides access to some objects used or maintained by the\n",
      "    interpreter and to functions that interact strongly with the interpreter.\n",
      "    \n",
      "    Dynamic objects:\n",
      "    \n",
      "    argv -- command line arguments; argv[0] is the script pathname if known\n",
      "    path -- module search path; path[0] is the script directory, else ''\n",
      "    modules -- dictionary of loaded modules\n",
      "    \n",
      "    displayhook -- called to show results in an interactive session\n",
      "    excepthook -- called to handle any uncaught exception other than SystemExit\n",
      "      To customize printing in an interactive session or to install a custom\n",
      "      top-level exception handler, assign other functions to replace these.\n",
      "    \n",
      "    stdin -- standard input file object; used by input()\n",
      "    stdout -- standard output file object; used by print()\n",
      "    stderr -- standard error object; used for error messages\n",
      "      By assigning other file objects (or objects that behave like files)\n",
      "      to these, it is possible to redirect all of the interpreter's I/O.\n",
      "    \n",
      "    last_type -- type of last uncaught exception\n",
      "    last_value -- value of last uncaught exception\n",
      "    last_traceback -- traceback of last uncaught exception\n",
      "      These three are only available in an interactive session after a\n",
      "      traceback has been printed.\n",
      "    \n",
      "    Static objects:\n",
      "    \n",
      "    builtin_module_names -- tuple of module names built into this interpreter\n",
      "    copyright -- copyright notice pertaining to this interpreter\n",
      "    exec_prefix -- prefix used to find the machine-specific Python library\n",
      "    executable -- absolute path of the executable binary of the Python interpreter\n",
      "    float_info -- a named tuple with information about the float implementation.\n",
      "    float_repr_style -- string indicating the style of repr() output for floats\n",
      "    hash_info -- a named tuple with information about the hash algorithm.\n",
      "    hexversion -- version information encoded as a single integer\n",
      "    implementation -- Python implementation information.\n",
      "    int_info -- a named tuple with information about the int implementation.\n",
      "    maxsize -- the largest supported length of containers.\n",
      "    maxunicode -- the value of the largest Unicode code point\n",
      "    platform -- platform identifier\n",
      "    prefix -- prefix used to find the Python library\n",
      "    thread_info -- a named tuple with information about the thread implementation.\n",
      "    version -- the version of this interpreter as a string\n",
      "    version_info -- version information as a named tuple\n",
      "    dllhandle -- [Windows only] integer handle of the Python DLL\n",
      "    winver -- [Windows only] version number of the Python DLL\n",
      "    _enablelegacywindowsfsencoding -- [Windows only]\n",
      "    __stdin__ -- the original stdin; don't touch!\n",
      "    __stdout__ -- the original stdout; don't touch!\n",
      "    __stderr__ -- the original stderr; don't touch!\n",
      "    __displayhook__ -- the original displayhook; don't touch!\n",
      "    __excepthook__ -- the original excepthook; don't touch!\n",
      "    \n",
      "    Functions:\n",
      "    \n",
      "    displayhook() -- print an object to the screen, and save it in builtins._\n",
      "    excepthook() -- print an exception and its traceback to sys.stderr\n",
      "    exception() -- return the current thread's active exception\n",
      "    exc_info() -- return information about the current thread's active exception\n",
      "    exit() -- exit the interpreter by raising SystemExit\n",
      "    getdlopenflags() -- returns flags to be used for dlopen() calls\n",
      "    getprofile() -- get the global profiling function\n",
      "    getrefcount() -- return the reference count for an object (plus one :-)\n",
      "    getrecursionlimit() -- return the max recursion depth for the interpreter\n",
      "    getsizeof() -- return the size of an object in bytes\n",
      "    gettrace() -- get the global debug tracing function\n",
      "    setdlopenflags() -- set the flags to be used for dlopen() calls\n",
      "    setprofile() -- set the global profiling function\n",
      "    setrecursionlimit() -- set the max recursion depth for the interpreter\n",
      "    settrace() -- set the global debug tracing function\n",
      "\n",
      "FUNCTIONS\n",
      "    __breakpointhook__ = breakpointhook(...)\n",
      "        breakpointhook(*args, **kws)\n",
      "        \n",
      "        This hook function is called by built-in breakpoint().\n",
      "    \n",
      "    __displayhook__ = displayhook(object, /)\n",
      "        Print an object to sys.stdout and also save it in builtins._\n",
      "    \n",
      "    __excepthook__ = excepthook(exctype, value, traceback, /)\n",
      "        Handle an exception by displaying it with a traceback on sys.stderr.\n",
      "    \n",
      "    __unraisablehook__ = unraisablehook(unraisable, /)\n",
      "        Handle an unraisable exception.\n",
      "        \n",
      "        The unraisable argument has the following attributes:\n",
      "        \n",
      "        * exc_type: Exception type.\n",
      "        * exc_value: Exception value, can be None.\n",
      "        * exc_traceback: Exception traceback, can be None.\n",
      "        * err_msg: Error message, can be None.\n",
      "        * object: Object causing the exception, can be None.\n",
      "    \n",
      "    addaudithook(hook)\n",
      "        Adds a new audit hook callback.\n",
      "    \n",
      "    audit(...)\n",
      "        audit(event, *args)\n",
      "        \n",
      "        Passes the event to any audit hooks that are attached.\n",
      "    \n",
      "    call_tracing(func, args, /)\n",
      "        Call func(*args), while tracing is enabled.\n",
      "        \n",
      "        The tracing state is saved, and restored afterwards.  This is intended\n",
      "        to be called from a debugger from a checkpoint, to recursively debug\n",
      "        some other code.\n",
      "    \n",
      "    exc_info()\n",
      "        Return current exception information: (type, value, traceback).\n",
      "        \n",
      "        Return information about the most recent exception caught by an except\n",
      "        clause in the current stack frame or in an older stack frame.\n",
      "    \n",
      "    exception()\n",
      "        Return the current exception.\n",
      "        \n",
      "        Return the most recent exception caught by an except clause\n",
      "        in the current stack frame or in an older stack frame, or None\n",
      "        if no such exception exists.\n",
      "    \n",
      "    exit(status=None, /)\n",
      "        Exit the interpreter by raising SystemExit(status).\n",
      "        \n",
      "        If the status is omitted or None, it defaults to zero (i.e., success).\n",
      "        If the status is an integer, it will be used as the system exit status.\n",
      "        If it is another kind of object, it will be printed and the system\n",
      "        exit status will be one (i.e., failure).\n",
      "    \n",
      "    get_asyncgen_hooks()\n",
      "        Return the installed asynchronous generators hooks.\n",
      "        \n",
      "        This returns a namedtuple of the form (firstiter, finalizer).\n",
      "    \n",
      "    get_coroutine_origin_tracking_depth()\n",
      "        Check status of origin tracking for coroutine objects in this thread.\n",
      "    \n",
      "    get_int_max_str_digits()\n",
      "        Return the maximum string digits limit for non-binary int<->str conversions.\n",
      "    \n",
      "    getallocatedblocks()\n",
      "        Return the number of memory blocks currently allocated.\n",
      "    \n",
      "    getdefaultencoding()\n",
      "        Return the current default encoding used by the Unicode implementation.\n",
      "    \n",
      "    getfilesystemencodeerrors()\n",
      "        Return the error mode used Unicode to OS filename conversion.\n",
      "    \n",
      "    getfilesystemencoding()\n",
      "        Return the encoding used to convert Unicode filenames to OS filenames.\n",
      "    \n",
      "    getprofile()\n",
      "        Return the profiling function set with sys.setprofile.\n",
      "        \n",
      "        See the profiler chapter in the library manual.\n",
      "    \n",
      "    getrecursionlimit()\n",
      "        Return the current value of the recursion limit.\n",
      "        \n",
      "        The recursion limit is the maximum depth of the Python interpreter\n",
      "        stack.  This limit prevents infinite recursion from causing an overflow\n",
      "        of the C stack and crashing Python.\n",
      "    \n",
      "    getrefcount(object, /)\n",
      "        Return the reference count of object.\n",
      "        \n",
      "        The count returned is generally one higher than you might expect,\n",
      "        because it includes the (temporary) reference as an argument to\n",
      "        getrefcount().\n",
      "    \n",
      "    getsizeof(...)\n",
      "        getsizeof(object [, default]) -> int\n",
      "        \n",
      "        Return the size of object in bytes.\n",
      "    \n",
      "    getswitchinterval()\n",
      "        Return the current thread switch interval; see sys.setswitchinterval().\n",
      "    \n",
      "    gettrace()\n",
      "        Return the global debug tracing function set with sys.settrace.\n",
      "        \n",
      "        See the debugger chapter in the library manual.\n",
      "    \n",
      "    getwindowsversion()\n",
      "        Return info about the running version of Windows as a named tuple.\n",
      "        \n",
      "        The members are named: major, minor, build, platform, service_pack,\n",
      "        service_pack_major, service_pack_minor, suite_mask, product_type and\n",
      "        platform_version. For backward compatibility, only the first 5 items\n",
      "        are available by indexing. All elements are numbers, except\n",
      "        service_pack and platform_type which are strings, and platform_version\n",
      "        which is a 3-tuple. Platform is always 2. Product_type may be 1 for a\n",
      "        workstation, 2 for a domain controller, 3 for a server.\n",
      "        Platform_version is a 3-tuple containing a version number that is\n",
      "        intended for identifying the OS rather than feature detection.\n",
      "    \n",
      "    intern(string, /)\n",
      "        ``Intern'' the given string.\n",
      "        \n",
      "        This enters the string in the (global) table of interned strings whose\n",
      "        purpose is to speed up dictionary lookups. Return the string itself or\n",
      "        the previously interned string object with the same value.\n",
      "    \n",
      "    is_finalizing()\n",
      "        Return True if Python is exiting.\n",
      "    \n",
      "    set_asyncgen_hooks(...)\n",
      "        set_asyncgen_hooks(* [, firstiter] [, finalizer])\n",
      "        \n",
      "        Set a finalizer for async generators objects.\n",
      "    \n",
      "    set_coroutine_origin_tracking_depth(depth)\n",
      "        Enable or disable origin tracking for coroutine objects in this thread.\n",
      "        \n",
      "        Coroutine objects will track 'depth' frames of traceback information\n",
      "        about where they came from, available in their cr_origin attribute.\n",
      "        \n",
      "        Set a depth of 0 to disable.\n",
      "    \n",
      "    set_int_max_str_digits(maxdigits)\n",
      "        Set the maximum string digits limit for non-binary int<->str conversions.\n",
      "    \n",
      "    setprofile(...)\n",
      "        setprofile(function)\n",
      "        \n",
      "        Set the profiling function.  It will be called on each function call\n",
      "        and return.  See the profiler chapter in the library manual.\n",
      "    \n",
      "    setrecursionlimit(limit, /)\n",
      "        Set the maximum depth of the Python interpreter stack to n.\n",
      "        \n",
      "        This limit prevents infinite recursion from causing an overflow of the C\n",
      "        stack and crashing Python.  The highest possible limit is platform-\n",
      "        dependent.\n",
      "    \n",
      "    setswitchinterval(interval, /)\n",
      "        Set the ideal thread switching delay inside the Python interpreter.\n",
      "        \n",
      "        The actual frequency of switching threads can be lower if the\n",
      "        interpreter executes long sequences of uninterruptible code\n",
      "        (this is implementation-specific and workload-dependent).\n",
      "        \n",
      "        The parameter must represent the desired switching delay in seconds\n",
      "        A typical value is 0.005 (5 milliseconds).\n",
      "    \n",
      "    settrace(...)\n",
      "        settrace(function)\n",
      "        \n",
      "        Set the global debug tracing function.  It will be called on each\n",
      "        function call.  See the debugger chapter in the library manual.\n",
      "    \n",
      "    unraisablehook(unraisable, /)\n",
      "        Handle an unraisable exception.\n",
      "        \n",
      "        The unraisable argument has the following attributes:\n",
      "        \n",
      "        * exc_type: Exception type.\n",
      "        * exc_value: Exception value, can be None.\n",
      "        * exc_traceback: Exception traceback, can be None.\n",
      "        * err_msg: Error message, can be None.\n",
      "        * object: Object causing the exception, can be None.\n",
      "\n",
      "DATA\n",
      "    __stderr__ = <_io.TextIOWrapper name='<stderr>' mode='w' encoding='utf...\n",
      "    __stdin__ = <_io.TextIOWrapper name='<stdin>' mode='r' encoding='cp125...\n",
      "    __stdout__ = <_io.TextIOWrapper name='<stdout>' mode='w' encoding='utf...\n",
      "    api_version = 1013\n",
      "    argv = [r'C:\\Users\\msi\\anaconda3\\Lib\\site-packages\\ipykernel_launcher....\n",
      "    base_exec_prefix = r'C:\\Users\\msi\\anaconda3'\n",
      "    base_prefix = r'C:\\Users\\msi\\anaconda3'\n",
      "    builtin_module_names = ('_abc', '_ast', '_bisect', '_blake2', '_codecs...\n",
      "    byteorder = 'little'\n",
      "    copyright = 'Copyright (c) 2001-2023 Python Software Foundati...ematis...\n",
      "    displayhook = <ipykernel.displayhook.ZMQShellDisplayHook object>\n",
      "    dllhandle = 140709879873536\n",
      "    dont_write_bytecode = False\n",
      "    exec_prefix = r'C:\\Users\\msi\\anaconda3'\n",
      "    executable = r'C:\\Users\\msi\\anaconda3\\python.exe'\n",
      "    flags = sys.flags(debug=0, inspect=0, interactive=0, opt...coding=0, s...\n",
      "    float_info = sys.float_info(max=1.7976931348623157e+308, max_...epsilo...\n",
      "    float_repr_style = 'short'\n",
      "    hash_info = sys.hash_info(width=64, modulus=2305843009213693...iphash1...\n",
      "    hexversion = 51053808\n",
      "    implementation = namespace(name='cpython', cache_tag='cpython-311...as...\n",
      "    int_info = sys.int_info(bits_per_digit=30, sizeof_digit=4, ..._str_dig...\n",
      "    last_value = NameError(\"name 'true' is not defined\")\n",
      "    maxsize = 9223372036854775807\n",
      "    maxunicode = 1114111\n",
      "    meta_path = [<_distutils_hack.DistutilsMetaFinder object>, <class '_fr...\n",
      "    modules = {'IPython': <module 'IPython' from 'C:\\\\Users\\\\msi\\\\anaconda...\n",
      "    orig_argv = [r'C:/Users/msi/anaconda3\\python.exe', '-m', 'ipykernel_la...\n",
      "    path = [r'C:\\Users\\msi\\December 2023', r'C:\\Users\\msi\\anaconda3\\python...\n",
      "    path_hooks = [<class 'zipimport.zipimporter'>, <function FileFinder.pa...\n",
      "    path_importer_cache = {r'C:\\Users\\msi\\December 2023': FileFinder('C:\\\\...\n",
      "    platform = 'win32'\n",
      "    platlibdir = 'DLLs'\n",
      "    prefix = r'C:\\Users\\msi\\anaconda3'\n",
      "    ps1 = 'In : '\n",
      "    ps2 = '...: '\n",
      "    ps3 = 'Out: '\n",
      "    pycache_prefix = None\n",
      "    stderr = <ipykernel.iostream.OutStream object>\n",
      "    stdin = <_io.TextIOWrapper name='<stdin>' mode='r' encoding='cp1252'>\n",
      "    stdlib_module_names = frozenset({'__future__', '_abc', '_aix_support',...\n",
      "    stdout = <ipykernel.iostream.OutStream object>\n",
      "    thread_info = sys.thread_info(name='nt', lock=None, version=None)\n",
      "    version = '3.11.4 | packaged by Anaconda, Inc. | (main, Jul  5 2023, 1...\n",
      "    version_info = sys.version_info(major=3, minor=11, micro=4, releaselev...\n",
      "    warnoptions = []\n",
      "    winver = '3.11'\n",
      "\n",
      "FILE\n",
      "    (built-in)\n",
      "\n",
      "\n"
     ]
    }
   ],
   "source": [
    "# The Python help function is used to display the documentation of modules, functions, classes, keywords, etc.\n",
    "help(sys) # here the module name is 'sys'"
   ]
  },
  {
   "cell_type": "code",
   "execution_count": null,
   "id": "d4114266",
   "metadata": {},
   "outputs": [],
   "source": [
    "import sys\n",
    "print(sys.version)   # version control\n",
    "print(sys.winver)    # [Windows only] version number of the Python DLL"
   ]
  },
  {
   "cell_type": "code",
   "execution_count": 41,
   "id": "a796ffe3",
   "metadata": {},
   "outputs": [
    {
     "name": "stdout",
     "output_type": "stream",
     "text": [
      "3.11.4 | packaged by Anaconda, Inc. | (main, Jul  5 2023, 13:38:37) [MSC v.1916 64 bit (AMD64)]\n",
      "3.11\n"
     ]
    }
   ],
   "source": [
    "import sys\n",
    "print(sys.version)\n",
    "print(sys.winver)"
   ]
  },
  {
   "cell_type": "markdown",
   "id": "1c5599d7",
   "metadata": {},
   "source": [
    "### Error"
   ]
  },
  {
   "cell_type": "code",
   "execution_count": 8,
   "id": "fb50a40d",
   "metadata": {},
   "outputs": [
    {
     "ename": "NameError",
     "evalue": "name 'frint' is not defined",
     "output_type": "error",
     "traceback": [
      "\u001b[1;31m---------------------------------------------------------------------------\u001b[0m",
      "\u001b[1;31mNameError\u001b[0m                                 Traceback (most recent call last)",
      "Cell \u001b[1;32mIn[8], line 1\u001b[0m\n\u001b[1;32m----> 1\u001b[0m frint(\u001b[38;5;124m\"\u001b[39m\u001b[38;5;124mHello world\u001b[39m\u001b[38;5;124m\"\u001b[39m)\n",
      "\u001b[1;31mNameError\u001b[0m: name 'frint' is not defined"
     ]
    }
   ],
   "source": [
    "frint(\"Hello world\")"
   ]
  },
  {
   "cell_type": "code",
   "execution_count": 9,
   "id": "6c2ebdb4",
   "metadata": {},
   "outputs": [
    {
     "ename": "SyntaxError",
     "evalue": "unterminated string literal (detected at line 1) (2706835644.py, line 1)",
     "output_type": "error",
     "traceback": [
      "\u001b[1;36m  Cell \u001b[1;32mIn[9], line 1\u001b[1;36m\u001b[0m\n\u001b[1;33m    print(Hello world\")\u001b[0m\n\u001b[1;37m                     ^\u001b[0m\n\u001b[1;31mSyntaxError\u001b[0m\u001b[1;31m:\u001b[0m unterminated string literal (detected at line 1)\n"
     ]
    }
   ],
   "source": [
    "print(Hello world\")"
   ]
  },
  {
   "cell_type": "code",
   "execution_count": 11,
   "id": "769012dd",
   "metadata": {},
   "outputs": [
    {
     "ename": "IndentationError",
     "evalue": "expected an indented block after 'if' statement on line 1 (2358811748.py, line 2)",
     "output_type": "error",
     "traceback": [
      "\u001b[1;36m  Cell \u001b[1;32mIn[11], line 2\u001b[1;36m\u001b[0m\n\u001b[1;33m    print(\"Yes\")\u001b[0m\n\u001b[1;37m    ^\u001b[0m\n\u001b[1;31mIndentationError\u001b[0m\u001b[1;31m:\u001b[0m expected an indented block after 'if' statement on line 1\n"
     ]
    }
   ],
   "source": [
    "if 5 > 2:\n",
    "print(\"Yes\")"
   ]
  },
  {
   "cell_type": "markdown",
   "id": "42a91996",
   "metadata": {},
   "source": [
    "### Identifiers"
   ]
  },
  {
   "cell_type": "code",
   "execution_count": 2,
   "id": "23bf41b4",
   "metadata": {},
   "outputs": [
    {
     "ename": "SyntaxError",
     "evalue": "invalid decimal literal (2383241226.py, line 1)",
     "output_type": "error",
     "traceback": [
      "\u001b[1;36m  Cell \u001b[1;32mIn[2], line 1\u001b[1;36m\u001b[0m\n\u001b[1;33m    10var = 100 #you cannot use digit in front of the name or variable\u001b[0m\n\u001b[1;37m     ^\u001b[0m\n\u001b[1;31mSyntaxError\u001b[0m\u001b[1;31m:\u001b[0m invalid decimal literal\n"
     ]
    }
   ],
   "source": [
    "10var = 100 #you cannot use digit in front of the name or variable"
   ]
  },
  {
   "cell_type": "code",
   "execution_count": 3,
   "id": "46e777ae",
   "metadata": {},
   "outputs": [
    {
     "ename": "SyntaxError",
     "evalue": "invalid syntax (2232817323.py, line 1)",
     "output_type": "error",
     "traceback": [
      "\u001b[1;36m  Cell \u001b[1;32mIn[3], line 1\u001b[1;36m\u001b[0m\n\u001b[1;33m    var@ = 30  # you cannot use special symbols\u001b[0m\n\u001b[1;37m         ^\u001b[0m\n\u001b[1;31mSyntaxError\u001b[0m\u001b[1;31m:\u001b[0m invalid syntax\n"
     ]
    }
   ],
   "source": [
    "var@ = 30  # you cannot use special symbols"
   ]
  },
  {
   "cell_type": "code",
   "execution_count": 4,
   "id": "0a5b61cb",
   "metadata": {},
   "outputs": [],
   "source": [
    "print = \"hari\""
   ]
  },
  {
   "cell_type": "code",
   "execution_count": 5,
   "id": "3a2b47ec",
   "metadata": {},
   "outputs": [
    {
     "ename": "SyntaxError",
     "evalue": "invalid syntax (3778944893.py, line 1)",
     "output_type": "error",
     "traceback": [
      "\u001b[1;36m  Cell \u001b[1;32mIn[5], line 1\u001b[1;36m\u001b[0m\n\u001b[1;33m    import = 10   # You cannot use keywords as a variable\u001b[0m\n\u001b[1;37m           ^\u001b[0m\n\u001b[1;31mSyntaxError\u001b[0m\u001b[1;31m:\u001b[0m invalid syntax\n"
     ]
    }
   ],
   "source": [
    "import = 10   # You cannot use keywords as a variable"
   ]
  },
  {
   "cell_type": "code",
   "execution_count": 6,
   "id": "4e1261be",
   "metadata": {},
   "outputs": [],
   "source": [
    "var1 = 10   # correct way"
   ]
  },
  {
   "cell_type": "code",
   "execution_count": 7,
   "id": "fe85f3b9",
   "metadata": {},
   "outputs": [],
   "source": [
    "var5 = 200   # numbers can be used after letters"
   ]
  },
  {
   "cell_type": "code",
   "execution_count": 8,
   "id": "2fa7c2d8",
   "metadata": {},
   "outputs": [],
   "source": [
    "_var3 = 400"
   ]
  },
  {
   "cell_type": "code",
   "execution_count": 9,
   "id": "4462c039",
   "metadata": {},
   "outputs": [
    {
     "ename": "SyntaxError",
     "evalue": "cannot assign to expression here. Maybe you meant '==' instead of '='? (883721768.py, line 1)",
     "output_type": "error",
     "traceback": [
      "\u001b[1;36m  Cell \u001b[1;32mIn[9], line 1\u001b[1;36m\u001b[0m\n\u001b[1;33m    -var34 = 100\u001b[0m\n\u001b[1;37m    ^\u001b[0m\n\u001b[1;31mSyntaxError\u001b[0m\u001b[1;31m:\u001b[0m cannot assign to expression here. Maybe you meant '==' instead of '='?\n"
     ]
    }
   ],
   "source": [
    "-var34 = 100"
   ]
  },
  {
   "cell_type": "code",
   "execution_count": 10,
   "id": "d428c66d",
   "metadata": {},
   "outputs": [
    {
     "ename": "SyntaxError",
     "evalue": "invalid syntax (2851194753.py, line 1)",
     "output_type": "error",
     "traceback": [
      "\u001b[1;36m  Cell \u001b[1;32mIn[10], line 1\u001b[1;36m\u001b[0m\n\u001b[1;33m    for = 2000\u001b[0m\n\u001b[1;37m        ^\u001b[0m\n\u001b[1;31mSyntaxError\u001b[0m\u001b[1;31m:\u001b[0m invalid syntax\n"
     ]
    }
   ],
   "source": [
    "for = 2000"
   ]
  },
  {
   "cell_type": "markdown",
   "id": "c0c37444",
   "metadata": {},
   "source": [
    "### Keywords"
   ]
  },
  {
   "cell_type": "code",
   "execution_count": 1,
   "id": "e2296add",
   "metadata": {},
   "outputs": [],
   "source": [
    "import keyword"
   ]
  },
  {
   "cell_type": "code",
   "execution_count": 2,
   "id": "a2e4c911",
   "metadata": {},
   "outputs": [
    {
     "name": "stdout",
     "output_type": "stream",
     "text": [
      "['False', 'None', 'True', '__peg_parser__', 'and', 'as', 'assert', 'async', 'await', 'break', 'class', 'continue', 'def', 'del', 'elif', 'else', 'except', 'finally', 'for', 'from', 'global', 'if', 'import', 'in', 'is', 'lambda', 'nonlocal', 'not', 'or', 'pass', 'raise', 'return', 'try', 'while', 'with', 'yield']\n"
     ]
    }
   ],
   "source": [
    "print(keyword.kwlist)"
   ]
  },
  {
   "cell_type": "code",
   "execution_count": 18,
   "id": "c02670c2",
   "metadata": {},
   "outputs": [
    {
     "data": {
      "text/plain": [
       "35"
      ]
     },
     "execution_count": 18,
     "metadata": {},
     "output_type": "execute_result"
    }
   ],
   "source": [
    "len(keyword.kwlist)"
   ]
  },
  {
   "cell_type": "code",
   "execution_count": 25,
   "id": "e2dbdf29",
   "metadata": {},
   "outputs": [
    {
     "name": "stdout",
     "output_type": "stream",
     "text": [
      "\n",
      "Here is a list of the Python keywords.  Enter any keyword to get more help.\n",
      "\n",
      "False               class               from                or\n",
      "None                continue            global              pass\n",
      "True                def                 if                  raise\n",
      "and                 del                 import              return\n",
      "as                  elif                in                  try\n",
      "assert              else                is                  while\n",
      "async               except              lambda              with\n",
      "await               finally             nonlocal            yield\n",
      "break               for                 not                 \n",
      "\n"
     ]
    }
   ],
   "source": [
    "help(\"keywords\")"
   ]
  },
  {
   "cell_type": "code",
   "execution_count": 42,
   "id": "38ec3fa8",
   "metadata": {},
   "outputs": [
    {
     "name": "stdout",
     "output_type": "stream",
     "text": [
      "['False', 'None', 'True', 'and', 'as', 'assert', 'async', 'await', 'break', 'class', 'continue', 'def', 'del', 'elif', 'else', 'except', 'finally', 'for', 'from', 'global', 'if', 'import', 'in', 'is', 'lambda', 'nonlocal', 'not', 'or', 'pass', 'raise', 'return', 'try', 'while', 'with', 'yield']\n"
     ]
    }
   ],
   "source": [
    "import keyword\n",
    "print(keyword.kwlist)"
   ]
  },
  {
   "cell_type": "markdown",
   "id": "cc4aa93a",
   "metadata": {},
   "source": [
    "### Comments"
   ]
  },
  {
   "cell_type": "code",
   "execution_count": 19,
   "id": "7c6236f9",
   "metadata": {},
   "outputs": [],
   "source": [
    "# single line comment\n",
    "\n",
    "a = 100 #integer(single line comment)"
   ]
  },
  {
   "cell_type": "code",
   "execution_count": 20,
   "id": "27e15b18",
   "metadata": {},
   "outputs": [],
   "source": [
    "\"\"\"\n",
    "multi\n",
    "line\n",
    "comment\n",
    "\"\"\"\n",
    "\n",
    "var = 100"
   ]
  },
  {
   "cell_type": "code",
   "execution_count": 21,
   "id": "5498973b",
   "metadata": {},
   "outputs": [],
   "source": [
    "'''\n",
    "multiline\n",
    "comment\n",
    "'''\n",
    "var1 = 200"
   ]
  },
  {
   "cell_type": "code",
   "execution_count": 30,
   "id": "2e6bc970",
   "metadata": {},
   "outputs": [],
   "source": [
    "# x = 10\n",
    "# y = 20\n",
    "# z = 30"
   ]
  },
  {
   "cell_type": "markdown",
   "id": "6103b5f1",
   "metadata": {},
   "source": [
    "### Statements"
   ]
  },
  {
   "cell_type": "code",
   "execution_count": 23,
   "id": "3ed2a469",
   "metadata": {},
   "outputs": [
    {
     "name": "stdout",
     "output_type": "stream",
     "text": [
      "300\n"
     ]
    }
   ],
   "source": [
    "#single line statement\n",
    "\n",
    "c = 100 + 200\n",
    "print(c)"
   ]
  },
  {
   "cell_type": "code",
   "execution_count": 24,
   "id": "af71f978",
   "metadata": {},
   "outputs": [
    {
     "name": "stdout",
     "output_type": "stream",
     "text": [
      "[100, 200, 300, 400, 500]\n"
     ]
    }
   ],
   "source": [
    "a = [100,200,300,400,500]\n",
    "print(a)"
   ]
  },
  {
   "cell_type": "code",
   "execution_count": 6,
   "id": "e6597267",
   "metadata": {},
   "outputs": [
    {
     "name": "stdout",
     "output_type": "stream",
     "text": [
      "500\n"
     ]
    }
   ],
   "source": [
    "# multiline statement\n",
    "\n",
    "c = 100+ 200 \\\n",
    "    +300 + 400 \\\n",
    "    - 500\n",
    "print(c)"
   ]
  },
  {
   "cell_type": "code",
   "execution_count": 28,
   "id": "39cbb779",
   "metadata": {},
   "outputs": [
    {
     "name": "stdout",
     "output_type": "stream",
     "text": [
      "[100, 200, 300, 400, 500]\n"
     ]
    }
   ],
   "source": [
    "a = [\n",
    "    100,\n",
    "    200,\n",
    "    300,\n",
    "    400,\n",
    "    500\n",
    "]\n",
    "print(a)"
   ]
  },
  {
   "cell_type": "code",
   "execution_count": 48,
   "id": "24b4a5f4",
   "metadata": {},
   "outputs": [
    {
     "name": "stdout",
     "output_type": "stream",
     "text": [
      "30\n"
     ]
    }
   ],
   "source": [
    "a = 10 + 20   #single line statement\n",
    "print(a)"
   ]
  },
  {
   "cell_type": "code",
   "execution_count": 17,
   "id": "f5cbf1bd",
   "metadata": {},
   "outputs": [
    {
     "name": "stdout",
     "output_type": "stream",
     "text": [
      "1460\n"
     ]
    }
   ],
   "source": [
    "a = 10 + 200 + 300 \\  #multiline statement\n",
    "    +400 + 500 \\\n",
    "    + 50\n",
    "    \n",
    "print(a)"
   ]
  },
  {
   "cell_type": "markdown",
   "id": "58f60c26",
   "metadata": {},
   "source": [
    "### Indentation"
   ]
  },
  {
   "cell_type": "code",
   "execution_count": 29,
   "id": "fc2e1e75",
   "metadata": {},
   "outputs": [
    {
     "name": "stdout",
     "output_type": "stream",
     "text": [
      "yes\n"
     ]
    }
   ],
   "source": [
    "a = 10\n",
    "if a == 10:\n",
    "    print(\"yes\")"
   ]
  },
  {
   "cell_type": "code",
   "execution_count": 30,
   "id": "66795a0f",
   "metadata": {},
   "outputs": [
    {
     "ename": "IndentationError",
     "evalue": "expected an indented block after 'if' statement on line 2 (1277752560.py, line 3)",
     "output_type": "error",
     "traceback": [
      "\u001b[1;36m  Cell \u001b[1;32mIn[30], line 3\u001b[1;36m\u001b[0m\n\u001b[1;33m    print(\"yes\")\u001b[0m\n\u001b[1;37m    ^\u001b[0m\n\u001b[1;31mIndentationError\u001b[0m\u001b[1;31m:\u001b[0m expected an indented block after 'if' statement on line 2\n"
     ]
    }
   ],
   "source": [
    "a = 10\n",
    "if a == 10:\n",
    "print(\"yes\")"
   ]
  },
  {
   "cell_type": "code",
   "execution_count": 31,
   "id": "9da091e5",
   "metadata": {},
   "outputs": [
    {
     "name": "stdout",
     "output_type": "stream",
     "text": [
      "0\n",
      "1\n",
      "2\n",
      "3\n",
      "4\n",
      "5\n"
     ]
    }
   ],
   "source": [
    "for i in range(0,6):\n",
    "    print(i)"
   ]
  },
  {
   "cell_type": "code",
   "execution_count": 32,
   "id": "67556280",
   "metadata": {},
   "outputs": [
    {
     "ename": "IndentationError",
     "evalue": "expected an indented block after 'for' statement on line 1 (3666779265.py, line 2)",
     "output_type": "error",
     "traceback": [
      "\u001b[1;36m  Cell \u001b[1;32mIn[32], line 2\u001b[1;36m\u001b[0m\n\u001b[1;33m    print(i)\u001b[0m\n\u001b[1;37m    ^\u001b[0m\n\u001b[1;31mIndentationError\u001b[0m\u001b[1;31m:\u001b[0m expected an indented block after 'for' statement on line 1\n"
     ]
    }
   ],
   "source": [
    "for i in range(0,6):\n",
    "print(i)"
   ]
  },
  {
   "cell_type": "code",
   "execution_count": 33,
   "id": "519d63ef",
   "metadata": {},
   "outputs": [
    {
     "name": "stdout",
     "output_type": "stream",
     "text": [
      "0\n",
      "1\n",
      "2\n",
      "3\n",
      "4\n",
      "5\n"
     ]
    }
   ],
   "source": [
    "for i in range(0,6):print(i)"
   ]
  },
  {
   "cell_type": "code",
   "execution_count": 34,
   "id": "ff33a57c",
   "metadata": {},
   "outputs": [
    {
     "name": "stdout",
     "output_type": "stream",
     "text": [
      "0\n",
      "1\n",
      "2\n",
      "3\n",
      "4\n",
      "100\n"
     ]
    }
   ],
   "source": [
    "i = 100\n",
    "for j in range(0,5):\n",
    "    print(j)\n",
    "print(i)"
   ]
  },
  {
   "cell_type": "markdown",
   "id": "3fa9e2a9",
   "metadata": {},
   "source": [
    "### Docstrings"
   ]
  },
  {
   "cell_type": "code",
   "execution_count": 37,
   "id": "6f5935ec",
   "metadata": {},
   "outputs": [],
   "source": [
    "def func(num):\n",
    "    \"\"\"This function defines about the square of any number\"\"\"\n",
    "    return num ** 2"
   ]
  },
  {
   "cell_type": "code",
   "execution_count": 38,
   "id": "dc047cc2",
   "metadata": {},
   "outputs": [
    {
     "data": {
      "text/plain": [
       "100"
      ]
     },
     "execution_count": 38,
     "metadata": {},
     "output_type": "execute_result"
    }
   ],
   "source": [
    "func(10)"
   ]
  },
  {
   "cell_type": "code",
   "execution_count": 39,
   "id": "1c997ba2",
   "metadata": {},
   "outputs": [
    {
     "data": {
      "text/plain": [
       "'This function defines about the square of any number'"
      ]
     },
     "execution_count": 39,
     "metadata": {},
     "output_type": "execute_result"
    }
   ],
   "source": [
    "func.__doc__"
   ]
  },
  {
   "cell_type": "code",
   "execution_count": 42,
   "id": "2e548841",
   "metadata": {},
   "outputs": [],
   "source": [
    "def evenodd(num):\n",
    "    \"\"\" This function defines whether the given number is odd or even\"\"\"\n",
    "    if num % 2 == 0:\n",
    "        return \"even\"\n",
    "    else:\n",
    "        return \"odd\""
   ]
  },
  {
   "cell_type": "code",
   "execution_count": 43,
   "id": "c834bb4c",
   "metadata": {},
   "outputs": [
    {
     "data": {
      "text/plain": [
       "'even'"
      ]
     },
     "execution_count": 43,
     "metadata": {},
     "output_type": "execute_result"
    }
   ],
   "source": [
    "evenodd(100)"
   ]
  },
  {
   "cell_type": "code",
   "execution_count": 44,
   "id": "05c8f537",
   "metadata": {},
   "outputs": [
    {
     "data": {
      "text/plain": [
       "' This function defines whether the given number is odd or even'"
      ]
     },
     "execution_count": 44,
     "metadata": {},
     "output_type": "execute_result"
    }
   ],
   "source": [
    "evenodd.__doc__"
   ]
  },
  {
   "cell_type": "code",
   "execution_count": 1,
   "id": "7861c37f",
   "metadata": {},
   "outputs": [],
   "source": [
    "def summ(a,b):\n",
    "    \"\"\"This function returns the multiplication of two numbers\"\"\"\n",
    "    return a* b"
   ]
  },
  {
   "cell_type": "code",
   "execution_count": 2,
   "id": "0b1976e1",
   "metadata": {},
   "outputs": [
    {
     "data": {
      "text/plain": [
       "'This function returns the multiplication of two numbers'"
      ]
     },
     "execution_count": 2,
     "metadata": {},
     "output_type": "execute_result"
    }
   ],
   "source": [
    "summ.__doc__"
   ]
  },
  {
   "cell_type": "code",
   "execution_count": 49,
   "id": "60ab34e4",
   "metadata": {},
   "outputs": [],
   "source": [
    "def add(a,b,c):\n",
    "    \"\"\"This function helps to find the sum of three numbers!\"\"\"\n",
    "    return a+b+c"
   ]
  },
  {
   "cell_type": "code",
   "execution_count": 50,
   "id": "b4040d12",
   "metadata": {},
   "outputs": [
    {
     "data": {
      "text/plain": [
       "'This function helps to find the sum of three numbers!'"
      ]
     },
     "execution_count": 50,
     "metadata": {},
     "output_type": "execute_result"
    }
   ],
   "source": [
    "add.__doc__"
   ]
  },
  {
   "cell_type": "code",
   "execution_count": 26,
   "id": "b1064f2a",
   "metadata": {},
   "outputs": [
    {
     "name": "stdout",
     "output_type": "stream",
     "text": [
      "0\n",
      "10\n",
      "20\n",
      "30\n",
      "40\n",
      "50\n",
      "60\n",
      "70\n",
      "80\n",
      "90\n"
     ]
    }
   ],
   "source": [
    "def mul(a):\n",
    "    \"\"\"This function is used to multiple any number with 10\"\"\"\n",
    "    for i in range(10):\n",
    "        print(a * i)\n",
    "mul(10)"
   ]
  },
  {
   "cell_type": "code",
   "execution_count": 27,
   "id": "131c1482",
   "metadata": {},
   "outputs": [
    {
     "data": {
      "text/plain": [
       "'This function is used to multiple any number with 10'"
      ]
     },
     "execution_count": 27,
     "metadata": {},
     "output_type": "execute_result"
    }
   ],
   "source": [
    "mul.__doc__"
   ]
  },
  {
   "cell_type": "markdown",
   "id": "3343367e",
   "metadata": {},
   "source": [
    "### Variables"
   ]
  },
  {
   "cell_type": "code",
   "execution_count": 15,
   "id": "cc81f2ca",
   "metadata": {},
   "outputs": [],
   "source": [
    "x = 5\n",
    "_y = 10   # variable name must start with letter or underscore"
   ]
  },
  {
   "cell_type": "code",
   "execution_count": 17,
   "id": "aca17a20",
   "metadata": {},
   "outputs": [
    {
     "ename": "SyntaxError",
     "evalue": "invalid decimal literal (3427678658.py, line 1)",
     "output_type": "error",
     "traceback": [
      "\u001b[1;36m  Cell \u001b[1;32mIn[17], line 1\u001b[1;36m\u001b[0m\n\u001b[1;33m    5Var = 10  # Variable name cannot start with a number\u001b[0m\n\u001b[1;37m    ^\u001b[0m\n\u001b[1;31mSyntaxError\u001b[0m\u001b[1;31m:\u001b[0m invalid decimal literal\n"
     ]
    }
   ],
   "source": [
    "5Var = 10  # Variable name cannot start with a number"
   ]
  },
  {
   "cell_type": "code",
   "execution_count": 18,
   "id": "26c3f500",
   "metadata": {},
   "outputs": [],
   "source": [
    "x5_ = 200 # Variable name can only contain alpha-numeric and underscore"
   ]
  },
  {
   "cell_type": "code",
   "execution_count": 19,
   "id": "3aa0c81a",
   "metadata": {},
   "outputs": [
    {
     "name": "stdout",
     "output_type": "stream",
     "text": [
      "10\n",
      "20\n",
      "30\n"
     ]
    }
   ],
   "source": [
    "Age = 10     # Variable names are case sensitive (age,Age and AGE are different)\n",
    "age = 20\n",
    "AGE = 30\n",
    "print(Age)\n",
    "print(age)\n",
    "print(AGE)"
   ]
  },
  {
   "cell_type": "code",
   "execution_count": 23,
   "id": "79aef7b2",
   "metadata": {},
   "outputs": [
    {
     "ename": "SyntaxError",
     "evalue": "invalid syntax (67605554.py, line 1)",
     "output_type": "error",
     "traceback": [
      "\u001b[1;36m  Cell \u001b[1;32mIn[23], line 1\u001b[1;36m\u001b[0m\n\u001b[1;33m    import = 500   # Inbuild keywords cannot be used as variable names\u001b[0m\n\u001b[1;37m           ^\u001b[0m\n\u001b[1;31mSyntaxError\u001b[0m\u001b[1;31m:\u001b[0m invalid syntax\n"
     ]
    }
   ],
   "source": [
    "import = 500   # Inbuild keywords cannot be used as variable names"
   ]
  },
  {
   "cell_type": "code",
   "execution_count": 24,
   "id": "b1b977b6",
   "metadata": {},
   "outputs": [
    {
     "ename": "SyntaxError",
     "evalue": "invalid syntax (1033139178.py, line 1)",
     "output_type": "error",
     "traceback": [
      "\u001b[1;36m  Cell \u001b[1;32mIn[24], line 1\u001b[1;36m\u001b[0m\n\u001b[1;33m    while = 2000\u001b[0m\n\u001b[1;37m          ^\u001b[0m\n\u001b[1;31mSyntaxError\u001b[0m\u001b[1;31m:\u001b[0m invalid syntax\n"
     ]
    }
   ],
   "source": [
    "while = 2000"
   ]
  },
  {
   "cell_type": "code",
   "execution_count": 26,
   "id": "71dccc6b",
   "metadata": {},
   "outputs": [
    {
     "name": "stdout",
     "output_type": "stream",
     "text": [
      "\n",
      "Here is a list of the Python keywords.  Enter any keyword to get more help.\n",
      "\n",
      "False               class               from                or\n",
      "None                continue            global              pass\n",
      "True                def                 if                  raise\n",
      "and                 del                 import              return\n",
      "as                  elif                in                  try\n",
      "assert              else                is                  while\n",
      "async               except              lambda              with\n",
      "await               finally             nonlocal            yield\n",
      "break               for                 not                 \n",
      "\n"
     ]
    }
   ],
   "source": [
    "help(\"keywords\")"
   ]
  },
  {
   "cell_type": "code",
   "execution_count": 51,
   "id": "0dc5c34e",
   "metadata": {},
   "outputs": [
    {
     "ename": "SyntaxError",
     "evalue": "cannot assign to False (2778140312.py, line 1)",
     "output_type": "error",
     "traceback": [
      "\u001b[1;36m  Cell \u001b[1;32mIn[51], line 1\u001b[1;36m\u001b[0m\n\u001b[1;33m    False = 2000\u001b[0m\n\u001b[1;37m    ^\u001b[0m\n\u001b[1;31mSyntaxError\u001b[0m\u001b[1;31m:\u001b[0m cannot assign to False\n"
     ]
    }
   ],
   "source": [
    "False = 2000"
   ]
  },
  {
   "cell_type": "code",
   "execution_count": 45,
   "id": "c95eda64",
   "metadata": {},
   "outputs": [],
   "source": [
    "apple = 10"
   ]
  },
  {
   "cell_type": "code",
   "execution_count": 46,
   "id": "6f9a96d4",
   "metadata": {},
   "outputs": [],
   "source": [
    "_apple = 100"
   ]
  },
  {
   "cell_type": "code",
   "execution_count": 47,
   "id": "024318c9",
   "metadata": {},
   "outputs": [],
   "source": [
    "apple10 = 1000"
   ]
  },
  {
   "cell_type": "code",
   "execution_count": 48,
   "id": "575e615e",
   "metadata": {},
   "outputs": [],
   "source": [
    "apple_100 = 50"
   ]
  },
  {
   "cell_type": "code",
   "execution_count": 49,
   "id": "4577c7c3",
   "metadata": {},
   "outputs": [
    {
     "ename": "SyntaxError",
     "evalue": "invalid syntax. Maybe you meant '==' or ':=' instead of '='? (4188267714.py, line 1)",
     "output_type": "error",
     "traceback": [
      "\u001b[1;36m  Cell \u001b[1;32mIn[49], line 1\u001b[1;36m\u001b[0m\n\u001b[1;33m    @apple = 10\u001b[0m\n\u001b[1;37m     ^\u001b[0m\n\u001b[1;31mSyntaxError\u001b[0m\u001b[1;31m:\u001b[0m invalid syntax. Maybe you meant '==' or ':=' instead of '='?\n"
     ]
    }
   ],
   "source": [
    "@apple = 10"
   ]
  },
  {
   "cell_type": "code",
   "execution_count": 50,
   "id": "26bd5374",
   "metadata": {},
   "outputs": [
    {
     "ename": "SyntaxError",
     "evalue": "invalid decimal literal (457444281.py, line 1)",
     "output_type": "error",
     "traceback": [
      "\u001b[1;36m  Cell \u001b[1;32mIn[50], line 1\u001b[1;36m\u001b[0m\n\u001b[1;33m    10apple = 90\u001b[0m\n\u001b[1;37m     ^\u001b[0m\n\u001b[1;31mSyntaxError\u001b[0m\u001b[1;31m:\u001b[0m invalid decimal literal\n"
     ]
    }
   ],
   "source": [
    "10apple = 90"
   ]
  },
  {
   "cell_type": "code",
   "execution_count": 51,
   "id": "a1f28a63",
   "metadata": {},
   "outputs": [
    {
     "ename": "SyntaxError",
     "evalue": "invalid syntax (1743968721.py, line 1)",
     "output_type": "error",
     "traceback": [
      "\u001b[1;36m  Cell \u001b[1;32mIn[51], line 1\u001b[1;36m\u001b[0m\n\u001b[1;33m    apple 2 = 10\u001b[0m\n\u001b[1;37m          ^\u001b[0m\n\u001b[1;31mSyntaxError\u001b[0m\u001b[1;31m:\u001b[0m invalid syntax\n"
     ]
    }
   ],
   "source": [
    "apple 2 = 10"
   ]
  },
  {
   "cell_type": "code",
   "execution_count": 52,
   "id": "05ab4573",
   "metadata": {},
   "outputs": [
    {
     "ename": "SyntaxError",
     "evalue": "cannot assign to expression here. Maybe you meant '==' instead of '='? (817543973.py, line 1)",
     "output_type": "error",
     "traceback": [
      "\u001b[1;36m  Cell \u001b[1;32mIn[52], line 1\u001b[1;36m\u001b[0m\n\u001b[1;33m    -apple = 10\u001b[0m\n\u001b[1;37m    ^\u001b[0m\n\u001b[1;31mSyntaxError\u001b[0m\u001b[1;31m:\u001b[0m cannot assign to expression here. Maybe you meant '==' instead of '='?\n"
     ]
    }
   ],
   "source": [
    "-apple = 10"
   ]
  },
  {
   "cell_type": "code",
   "execution_count": 53,
   "id": "6704b3ce",
   "metadata": {},
   "outputs": [],
   "source": [
    "apple,mango,orange = 10,20,30   #multi assignment"
   ]
  },
  {
   "cell_type": "code",
   "execution_count": 54,
   "id": "8e48c331",
   "metadata": {},
   "outputs": [
    {
     "name": "stdout",
     "output_type": "stream",
     "text": [
      "10\n"
     ]
    }
   ],
   "source": [
    "print(apple)"
   ]
  },
  {
   "cell_type": "code",
   "execution_count": 55,
   "id": "7fdecc6f",
   "metadata": {},
   "outputs": [
    {
     "name": "stdout",
     "output_type": "stream",
     "text": [
      "20\n"
     ]
    }
   ],
   "source": [
    "print(mango)"
   ]
  },
  {
   "cell_type": "code",
   "execution_count": 56,
   "id": "f4d2ed5c",
   "metadata": {},
   "outputs": [
    {
     "name": "stdout",
     "output_type": "stream",
     "text": [
      "30\n"
     ]
    }
   ],
   "source": [
    "print(orange)"
   ]
  },
  {
   "cell_type": "code",
   "execution_count": 57,
   "id": "d5db4a7f",
   "metadata": {},
   "outputs": [
    {
     "ename": "ValueError",
     "evalue": "too many values to unpack (expected 3)",
     "output_type": "error",
     "traceback": [
      "\u001b[1;31m---------------------------------------------------------------------------\u001b[0m",
      "\u001b[1;31mValueError\u001b[0m                                Traceback (most recent call last)",
      "Cell \u001b[1;32mIn[57], line 1\u001b[0m\n\u001b[1;32m----> 1\u001b[0m apple,mango,orange \u001b[38;5;241m=\u001b[39m \u001b[38;5;241m100\u001b[39m,\u001b[38;5;241m200\u001b[39m,\u001b[38;5;241m300\u001b[39m,\u001b[38;5;241m400\u001b[39m\n",
      "\u001b[1;31mValueError\u001b[0m: too many values to unpack (expected 3)"
     ]
    }
   ],
   "source": [
    "apple,mango,orange = 100,200,300,400    "
   ]
  },
  {
   "cell_type": "code",
   "execution_count": 58,
   "id": "ccf4c4bb",
   "metadata": {},
   "outputs": [
    {
     "ename": "ValueError",
     "evalue": "not enough values to unpack (expected 4, got 3)",
     "output_type": "error",
     "traceback": [
      "\u001b[1;31m---------------------------------------------------------------------------\u001b[0m",
      "\u001b[1;31mValueError\u001b[0m                                Traceback (most recent call last)",
      "Cell \u001b[1;32mIn[58], line 1\u001b[0m\n\u001b[1;32m----> 1\u001b[0m apple,mango,orange,grapes \u001b[38;5;241m=\u001b[39m \u001b[38;5;241m10\u001b[39m,\u001b[38;5;241m20\u001b[39m,\u001b[38;5;241m30\u001b[39m\n",
      "\u001b[1;31mValueError\u001b[0m: not enough values to unpack (expected 4, got 3)"
     ]
    }
   ],
   "source": [
    "apple,mango,orange,grapes = 10,20,30"
   ]
  },
  {
   "cell_type": "code",
   "execution_count": 59,
   "id": "0943f306",
   "metadata": {},
   "outputs": [
    {
     "name": "stdout",
     "output_type": "stream",
     "text": [
      "140709273051752\n"
     ]
    }
   ],
   "source": [
    "a = 123\n",
    "print(id(a))"
   ]
  },
  {
   "cell_type": "code",
   "execution_count": 4,
   "id": "fa5a6a6c",
   "metadata": {},
   "outputs": [
    {
     "name": "stdout",
     "output_type": "stream",
     "text": [
      "2871592709488\n",
      "0x29c98436d70\n"
     ]
    }
   ],
   "source": [
    "c = 1000\n",
    "print(id(c))\n",
    "print(hex(id(c)))"
   ]
  },
  {
   "cell_type": "code",
   "execution_count": 61,
   "id": "8b95fd76",
   "metadata": {},
   "outputs": [
    {
     "data": {
      "text/plain": [
       "'0x7ff96e3ca268'"
      ]
     },
     "execution_count": 61,
     "metadata": {},
     "output_type": "execute_result"
    }
   ],
   "source": [
    "hex(id(a))  #memory address of the variable"
   ]
  },
  {
   "cell_type": "code",
   "execution_count": 62,
   "id": "83728492",
   "metadata": {},
   "outputs": [
    {
     "name": "stdout",
     "output_type": "stream",
     "text": [
      "140709273048136\n",
      "140709273048136\n",
      "0x7ff96e3c9448\n",
      "0x7ff96e3c9448\n"
     ]
    }
   ],
   "source": [
    "x = 10\n",
    "y = 10\n",
    "print(id(x))\n",
    "print(id(y))\n",
    "print(hex(id(x)))\n",
    "print(hex(id(y)))"
   ]
  },
  {
   "cell_type": "code",
   "execution_count": 63,
   "id": "2df75c1f",
   "metadata": {},
   "outputs": [
    {
     "name": "stdout",
     "output_type": "stream",
     "text": [
      "0x7ff96e3c9588 20\n",
      "0x7ff96e3c96c8 30\n",
      "0x7ff96e3c9808 40\n"
     ]
    }
   ],
   "source": [
    "g = 20\n",
    "h = 30\n",
    "u = 40\n",
    "print(hex(id(g)),int(g))\n",
    "print(hex(id(h)),int(h))\n",
    "print(hex(id(u)),int(u))"
   ]
  },
  {
   "cell_type": "code",
   "execution_count": 64,
   "id": "416d1f12",
   "metadata": {},
   "outputs": [],
   "source": [
    "a1 = a2 = a3 = a4 = 40"
   ]
  },
  {
   "cell_type": "code",
   "execution_count": 65,
   "id": "f0490611",
   "metadata": {},
   "outputs": [
    {
     "name": "stdout",
     "output_type": "stream",
     "text": [
      "40\n",
      "40\n"
     ]
    }
   ],
   "source": [
    "print(a1)\n",
    "print(a2)"
   ]
  },
  {
   "cell_type": "markdown",
   "id": "fbd3c879",
   "metadata": {},
   "source": [
    "### Print function"
   ]
  },
  {
   "cell_type": "code",
   "execution_count": 66,
   "id": "a7b63a85",
   "metadata": {},
   "outputs": [
    {
     "name": "stdout",
     "output_type": "stream",
     "text": [
      "Hello world\n"
     ]
    }
   ],
   "source": [
    "print(\"Hello world\")"
   ]
  },
  {
   "cell_type": "code",
   "execution_count": 67,
   "id": "8a5b0001",
   "metadata": {},
   "outputs": [
    {
     "name": "stdout",
     "output_type": "stream",
     "text": [
      "10\n"
     ]
    }
   ],
   "source": [
    "print(20-10)"
   ]
  },
  {
   "cell_type": "code",
   "execution_count": 69,
   "id": "8ad94224",
   "metadata": {},
   "outputs": [
    {
     "name": "stdout",
     "output_type": "stream",
     "text": [
      "6\n"
     ]
    }
   ],
   "source": [
    "print(len(\"ABCDFR\"))"
   ]
  },
  {
   "cell_type": "code",
   "execution_count": 13,
   "id": "12e66c6f",
   "metadata": {},
   "outputs": [
    {
     "name": "stdout",
     "output_type": "stream",
     "text": [
      "The value of 'a' is 10\n"
     ]
    }
   ],
   "source": [
    "a = 10\n",
    "print(f\"The value of 'a' is {a}\")"
   ]
  },
  {
   "cell_type": "code",
   "execution_count": 14,
   "id": "428c014c",
   "metadata": {},
   "outputs": [
    {
     "name": "stdout",
     "output_type": "stream",
     "text": [
      "The value of a is  10\n"
     ]
    }
   ],
   "source": [
    "print(\"The value of a is \",a)"
   ]
  },
  {
   "cell_type": "code",
   "execution_count": 38,
   "id": "bc6d37c7",
   "metadata": {},
   "outputs": [
    {
     "name": "stdout",
     "output_type": "stream",
     "text": [
      "100 200 300\n"
     ]
    }
   ],
   "source": [
    "# printing multiple values\n",
    "\n",
    "x = 100\n",
    "y = 200\n",
    "z = 300\n",
    "print(x,y,z)"
   ]
  },
  {
   "cell_type": "code",
   "execution_count": 41,
   "id": "83449d5a",
   "metadata": {},
   "outputs": [
    {
     "name": "stdout",
     "output_type": "stream",
     "text": [
      "Haripriya Harini Sathish 21 20 27 5.5 5.4 6.0\n"
     ]
    }
   ],
   "source": [
    "print(\"Haripriya\",\"Harini\",\"Sathish\",21,20,27,5.5,5.4,6.0) # in this output,there is a space by default which is separating each value"
   ]
  },
  {
   "cell_type": "code",
   "execution_count": 42,
   "id": "20cbe51a",
   "metadata": {},
   "outputs": [
    {
     "name": "stdout",
     "output_type": "stream",
     "text": [
      "Hello 5\n",
      "Hola 4\n"
     ]
    }
   ],
   "source": [
    "print(\"Hello\",5)\n",
    "print(\"Hola\",4)     # By default there is a separator \\n which makes the second statement in next line"
   ]
  },
  {
   "cell_type": "code",
   "execution_count": 43,
   "id": "3936cc0e",
   "metadata": {},
   "outputs": [],
   "source": [
    "print?"
   ]
  },
  {
   "cell_type": "code",
   "execution_count": 44,
   "id": "ebe96f86",
   "metadata": {},
   "outputs": [],
   "source": [
    "# Changing from by default to user value"
   ]
  },
  {
   "cell_type": "code",
   "execution_count": 45,
   "id": "d5a0cac9",
   "metadata": {},
   "outputs": [
    {
     "name": "stdout",
     "output_type": "stream",
     "text": [
      "Haripriya,Harini,Sathish,21,20,27,5.5,5.4,6.0\n"
     ]
    }
   ],
   "source": [
    "print(\"Haripriya\",\"Harini\",\"Sathish\",21,20,27,5.5,5.4,6.0,sep = \",\")"
   ]
  },
  {
   "cell_type": "code",
   "execution_count": 49,
   "id": "c0135fe1",
   "metadata": {},
   "outputs": [
    {
     "name": "stdout",
     "output_type": "stream",
     "text": [
      "Haripriya->Harini->Sathish->21->20->27->5.5->5.4->6.0\n"
     ]
    }
   ],
   "source": [
    "print(\"Haripriya\",\"Harini\",\"Sathish\",21,20,27,5.5,5.4,6.0,sep = \"->\")"
   ]
  },
  {
   "cell_type": "code",
   "execution_count": 50,
   "id": "db00e7a7",
   "metadata": {},
   "outputs": [
    {
     "name": "stdout",
     "output_type": "stream",
     "text": [
      "Haripriya\n",
      "Harini\n",
      "Sathish\n",
      "21\n",
      "20\n",
      "27\n",
      "5.5\n",
      "5.4\n",
      "6.0\n"
     ]
    }
   ],
   "source": [
    "print(\"Haripriya\",\"Harini\",\"Sathish\",21,20,27,5.5,5.4,6.0,sep = \"\\n\")"
   ]
  },
  {
   "cell_type": "code",
   "execution_count": 51,
   "id": "856de5b3",
   "metadata": {},
   "outputs": [
    {
     "name": "stdout",
     "output_type": "stream",
     "text": [
      "Haripriya 21,Sathish kumar 27\n"
     ]
    }
   ],
   "source": [
    "print(\"Haripriya\",21,end = \",\")\n",
    "print(\"Sathish kumar\",27)"
   ]
  },
  {
   "cell_type": "code",
   "execution_count": 52,
   "id": "f565cf35",
   "metadata": {},
   "outputs": [
    {
     "name": "stdout",
     "output_type": "stream",
     "text": [
      "Haripriya 21\n",
      "Sathish kumar 27\n"
     ]
    }
   ],
   "source": [
    "print(\"Haripriya\",21,end = \"\\n\")\n",
    "print(\"Sathish kumar\",27)"
   ]
  },
  {
   "cell_type": "code",
   "execution_count": 53,
   "id": "090dfa04",
   "metadata": {},
   "outputs": [
    {
     "name": "stdout",
     "output_type": "stream",
     "text": [
      "Haripriya 21 Sathish kumar 27\n"
     ]
    }
   ],
   "source": [
    "# Changing Default value of separator\n",
    "\n",
    "print(\"Haripriya\",21,end = \" \")\n",
    "print(\"Sathish kumar\",27)"
   ]
  },
  {
   "cell_type": "code",
   "execution_count": 54,
   "id": "12c39da6",
   "metadata": {},
   "outputs": [
    {
     "name": "stdout",
     "output_type": "stream",
     "text": [
      "Haripriya 21->Sathish kumar 27\n"
     ]
    }
   ],
   "source": [
    "print(\"Haripriya\",21,end = \"->\")\n",
    "print(\"Sathish kumar\",27)"
   ]
  },
  {
   "cell_type": "code",
   "execution_count": 55,
   "id": "ca844865",
   "metadata": {},
   "outputs": [
    {
     "name": "stdout",
     "output_type": "stream",
     "text": [
      "Haripriya\n",
      "21->Sathish kumar 27\n"
     ]
    }
   ],
   "source": [
    "print(\"Haripriya\",21,sep = \"\\n\",end = \"->\")\n",
    "print(\"Sathish kumar\",27)"
   ]
  },
  {
   "cell_type": "code",
   "execution_count": 57,
   "id": "89beeb11",
   "metadata": {},
   "outputs": [
    {
     "name": "stdout",
     "output_type": "stream",
     "text": [
      "Karunakaran 55\n",
      "Suganthi 50\n",
      "-------------------\n",
      "Karunakaran*55\n",
      "Suganthi*50\n",
      "----------------------------\n",
      "Karunakaran 55#Suganthi 50\n",
      "Karunakaran 55\n",
      "Suganthi 50\n"
     ]
    }
   ],
   "source": [
    "# Separator is for separating each value in print function\n",
    "# end is for separator each line of value\n",
    "\n",
    "print(\"Karunakaran\",55)\n",
    "print(\"Suganthi\",50)\n",
    "\n",
    "print(\"-------------------\")\n",
    "\n",
    "print(\"Karunakaran\",55,sep = \"*\")\n",
    "print(\"Suganthi\",50,sep = \"*\")\n",
    "\n",
    "print(\"----------------------------\")\n",
    "\n",
    "print(\"Karunakaran\",55,end = \"#\")\n",
    "print(\"Suganthi\",50)\n",
    "\n",
    "print(\"Karunakaran\",55,end = \"\\n\")\n",
    "print(\"Suganthi\",50)"
   ]
  },
  {
   "cell_type": "code",
   "execution_count": 54,
   "id": "fd4a30d7",
   "metadata": {},
   "outputs": [
    {
     "name": "stdout",
     "output_type": "stream",
     "text": [
      "Harini 21#Sathishkumar 27\n"
     ]
    }
   ],
   "source": [
    "print(\"Harini\",21,end=\"#\")\n",
    "print(\"Sathishkumar\",27)"
   ]
  },
  {
   "cell_type": "code",
   "execution_count": 58,
   "id": "e87fb7a5",
   "metadata": {},
   "outputs": [
    {
     "name": "stdout",
     "output_type": "stream",
     "text": [
      "Harini\n",
      "21\n",
      "Sathishkumar\n",
      "27\n"
     ]
    }
   ],
   "source": [
    "print(\"Harini\",21,sep =\"\\n\")\n",
    "print(\"Sathishkumar\",27,sep =\"\\n\")"
   ]
  },
  {
   "cell_type": "markdown",
   "id": "94fd27d6",
   "metadata": {},
   "source": [
    "### User input function"
   ]
  },
  {
   "cell_type": "code",
   "execution_count": 74,
   "id": "bc8790be",
   "metadata": {},
   "outputs": [
    {
     "name": "stdout",
     "output_type": "stream",
     "text": [
      "Enter number: 10\n"
     ]
    }
   ],
   "source": [
    "num = int(input(\"Enter number: \"))"
   ]
  },
  {
   "cell_type": "code",
   "execution_count": 75,
   "id": "63efe70e",
   "metadata": {},
   "outputs": [
    {
     "name": "stdout",
     "output_type": "stream",
     "text": [
      "Enter number: 2.14\n"
     ]
    }
   ],
   "source": [
    "num1 = float(input(\"Enter number: \"))"
   ]
  },
  {
   "cell_type": "code",
   "execution_count": 76,
   "id": "427721a0",
   "metadata": {},
   "outputs": [
    {
     "name": "stdout",
     "output_type": "stream",
     "text": [
      "Enter word: fghjk\n"
     ]
    }
   ],
   "source": [
    "letter = input(\"Enter word: \")"
   ]
  },
  {
   "cell_type": "code",
   "execution_count": 78,
   "id": "e8488c95",
   "metadata": {},
   "outputs": [
    {
     "name": "stdout",
     "output_type": "stream",
     "text": [
      "Enter number: 1 2 3 4\n",
      "['1', '2', '3', '4']\n"
     ]
    }
   ],
   "source": [
    "l = input(\"Enter number: \").split()\n",
    "print(l)"
   ]
  },
  {
   "cell_type": "code",
   "execution_count": 32,
   "id": "9fff98ba",
   "metadata": {},
   "outputs": [
    {
     "name": "stdout",
     "output_type": "stream",
     "text": [
      "Hari\n"
     ]
    }
   ],
   "source": [
    "user_input = input()"
   ]
  },
  {
   "cell_type": "code",
   "execution_count": 34,
   "id": "1fc23ed2",
   "metadata": {},
   "outputs": [
    {
     "name": "stdout",
     "output_type": "stream",
     "text": [
      "Hari <class 'str'>\n"
     ]
    }
   ],
   "source": [
    "print(user_input ,type(user_input))   # string as input"
   ]
  },
  {
   "cell_type": "code",
   "execution_count": 35,
   "id": "fa8d2afa",
   "metadata": {},
   "outputs": [
    {
     "name": "stdout",
     "output_type": "stream",
     "text": [
      "100\n",
      "100 <class 'int'>\n"
     ]
    }
   ],
   "source": [
    "number = int(input())\n",
    "print(number,type(number))   #integer as input"
   ]
  },
  {
   "cell_type": "code",
   "execution_count": 36,
   "id": "95fa16ed",
   "metadata": {},
   "outputs": [
    {
     "name": "stdout",
     "output_type": "stream",
     "text": [
      "2.4\n",
      "2.4 <class 'float'>\n"
     ]
    }
   ],
   "source": [
    "float_num = float(input())\n",
    "print(float_num,type(float_num))  #float as input"
   ]
  },
  {
   "cell_type": "markdown",
   "id": "5a5ea72a",
   "metadata": {},
   "source": [
    "### Data types"
   ]
  },
  {
   "cell_type": "code",
   "execution_count": 58,
   "id": "44df53b0",
   "metadata": {},
   "outputs": [
    {
     "name": "stdout",
     "output_type": "stream",
     "text": [
      "<class 'int'>\n"
     ]
    }
   ],
   "source": [
    "# Integers - All whole numbers including positive,zero and negative numbers\n",
    "\n",
    "a = 10\n",
    "print(type(a))"
   ]
  },
  {
   "cell_type": "code",
   "execution_count": 60,
   "id": "20b8f0f1",
   "metadata": {},
   "outputs": [
    {
     "name": "stdout",
     "output_type": "stream",
     "text": [
      "<class 'int'>\n"
     ]
    }
   ],
   "source": [
    "a1 = -10\n",
    "print(type(a1))"
   ]
  },
  {
   "cell_type": "code",
   "execution_count": 61,
   "id": "6d927ab5",
   "metadata": {},
   "outputs": [
    {
     "name": "stdout",
     "output_type": "stream",
     "text": [
      "<class 'int'>\n"
     ]
    }
   ],
   "source": [
    "a2 = 0\n",
    "print(type(a2))"
   ]
  },
  {
   "cell_type": "code",
   "execution_count": 59,
   "id": "e84a67a1",
   "metadata": {},
   "outputs": [
    {
     "name": "stdout",
     "output_type": "stream",
     "text": [
      "<class 'complex'>\n"
     ]
    }
   ],
   "source": [
    "# Complex - Real and imaginary number\n",
    "\n",
    "b = 2 + 4j\n",
    "print(type(b))"
   ]
  },
  {
   "cell_type": "code",
   "execution_count": 62,
   "id": "8bdd5847",
   "metadata": {},
   "outputs": [
    {
     "data": {
      "text/plain": [
       "2.0"
      ]
     },
     "execution_count": 62,
     "metadata": {},
     "output_type": "execute_result"
    }
   ],
   "source": [
    "b.real"
   ]
  },
  {
   "cell_type": "code",
   "execution_count": 63,
   "id": "0bfb490f",
   "metadata": {},
   "outputs": [
    {
     "data": {
      "text/plain": [
       "4.0"
      ]
     },
     "execution_count": 63,
     "metadata": {},
     "output_type": "execute_result"
    }
   ],
   "source": [
    "b.imag"
   ]
  },
  {
   "cell_type": "code",
   "execution_count": 64,
   "id": "f7c24f43",
   "metadata": {},
   "outputs": [
    {
     "name": "stdout",
     "output_type": "stream",
     "text": [
      "<class 'float'>\n"
     ]
    }
   ],
   "source": [
    "# float\n",
    "\n",
    "c = 10.5\n",
    "print(type(c))"
   ]
  },
  {
   "cell_type": "code",
   "execution_count": 65,
   "id": "b81dfa2d",
   "metadata": {},
   "outputs": [
    {
     "name": "stdout",
     "output_type": "stream",
     "text": [
      "<class 'str'>\n"
     ]
    }
   ],
   "source": [
    "# string\n",
    "\n",
    "d = \"Haripriya\"\n",
    "print(type(d))"
   ]
  },
  {
   "cell_type": "code",
   "execution_count": 66,
   "id": "1b2128ea",
   "metadata": {},
   "outputs": [
    {
     "name": "stdout",
     "output_type": "stream",
     "text": [
      "<class 'str'>\n"
     ]
    }
   ],
   "source": [
    "d1 = \"20.5\"\n",
    "print(type(d1))"
   ]
  },
  {
   "cell_type": "code",
   "execution_count": 67,
   "id": "62e00447",
   "metadata": {},
   "outputs": [
    {
     "name": "stdout",
     "output_type": "stream",
     "text": [
      "<class 'str'>\n"
     ]
    }
   ],
   "source": [
    "d2 = \"2+5j\"\n",
    "print(type(d2))"
   ]
  },
  {
   "cell_type": "code",
   "execution_count": 68,
   "id": "5400ff6c",
   "metadata": {},
   "outputs": [
    {
     "name": "stdout",
     "output_type": "stream",
     "text": [
      "<class 'str'>\n"
     ]
    }
   ],
   "source": [
    "d3 = 'Harini'   #string either single quotes or double quotes or triple quotees\n",
    "print(type(d3))"
   ]
  },
  {
   "cell_type": "code",
   "execution_count": 69,
   "id": "d82c19ac",
   "metadata": {},
   "outputs": [
    {
     "name": "stdout",
     "output_type": "stream",
     "text": [
      "<class 'bool'>\n"
     ]
    }
   ],
   "source": [
    "# Boolean\n",
    "\n",
    "e = True\n",
    "print(type(e))"
   ]
  },
  {
   "cell_type": "code",
   "execution_count": 71,
   "id": "c6c3528c",
   "metadata": {},
   "outputs": [
    {
     "name": "stdout",
     "output_type": "stream",
     "text": [
      "<class 'bool'>\n"
     ]
    }
   ],
   "source": [
    "e1 = False\n",
    "print(type(e1))"
   ]
  },
  {
   "cell_type": "code",
   "execution_count": 72,
   "id": "d05a479d",
   "metadata": {},
   "outputs": [
    {
     "ename": "NameError",
     "evalue": "name 'true' is not defined",
     "output_type": "error",
     "traceback": [
      "\u001b[1;31m---------------------------------------------------------------------------\u001b[0m",
      "\u001b[1;31mNameError\u001b[0m                                 Traceback (most recent call last)",
      "Cell \u001b[1;32mIn[72], line 1\u001b[0m\n\u001b[1;32m----> 1\u001b[0m e2 \u001b[38;5;241m=\u001b[39m true\n\u001b[0;32m      2\u001b[0m \u001b[38;5;28mprint\u001b[39m(e2)\n",
      "\u001b[1;31mNameError\u001b[0m: name 'true' is not defined"
     ]
    }
   ],
   "source": [
    "e2 = true   # not true its True\n",
    "print(e2)"
   ]
  },
  {
   "cell_type": "code",
   "execution_count": 75,
   "id": "9765b434",
   "metadata": {},
   "outputs": [
    {
     "name": "stdout",
     "output_type": "stream",
     "text": [
      "<class 'NoneType'>\n"
     ]
    }
   ],
   "source": [
    "# Nonetype  - Which represents the absence of value(NoneType is the type for the None object, which is an object that indicates no value)\n",
    "\n",
    "f = None\n",
    "print(type(f))"
   ]
  },
  {
   "cell_type": "code",
   "execution_count": 76,
   "id": "c708fa4e",
   "metadata": {},
   "outputs": [
    {
     "name": "stdout",
     "output_type": "stream",
     "text": [
      "1\n",
      "2\n",
      "3\n"
     ]
    }
   ],
   "source": [
    "my_tuple = (1, 2, 3)\n",
    "a, b, c = my_tuple\n",
    "print(a)  # Output: 1\n",
    "print(b)  # Output: 2\n",
    "print(c)  # Output: 3"
   ]
  },
  {
   "cell_type": "code",
   "execution_count": 77,
   "id": "e16c1519",
   "metadata": {},
   "outputs": [
    {
     "name": "stdout",
     "output_type": "stream",
     "text": [
      "INTEGER\n",
      "10 <class 'int'>\n",
      "-10 <class 'int'>\n",
      "0 <class 'int'>\n",
      "--------------------------\n",
      "FLOAT\n",
      "-10 2 <class 'float'>\n",
      "20.5 <class 'float'>\n",
      "--------------------------\n",
      "STRING\n",
      "Harini@01 <class 'str'>\n",
      "100 <class 'str'>\n",
      "-10.5 <class 'str'>\n",
      "--------------------------\n",
      "BOOLEAN\n",
      "True <class 'bool'>\n",
      "False <class 'bool'>\n",
      "--------------------------\n",
      "COMPLEX\n",
      "(2+3j) <class 'complex'>\n",
      "--------------------------\n",
      "NONETYPE\n",
      "None <class 'NoneType'>\n"
     ]
    }
   ],
   "source": [
    "print(\"INTEGER\")\n",
    "print(10,type(10))\n",
    "print(-10,type(-10))\n",
    "print(0,type(0))\n",
    "print(\"--------------------------\")\n",
    "print(\"FLOAT\")\n",
    "print(-10,2,type(-10.2))\n",
    "print(20.5,type(20.5))\n",
    "print(\"--------------------------\")\n",
    "print(\"STRING\")\n",
    "print(\"Harini@01\",type(\"Harini@01\"))\n",
    "print(\"100\",type(\"100\"))\n",
    "print(\"-10.5\",type(\"-10.5\"))\n",
    "print(\"--------------------------\")\n",
    "print(\"BOOLEAN\")\n",
    "print(True,type(True))\n",
    "print(False,type(False))\n",
    "print(\"--------------------------\")\n",
    "print(\"COMPLEX\")\n",
    "print(2+3j,type(2+3j))\n",
    "print(\"--------------------------\")\n",
    "print(\"NONETYPE\")\n",
    "print(None,type(None))"
   ]
  },
  {
   "cell_type": "code",
   "execution_count": 83,
   "id": "1bee37c1",
   "metadata": {},
   "outputs": [
    {
     "name": "stdout",
     "output_type": "stream",
     "text": [
      "sys.int_info(bits_per_digit=30, sizeof_digit=4, default_max_str_digits=4300, str_digits_check_threshold=640)\n"
     ]
    }
   ],
   "source": [
    "# to know the information about integer and float\n",
    "\n",
    "import sys\n",
    "print(sys.int_info)"
   ]
  },
  {
   "cell_type": "code",
   "execution_count": 85,
   "id": "23826cc3",
   "metadata": {},
   "outputs": [
    {
     "name": "stdout",
     "output_type": "stream",
     "text": [
      "sys.float_info(max=1.7976931348623157e+308, max_exp=1024, max_10_exp=308, min=2.2250738585072014e-308, min_exp=-1021, min_10_exp=-307, dig=15, mant_dig=53, epsilon=2.220446049250313e-16, radix=2, rounds=1)\n"
     ]
    }
   ],
   "source": [
    "print(sys.float_info)"
   ]
  },
  {
   "cell_type": "code",
   "execution_count": 2,
   "id": "4930c9e0",
   "metadata": {},
   "outputs": [
    {
     "name": "stdout",
     "output_type": "stream",
     "text": [
      "28\n",
      "24\n",
      "28\n",
      "59\n"
     ]
    }
   ],
   "source": [
    "# To know the size of datatype(value) in bytes\n",
    "\n",
    "import sys\n",
    "val = 10\n",
    "val1 = 1.12\n",
    "val2 = 1001\n",
    "val3 = \"12Str23489\"\n",
    "print(sys.getsizeof(val))\n",
    "print(sys.getsizeof(val1))\n",
    "print(sys.getsizeof(val2))\n",
    "print(sys.getsizeof(val3))"
   ]
  },
  {
   "cell_type": "code",
   "execution_count": 3,
   "id": "a6fd3093",
   "metadata": {},
   "outputs": [
    {
     "name": "stdout",
     "output_type": "stream",
     "text": [
      "<class 'int'> 28 True\n",
      "--------------------------------------------\n",
      "<class 'float'> 24 True\n",
      "--------------------------------------------\n",
      "<class 'str'> 58 True\n",
      "--------------------------------------------\n",
      "<class 'complex'> 32 True\n",
      "--------------------------------------------\n",
      "<class 'bool'> 28 True\n"
     ]
    }
   ],
   "source": [
    "s1 = 200\n",
    "print(type(s1),sys.getsizeof(s1),isinstance(s1,int))\n",
    "print(\"--------------------------------------------\")\n",
    "s2 = 3.14\n",
    "print(type(s2),sys.getsizeof(s2),isinstance(s2,float))\n",
    "print(\"--------------------------------------------\")\n",
    "s3 = \"Haripriya\"\n",
    "print(type(s3),sys.getsizeof(s3),isinstance(s3,str))\n",
    "print(\"--------------------------------------------\")\n",
    "s4 = 3+4j\n",
    "print(type(s4),sys.getsizeof(s4),isinstance(s4,complex))\n",
    "print(\"--------------------------------------------\")\n",
    "s5 = True\n",
    "print(type(s5),sys.getsizeof(s5),isinstance(s5,bool))\n",
    "\n",
    "\n",
    "# Type() function will help to find the type of data\n",
    "# getsizeof() will help to find the size of datatype in bytes\n",
    "# isinstance() helps to check whether the given value is int/float/str/complex/bool in terms of true or false"
   ]
  },
  {
   "cell_type": "markdown",
   "id": "173b420d",
   "metadata": {},
   "source": [
    "### Type casting or type conversion"
   ]
  },
  {
   "cell_type": "code",
   "execution_count": 6,
   "id": "fc22dada",
   "metadata": {},
   "outputs": [
    {
     "name": "stdout",
     "output_type": "stream",
     "text": [
      "<class 'int'>\n",
      "<class 'float'>\n",
      "153.14 <class 'float'>\n"
     ]
    }
   ],
   "source": [
    "# There are two types of type casting:Implicit and explicit casting\n",
    "\"\"\"\n",
    "Implicit casting - : In implicit type casting, the python compiler internally\n",
    "typecasts one variable into another type without the external action of the user\n",
    "\"\"\"\n",
    "var1 = 150\n",
    "var2 = 3.14\n",
    "ans = var1+var2\n",
    "print(type(var1))\n",
    "print(type(var2))\n",
    "print(ans,type(ans))"
   ]
  },
  {
   "cell_type": "code",
   "execution_count": 14,
   "id": "05c0e5aa",
   "metadata": {},
   "outputs": [
    {
     "name": "stdout",
     "output_type": "stream",
     "text": [
      "10 <class 'str'>\n",
      "12.9 <class 'str'>\n",
      "103.0 <class 'float'>\n",
      "12 <class 'int'>\n",
      "1 <class 'int'>\n"
     ]
    }
   ],
   "source": [
    "\"\"\"\n",
    "In explicit type casting, the user explicitly forces the\n",
    "compiler to convert a variable from one type to another\n",
    "1.Integer to string\n",
    "2.Float to string\n",
    "3.Integer to float\n",
    "4.Float to integer\n",
    "5.Bool to integer\n",
    "\"\"\"\n",
    "\n",
    "#integer to string\n",
    "num1 = 10\n",
    "str1 = str(num1)\n",
    "print(str1,type(str1))\n",
    "\n",
    "#float to string\n",
    "float1 = 12.90\n",
    "str2 = str(float1)\n",
    "print(str2,type(str2))\n",
    "\n",
    "#Integer to float\n",
    "num2 = 103\n",
    "float2 = float(num2)\n",
    "print(float2,type(float2))\n",
    "\n",
    "#Float to integer\n",
    "float3 = 12.90\n",
    "num3 = int(float3)\n",
    "print(num3,type(num3))\n",
    "\n",
    "#bool to integr\n",
    "bool1 = True\n",
    "num4 = int(bool1)\n",
    "print(num4,type(num4))"
   ]
  },
  {
   "cell_type": "code",
   "execution_count": 15,
   "id": "8e257f9a",
   "metadata": {},
   "outputs": [
    {
     "ename": "ValueError",
     "evalue": "invalid literal for int() with base 10: 'Haripirya'",
     "output_type": "error",
     "traceback": [
      "\u001b[1;31m---------------------------------------------------------------------------\u001b[0m",
      "\u001b[1;31mValueError\u001b[0m                                Traceback (most recent call last)",
      "Cell \u001b[1;32mIn[15], line 4\u001b[0m\n\u001b[0;32m      1\u001b[0m \u001b[38;5;66;03m# string to integer\u001b[39;00m\n\u001b[0;32m      3\u001b[0m a \u001b[38;5;241m=\u001b[39m \u001b[38;5;124m\"\u001b[39m\u001b[38;5;124mHaripirya\u001b[39m\u001b[38;5;124m\"\u001b[39m\n\u001b[1;32m----> 4\u001b[0m \u001b[38;5;28mprint\u001b[39m(\u001b[38;5;28mint\u001b[39m(a))\n",
      "\u001b[1;31mValueError\u001b[0m: invalid literal for int() with base 10: 'Haripirya'"
     ]
    }
   ],
   "source": [
    "# string to integer - impossible\n",
    "\n",
    "a = \"Haripirya\"\n",
    "print(int(a))"
   ]
  },
  {
   "cell_type": "code",
   "execution_count": 16,
   "id": "22950e0b",
   "metadata": {},
   "outputs": [
    {
     "ename": "ValueError",
     "evalue": "could not convert string to float: 'Haripirya'",
     "output_type": "error",
     "traceback": [
      "\u001b[1;31m---------------------------------------------------------------------------\u001b[0m",
      "\u001b[1;31mValueError\u001b[0m                                Traceback (most recent call last)",
      "Cell \u001b[1;32mIn[16], line 4\u001b[0m\n\u001b[0;32m      1\u001b[0m \u001b[38;5;66;03m# string to float\u001b[39;00m\n\u001b[0;32m      3\u001b[0m a \u001b[38;5;241m=\u001b[39m \u001b[38;5;124m\"\u001b[39m\u001b[38;5;124mHaripirya\u001b[39m\u001b[38;5;124m\"\u001b[39m\n\u001b[1;32m----> 4\u001b[0m \u001b[38;5;28mprint\u001b[39m(\u001b[38;5;28mfloat\u001b[39m(a))\n",
      "\u001b[1;31mValueError\u001b[0m: could not convert string to float: 'Haripirya'"
     ]
    }
   ],
   "source": [
    "# string to float - imposssible\n",
    "\n",
    "a = \"Haripirya\"\n",
    "print(float(a))"
   ]
  },
  {
   "cell_type": "code",
   "execution_count": 17,
   "id": "5842e847",
   "metadata": {},
   "outputs": [
    {
     "ename": "TypeError",
     "evalue": "int() argument must be a string, a bytes-like object or a real number, not 'complex'",
     "output_type": "error",
     "traceback": [
      "\u001b[1;31m---------------------------------------------------------------------------\u001b[0m",
      "\u001b[1;31mTypeError\u001b[0m                                 Traceback (most recent call last)",
      "Cell \u001b[1;32mIn[17], line 2\u001b[0m\n\u001b[0;32m      1\u001b[0m b \u001b[38;5;241m=\u001b[39m \u001b[38;5;241m3\u001b[39m\u001b[38;5;241m+\u001b[39m\u001b[38;5;241m2\u001b[39mj\n\u001b[1;32m----> 2\u001b[0m \u001b[38;5;28mprint\u001b[39m(\u001b[38;5;28mint\u001b[39m(b))\n",
      "\u001b[1;31mTypeError\u001b[0m: int() argument must be a string, a bytes-like object or a real number, not 'complex'"
     ]
    }
   ],
   "source": [
    "# Complex to integer - impossible\n",
    "b = 3+2j\n",
    "print(int(b))"
   ]
  },
  {
   "cell_type": "code",
   "execution_count": 18,
   "id": "874ab42a",
   "metadata": {},
   "outputs": [
    {
     "name": "stdout",
     "output_type": "stream",
     "text": [
      "12345\n"
     ]
    }
   ],
   "source": [
    "# string to integer is possible only if the string has number inside\n",
    "\n",
    "num_str = \"12345\"\n",
    "print(int(num_str))"
   ]
  },
  {
   "cell_type": "code",
   "execution_count": 19,
   "id": "0e1fa831",
   "metadata": {},
   "outputs": [
    {
     "ename": "ValueError",
     "evalue": "invalid literal for int() with base 10: '12.4'",
     "output_type": "error",
     "traceback": [
      "\u001b[1;31m---------------------------------------------------------------------------\u001b[0m",
      "\u001b[1;31mValueError\u001b[0m                                Traceback (most recent call last)",
      "Cell \u001b[1;32mIn[19], line 2\u001b[0m\n\u001b[0;32m      1\u001b[0m num_float \u001b[38;5;241m=\u001b[39m \u001b[38;5;124m\"\u001b[39m\u001b[38;5;124m12.4\u001b[39m\u001b[38;5;124m\"\u001b[39m\n\u001b[1;32m----> 2\u001b[0m \u001b[38;5;28mprint\u001b[39m(\u001b[38;5;28mint\u001b[39m(num_float))\n",
      "\u001b[1;31mValueError\u001b[0m: invalid literal for int() with base 10: '12.4'"
     ]
    }
   ],
   "source": [
    "num_float = \"12.4\"\n",
    "print(int(num_float))"
   ]
  },
  {
   "cell_type": "code",
   "execution_count": 22,
   "id": "2449c739",
   "metadata": {},
   "outputs": [
    {
     "name": "stdout",
     "output_type": "stream",
     "text": [
      "12\n"
     ]
    }
   ],
   "source": [
    "# string to float is possible only if inside string has float\n",
    "\n",
    "num_float = \"12.4\"\n",
    "print(int(float(num_float)))\n"
   ]
  },
  {
   "cell_type": "markdown",
   "id": "e1dd5698",
   "metadata": {},
   "source": [
    "### Practice questions (udemy)"
   ]
  },
  {
   "cell_type": "markdown",
   "id": "94a000ad",
   "metadata": {},
   "source": [
    "#### Exercise 0\n",
    "```\n",
    "Print the Python version to the console.\n",
    "\n",
    "Expected result:\n",
    "\n",
    "3.8.10\n",
    "```"
   ]
  },
  {
   "cell_type": "code",
   "execution_count": 5,
   "id": "33b8b02d",
   "metadata": {},
   "outputs": [
    {
     "name": "stdout",
     "output_type": "stream",
     "text": [
      "3.11.4 | packaged by Anaconda, Inc. | (main, Jul  5 2023, 13:38:37) [MSC v.1916 64 bit (AMD64)]\n"
     ]
    }
   ],
   "source": [
    "import sys\n",
    "print(sys.version)"
   ]
  },
  {
   "cell_type": "code",
   "execution_count": 6,
   "id": "73c874b9",
   "metadata": {},
   "outputs": [
    {
     "name": "stdout",
     "output_type": "stream",
     "text": [
      "['3.11.4', '|', 'packaged', 'by', 'Anaconda,', 'Inc.', '|', '(main,', 'Jul', '5', '2023,', '13:38:37)', '[MSC', 'v.1916', '64', 'bit', '(AMD64)]']\n"
     ]
    }
   ],
   "source": [
    "print(sys.version.split())"
   ]
  },
  {
   "cell_type": "code",
   "execution_count": 7,
   "id": "906f7c11",
   "metadata": {},
   "outputs": [
    {
     "name": "stdout",
     "output_type": "stream",
     "text": [
      "3.11.4\n"
     ]
    }
   ],
   "source": [
    "# actual program\n",
    "\n",
    "import sys\n",
    "print(sys.version.split()[0])"
   ]
  },
  {
   "cell_type": "markdown",
   "id": "a6d01dfe",
   "metadata": {},
   "source": [
    "#### Exercise 1\n",
    "```\n",
    "Using the print() function, print to the console: 'Learn Python!'\n",
    "```"
   ]
  },
  {
   "cell_type": "code",
   "execution_count": 8,
   "id": "f4bc5929",
   "metadata": {},
   "outputs": [
    {
     "name": "stdout",
     "output_type": "stream",
     "text": [
      "Learn Python!\n"
     ]
    }
   ],
   "source": [
    "print(\"Learn Python!\")"
   ]
  },
  {
   "cell_type": "markdown",
   "id": "5034018e",
   "metadata": {},
   "source": [
    "#### Exercise 2\n",
    "```\n",
    "Assign to the variable age number 20. Using the age variable and the print() function print to the console the following text:\n",
    "\n",
    "I am 20 years old.\n",
    "```"
   ]
  },
  {
   "cell_type": "code",
   "execution_count": 9,
   "id": "0c28ee25",
   "metadata": {},
   "outputs": [
    {
     "name": "stdout",
     "output_type": "stream",
     "text": [
      "I am 20 years old.\n"
     ]
    }
   ],
   "source": [
    "age = 20\n",
    "print(f\"I am {age} years old.\")"
   ]
  },
  {
   "cell_type": "markdown",
   "id": "546f778f",
   "metadata": {},
   "source": [
    "#### Exercise 3\n",
    "```\n",
    "Create two variables (you can freely choose the names) and assign to them following values:\n",
    "\n",
    "'Python'\n",
    "\n",
    "'3.8'\n",
    "\n",
    "Using these variables and the print() function, print to the console the following text:\n",
    "\n",
    "I am learning Python version 3.8\n",
    "```"
   ]
  },
  {
   "cell_type": "code",
   "execution_count": 10,
   "id": "99efc355",
   "metadata": {},
   "outputs": [
    {
     "name": "stdout",
     "output_type": "stream",
     "text": [
      "I am learning Python version 3.8\n"
     ]
    }
   ],
   "source": [
    "language = \"Python\"\n",
    "version = \"3.8\"\n",
    "print(f\"I am learning {language} version {version}\")"
   ]
  },
  {
   "cell_type": "markdown",
   "id": "88f80b44",
   "metadata": {},
   "source": [
    "#### Exercise 4\n",
    "```\n",
    "Assign 199.99 to the price variable and check the solution.\n",
    "\n",
    "Expected result:\n",
    "\n",
    "This costs 199.99\n",
    "```"
   ]
  },
  {
   "cell_type": "code",
   "execution_count": 11,
   "id": "d3028591",
   "metadata": {},
   "outputs": [
    {
     "name": "stdout",
     "output_type": "stream",
     "text": [
      "This costs 199.99\n"
     ]
    }
   ],
   "source": [
    "price = 199.99\n",
    "print(f\"This costs {price}\")"
   ]
  },
  {
   "cell_type": "code",
   "execution_count": 13,
   "id": "f0c64da5",
   "metadata": {},
   "outputs": [
    {
     "name": "stdout",
     "output_type": "stream",
     "text": [
      "This costs 199.99\n"
     ]
    }
   ],
   "source": [
    "price = 199.99\n",
    "print(\"This costs\",price)"
   ]
  },
  {
   "cell_type": "markdown",
   "id": "17b18688",
   "metadata": {},
   "source": [
    "#### Exercise 5\n",
    "```\n",
    "Assign 69.99 to the price variable and check the solution.\n",
    "\n",
    "Expected result:\n",
    "\n",
    "This costs 69.99\n",
    "```"
   ]
  },
  {
   "cell_type": "code",
   "execution_count": 14,
   "id": "271d907d",
   "metadata": {},
   "outputs": [
    {
     "name": "stdout",
     "output_type": "stream",
     "text": [
      "This costs 69.99\n"
     ]
    }
   ],
   "source": [
    "price = 69.99\n",
    "print(\"This costs\",price)"
   ]
  },
  {
   "cell_type": "code",
   "execution_count": 15,
   "id": "d56f25cb",
   "metadata": {},
   "outputs": [
    {
     "name": "stdout",
     "output_type": "stream",
     "text": [
      "This costs 69.99\n"
     ]
    }
   ],
   "source": [
    "price = 69.99\n",
    "print(f\"This costs {price}\")"
   ]
  },
  {
   "cell_type": "code",
   "execution_count": 17,
   "id": "e4fdbfbb",
   "metadata": {},
   "outputs": [
    {
     "name": "stdout",
     "output_type": "stream",
     "text": [
      "This costs 69.99\n"
     ]
    }
   ],
   "source": [
    "price = 69.99\n",
    "print(\"This costs\"+\" \"+ str(price))"
   ]
  },
  {
   "cell_type": "markdown",
   "id": "796281f7",
   "metadata": {},
   "source": [
    "#### Exercise 6\n",
    "```\n",
    "Assign two variables that store the following values:\n",
    "\n",
    "$ 34.99 - product price (float)\n",
    "\n",
    "20 lbs - product weight (int)\n",
    "\n",
    "Using the f-string formatting style print to the console the following message:\n",
    "\n",
    "Price: $34.99. Weight: 20 lbs.\n",
    "```"
   ]
  },
  {
   "cell_type": "code",
   "execution_count": 18,
   "id": "235cd97f",
   "metadata": {},
   "outputs": [
    {
     "name": "stdout",
     "output_type": "stream",
     "text": [
      "Price: $34.99. Weight: 20 lbs.\n"
     ]
    }
   ],
   "source": [
    "product_price = 34.99\n",
    "product_weight = 20\n",
    "print(f\"Price: ${product_price}. Weight: {product_weight} lbs.\")"
   ]
  },
  {
   "cell_type": "markdown",
   "id": "87f86ed3",
   "metadata": {},
   "source": [
    "#### Exercise 7\n",
    "```\n",
    "Below is an approximation of pi:\n",
    "\n",
    "pi = 3.1415926535\n",
    "\n",
    "Using f-string formatting, print the approximation of pi to two decimal places as shown below.\n",
    "\n",
    "Expected result:\n",
    "\n",
    "Pi: 3.14\n",
    "```"
   ]
  },
  {
   "cell_type": "code",
   "execution_count": 28,
   "id": "efc5a75d",
   "metadata": {},
   "outputs": [
    {
     "name": "stdout",
     "output_type": "stream",
     "text": [
      "Pi: 3.14\n"
     ]
    }
   ],
   "source": [
    "pi = 3.1415926535\n",
    "print(f\"Pi: {pi:.2f}\")"
   ]
  },
  {
   "cell_type": "code",
   "execution_count": 31,
   "id": "a173488f",
   "metadata": {},
   "outputs": [
    {
     "name": "stdout",
     "output_type": "stream",
     "text": [
      "Pi: 3.14\n"
     ]
    }
   ],
   "source": [
    "pi = 3.1415926535\n",
    "formatted_pi = \"{:.2f}\".format(pi)\n",
    "print(f\"Pi: {formatted_pi}\")"
   ]
  },
  {
   "cell_type": "markdown",
   "id": "625a1b58",
   "metadata": {},
   "source": [
    "#### Exercise 8\n",
    "```\n",
    "Using three print() function (one line - one function) print the following text:\n",
    "----------------------------------------\n",
    "VERSION: 1.0.1\n",
    "----------------------------------------\n",
    "\n",
    "Tip: The lines consist of 40 dash characters: '-'.\n",
    "```"
   ]
  },
  {
   "cell_type": "code",
   "execution_count": 33,
   "id": "0b578623",
   "metadata": {},
   "outputs": [
    {
     "name": "stdout",
     "output_type": "stream",
     "text": [
      "----------------------------------------\n",
      "VERSION: 1.0.1\n",
      "----------------------------------------\n"
     ]
    }
   ],
   "source": [
    "print(40*\"-\")\n",
    "print(\"VERSION: 1.0.1\")\n",
    "print(40*\"-\")"
   ]
  },
  {
   "cell_type": "markdown",
   "id": "81b31624",
   "metadata": {},
   "source": [
    "#### Exercise 9\n",
    "```\n",
    "Using the four print() function (one line - one function) print the following text:\n",
    "\n",
    "========================================\n",
    "author: johnsmith@sample.com\n",
    "date: 01-01-2021\n",
    "========================================\n",
    "\n",
    "Tip: The lines consist of 40 equal signs: '='.\n",
    "```"
   ]
  },
  {
   "cell_type": "code",
   "execution_count": 34,
   "id": "a435328b",
   "metadata": {},
   "outputs": [
    {
     "name": "stdout",
     "output_type": "stream",
     "text": [
      "========================================\n",
      "author: johnsmith@sample.com\n",
      "date: 01-01-2021\n",
      "========================================\n"
     ]
    }
   ],
   "source": [
    "print(40*\"=\")\n",
    "print(\"author: johnsmith@sample.com\")\n",
    "print(\"date: 01-01-2021\")\n",
    "print(40*\"=\")"
   ]
  },
  {
   "cell_type": "markdown",
   "id": "9efa4c22",
   "metadata": {},
   "source": [
    "#### Exercise 10\n",
    "```\n",
    "Using the print() function and the sep argument set to '#' print the following text:\n",
    "\n",
    "'summer#time#holiday'\n",
    "```"
   ]
  },
  {
   "cell_type": "code",
   "execution_count": 36,
   "id": "a2bb6ba5",
   "metadata": {},
   "outputs": [
    {
     "name": "stdout",
     "output_type": "stream",
     "text": [
      "summer#time#holiday\n",
      "time\n",
      "holiday\n"
     ]
    }
   ],
   "source": [
    "print(\"summer\",\"time\",\"holiday\",sep = \"#\")"
   ]
  },
  {
   "cell_type": "markdown",
   "id": "f8d95eeb",
   "metadata": {},
   "source": [
    "#### Exercise 27\n",
    "```\n",
    "The following variables are given (var1 - empty string, var2 - space, var3 - newline character):\n",
    "\n",
    "var1 = ''\n",
    "var2 = ' '\n",
    "var3 = '\\n'\n",
    "\n",
    "Print each type of variable on a separate line to the console as shown below.\n",
    "\n",
    "Expected result:\n",
    "\n",
    "<class 'str'>\n",
    "<class 'str'>\n",
    "<class 'str'>\n",
    "```"
   ]
  },
  {
   "cell_type": "code",
   "execution_count": 38,
   "id": "23859b8d",
   "metadata": {},
   "outputs": [
    {
     "name": "stdout",
     "output_type": "stream",
     "text": [
      "<class 'str'>\n",
      "<class 'str'>\n",
      "<class 'str'>\n"
     ]
    }
   ],
   "source": [
    "var1 = ''\n",
    "var2 = ' '\n",
    "var3 = '\\n'\n",
    "print(type(var1))\n",
    "print(type(var2))\n",
    "print(type(var3))"
   ]
  },
  {
   "cell_type": "markdown",
   "id": "fbe7f06b",
   "metadata": {},
   "source": [
    "### Exercise 28\n",
    "```\n",
    "The following variables are given:\n",
    "\n",
    "var1 = None\n",
    "var2 = False\n",
    "var3 = 'True'\n",
    "\n",
    "Print each type of variable on a separate line to the console as shown below.\n",
    "\n",
    "Expected result:\n",
    "\n",
    "<class 'NoneType'>\n",
    "<class 'bool'>\n",
    "<class 'str'>\n",
    "```"
   ]
  },
  {
   "cell_type": "code",
   "execution_count": 39,
   "id": "ea86aa5b",
   "metadata": {},
   "outputs": [
    {
     "name": "stdout",
     "output_type": "stream",
     "text": [
      "<class 'NoneType'>\n",
      "<class 'bool'>\n",
      "<class 'str'>\n"
     ]
    }
   ],
   "source": [
    "var1 = None\n",
    "var2 = False\n",
    "var3 = 'True'\n",
    "print(type(var1))\n",
    "print(type(var2))\n",
    "print(type(var3))"
   ]
  },
  {
   "cell_type": "markdown",
   "id": "c8d43ea2",
   "metadata": {},
   "source": [
    "### Exercise 29\n",
    "```\n",
    "Check if the following variable:\n",
    "\n",
    "flag = False\n",
    "\n",
    "is an instance of the bool class and print the result to the console.\n",
    "\n",
    "Expected result:\n",
    "True\n",
    "```"
   ]
  },
  {
   "cell_type": "code",
   "execution_count": 40,
   "id": "a1ecaf7f",
   "metadata": {},
   "outputs": [
    {
     "name": "stdout",
     "output_type": "stream",
     "text": [
      "True\n"
     ]
    }
   ],
   "source": [
    "flag = False\n",
    "print(isinstance(flag,bool))"
   ]
  },
  {
   "cell_type": "code",
   "execution_count": 28,
   "id": "c97f9193",
   "metadata": {},
   "outputs": [
    {
     "name": "stdout",
     "output_type": "stream",
     "text": [
      "False\n"
     ]
    }
   ],
   "source": [
    "flag = 10\n",
    "print(isinstance(flag,float))"
   ]
  },
  {
   "cell_type": "code",
   "execution_count": null,
   "id": "b958798d",
   "metadata": {},
   "outputs": [],
   "source": []
  }
 ],
 "metadata": {
  "kernelspec": {
   "display_name": "Python 3 (ipykernel)",
   "language": "python",
   "name": "python3"
  },
  "language_info": {
   "codemirror_mode": {
    "name": "ipython",
    "version": 3
   },
   "file_extension": ".py",
   "mimetype": "text/x-python",
   "name": "python",
   "nbconvert_exporter": "python",
   "pygments_lexer": "ipython3",
   "version": "3.9.19"
  }
 },
 "nbformat": 4,
 "nbformat_minor": 5
}
