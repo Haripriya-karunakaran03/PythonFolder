{
 "cells": [
  {
   "cell_type": "markdown",
   "id": "e1a0590a",
   "metadata": {},
   "source": [
    "https://www.datacamp.com/tutorial/exception-handling-python"
   ]
  },
  {
   "cell_type": "code",
   "execution_count": 1,
   "id": "9ca138a5",
   "metadata": {},
   "outputs": [
    {
     "name": "stdout",
     "output_type": "stream",
     "text": [
      "0\n"
     ]
    },
    {
     "ename": "ZeroDivisionError",
     "evalue": "division by zero",
     "output_type": "error",
     "traceback": [
      "\u001b[1;31m---------------------------------------------------------------------------\u001b[0m",
      "\u001b[1;31mZeroDivisionError\u001b[0m                         Traceback (most recent call last)",
      "Cell \u001b[1;32mIn[1], line 3\u001b[0m\n\u001b[0;32m      1\u001b[0m a \u001b[38;5;241m=\u001b[39m \u001b[38;5;241m10\u001b[39m\n\u001b[0;32m      2\u001b[0m b \u001b[38;5;241m=\u001b[39m \u001b[38;5;28mint\u001b[39m(\u001b[38;5;28minput\u001b[39m())\n\u001b[1;32m----> 3\u001b[0m c \u001b[38;5;241m=\u001b[39m a\u001b[38;5;241m/\u001b[39mb\n\u001b[0;32m      4\u001b[0m \u001b[38;5;28mprint\u001b[39m(c)\n",
      "\u001b[1;31mZeroDivisionError\u001b[0m: division by zero"
     ]
    }
   ],
   "source": [
    "a = 10\n",
    "b = int(input())\n",
    "c = a/b\n",
    "print(c)"
   ]
  },
  {
   "cell_type": "code",
   "execution_count": 2,
   "id": "5aec7adb",
   "metadata": {},
   "outputs": [
    {
     "name": "stdout",
     "output_type": "stream",
     "text": [
      "5\n",
      "2.0\n"
     ]
    }
   ],
   "source": [
    "a = 10\n",
    "b = int(input())\n",
    "c = a/b\n",
    "print(c)"
   ]
  },
  {
   "cell_type": "code",
   "execution_count": 3,
   "id": "1a4be2a6",
   "metadata": {},
   "outputs": [],
   "source": [
    "f = open(\"testt.txt\",\"w\")"
   ]
  },
  {
   "cell_type": "code",
   "execution_count": 4,
   "id": "b2c10b93",
   "metadata": {},
   "outputs": [
    {
     "ename": "UnsupportedOperation",
     "evalue": "not readable",
     "output_type": "error",
     "traceback": [
      "\u001b[1;31m---------------------------------------------------------------------------\u001b[0m",
      "\u001b[1;31mUnsupportedOperation\u001b[0m                      Traceback (most recent call last)",
      "Cell \u001b[1;32mIn[4], line 1\u001b[0m\n\u001b[1;32m----> 1\u001b[0m f\u001b[38;5;241m.\u001b[39mread()\n",
      "\u001b[1;31mUnsupportedOperation\u001b[0m: not readable"
     ]
    }
   ],
   "source": [
    "f.read()"
   ]
  },
  {
   "cell_type": "code",
   "execution_count": 5,
   "id": "bddf2da2",
   "metadata": {},
   "outputs": [
    {
     "ename": "SyntaxError",
     "evalue": "incomplete input (168817228.py, line 5)",
     "output_type": "error",
     "traceback": [
      "\u001b[1;36m  Cell \u001b[1;32mIn[5], line 5\u001b[1;36m\u001b[0m\n\u001b[1;33m    print(c)\u001b[0m\n\u001b[1;37m            ^\u001b[0m\n\u001b[1;31mSyntaxError\u001b[0m\u001b[1;31m:\u001b[0m incomplete input\n"
     ]
    }
   ],
   "source": [
    "try:\n",
    "    a = 10\n",
    "    b = int(input())\n",
    "    c = a/b\n",
    "    print(c)"
   ]
  },
  {
   "cell_type": "code",
   "execution_count": 6,
   "id": "13f54a6c",
   "metadata": {},
   "outputs": [
    {
     "name": "stdout",
     "output_type": "stream",
     "text": [
      "0\n",
      "There is an error\n"
     ]
    }
   ],
   "source": [
    "try:\n",
    "    a = 10\n",
    "    b = int(input())\n",
    "    c = a/b\n",
    "    print(c)\n",
    "except:\n",
    "    print(\"There is an error\")"
   ]
  },
  {
   "cell_type": "code",
   "execution_count": 7,
   "id": "a4adc247",
   "metadata": {},
   "outputs": [
    {
     "name": "stdout",
     "output_type": "stream",
     "text": [
      "5\n",
      "2.0\n"
     ]
    }
   ],
   "source": [
    "try:\n",
    "    a = 10\n",
    "    b = int(input())\n",
    "    c = a/b\n",
    "    print(c)\n",
    "except:\n",
    "    print(\"There is an error\")"
   ]
  },
  {
   "cell_type": "code",
   "execution_count": 8,
   "id": "9a8398b3",
   "metadata": {},
   "outputs": [
    {
     "ename": "SyntaxError",
     "evalue": "invalid syntax (2244000086.py, line 4)",
     "output_type": "error",
     "traceback": [
      "\u001b[1;36m  Cell \u001b[1;32mIn[8], line 4\u001b[1;36m\u001b[0m\n\u001b[1;33m    for i range(len(l)):\u001b[0m\n\u001b[1;37m          ^\u001b[0m\n\u001b[1;31mSyntaxError\u001b[0m\u001b[1;31m:\u001b[0m invalid syntax\n"
     ]
    }
   ],
   "source": [
    "# it will not handle syntax error\n",
    "\n",
    "l = [5,10,15,20,25]\n",
    "for i range(len(l)):\n",
    "    print(i)"
   ]
  },
  {
   "cell_type": "code",
   "execution_count": 9,
   "id": "dee2b18d",
   "metadata": {},
   "outputs": [
    {
     "ename": "SyntaxError",
     "evalue": "invalid syntax (1741610048.py, line 3)",
     "output_type": "error",
     "traceback": [
      "\u001b[1;36m  Cell \u001b[1;32mIn[9], line 3\u001b[1;36m\u001b[0m\n\u001b[1;33m    for i range(len(l)):\u001b[0m\n\u001b[1;37m          ^\u001b[0m\n\u001b[1;31mSyntaxError\u001b[0m\u001b[1;31m:\u001b[0m invalid syntax\n"
     ]
    }
   ],
   "source": [
    "try:\n",
    "    l = [5,10,15,20,25]\n",
    "    for i range(len(l)):\n",
    "        print(i)\n",
    "except:\n",
    "    print(\"hello\")\n",
    "    "
   ]
  },
  {
   "cell_type": "code",
   "execution_count": 11,
   "id": "3c5f438b",
   "metadata": {},
   "outputs": [
    {
     "name": "stdout",
     "output_type": "stream",
     "text": [
      "0\n",
      "1\n",
      "2\n",
      "3\n",
      "4\n",
      "5\n"
     ]
    }
   ],
   "source": [
    "l = [5,10,15,20,25]\n",
    "for i in range(len(l)+1):\n",
    "    print(i)"
   ]
  },
  {
   "cell_type": "code",
   "execution_count": 12,
   "id": "134ec7fd",
   "metadata": {},
   "outputs": [
    {
     "name": "stdout",
     "output_type": "stream",
     "text": [
      "5\n",
      "10\n",
      "15\n",
      "20\n",
      "25\n"
     ]
    },
    {
     "ename": "IndexError",
     "evalue": "list index out of range",
     "output_type": "error",
     "traceback": [
      "\u001b[1;31m---------------------------------------------------------------------------\u001b[0m",
      "\u001b[1;31mIndexError\u001b[0m                                Traceback (most recent call last)",
      "Cell \u001b[1;32mIn[12], line 3\u001b[0m\n\u001b[0;32m      1\u001b[0m l \u001b[38;5;241m=\u001b[39m [\u001b[38;5;241m5\u001b[39m,\u001b[38;5;241m10\u001b[39m,\u001b[38;5;241m15\u001b[39m,\u001b[38;5;241m20\u001b[39m,\u001b[38;5;241m25\u001b[39m]\n\u001b[0;32m      2\u001b[0m \u001b[38;5;28;01mfor\u001b[39;00m i \u001b[38;5;129;01min\u001b[39;00m \u001b[38;5;28mrange\u001b[39m(\u001b[38;5;28mlen\u001b[39m(l)\u001b[38;5;241m+\u001b[39m\u001b[38;5;241m1\u001b[39m):\n\u001b[1;32m----> 3\u001b[0m     \u001b[38;5;28mprint\u001b[39m(l[i])\n",
      "\u001b[1;31mIndexError\u001b[0m: list index out of range"
     ]
    }
   ],
   "source": [
    "l = [5,10,15,20,25]\n",
    "for i in range(len(l)+1):\n",
    "    print(l[i])"
   ]
  },
  {
   "cell_type": "code",
   "execution_count": 13,
   "id": "8bfabdd6",
   "metadata": {},
   "outputs": [
    {
     "name": "stdout",
     "output_type": "stream",
     "text": [
      "5\n",
      "10\n",
      "15\n",
      "20\n",
      "25\n",
      "This is my code\n"
     ]
    }
   ],
   "source": [
    "try:\n",
    "    l = [5,10,15,20,25]\n",
    "    for i in range(len(l)+1):\n",
    "        print(l[i])\n",
    "except:\n",
    "    print(\"This is my code\")\n",
    "    "
   ]
  },
  {
   "cell_type": "code",
   "execution_count": 15,
   "id": "42e74401",
   "metadata": {},
   "outputs": [
    {
     "name": "stdout",
     "output_type": "stream",
     "text": [
      "5\n",
      "10\n",
      "15\n",
      "20\n",
      "25\n",
      "Error is :  list index out of range\n"
     ]
    }
   ],
   "source": [
    "try:\n",
    "    l = [5,10,15,20,25]\n",
    "    for i in range(len(l)+1):\n",
    "        print(l[i])\n",
    "except Exception as e:\n",
    "    print(\"Error is : \",e)\n",
    "    "
   ]
  },
  {
   "cell_type": "code",
   "execution_count": 16,
   "id": "de7f3502",
   "metadata": {},
   "outputs": [
    {
     "name": "stdout",
     "output_type": "stream",
     "text": [
      "jkl\n",
      "invalid literal for int() with base 10: 'jkl'\n",
      "Hey! this is my code\n"
     ]
    }
   ],
   "source": [
    "try:\n",
    "    a = int(input())\n",
    "    b = int(input())\n",
    "except Exception as e:\n",
    "    print(e)\n",
    "print(\"Hey! this is my code\")"
   ]
  },
  {
   "cell_type": "code",
   "execution_count": 17,
   "id": "b8757293",
   "metadata": {},
   "outputs": [
    {
     "name": "stdout",
     "output_type": "stream",
     "text": [
      "10\n",
      "10\n",
      "Hey! this is my code\n"
     ]
    }
   ],
   "source": [
    "try:\n",
    "    a = int(input())\n",
    "    b = int(input())\n",
    "except Exception as e:\n",
    "    print(e)\n",
    "print(\"Hey! this is my code\")"
   ]
  },
  {
   "cell_type": "code",
   "execution_count": 18,
   "id": "071d7a45",
   "metadata": {},
   "outputs": [
    {
     "ename": "SyntaxError",
     "evalue": "unterminated string literal (detected at line 2) (842561129.py, line 2)",
     "output_type": "error",
     "traceback": [
      "\u001b[1;36m  Cell \u001b[1;32mIn[18], line 2\u001b[1;36m\u001b[0m\n\u001b[1;33m    print(\"hello\u001b[0m\n\u001b[1;37m          ^\u001b[0m\n\u001b[1;31mSyntaxError\u001b[0m\u001b[1;31m:\u001b[0m unterminated string literal (detected at line 2)\n"
     ]
    }
   ],
   "source": [
    "try:\n",
    "    print(\"hello\n",
    "except:\n",
    "    print(\"hjkl\")"
   ]
  },
  {
   "cell_type": "code",
   "execution_count": 19,
   "id": "0c482832",
   "metadata": {},
   "outputs": [
    {
     "name": "stdout",
     "output_type": "stream",
     "text": [
      "gfds\n",
      "Hello world!\n"
     ]
    }
   ],
   "source": [
    "try:\n",
    "    a = int(input())\n",
    "except:\n",
    "    print(\"Hello world!\")"
   ]
  },
  {
   "cell_type": "code",
   "execution_count": 21,
   "id": "312db76d",
   "metadata": {},
   "outputs": [
    {
     "name": "stdout",
     "output_type": "stream",
     "text": [
      "fdsa\n",
      "Hello world! invalid literal for int() with base 10: 'fdsa'\n"
     ]
    }
   ],
   "source": [
    "try:\n",
    "    a = int(input())\n",
    "except Exception as e:\n",
    "    print(\"Hello world!\",e)"
   ]
  },
  {
   "cell_type": "code",
   "execution_count": 22,
   "id": "0b3ee061",
   "metadata": {},
   "outputs": [
    {
     "name": "stdout",
     "output_type": "stream",
     "text": [
      "[Errno 2] No such file or directory: 'testtt.txt'\n",
      "0\n",
      "1\n",
      "2\n",
      "3\n",
      "4\n",
      "5\n",
      "6\n"
     ]
    }
   ],
   "source": [
    "try:\n",
    "    f = open(\"testtt.txt\",\"r\")\n",
    "    f.write(\"hello\")\n",
    "except Exception as e:\n",
    "    print(e)\n",
    "try:\n",
    "    l = [1,2,3,4,5,6]\n",
    "    for i in range(len(l)+1):\n",
    "        print(i)\n",
    "except Exception as e:\n",
    "    print(e)"
   ]
  },
  {
   "cell_type": "code",
   "execution_count": 23,
   "id": "914b5eb6",
   "metadata": {},
   "outputs": [
    {
     "name": "stdout",
     "output_type": "stream",
     "text": [
      "[Errno 2] No such file or directory: 'testtt.txt'\n",
      "1\n",
      "2\n",
      "3\n",
      "4\n",
      "5\n",
      "6\n",
      "list index out of range\n"
     ]
    }
   ],
   "source": [
    "try:\n",
    "    f = open(\"testtt.txt\",\"r\")\n",
    "    f.write(\"hello\")\n",
    "except Exception as e:\n",
    "    print(e)\n",
    "try:\n",
    "    l = [1,2,3,4,5,6]\n",
    "    for i in range(len(l)+1):\n",
    "        print(l[i])\n",
    "except Exception as e:\n",
    "    print(e)"
   ]
  },
  {
   "cell_type": "code",
   "execution_count": 25,
   "id": "746befcf",
   "metadata": {},
   "outputs": [
    {
     "name": "stdout",
     "output_type": "stream",
     "text": [
      "hjfkd\n",
      "This is my error handler\n",
      "My error is :  invalid literal for int() with base 10: 'hjfkd'\n"
     ]
    }
   ],
   "source": [
    "try:\n",
    "    d = {\"key1\":10,\"key2\":20,\"key3\":30}\n",
    "    d[\"key4\"] = int(input())\n",
    "    print(d)\n",
    "except Exception as e:\n",
    "    print(\"This is my error handler\")\n",
    "    print(\"My error is : \",e)"
   ]
  },
  {
   "cell_type": "code",
   "execution_count": 26,
   "id": "031583fd",
   "metadata": {},
   "outputs": [
    {
     "name": "stdout",
     "output_type": "stream",
     "text": [
      "34\n",
      "{'key1': 10, 'key2': 20, 'key3': 30, 'key4': 34}\n"
     ]
    }
   ],
   "source": [
    "try:\n",
    "    d = {\"key1\":10,\"key2\":20,\"key3\":30}\n",
    "    d[\"key4\"] = int(input())\n",
    "    print(d)\n",
    "except Exception as e:\n",
    "    print(\"This is my error handler\")\n",
    "    print(\"My error is : \",e)"
   ]
  },
  {
   "cell_type": "code",
   "execution_count": 27,
   "id": "ae746005",
   "metadata": {},
   "outputs": [
    {
     "name": "stdout",
     "output_type": "stream",
     "text": [
      "dsa\n"
     ]
    },
    {
     "ename": "ValueError",
     "evalue": "invalid literal for int() with base 10: 'dsa'",
     "output_type": "error",
     "traceback": [
      "\u001b[1;31m---------------------------------------------------------------------------\u001b[0m",
      "\u001b[1;31mValueError\u001b[0m                                Traceback (most recent call last)",
      "Cell \u001b[1;32mIn[27], line 2\u001b[0m\n\u001b[0;32m      1\u001b[0m d \u001b[38;5;241m=\u001b[39m {\u001b[38;5;124m\"\u001b[39m\u001b[38;5;124mkey1\u001b[39m\u001b[38;5;124m\"\u001b[39m:\u001b[38;5;241m10\u001b[39m,\u001b[38;5;124m\"\u001b[39m\u001b[38;5;124mkey2\u001b[39m\u001b[38;5;124m\"\u001b[39m:\u001b[38;5;241m20\u001b[39m,\u001b[38;5;124m\"\u001b[39m\u001b[38;5;124mkey3\u001b[39m\u001b[38;5;124m\"\u001b[39m:\u001b[38;5;241m30\u001b[39m}\n\u001b[1;32m----> 2\u001b[0m d[\u001b[38;5;124m\"\u001b[39m\u001b[38;5;124mkey4\u001b[39m\u001b[38;5;124m\"\u001b[39m] \u001b[38;5;241m=\u001b[39m \u001b[38;5;28mint\u001b[39m(\u001b[38;5;28minput\u001b[39m())\n\u001b[0;32m      3\u001b[0m \u001b[38;5;28mprint\u001b[39m(d)\n",
      "\u001b[1;31mValueError\u001b[0m: invalid literal for int() with base 10: 'dsa'"
     ]
    }
   ],
   "source": [
    "d = {\"key1\":10,\"key2\":20,\"key3\":30}\n",
    "d[\"key4\"] = int(input())\n",
    "print(d)"
   ]
  },
  {
   "cell_type": "code",
   "execution_count": 29,
   "id": "d0863747",
   "metadata": {},
   "outputs": [
    {
     "name": "stdout",
     "output_type": "stream",
     "text": [
      "21\n",
      "{'key1': 10, 'key2': 20, 'key3': 30, 'key4': 21}\n"
     ]
    }
   ],
   "source": [
    "try:\n",
    "    d = {\"key1\":10,\"key2\":20,\"key3\":30}\n",
    "    d[\"key4\"] = int(input())\n",
    "    print(d)\n",
    "except ValueError as e:\n",
    "    print(\"This is my error handler\")\n",
    "    print(\"My error is : \",e)"
   ]
  },
  {
   "cell_type": "code",
   "execution_count": 31,
   "id": "45641fa3",
   "metadata": {},
   "outputs": [
    {
     "ename": "FileNotFoundError",
     "evalue": "[Errno 2] No such file or directory: 'testtt1.txt'",
     "output_type": "error",
     "traceback": [
      "\u001b[1;31m---------------------------------------------------------------------------\u001b[0m",
      "\u001b[1;31mFileNotFoundError\u001b[0m                         Traceback (most recent call last)",
      "Cell \u001b[1;32mIn[31], line 1\u001b[0m\n\u001b[1;32m----> 1\u001b[0m f \u001b[38;5;241m=\u001b[39m \u001b[38;5;28mopen\u001b[39m(\u001b[38;5;124m\"\u001b[39m\u001b[38;5;124mtesttt1.txt\u001b[39m\u001b[38;5;124m\"\u001b[39m,\u001b[38;5;124m\"\u001b[39m\u001b[38;5;124mr\u001b[39m\u001b[38;5;124m\"\u001b[39m)\n",
      "File \u001b[1;32m~\\anaconda3\\Lib\\site-packages\\IPython\\core\\interactiveshell.py:284\u001b[0m, in \u001b[0;36m_modified_open\u001b[1;34m(file, *args, **kwargs)\u001b[0m\n\u001b[0;32m    277\u001b[0m \u001b[38;5;28;01mif\u001b[39;00m file \u001b[38;5;129;01min\u001b[39;00m {\u001b[38;5;241m0\u001b[39m, \u001b[38;5;241m1\u001b[39m, \u001b[38;5;241m2\u001b[39m}:\n\u001b[0;32m    278\u001b[0m     \u001b[38;5;28;01mraise\u001b[39;00m \u001b[38;5;167;01mValueError\u001b[39;00m(\n\u001b[0;32m    279\u001b[0m         \u001b[38;5;124mf\u001b[39m\u001b[38;5;124m\"\u001b[39m\u001b[38;5;124mIPython won\u001b[39m\u001b[38;5;124m'\u001b[39m\u001b[38;5;124mt let you open fd=\u001b[39m\u001b[38;5;132;01m{\u001b[39;00mfile\u001b[38;5;132;01m}\u001b[39;00m\u001b[38;5;124m by default \u001b[39m\u001b[38;5;124m\"\u001b[39m\n\u001b[0;32m    280\u001b[0m         \u001b[38;5;124m\"\u001b[39m\u001b[38;5;124mas it is likely to crash IPython. If you know what you are doing, \u001b[39m\u001b[38;5;124m\"\u001b[39m\n\u001b[0;32m    281\u001b[0m         \u001b[38;5;124m\"\u001b[39m\u001b[38;5;124myou can use builtins\u001b[39m\u001b[38;5;124m'\u001b[39m\u001b[38;5;124m open.\u001b[39m\u001b[38;5;124m\"\u001b[39m\n\u001b[0;32m    282\u001b[0m     )\n\u001b[1;32m--> 284\u001b[0m \u001b[38;5;28;01mreturn\u001b[39;00m io_open(file, \u001b[38;5;241m*\u001b[39margs, \u001b[38;5;241m*\u001b[39m\u001b[38;5;241m*\u001b[39mkwargs)\n",
      "\u001b[1;31mFileNotFoundError\u001b[0m: [Errno 2] No such file or directory: 'testtt1.txt'"
     ]
    }
   ],
   "source": [
    "f = open(\"testtt1.txt\",\"r\")"
   ]
  },
  {
   "cell_type": "code",
   "execution_count": 36,
   "id": "45745388",
   "metadata": {},
   "outputs": [
    {
     "name": "stdout",
     "output_type": "stream",
     "text": [
      "34\n",
      "[Errno 2] No such file or directory: 'testttt2.txt'\n",
      "error2-----\n"
     ]
    }
   ],
   "source": [
    "try:\n",
    "    d = {\"key1\":10,\"key2\":20,\"key3\":30}\n",
    "    d[\"key4\"] = int(input())\n",
    "    f = open(\"testttt2.txt\",\"r\")\n",
    "except ValueError as e:\n",
    "    print(\"This is my error handler\")\n",
    "    print(e)\n",
    "    print(\"error1-----\")\n",
    "except FileNotFoundError as f:\n",
    "    print(f)\n",
    "    print(\"error2-----\")"
   ]
  },
  {
   "cell_type": "code",
   "execution_count": 37,
   "id": "cda3b296",
   "metadata": {},
   "outputs": [
    {
     "name": "stdout",
     "output_type": "stream",
     "text": [
      "dsw\n",
      "This is my error handler\n",
      "invalid literal for int() with base 10: 'dsw'\n",
      "error1-----\n"
     ]
    }
   ],
   "source": [
    "try:\n",
    "    d = {\"key1\":10,\"key2\":20,\"key3\":30}\n",
    "    d[\"key4\"] = int(input())\n",
    "    f = open(\"testttt2.txt\",\"r\")\n",
    "except ValueError as e:\n",
    "    print(\"This is my error handler\")\n",
    "    print(e)\n",
    "    print(\"error1-----\")\n",
    "except FileNotFoundError as f:\n",
    "    print(f)\n",
    "    print(\"error2-----\")"
   ]
  },
  {
   "cell_type": "code",
   "execution_count": 38,
   "id": "8c975010",
   "metadata": {},
   "outputs": [
    {
     "name": "stdout",
     "output_type": "stream",
     "text": [
      "Hi! I am Haripriya\n"
     ]
    }
   ],
   "source": [
    "# try except else\n",
    "\n",
    "try:\n",
    "    f = open(\"test33.txt\",\"w\")\n",
    "    f.write(\"helloooooo\")\n",
    "except Exception as e:\n",
    "    print(e)\n",
    "else:\n",
    "    print(\"Hi! I am Haripriya\")"
   ]
  },
  {
   "cell_type": "code",
   "execution_count": 39,
   "id": "9a1dff68",
   "metadata": {},
   "outputs": [
    {
     "name": "stdout",
     "output_type": "stream",
     "text": [
      "not writable\n"
     ]
    }
   ],
   "source": [
    "try:\n",
    "    f = open(\"test33.txt\",\"r\")\n",
    "    f.write(\"helloooooo\")\n",
    "except Exception as e:\n",
    "    print(e)\n",
    "else:\n",
    "    print(\"Hi! I am Haripriya\")"
   ]
  },
  {
   "cell_type": "code",
   "execution_count": 40,
   "id": "a855214c",
   "metadata": {},
   "outputs": [
    {
     "name": "stdout",
     "output_type": "stream",
     "text": [
      "not writable\n",
      "Hi! I am Haripriya\n"
     ]
    }
   ],
   "source": [
    "try:\n",
    "    f = open(\"test33.txt\",\"r\")\n",
    "    f.write(\"helloooooo\")\n",
    "except Exception as e:\n",
    "    print(e)\n",
    "finally:\n",
    "    print(\"Hi! I am Haripriya\")"
   ]
  },
  {
   "cell_type": "code",
   "execution_count": 41,
   "id": "59a3950b",
   "metadata": {},
   "outputs": [
    {
     "name": "stdout",
     "output_type": "stream",
     "text": [
      "Hi! I am Haripriya\n"
     ]
    }
   ],
   "source": [
    "try:\n",
    "    f = open(\"test33.txt\",\"w\")\n",
    "    f.write(\"helloooooo\")\n",
    "except Exception as e:\n",
    "    print(e)\n",
    "finally:\n",
    "    print(\"Hi! I am Haripriya\")"
   ]
  },
  {
   "cell_type": "code",
   "execution_count": 43,
   "id": "766e7692",
   "metadata": {},
   "outputs": [
    {
     "name": "stdout",
     "output_type": "stream",
     "text": [
      "43\n",
      "No Error\n",
      "Congratulations\n"
     ]
    }
   ],
   "source": [
    "try:\n",
    "    a = int(input())\n",
    "except Exception as e:\n",
    "    print(e)\n",
    "else:\n",
    "    print(\"No Error\")\n",
    "finally:\n",
    "    print(\"Congratulations\")"
   ]
  },
  {
   "cell_type": "code",
   "execution_count": 44,
   "id": "22a8bea4",
   "metadata": {},
   "outputs": [
    {
     "name": "stdout",
     "output_type": "stream",
     "text": [
      "fds\n",
      "invalid literal for int() with base 10: 'fds'\n",
      "Congratulations\n"
     ]
    }
   ],
   "source": [
    "try:\n",
    "    a = int(input())\n",
    "except Exception as e:\n",
    "    print(e)\n",
    "else:\n",
    "    print(\"No Error\")\n",
    "finally:\n",
    "    print(\"Congratulations\")"
   ]
  },
  {
   "cell_type": "code",
   "execution_count": 45,
   "id": "c57030b4",
   "metadata": {},
   "outputs": [
    {
     "name": "stdout",
     "output_type": "stream",
     "text": [
      "Helloooo\n",
      "Another world\n",
      "1\n",
      "2\n",
      "3\n",
      "5\n",
      "53\n",
      "1\n",
      "list index out of range\n",
      "congo\n"
     ]
    }
   ],
   "source": [
    "try:\n",
    "    f = open(\"haripriya.txt\",\"w\")\n",
    "    f.write(\"heeye\")\n",
    "except Exception as e:\n",
    "    print(e)\n",
    "else:\n",
    "    print(\"Helloooo\")\n",
    "finally:\n",
    "    print(\"Another world\")\n",
    "    try:\n",
    "        l = [1,2,3,5,53,1]\n",
    "        for i in range(len(l)+1):\n",
    "            print(l[i])\n",
    "    except Exception as e:\n",
    "        print(e)\n",
    "    else:\n",
    "        print(\"hey no error in try block\")\n",
    "    finally:\n",
    "        print(\"congo\")"
   ]
  },
  {
   "cell_type": "code",
   "execution_count": 46,
   "id": "c641d4d7",
   "metadata": {},
   "outputs": [
    {
     "name": "stdout",
     "output_type": "stream",
     "text": [
      "Helloooo\n",
      "Another world\n",
      "0\n",
      "1\n",
      "2\n",
      "3\n",
      "4\n",
      "5\n",
      "6\n",
      "hey no error in try block\n",
      "congo\n"
     ]
    }
   ],
   "source": [
    "try:\n",
    "    f = open(\"haripriya.txt\",\"w\")\n",
    "    f.write(\"heeye\")\n",
    "except Exception as e:\n",
    "    print(e)\n",
    "else:\n",
    "    print(\"Helloooo\")\n",
    "finally:\n",
    "    print(\"Another world\")\n",
    "    try:\n",
    "        l = [1,2,3,5,53,1]\n",
    "        for i in range(len(l)+1):\n",
    "            print(i)\n",
    "    except Exception as e:\n",
    "        print(e)\n",
    "    else:\n",
    "        print(\"hey no error in try block\")\n",
    "    finally:\n",
    "        print(\"congo\")"
   ]
  },
  {
   "cell_type": "code",
   "execution_count": 47,
   "id": "0be16599",
   "metadata": {},
   "outputs": [],
   "source": [
    "def func():\n",
    "    a = int(input())\n",
    "    return a"
   ]
  },
  {
   "cell_type": "code",
   "execution_count": 49,
   "id": "e05fd119",
   "metadata": {},
   "outputs": [
    {
     "name": "stdout",
     "output_type": "stream",
     "text": [
      "haripirya\n"
     ]
    },
    {
     "ename": "ValueError",
     "evalue": "invalid literal for int() with base 10: 'haripirya'",
     "output_type": "error",
     "traceback": [
      "\u001b[1;31m---------------------------------------------------------------------------\u001b[0m",
      "\u001b[1;31mValueError\u001b[0m                                Traceback (most recent call last)",
      "Cell \u001b[1;32mIn[49], line 1\u001b[0m\n\u001b[1;32m----> 1\u001b[0m func()\n",
      "Cell \u001b[1;32mIn[47], line 2\u001b[0m, in \u001b[0;36mfunc\u001b[1;34m()\u001b[0m\n\u001b[0;32m      1\u001b[0m \u001b[38;5;28;01mdef\u001b[39;00m \u001b[38;5;21mfunc\u001b[39m():\n\u001b[1;32m----> 2\u001b[0m     a \u001b[38;5;241m=\u001b[39m \u001b[38;5;28mint\u001b[39m(\u001b[38;5;28minput\u001b[39m())\n\u001b[0;32m      3\u001b[0m     \u001b[38;5;28;01mreturn\u001b[39;00m a\n",
      "\u001b[1;31mValueError\u001b[0m: invalid literal for int() with base 10: 'haripirya'"
     ]
    }
   ],
   "source": [
    "func()"
   ]
  },
  {
   "cell_type": "code",
   "execution_count": 50,
   "id": "62fc2aae",
   "metadata": {},
   "outputs": [],
   "source": [
    "def func():\n",
    "    try:\n",
    "        a = int(input())\n",
    "    except Exception as e:\n",
    "        print(e)"
   ]
  },
  {
   "cell_type": "code",
   "execution_count": 51,
   "id": "e8bb9e29",
   "metadata": {},
   "outputs": [
    {
     "name": "stdout",
     "output_type": "stream",
     "text": [
      "gfds\n",
      "invalid literal for int() with base 10: 'gfds'\n"
     ]
    }
   ],
   "source": [
    "func()"
   ]
  },
  {
   "cell_type": "code",
   "execution_count": 1,
   "id": "66b87f6c",
   "metadata": {},
   "outputs": [
    {
     "ename": "SyntaxError",
     "evalue": "expected ':' (2821153348.py, line 2)",
     "output_type": "error",
     "traceback": [
      "\u001b[1;36m  Cell \u001b[1;32mIn[1], line 2\u001b[1;36m\u001b[0m\n\u001b[1;33m    if a < 2500\u001b[0m\n\u001b[1;37m               ^\u001b[0m\n\u001b[1;31mSyntaxError\u001b[0m\u001b[1;31m:\u001b[0m expected ':'\n"
     ]
    }
   ],
   "source": [
    "a = 10000\n",
    "if a < 2500\n",
    "print(\"Eligible\")"
   ]
  },
  {
   "cell_type": "markdown",
   "id": "45dfa763",
   "metadata": {},
   "source": [
    "```\n",
    "Exceptions: Exceptions are raised when the program is syntactically correct, but the code results in an error.This error does not stop the execution of the program, however, it changes the normal flow of the program.\n",
    "```"
   ]
  },
  {
   "cell_type": "code",
   "execution_count": 2,
   "id": "45624d77",
   "metadata": {},
   "outputs": [
    {
     "name": "stdout",
     "output_type": "stream",
     "text": [
      "0\n"
     ]
    },
    {
     "ename": "ZeroDivisionError",
     "evalue": "division by zero",
     "output_type": "error",
     "traceback": [
      "\u001b[1;31m---------------------------------------------------------------------------\u001b[0m",
      "\u001b[1;31mZeroDivisionError\u001b[0m                         Traceback (most recent call last)",
      "Cell \u001b[1;32mIn[2], line 3\u001b[0m\n\u001b[0;32m      1\u001b[0m a \u001b[38;5;241m=\u001b[39m \u001b[38;5;241m10000\u001b[39m\n\u001b[0;32m      2\u001b[0m b \u001b[38;5;241m=\u001b[39m \u001b[38;5;28mint\u001b[39m(\u001b[38;5;28minput\u001b[39m())\n\u001b[1;32m----> 3\u001b[0m c \u001b[38;5;241m=\u001b[39m a\u001b[38;5;241m/\u001b[39mb\n\u001b[0;32m      4\u001b[0m \u001b[38;5;28mprint\u001b[39m(c)\n",
      "\u001b[1;31mZeroDivisionError\u001b[0m: division by zero"
     ]
    }
   ],
   "source": [
    "a = 10000\n",
    "b = int(input())\n",
    "c = a/b\n",
    "print(c)"
   ]
  },
  {
   "cell_type": "code",
   "execution_count": 3,
   "id": "222962f3",
   "metadata": {},
   "outputs": [
    {
     "ename": "TypeError",
     "evalue": "unsupported operand type(s) for +: 'int' and 'str'",
     "output_type": "error",
     "traceback": [
      "\u001b[1;31m---------------------------------------------------------------------------\u001b[0m",
      "\u001b[1;31mTypeError\u001b[0m                                 Traceback (most recent call last)",
      "Cell \u001b[1;32mIn[3], line 5\u001b[0m\n\u001b[0;32m      3\u001b[0m x \u001b[38;5;241m=\u001b[39m \u001b[38;5;241m5\u001b[39m\n\u001b[0;32m      4\u001b[0m y \u001b[38;5;241m=\u001b[39m \u001b[38;5;124m\"\u001b[39m\u001b[38;5;124mHello\u001b[39m\u001b[38;5;124m\"\u001b[39m\n\u001b[1;32m----> 5\u001b[0m z \u001b[38;5;241m=\u001b[39m x \u001b[38;5;241m+\u001b[39m y\n\u001b[0;32m      6\u001b[0m \u001b[38;5;28mprint\u001b[39m(z)\n",
      "\u001b[1;31mTypeError\u001b[0m: unsupported operand type(s) for +: 'int' and 'str'"
     ]
    }
   ],
   "source": [
    "# type error\n",
    "\n",
    "x = 5\n",
    "y = \"Hello\"\n",
    "z = x + y\n",
    "print(z)"
   ]
  },
  {
   "cell_type": "code",
   "execution_count": 4,
   "id": "f5114780",
   "metadata": {},
   "outputs": [
    {
     "name": "stdout",
     "output_type": "stream",
     "text": [
      "unsupported operand type(s) for +: 'int' and 'str'\n"
     ]
    }
   ],
   "source": [
    "try:\n",
    "    x = 5\n",
    "    y = \"hello\"\n",
    "    z = x + y\n",
    "except Exception as e:\n",
    "    print(e)"
   ]
  },
  {
   "cell_type": "code",
   "execution_count": 14,
   "id": "744336ac",
   "metadata": {},
   "outputs": [
    {
     "name": "stdout",
     "output_type": "stream",
     "text": [
      "Error\n"
     ]
    }
   ],
   "source": [
    "def funcd(b):\n",
    "    a = 10\n",
    "    c = a/b\n",
    "    return c\n",
    "try:\n",
    "    funcd(0)\n",
    "except:\n",
    "    print(\"Error\")"
   ]
  },
  {
   "cell_type": "code",
   "execution_count": 15,
   "id": "1b5daad4",
   "metadata": {},
   "outputs": [
    {
     "ename": "ZeroDivisionError",
     "evalue": "division by zero",
     "output_type": "error",
     "traceback": [
      "\u001b[1;31m---------------------------------------------------------------------------\u001b[0m",
      "\u001b[1;31mZeroDivisionError\u001b[0m                         Traceback (most recent call last)",
      "Cell \u001b[1;32mIn[15], line 1\u001b[0m\n\u001b[1;32m----> 1\u001b[0m funcd(\u001b[38;5;241m0\u001b[39m)\n",
      "Cell \u001b[1;32mIn[14], line 3\u001b[0m, in \u001b[0;36mfuncd\u001b[1;34m(b)\u001b[0m\n\u001b[0;32m      1\u001b[0m \u001b[38;5;28;01mdef\u001b[39;00m \u001b[38;5;21mfuncd\u001b[39m(b):\n\u001b[0;32m      2\u001b[0m     a \u001b[38;5;241m=\u001b[39m \u001b[38;5;241m10\u001b[39m\n\u001b[1;32m----> 3\u001b[0m     c \u001b[38;5;241m=\u001b[39m a\u001b[38;5;241m/\u001b[39mb\n\u001b[0;32m      4\u001b[0m     \u001b[38;5;28;01mreturn\u001b[39;00m c\n",
      "\u001b[1;31mZeroDivisionError\u001b[0m: division by zero"
     ]
    }
   ],
   "source": [
    "funcd(0)"
   ]
  },
  {
   "cell_type": "code",
   "execution_count": 10,
   "id": "f61949aa",
   "metadata": {},
   "outputs": [
    {
     "ename": "ZeroDivisionError",
     "evalue": "division by zero",
     "output_type": "error",
     "traceback": [
      "\u001b[1;31m---------------------------------------------------------------------------\u001b[0m",
      "\u001b[1;31mZeroDivisionError\u001b[0m                         Traceback (most recent call last)",
      "Cell \u001b[1;32mIn[10], line 3\u001b[0m\n\u001b[0;32m      1\u001b[0m a \u001b[38;5;241m=\u001b[39m \u001b[38;5;241m10\u001b[39m\n\u001b[0;32m      2\u001b[0m b \u001b[38;5;241m=\u001b[39m \u001b[38;5;241m0\u001b[39m\n\u001b[1;32m----> 3\u001b[0m c \u001b[38;5;241m=\u001b[39m a\u001b[38;5;241m/\u001b[39mb\n",
      "\u001b[1;31mZeroDivisionError\u001b[0m: division by zero"
     ]
    }
   ],
   "source": [
    "a = 10\n",
    "b = 0\n",
    "c = a/b"
   ]
  },
  {
   "cell_type": "code",
   "execution_count": 16,
   "id": "a773c3ca",
   "metadata": {},
   "outputs": [
    {
     "name": "stdout",
     "output_type": "stream",
     "text": [
      "0\n",
      "division by zero\n"
     ]
    }
   ],
   "source": [
    "try:\n",
    "    a = 10000\n",
    "    b = int(input())\n",
    "    c = a/b\n",
    "except ZeroDivisionError as e:\n",
    "    print(e)"
   ]
  },
  {
   "cell_type": "code",
   "execution_count": 17,
   "id": "9f3bc681",
   "metadata": {},
   "outputs": [
    {
     "name": "stdout",
     "output_type": "stream",
     "text": [
      "10\n",
      "No error in try block :)\n"
     ]
    }
   ],
   "source": [
    "try:\n",
    "    a = 10000\n",
    "    b = int(input())\n",
    "    c = a/b\n",
    "except ZeroDivisionError as e:\n",
    "    print(e)\n",
    "else:\n",
    "    print(\"No error in try block :)\")"
   ]
  },
  {
   "cell_type": "code",
   "execution_count": 18,
   "id": "1a71184b",
   "metadata": {},
   "outputs": [
    {
     "name": "stdout",
     "output_type": "stream",
     "text": [
      "0\n",
      "division by zero\n",
      "This will be executed always\n"
     ]
    }
   ],
   "source": [
    "try:\n",
    "    a = 10000\n",
    "    b = int(input())\n",
    "    c = a/b\n",
    "except ZeroDivisionError as e:\n",
    "    print(e)\n",
    "else:\n",
    "    print(\"No error in try block :)\")\n",
    "finally:\n",
    "    print(\"This will be executed always\")"
   ]
  },
  {
   "cell_type": "code",
   "execution_count": 19,
   "id": "0f000f69",
   "metadata": {},
   "outputs": [
    {
     "name": "stdout",
     "output_type": "stream",
     "text": [
      "10\n",
      "No error in try block :)\n",
      "This will be executed always\n"
     ]
    }
   ],
   "source": [
    "try:\n",
    "    a = 10000\n",
    "    b = int(input())\n",
    "    c = a/b\n",
    "except ZeroDivisionError as e:\n",
    "    print(e)\n",
    "else:\n",
    "    print(\"No error in try block :)\")\n",
    "finally:\n",
    "    print(\"This will be executed always\")"
   ]
  },
  {
   "cell_type": "code",
   "execution_count": 21,
   "id": "4277dcd3",
   "metadata": {},
   "outputs": [
    {
     "name": "stdout",
     "output_type": "stream",
     "text": [
      "Enter number: fgh\n",
      "oops! Error ,  invalid literal for int() with base 10: 'fgh'\n"
     ]
    }
   ],
   "source": [
    "try:\n",
    "    a = int(input(\"Enter number: \"))\n",
    "except Exception as e:\n",
    "    print(\"oops! Error , \",e)"
   ]
  },
  {
   "cell_type": "code",
   "execution_count": 27,
   "id": "7fc4b028",
   "metadata": {},
   "outputs": [
    {
     "name": "stdout",
     "output_type": "stream",
     "text": [
      "fghjk\n",
      "Error\n",
      "sdfrtyui\n",
      "Error\n",
      "'sdftgyu\n",
      "Error\n",
      "'34\n",
      "Error\n",
      "5\n"
     ]
    }
   ],
   "source": [
    "def func3():\n",
    "    flag = True\n",
    "    while flag:\n",
    "        try:\n",
    "            a = int(input())\n",
    "            if type(a) == int:\n",
    "                break\n",
    "                flag = False\n",
    "            if a < 0:\n",
    "                print(\"Oops it is an negative integer!\")\n",
    "        except:\n",
    "            print(\"Error\")\n",
    "func3()"
   ]
  },
  {
   "cell_type": "code",
   "execution_count": 1,
   "id": "28f16199",
   "metadata": {},
   "outputs": [
    {
     "name": "stdout",
     "output_type": "stream",
     "text": [
      "0\n",
      "0\n"
     ]
    },
    {
     "ename": "ZeroDivisionError",
     "evalue": "division by zero",
     "output_type": "error",
     "traceback": [
      "\u001b[1;31m---------------------------------------------------------------------------\u001b[0m",
      "\u001b[1;31mZeroDivisionError\u001b[0m                         Traceback (most recent call last)",
      "Cell \u001b[1;32mIn[1], line 3\u001b[0m\n\u001b[0;32m      1\u001b[0m a \u001b[38;5;241m=\u001b[39m \u001b[38;5;28mint\u001b[39m(\u001b[38;5;28minput\u001b[39m())\n\u001b[0;32m      2\u001b[0m b \u001b[38;5;241m=\u001b[39m \u001b[38;5;28mint\u001b[39m(\u001b[38;5;28minput\u001b[39m())\n\u001b[1;32m----> 3\u001b[0m c \u001b[38;5;241m=\u001b[39m a\u001b[38;5;241m/\u001b[39mb\n\u001b[0;32m      4\u001b[0m \u001b[38;5;28mprint\u001b[39m(c)\n",
      "\u001b[1;31mZeroDivisionError\u001b[0m: division by zero"
     ]
    }
   ],
   "source": [
    "a = int(input())\n",
    "b = int(input())\n",
    "c = a/b\n",
    "print(c)"
   ]
  },
  {
   "cell_type": "code",
   "execution_count": 2,
   "id": "89a8f72e",
   "metadata": {},
   "outputs": [
    {
     "name": "stdout",
     "output_type": "stream",
     "text": [
      "0\n",
      "0\n",
      "division by zero\n"
     ]
    }
   ],
   "source": [
    "try:\n",
    "    a = int(input())\n",
    "    b = int(input())\n",
    "    c = a/b\n",
    "    print(c)\n",
    "except Exception as e:\n",
    "    print(e)"
   ]
  },
  {
   "cell_type": "code",
   "execution_count": 9,
   "id": "81812a9e",
   "metadata": {},
   "outputs": [],
   "source": [
    "f = open(\"HEy.txt\",\"w\")"
   ]
  },
  {
   "cell_type": "code",
   "execution_count": 10,
   "id": "ff365c22",
   "metadata": {},
   "outputs": [
    {
     "ename": "UnsupportedOperation",
     "evalue": "not readable",
     "output_type": "error",
     "traceback": [
      "\u001b[1;31m---------------------------------------------------------------------------\u001b[0m",
      "\u001b[1;31mUnsupportedOperation\u001b[0m                      Traceback (most recent call last)",
      "Cell \u001b[1;32mIn[10], line 1\u001b[0m\n\u001b[1;32m----> 1\u001b[0m f\u001b[38;5;241m.\u001b[39mread()\n",
      "\u001b[1;31mUnsupportedOperation\u001b[0m: not readable"
     ]
    }
   ],
   "source": [
    "f.read()"
   ]
  },
  {
   "cell_type": "code",
   "execution_count": 11,
   "id": "2721f4b8",
   "metadata": {},
   "outputs": [
    {
     "name": "stdout",
     "output_type": "stream",
     "text": [
      "not readable\n"
     ]
    }
   ],
   "source": [
    "try:\n",
    "    f = open(\"hey.txt\",\"w\")\n",
    "    f.read()\n",
    "except Exception as e:\n",
    "    print(e)"
   ]
  },
  {
   "cell_type": "code",
   "execution_count": 13,
   "id": "1480094a",
   "metadata": {},
   "outputs": [
    {
     "name": "stdout",
     "output_type": "stream",
     "text": [
      "congo..No error\n",
      "-------\n"
     ]
    }
   ],
   "source": [
    "try:\n",
    "    f = open(\"hey.txt\",\"w\")\n",
    "    f.write(\"Hello\")\n",
    "except Exception as e:\n",
    "    print(e)\n",
    "else:\n",
    "    print(\"congo..No error\")\n",
    "finally:\n",
    "    print(\"-------\")"
   ]
  },
  {
   "cell_type": "code",
   "execution_count": 2,
   "id": "bc42c4e3",
   "metadata": {},
   "outputs": [
    {
     "name": "stdout",
     "output_type": "stream",
     "text": [
      "5\n",
      "dfghj\n",
      "Yes\n",
      "dfghj\n",
      "Yes\n",
      "fghj\n",
      "Yes\n",
      "ghjk\n",
      "Yes\n",
      "vbhjk\n",
      "Yes\n"
     ]
    }
   ],
   "source": [
    "n = int(input())\n",
    "for i in range(n):\n",
    "    try:\n",
    "        a = int(input())\n",
    "        break\n",
    "    except:\n",
    "        print(\"Yes\")"
   ]
  },
  {
   "cell_type": "code",
   "execution_count": 3,
   "id": "40cc24ac",
   "metadata": {},
   "outputs": [
    {
     "name": "stdout",
     "output_type": "stream",
     "text": [
      "dfg\n",
      "invalid literal for int() with base 10: 'dfg'\n",
      "sdfg\n",
      "invalid literal for int() with base 10: 'sdfg'\n",
      "fgh\n",
      "invalid literal for int() with base 10: 'fgh'\n",
      "vghjkl\n",
      "invalid literal for int() with base 10: 'vghjkl'\n",
      "vbnjk\n",
      "invalid literal for int() with base 10: 'vbnjk'\n",
      "vghjk\n",
      "invalid literal for int() with base 10: 'vghjk'\n",
      "5\n"
     ]
    }
   ],
   "source": [
    "while True:\n",
    "    try:\n",
    "        a = int(input())\n",
    "        break\n",
    "    except Exception as e:\n",
    "        print(e)"
   ]
  },
  {
   "cell_type": "code",
   "execution_count": 5,
   "id": "7a14f9ec",
   "metadata": {},
   "outputs": [],
   "source": [
    "def func():\n",
    "    flag = True\n",
    "    while flag:\n",
    "        try:\n",
    "            a = int(input())\n",
    "            if type(a) == int:\n",
    "                return \"Yes its an integer\"\n",
    "            flag = false\n",
    "        except Exception as e:\n",
    "            print(e)"
   ]
  },
  {
   "cell_type": "code",
   "execution_count": 6,
   "id": "65633acc",
   "metadata": {},
   "outputs": [
    {
     "name": "stdout",
     "output_type": "stream",
     "text": [
      "ghjk\n",
      "invalid literal for int() with base 10: 'ghjk'\n",
      "hgfd\n",
      "invalid literal for int() with base 10: 'hgfd'\n",
      "re\n",
      "invalid literal for int() with base 10: 're'\n",
      "6\n"
     ]
    },
    {
     "data": {
      "text/plain": [
       "'Yes its an integer'"
      ]
     },
     "execution_count": 6,
     "metadata": {},
     "output_type": "execute_result"
    }
   ],
   "source": [
    "func()"
   ]
  },
  {
   "cell_type": "code",
   "execution_count": 7,
   "id": "78d93f14",
   "metadata": {},
   "outputs": [],
   "source": [
    "def intger():\n",
    "    while True:\n",
    "        try:\n",
    "            a = int(input())\n",
    "            break\n",
    "        except Exception as e:\n",
    "            print(e)"
   ]
  },
  {
   "cell_type": "code",
   "execution_count": 8,
   "id": "f885c9c1",
   "metadata": {},
   "outputs": [
    {
     "name": "stdout",
     "output_type": "stream",
     "text": [
      "\n",
      "invalid literal for int() with base 10: ''\n",
      "hgfds\n",
      "invalid literal for int() with base 10: 'hgfds'\n",
      "gfds\n",
      "invalid literal for int() with base 10: 'gfds'\n",
      "5\n"
     ]
    }
   ],
   "source": [
    "\n",
    "intger()"
   ]
  },
  {
   "cell_type": "code",
   "execution_count": 9,
   "id": "9285419d",
   "metadata": {},
   "outputs": [],
   "source": [
    "def func2():\n",
    "    while True:\n",
    "        try:\n",
    "            a = int(input())\n",
    "        except Exception as e:\n",
    "            print(\"Not an integr\")\n",
    "            continue\n",
    "        if a < 0:\n",
    "            print(\"It is not an negative\")\n",
    "            continue\n",
    "        else:\n",
    "            break\n",
    "    return a"
   ]
  },
  {
   "cell_type": "code",
   "execution_count": 10,
   "id": "001a3550",
   "metadata": {},
   "outputs": [
    {
     "name": "stdout",
     "output_type": "stream",
     "text": [
      "bfds\n",
      "Not an integr\n",
      "grf\n",
      "Not an integr\n",
      "hf\n",
      "Not an integr\n",
      "gfdsa4\n",
      "Not an integr\n",
      "-9\n",
      "It is not an negative\n",
      "4\n"
     ]
    },
    {
     "data": {
      "text/plain": [
       "4"
      ]
     },
     "execution_count": 10,
     "metadata": {},
     "output_type": "execute_result"
    }
   ],
   "source": [
    "func2()"
   ]
  },
  {
   "cell_type": "code",
   "execution_count": 18,
   "id": "6c3ec312",
   "metadata": {},
   "outputs": [],
   "source": [
    "def func2():\n",
    "    while True:\n",
    "        try:\n",
    "            a = int(input())\n",
    "        except Exception as e:\n",
    "            print(\"Not an integr\")\n",
    "            continue\n",
    "        if a < 0:\n",
    "            print(\"It is not an negative\")\n",
    "            #continue\n",
    "        else:\n",
    "            break\n",
    "    return a"
   ]
  },
  {
   "cell_type": "code",
   "execution_count": 19,
   "id": "6508e794",
   "metadata": {},
   "outputs": [
    {
     "name": "stdout",
     "output_type": "stream",
     "text": [
      "dfghjk\n",
      "Not an integr\n",
      "dfghjk\n",
      "Not an integr\n",
      "dfghjk\n",
      "Not an integr\n",
      "-8\n",
      "It is not an negative\n",
      "-4\n",
      "It is not an negative\n",
      "gvhjk\n",
      "Not an integr\n",
      "5\n"
     ]
    },
    {
     "data": {
      "text/plain": [
       "5"
      ]
     },
     "execution_count": 19,
     "metadata": {},
     "output_type": "execute_result"
    }
   ],
   "source": [
    "func2()"
   ]
  },
  {
   "cell_type": "code",
   "execution_count": 20,
   "id": "8d20a6e8",
   "metadata": {},
   "outputs": [],
   "source": [
    "def func3():\n",
    "    while True:\n",
    "        try:\n",
    "            a = int(input())\n",
    "            break\n",
    "        except Exception as e:\n",
    "            print(\"Not an integer so continue\")\n",
    "            continue"
   ]
  },
  {
   "cell_type": "code",
   "execution_count": 21,
   "id": "b69b0dc8",
   "metadata": {},
   "outputs": [
    {
     "name": "stdout",
     "output_type": "stream",
     "text": [
      "rew\n",
      "Not an integer so continue\n",
      "rewq\n",
      "Not an integer so continue\n",
      "rewq2\n",
      "Not an integer so continue\n",
      "rewq21\n",
      "Not an integer so continue\n",
      "3\n"
     ]
    }
   ],
   "source": [
    "func3()"
   ]
  },
  {
   "cell_type": "markdown",
   "id": "62c30183",
   "metadata": {},
   "source": [
    "### raise() keyword"
   ]
  },
  {
   "cell_type": "code",
   "execution_count": 24,
   "id": "14b75b9f",
   "metadata": {},
   "outputs": [],
   "source": [
    "def func4(a):\n",
    "    if a < 0:\n",
    "        raise Exception(a)\n",
    "    return a\n",
    "\n",
    "    "
   ]
  },
  {
   "cell_type": "code",
   "execution_count": 25,
   "id": "4b550d62",
   "metadata": {},
   "outputs": [
    {
     "ename": "Exception",
     "evalue": "-2",
     "output_type": "error",
     "traceback": [
      "\u001b[1;31m---------------------------------------------------------------------------\u001b[0m",
      "\u001b[1;31mException\u001b[0m                                 Traceback (most recent call last)",
      "Cell \u001b[1;32mIn[25], line 1\u001b[0m\n\u001b[1;32m----> 1\u001b[0m func4(\u001b[38;5;241m-\u001b[39m\u001b[38;5;241m2\u001b[39m)\n",
      "Cell \u001b[1;32mIn[24], line 3\u001b[0m, in \u001b[0;36mfunc4\u001b[1;34m(a)\u001b[0m\n\u001b[0;32m      1\u001b[0m \u001b[38;5;28;01mdef\u001b[39;00m \u001b[38;5;21mfunc4\u001b[39m(a):\n\u001b[0;32m      2\u001b[0m     \u001b[38;5;28;01mif\u001b[39;00m a \u001b[38;5;241m<\u001b[39m \u001b[38;5;241m0\u001b[39m:\n\u001b[1;32m----> 3\u001b[0m         \u001b[38;5;28;01mraise\u001b[39;00m \u001b[38;5;167;01mException\u001b[39;00m(a)\n\u001b[0;32m      4\u001b[0m     \u001b[38;5;28;01mreturn\u001b[39;00m a\n",
      "\u001b[1;31mException\u001b[0m: -2"
     ]
    }
   ],
   "source": [
    "func4(-2)"
   ]
  },
  {
   "cell_type": "code",
   "execution_count": 42,
   "id": "ac5137d2",
   "metadata": {},
   "outputs": [],
   "source": [
    "def func5():\n",
    "    a = input()\n",
    "    if type(a)!=int:\n",
    "        raise ValueError (\"It is not an integer\")\n",
    "    return a"
   ]
  },
  {
   "cell_type": "code",
   "execution_count": 43,
   "id": "9f4e20d9",
   "metadata": {},
   "outputs": [
    {
     "name": "stdout",
     "output_type": "stream",
     "text": [
      "fghjk\n"
     ]
    },
    {
     "ename": "ValueError",
     "evalue": "It is not an integer",
     "output_type": "error",
     "traceback": [
      "\u001b[1;31m---------------------------------------------------------------------------\u001b[0m",
      "\u001b[1;31mValueError\u001b[0m                                Traceback (most recent call last)",
      "Cell \u001b[1;32mIn[43], line 1\u001b[0m\n\u001b[1;32m----> 1\u001b[0m func5()\n",
      "Cell \u001b[1;32mIn[42], line 4\u001b[0m, in \u001b[0;36mfunc5\u001b[1;34m()\u001b[0m\n\u001b[0;32m      2\u001b[0m a \u001b[38;5;241m=\u001b[39m \u001b[38;5;28minput\u001b[39m()\n\u001b[0;32m      3\u001b[0m \u001b[38;5;28;01mif\u001b[39;00m \u001b[38;5;28mtype\u001b[39m(a)\u001b[38;5;241m!=\u001b[39m\u001b[38;5;28mint\u001b[39m:\n\u001b[1;32m----> 4\u001b[0m     \u001b[38;5;28;01mraise\u001b[39;00m \u001b[38;5;167;01mValueError\u001b[39;00m (\u001b[38;5;124m\"\u001b[39m\u001b[38;5;124mIt is not an integer\u001b[39m\u001b[38;5;124m\"\u001b[39m)\n\u001b[0;32m      5\u001b[0m \u001b[38;5;28;01mreturn\u001b[39;00m a\n",
      "\u001b[1;31mValueError\u001b[0m: It is not an integer"
     ]
    }
   ],
   "source": [
    "func5()"
   ]
  },
  {
   "cell_type": "code",
   "execution_count": 34,
   "id": "335b7221",
   "metadata": {},
   "outputs": [],
   "source": [
    "def test4(a):\n",
    "    if a < 0:\n",
    "        raise ValueError (\"You have entered negative number\")\n",
    "        \n",
    "    return a"
   ]
  },
  {
   "cell_type": "code",
   "execution_count": 36,
   "id": "429f8a61",
   "metadata": {},
   "outputs": [
    {
     "ename": "ValueError",
     "evalue": "You have entered negative number",
     "output_type": "error",
     "traceback": [
      "\u001b[1;31m---------------------------------------------------------------------------\u001b[0m",
      "\u001b[1;31mValueError\u001b[0m                                Traceback (most recent call last)",
      "Cell \u001b[1;32mIn[36], line 1\u001b[0m\n\u001b[1;32m----> 1\u001b[0m test4(\u001b[38;5;241m-\u001b[39m\u001b[38;5;241m2\u001b[39m)\n",
      "Cell \u001b[1;32mIn[34], line 3\u001b[0m, in \u001b[0;36mtest4\u001b[1;34m(a)\u001b[0m\n\u001b[0;32m      1\u001b[0m \u001b[38;5;28;01mdef\u001b[39;00m \u001b[38;5;21mtest4\u001b[39m(a):\n\u001b[0;32m      2\u001b[0m     \u001b[38;5;28;01mif\u001b[39;00m a \u001b[38;5;241m<\u001b[39m \u001b[38;5;241m0\u001b[39m:\n\u001b[1;32m----> 3\u001b[0m         \u001b[38;5;28;01mraise\u001b[39;00m \u001b[38;5;167;01mValueError\u001b[39;00m (\u001b[38;5;124m\"\u001b[39m\u001b[38;5;124mYou have entered negative number\u001b[39m\u001b[38;5;124m\"\u001b[39m)\n\u001b[0;32m      5\u001b[0m     \u001b[38;5;28;01mreturn\u001b[39;00m a\n",
      "\u001b[1;31mValueError\u001b[0m: You have entered negative number"
     ]
    }
   ],
   "source": [
    "test4(-2)"
   ]
  },
  {
   "cell_type": "code",
   "execution_count": 44,
   "id": "a4434f3c",
   "metadata": {},
   "outputs": [
    {
     "ename": "SyntaxError",
     "evalue": "incomplete input (4227803888.py, line 1)",
     "output_type": "error",
     "traceback": [
      "\u001b[1;36m  Cell \u001b[1;32mIn[44], line 1\u001b[1;36m\u001b[0m\n\u001b[1;33m    print(\"hello\"\u001b[0m\n\u001b[1;37m                 ^\u001b[0m\n\u001b[1;31mSyntaxError\u001b[0m\u001b[1;31m:\u001b[0m incomplete input\n"
     ]
    }
   ],
   "source": [
    "print(\"hello\""
   ]
  },
  {
   "cell_type": "code",
   "execution_count": 46,
   "id": "4b527570",
   "metadata": {},
   "outputs": [
    {
     "ename": "SyntaxError",
     "evalue": "'(' was never closed (840476103.py, line 2)",
     "output_type": "error",
     "traceback": [
      "\u001b[1;36m  Cell \u001b[1;32mIn[46], line 2\u001b[1;36m\u001b[0m\n\u001b[1;33m    print(\"Hello\"\u001b[0m\n\u001b[1;37m         ^\u001b[0m\n\u001b[1;31mSyntaxError\u001b[0m\u001b[1;31m:\u001b[0m '(' was never closed\n"
     ]
    }
   ],
   "source": [
    "try:\n",
    "    print(\"Hello\"\n",
    "except Exception as e:\n",
    "          print(\"error: \",e)"
   ]
  },
  {
   "cell_type": "code",
   "execution_count": 49,
   "id": "9e50a4fc",
   "metadata": {},
   "outputs": [
    {
     "ename": "Exception",
     "evalue": "The lenght of the list should be less than 5 but it is 6",
     "output_type": "error",
     "traceback": [
      "\u001b[1;31m---------------------------------------------------------------------------\u001b[0m",
      "\u001b[1;31mException\u001b[0m                                 Traceback (most recent call last)",
      "Cell \u001b[1;32mIn[49], line 3\u001b[0m\n\u001b[0;32m      1\u001b[0m l \u001b[38;5;241m=\u001b[39m [\u001b[38;5;241m2\u001b[39m,\u001b[38;5;241m3\u001b[39m,\u001b[38;5;241m4\u001b[39m,\u001b[38;5;241m6\u001b[39m,\u001b[38;5;241m1\u001b[39m,\u001b[38;5;241m8\u001b[39m]\n\u001b[0;32m      2\u001b[0m \u001b[38;5;28;01mif\u001b[39;00m \u001b[38;5;28mlen\u001b[39m(l) \u001b[38;5;241m>\u001b[39m \u001b[38;5;241m5\u001b[39m:\n\u001b[1;32m----> 3\u001b[0m     \u001b[38;5;28;01mraise\u001b[39;00m \u001b[38;5;167;01mException\u001b[39;00m (\u001b[38;5;124mf\u001b[39m\u001b[38;5;124m\"\u001b[39m\u001b[38;5;124mThe lenght of the list should be less than 5 but it is \u001b[39m\u001b[38;5;132;01m{\u001b[39;00m\u001b[38;5;28mlen\u001b[39m(l)\u001b[38;5;132;01m}\u001b[39;00m\u001b[38;5;124m\"\u001b[39m)\n",
      "\u001b[1;31mException\u001b[0m: The lenght of the list should be less than 5 but it is 6"
     ]
    }
   ],
   "source": [
    "l = [2,3,4,6,1,8]\n",
    "if len(l) > 5:\n",
    "    raise Exception (f\"The lenght of the list should be less than 5 but it is {len(l)}\")"
   ]
  },
  {
   "cell_type": "code",
   "execution_count": 52,
   "id": "9c47f4ea",
   "metadata": {},
   "outputs": [
    {
     "ename": "IndentationError",
     "evalue": "expected an indented block after 'for' statement on line 1 (3695896917.py, line 2)",
     "output_type": "error",
     "traceback": [
      "\u001b[1;36m  Cell \u001b[1;32mIn[52], line 2\u001b[1;36m\u001b[0m\n\u001b[1;33m    print(i)\u001b[0m\n\u001b[1;37m    ^\u001b[0m\n\u001b[1;31mIndentationError\u001b[0m\u001b[1;31m:\u001b[0m expected an indented block after 'for' statement on line 1\n"
     ]
    }
   ],
   "source": [
    "for i in range(5):\n",
    "print(i)"
   ]
  },
  {
   "cell_type": "code",
   "execution_count": 53,
   "id": "4bdaacd5",
   "metadata": {},
   "outputs": [
    {
     "ename": "IndentationError",
     "evalue": "expected an indented block after 'for' statement on line 2 (2054566700.py, line 3)",
     "output_type": "error",
     "traceback": [
      "\u001b[1;36m  Cell \u001b[1;32mIn[53], line 3\u001b[1;36m\u001b[0m\n\u001b[1;33m    print(i)\u001b[0m\n\u001b[1;37m    ^\u001b[0m\n\u001b[1;31mIndentationError\u001b[0m\u001b[1;31m:\u001b[0m expected an indented block after 'for' statement on line 2\n"
     ]
    }
   ],
   "source": [
    "try:\n",
    "    for i in range(5):\n",
    "    print(i)\n",
    "except Exception as e:\n",
    "    print(e)"
   ]
  },
  {
   "cell_type": "code",
   "execution_count": null,
   "id": "485d6323",
   "metadata": {},
   "outputs": [],
   "source": []
  }
 ],
 "metadata": {
  "kernelspec": {
   "display_name": "Python 3 (ipykernel)",
   "language": "python",
   "name": "python3"
  },
  "language_info": {
   "codemirror_mode": {
    "name": "ipython",
    "version": 3
   },
   "file_extension": ".py",
   "mimetype": "text/x-python",
   "name": "python",
   "nbconvert_exporter": "python",
   "pygments_lexer": "ipython3",
   "version": "3.11.4"
  }
 },
 "nbformat": 4,
 "nbformat_minor": 5
}
