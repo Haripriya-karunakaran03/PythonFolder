{
 "cells": [
  {
   "cell_type": "markdown",
   "id": "986df11c-8ed9-4406-99c7-4933d219dd3e",
   "metadata": {},
   "source": [
    "### While loop\n",
    "```\n",
    "While loop will be executed until the given condition gets false\n",
    "syntax:\n",
    "    while expression:\n",
    "        statements\n",
    "\n",
    "The while loop exists as a tool for repeated execution based on a condition. The code block will keep being\n",
    "executed until the given logical condition returns a False boolean value.\n",
    "```"
   ]
  },
  {
   "cell_type": "code",
   "execution_count": 59,
   "id": "b0ce0027-6307-4c31-a4ce-81bda6dab76d",
   "metadata": {},
   "outputs": [
    {
     "name": "stdout",
     "output_type": "stream",
     "text": [
      "1\n",
      "2\n",
      "3\n",
      "4\n",
      "5\n"
     ]
    }
   ],
   "source": [
    "i = 1\n",
    "while i < 6:\n",
    "    print(i)\n",
    "    i = i + 1"
   ]
  },
  {
   "cell_type": "code",
   "execution_count": 2,
   "id": "7727a988-2581-4848-b0c8-b47202f4d2f2",
   "metadata": {},
   "outputs": [
    {
     "name": "stdout",
     "output_type": "stream",
     "text": [
      "Hello world!\n",
      "Hello world!\n",
      "Hello world!\n"
     ]
    }
   ],
   "source": [
    "i = 1\n",
    "while i <= 3:\n",
    "    print(\"Hello world!\")\n",
    "    i = i + 1"
   ]
  },
  {
   "cell_type": "code",
   "execution_count": 2,
   "id": "59c4304a-de8a-4f8b-a313-985a42aa325d",
   "metadata": {},
   "outputs": [
    {
     "name": "stdout",
     "output_type": "stream",
     "text": [
      "H\n",
      "i\n",
      " \n",
      "g\n",
      "k\n",
      "s\n",
      "f\n",
      "o\n",
      "r\n",
      "g\n",
      "k\n",
      "s\n"
     ]
    }
   ],
   "source": [
    "i = 0\n",
    "a = \"Hai geeksforgeeks\"\n",
    "\n",
    "while i < len(a):\n",
    "    if a[i] == \"a\" or a[i] == \"e\":\n",
    "        i = i + 1\n",
    "        continue\n",
    "    print(a[i])\n",
    "    i = i + 1     "
   ]
  },
  {
   "cell_type": "code",
   "execution_count": 8,
   "id": "99c19977",
   "metadata": {},
   "outputs": [
    {
     "name": "stdout",
     "output_type": "stream",
     "text": [
      "Enter number: 5\n",
      "Enter number: 5\n",
      "Enter number: -2\n",
      "Enter number: 3\n",
      "Enter number: 0\n",
      "11\n"
     ]
    }
   ],
   "source": [
    "i = 1\n",
    "Total = 0\n",
    "\n",
    "while i < 10:\n",
    "    n = int(input(\"Enter number: \"))\n",
    "    Total = Total + n\n",
    "    if n == 0:\n",
    "        break\n",
    "print(Total)"
   ]
  },
  {
   "cell_type": "code",
   "execution_count": 9,
   "id": "488c884b",
   "metadata": {},
   "outputs": [
    {
     "name": "stdout",
     "output_type": "stream",
     "text": [
      "Enter a number: 25\n",
      "2 3 4 6 8 9 10 12 14 15 16 18 20 21 22 24 "
     ]
    }
   ],
   "source": [
    "number = int(input(\"Enter a number: \"))\n",
    "i = 1\n",
    "while i <= number:\n",
    "    if i % 2 == 0 or i % 3 == 0:\n",
    "        print(i,end = \" \")\n",
    "    i += 1"
   ]
  },
  {
   "cell_type": "code",
   "execution_count": 10,
   "id": "2eb729c7",
   "metadata": {},
   "outputs": [
    {
     "name": "stdout",
     "output_type": "stream",
     "text": [
      "285\n"
     ]
    }
   ],
   "source": [
    "# sum of squares of a number\n",
    "\n",
    "i = 0\n",
    "Total = 0\n",
    "\n",
    "while i < 10:\n",
    "    Total = Total + i ** 2 \n",
    "    i = i + 1\n",
    "print(Total)\n",
    "    "
   ]
  },
  {
   "cell_type": "code",
   "execution_count": 1,
   "id": "89f86c69",
   "metadata": {},
   "outputs": [
    {
     "name": "stdin",
     "output_type": "stream",
     "text": [
      "Enter a number:  5\n"
     ]
    },
    {
     "name": "stdout",
     "output_type": "stream",
     "text": [
      "120\n"
     ]
    }
   ],
   "source": [
    "# factorial of the number\n",
    "\n",
    "num = int(input(\"Enter a number: \"))\n",
    "fact = 1\n",
    "i = 1\n",
    "while i <= num:\n",
    "    fact = fact * i\n",
    "    i = i + 1\n",
    "print(fact)"
   ]
  },
  {
   "cell_type": "code",
   "execution_count": 5,
   "id": "8a75b361",
   "metadata": {},
   "outputs": [
    {
     "name": "stdout",
     "output_type": "stream",
     "text": [
      "1 2 3 4 5 6 7 8 9 10 "
     ]
    }
   ],
   "source": [
    "i = 1\n",
    "while i <= 10:\n",
    "    print(i,end = \" \")\n",
    "    i = i + 1"
   ]
  },
  {
   "cell_type": "code",
   "execution_count": 6,
   "id": "55f35fd1-5e89-4099-8e38-f5c6b59533d8",
   "metadata": {},
   "outputs": [
    {
     "name": "stdout",
     "output_type": "stream",
     "text": [
      "25\n",
      "26\n",
      "27\n",
      "28\n",
      "29\n",
      "30\n"
     ]
    }
   ],
   "source": [
    "i = 25\n",
    "while i <= 30:\n",
    "    print(i)\n",
    "    i = i + 1"
   ]
  },
  {
   "cell_type": "code",
   "execution_count": 17,
   "id": "6a97723e-b945-4ce7-b6f6-7d47329b72aa",
   "metadata": {},
   "outputs": [
    {
     "name": "stdout",
     "output_type": "stream",
     "text": [
      "2002\n",
      "2003\n",
      "2004\n",
      "total iteration: 3\n"
     ]
    }
   ],
   "source": [
    "years = [2002,2003,2004,2005,2006,2020]\n",
    "i = 0\n",
    "\n",
    "year = years[i]\n",
    "while year < 2005:\n",
    "    print(year)\n",
    "    i = i + 1\n",
    "    year = years[i]\n",
    "print(\"total iteration:\", i)  "
   ]
  },
  {
   "cell_type": "code",
   "execution_count": 18,
   "id": "084b0107-793d-4c07-a557-cae26d9f79a7",
   "metadata": {},
   "outputs": [
    {
     "name": "stdout",
     "output_type": "stream",
     "text": [
      "8.0\n",
      "7.5\n",
      "loop gets stopped when reached a number below 6\n"
     ]
    }
   ],
   "source": [
    "movie_rating = [8.0, 7.5, 5.4, 9.1, 6.3, 6.5, 2.1, 4.8, 3.3]\n",
    "i = 0\n",
    "rating = movie_rating[i]\n",
    "\n",
    "while rating >= 6:\n",
    "    print(rating)\n",
    "    i = i + 1\n",
    "    rating = movie_rating[i]\n",
    "print(\"loop gets stopped when reached a number below 6\")"
   ]
  },
  {
   "cell_type": "code",
   "execution_count": 19,
   "id": "5d9ae5d2-0a55-4f9f-ab30-abadf96c2dfa",
   "metadata": {},
   "outputs": [
    {
     "name": "stdout",
     "output_type": "stream",
     "text": [
      "8.0\n",
      "7.5\n",
      "9.1\n",
      "6.3\n",
      "6.5\n"
     ]
    }
   ],
   "source": [
    "# in for loop - it keeps running with all the iteration\n",
    "\n",
    "movie_rating = [8.0, 7.5, 5.4, 9.1, 6.3, 6.5, 2.1, 4.8, 3.3]\n",
    "for i in movie_rating:\n",
    "    if i >= 6:\n",
    "        print(i)"
   ]
  },
  {
   "cell_type": "code",
   "execution_count": 22,
   "id": "93ea3f21-86bf-4d19-9e8d-5e57cfa01913",
   "metadata": {},
   "outputs": [
    {
     "name": "stdout",
     "output_type": "stream",
     "text": [
      "0 8.0\n",
      "1 7.5\n",
      "3 9.1\n",
      "4 6.3\n",
      "5 6.5\n"
     ]
    }
   ],
   "source": [
    "movie_rating = [8.0, 7.5, 5.4, 9.1, 6.3, 6.5, 2.1, 4.8, 3.3]\n",
    "for i in range(0,len(movie_rating)):\n",
    "    if movie_rating[i] >= 6:\n",
    "        print(i,movie_rating[i])"
   ]
  },
  {
   "cell_type": "code",
   "execution_count": 30,
   "id": "1818eeb6-3cc6-4e3e-9647-28c32a0eb13b",
   "metadata": {},
   "outputs": [
    {
     "name": "stdout",
     "output_type": "stream",
     "text": [
      "['banana']\n"
     ]
    }
   ],
   "source": [
    "# adding element from a list to a new list\n",
    "\n",
    "fruits = ['banana', 'apple', 'banana', 'orange', 'kiwi', 'banana', 'Cherry', 'Grapes']\n",
    "new_fruits = []\n",
    "index = 0\n",
    "while fruits[index] == 'banana':\n",
    "    new_fruits.append(fruits[index])\n",
    "    index += 1\n",
    "print(new_fruits)"
   ]
  },
  {
   "cell_type": "code",
   "execution_count": 42,
   "id": "d86edefc-c0be-46fc-9ef1-3e604f3ec30f",
   "metadata": {},
   "outputs": [
    {
     "name": "stdin",
     "output_type": "stream",
     "text": [
      " 5\n",
      " 6\n"
     ]
    },
    {
     "name": "stdout",
     "output_type": "stream",
     "text": [
      "5 x 1 = 5 , 6 x 1 = 6\n",
      "5 x 2 = 10 , 6 x 2 = 12\n",
      "5 x 3 = 15 , 6 x 3 = 18\n",
      "5 x 4 = 20 , 6 x 4 = 24\n",
      "5 x 5 = 25 , 6 x 5 = 30\n",
      "5 x 6 = 30 , 6 x 6 = 36\n",
      "5 x 7 = 35 , 6 x 7 = 42\n",
      "5 x 8 = 40 , 6 x 8 = 48\n",
      "5 x 9 = 45 , 6 x 9 = 54\n",
      "5 x 10 = 50 , 6 x 10 = 60\n"
     ]
    }
   ],
   "source": [
    "num1 = int(input())\n",
    "num2 = int(input())\n",
    "\n",
    "i = 1\n",
    "while i <= 10:\n",
    "    print(f\"{num1} x {i} = {num1*i}\",\",\",f\"{num2} x {i} = {num2 * i}\")\n",
    "    i = i + 1"
   ]
  },
  {
   "cell_type": "markdown",
   "id": "fc4267f7-d71d-4647-b555-915b0ed5e3b1",
   "metadata": {},
   "source": [
    "### While - else\n",
    "\n",
    "```\n",
    "When loop completely executed without any break,else part will be executed...\n",
    "```"
   ]
  },
  {
   "cell_type": "code",
   "execution_count": 47,
   "id": "750dd4b8-65f8-4c33-9989-742afef6248b",
   "metadata": {},
   "outputs": [
    {
     "name": "stdout",
     "output_type": "stream",
     "text": [
      "1\n",
      "2\n",
      "3\n",
      "4\n",
      "5\n"
     ]
    }
   ],
   "source": [
    "n = 10\n",
    "i = 1\n",
    "while i <= n:\n",
    "    print(i)\n",
    "    if i == 5:\n",
    "        break\n",
    "    i = i + 1\n",
    "else:\n",
    "    print(\"break has found so it will not come to the else part\")"
   ]
  },
  {
   "cell_type": "code",
   "execution_count": 49,
   "id": "ee9f6912-dbfd-4c4c-b590-7e4f04aae35f",
   "metadata": {},
   "outputs": [
    {
     "name": "stdout",
     "output_type": "stream",
     "text": [
      "1\n",
      "2\n",
      "3\n",
      "4\n",
      "5\n",
      "6\n",
      "7\n",
      "8\n",
      "9\n",
      "10\n",
      "break has not found so it will come to the else part\n"
     ]
    }
   ],
   "source": [
    "n = 10\n",
    "i = 1\n",
    "while i <= n:\n",
    "    print(i)\n",
    "    i = i + 1\n",
    "else:\n",
    "    print(\"break has not found so it will come to the else part\")"
   ]
  },
  {
   "cell_type": "markdown",
   "id": "eb260565",
   "metadata": {},
   "source": [
    "### Continue"
   ]
  },
  {
   "cell_type": "code",
   "execution_count": 55,
   "id": "07d1e7a9-5ee4-48a8-a60a-378ba2ca4249",
   "metadata": {},
   "outputs": [
    {
     "name": "stdout",
     "output_type": "stream",
     "text": [
      "1\n",
      "2\n",
      "3\n",
      "4\n",
      "6\n",
      "7\n",
      "8\n",
      "9\n",
      "10\n"
     ]
    }
   ],
   "source": [
    "# continue\n",
    "n = 10\n",
    "i = 1\n",
    "while i <= n:\n",
    "    if i == 5:\n",
    "        i = i + 1  # Increment i before continuing\n",
    "        continue\n",
    "    print(i)\n",
    "    i = i + 1\n"
   ]
  },
  {
   "cell_type": "code",
   "execution_count": 1,
   "id": "004f51ae-8166-459c-b8c6-18546e19e3bc",
   "metadata": {},
   "outputs": [
    {
     "name": "stdout",
     "output_type": "stream",
     "text": [
      "1\n",
      "2\n",
      "4\n",
      "5\n",
      "6\n"
     ]
    }
   ],
   "source": [
    "i = 0\n",
    "while i < 6:\n",
    "    i = i + 1\n",
    "    if i == 3:\n",
    "        continue\n",
    "    print(i)"
   ]
  },
  {
   "cell_type": "markdown",
   "id": "5fa933f2",
   "metadata": {},
   "source": [
    "### Break"
   ]
  },
  {
   "cell_type": "code",
   "execution_count": 58,
   "id": "01c84493-99bb-4398-b378-abbbf9ca2704",
   "metadata": {},
   "outputs": [
    {
     "name": "stdout",
     "output_type": "stream",
     "text": [
      "1\n",
      "2\n",
      "3\n",
      "4\n"
     ]
    }
   ],
   "source": [
    "# break\n",
    "\n",
    "i = 1\n",
    "while i <= 10:\n",
    "    if i == 5:\n",
    "        break\n",
    "    print(i)\n",
    "    i = i + 1"
   ]
  },
  {
   "cell_type": "code",
   "execution_count": 5,
   "id": "964ce129-220b-4e45-bc52-6b5ba96b3efb",
   "metadata": {},
   "outputs": [
    {
     "name": "stdout",
     "output_type": "stream",
     "text": [
      "Hai "
     ]
    }
   ],
   "source": [
    "i = 0\n",
    "a = \"Hai geeks\"\n",
    "\n",
    "while i < len(a):\n",
    "    if a[i] == \"g\" or a[i] == \"e\":\n",
    "        break\n",
    "    print(a[i],end=\"\")\n",
    "    i = i + 1"
   ]
  },
  {
   "cell_type": "code",
   "execution_count": 60,
   "id": "4b05fd52-0915-40df-8d2f-b4398f1187ab",
   "metadata": {},
   "outputs": [
    {
     "name": "stdout",
     "output_type": "stream",
     "text": [
      "1\n",
      "2\n",
      "3\n",
      "4\n",
      "5\n"
     ]
    }
   ],
   "source": [
    "i = 1\n",
    "while i < 10:\n",
    "    print(i)\n",
    "    if i == 5:\n",
    "        break\n",
    "    i = i + 1"
   ]
  },
  {
   "cell_type": "markdown",
   "id": "3579585b",
   "metadata": {},
   "source": [
    "### Single line while loop"
   ]
  },
  {
   "cell_type": "code",
   "execution_count": 15,
   "id": "82282e7e-0c69-4813-9dab-a71b9e52ff25",
   "metadata": {},
   "outputs": [
    {
     "name": "stdout",
     "output_type": "stream",
     "text": [
      "1\n",
      "2\n",
      "3\n",
      "4\n",
      "5\n",
      "6\n",
      "7\n",
      "8\n",
      "9\n",
      "10\n"
     ]
    }
   ],
   "source": [
    "i = 0 \n",
    "while i < 10: i += 1 ; print(i)"
   ]
  }
 ],
 "metadata": {
  "kernelspec": {
   "display_name": "Python 3 (ipykernel)",
   "language": "python",
   "name": "python3"
  },
  "language_info": {
   "codemirror_mode": {
    "name": "ipython",
    "version": 3
   },
   "file_extension": ".py",
   "mimetype": "text/x-python",
   "name": "python",
   "nbconvert_exporter": "python",
   "pygments_lexer": "ipython3",
   "version": "3.9.19"
  }
 },
 "nbformat": 4,
 "nbformat_minor": 5
}
