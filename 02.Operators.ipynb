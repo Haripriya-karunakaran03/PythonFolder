{
 "cells": [
  {
   "cell_type": "markdown",
   "id": "3be70f88",
   "metadata": {},
   "source": [
    "### Arithmetic operators\n",
    "\n",
    "```\n",
    "1.Addition (+)\n",
    "2.Subtraction (-)\n",
    "3.Multiplication (*)\n",
    "4.Division (/)\n",
    "5.Modulus (%)\n",
    "6.Floor division (//)\n",
    "7.Power (**)\n",
    "```"
   ]
  },
  {
   "cell_type": "code",
   "execution_count": 3,
   "id": "5983addd",
   "metadata": {},
   "outputs": [
    {
     "name": "stdout",
     "output_type": "stream",
     "text": [
      "15\n"
     ]
    }
   ],
   "source": [
    "# Addition\n",
    "\n",
    "a = 10\n",
    "b = 5\n",
    "print(a + b)"
   ]
  },
  {
   "cell_type": "code",
   "execution_count": 10,
   "id": "0ec4c247",
   "metadata": {},
   "outputs": [
    {
     "name": "stdout",
     "output_type": "stream",
     "text": [
      "Haripriya\n"
     ]
    }
   ],
   "source": [
    "c = \"Hari\"\n",
    "d = \"priya\"\n",
    "print(c + d)"
   ]
  },
  {
   "cell_type": "code",
   "execution_count": 11,
   "id": "01ece780",
   "metadata": {},
   "outputs": [
    {
     "name": "stdout",
     "output_type": "stream",
     "text": [
      "11\n"
     ]
    }
   ],
   "source": [
    "print(\"1\"+\"1\")"
   ]
  },
  {
   "cell_type": "code",
   "execution_count": 1,
   "id": "5227855a",
   "metadata": {},
   "outputs": [
    {
     "name": "stdout",
     "output_type": "stream",
     "text": [
      "110\n"
     ]
    }
   ],
   "source": [
    "print(10 + 100)"
   ]
  },
  {
   "cell_type": "code",
   "execution_count": 2,
   "id": "0bd45acb",
   "metadata": {},
   "outputs": [
    {
     "name": "stdout",
     "output_type": "stream",
     "text": [
      "12.0\n"
     ]
    }
   ],
   "source": [
    "print( 10.5 + 1.5)"
   ]
  },
  {
   "cell_type": "code",
   "execution_count": 3,
   "id": "80e249e7",
   "metadata": {},
   "outputs": [
    {
     "name": "stdout",
     "output_type": "stream",
     "text": [
      "Hello world\n"
     ]
    }
   ],
   "source": [
    "print(\"Hello\" + \" \" + \"world\")"
   ]
  },
  {
   "cell_type": "code",
   "execution_count": 4,
   "id": "b43412ff",
   "metadata": {},
   "outputs": [
    {
     "name": "stdout",
     "output_type": "stream",
     "text": [
      "5\n"
     ]
    }
   ],
   "source": [
    "# Subtraction\n",
    "\n",
    "print(a - b)"
   ]
  },
  {
   "cell_type": "code",
   "execution_count": 4,
   "id": "4b26f599",
   "metadata": {},
   "outputs": [
    {
     "name": "stdout",
     "output_type": "stream",
     "text": [
      "6\n"
     ]
    }
   ],
   "source": [
    "print( 10 - 4)"
   ]
  },
  {
   "cell_type": "code",
   "execution_count": 5,
   "id": "d9265f38",
   "metadata": {},
   "outputs": [
    {
     "name": "stdout",
     "output_type": "stream",
     "text": [
      "6.0\n"
     ]
    }
   ],
   "source": [
    "print(10.5 - 4.5)"
   ]
  },
  {
   "cell_type": "code",
   "execution_count": 6,
   "id": "0d5aeade",
   "metadata": {},
   "outputs": [
    {
     "ename": "TypeError",
     "evalue": "unsupported operand type(s) for -: 'str' and 'str'",
     "output_type": "error",
     "traceback": [
      "\u001b[1;31m---------------------------------------------------------------------------\u001b[0m",
      "\u001b[1;31mTypeError\u001b[0m                                 Traceback (most recent call last)",
      "Cell \u001b[1;32mIn[6], line 1\u001b[0m\n\u001b[1;32m----> 1\u001b[0m \u001b[38;5;28mprint\u001b[39m(\u001b[38;5;124m\"\u001b[39m\u001b[38;5;124mApple\u001b[39m\u001b[38;5;124m\"\u001b[39m \u001b[38;5;241m-\u001b[39m \u001b[38;5;124m\"\u001b[39m\u001b[38;5;124mMango\u001b[39m\u001b[38;5;124m\"\u001b[39m)\n",
      "\u001b[1;31mTypeError\u001b[0m: unsupported operand type(s) for -: 'str' and 'str'"
     ]
    }
   ],
   "source": [
    "print(\"Apple\" - \"Mango\")  "
   ]
  },
  {
   "cell_type": "code",
   "execution_count": 6,
   "id": "447a48d6",
   "metadata": {},
   "outputs": [
    {
     "name": "stdout",
     "output_type": "stream",
     "text": [
      "50\n"
     ]
    }
   ],
   "source": [
    "# Multiplication\n",
    "\n",
    "print(a * b)"
   ]
  },
  {
   "cell_type": "code",
   "execution_count": 7,
   "id": "3180c146",
   "metadata": {},
   "outputs": [
    {
     "name": "stdout",
     "output_type": "stream",
     "text": [
      "800\n"
     ]
    }
   ],
   "source": [
    "print(20 * 40)"
   ]
  },
  {
   "cell_type": "code",
   "execution_count": 8,
   "id": "93465eaf",
   "metadata": {},
   "outputs": [
    {
     "name": "stdout",
     "output_type": "stream",
     "text": [
      "61.0\n"
     ]
    }
   ],
   "source": [
    "print(30.5 * 2)"
   ]
  },
  {
   "cell_type": "code",
   "execution_count": 9,
   "id": "d318dfca",
   "metadata": {},
   "outputs": [
    {
     "ename": "TypeError",
     "evalue": "can't multiply sequence by non-int of type 'str'",
     "output_type": "error",
     "traceback": [
      "\u001b[1;31m---------------------------------------------------------------------------\u001b[0m",
      "\u001b[1;31mTypeError\u001b[0m                                 Traceback (most recent call last)",
      "Cell \u001b[1;32mIn[9], line 1\u001b[0m\n\u001b[1;32m----> 1\u001b[0m \u001b[38;5;28mprint\u001b[39m(\u001b[38;5;124m\"\u001b[39m\u001b[38;5;124mApple\u001b[39m\u001b[38;5;124m\"\u001b[39m \u001b[38;5;241m*\u001b[39m \u001b[38;5;124m\"\u001b[39m\u001b[38;5;124mMango\u001b[39m\u001b[38;5;124m\"\u001b[39m)\n",
      "\u001b[1;31mTypeError\u001b[0m: can't multiply sequence by non-int of type 'str'"
     ]
    }
   ],
   "source": [
    "print(\"Apple\" * \"Mango\")"
   ]
  },
  {
   "cell_type": "code",
   "execution_count": 10,
   "id": "05d22092",
   "metadata": {},
   "outputs": [
    {
     "name": "stdout",
     "output_type": "stream",
     "text": [
      "HariHariHari\n"
     ]
    }
   ],
   "source": [
    "print(\"Hari\" * 3)  # Replication"
   ]
  },
  {
   "cell_type": "code",
   "execution_count": 12,
   "id": "7c5fa9ee",
   "metadata": {},
   "outputs": [
    {
     "data": {
      "text/plain": [
       "'HariHariHari'"
      ]
     },
     "execution_count": 12,
     "metadata": {},
     "output_type": "execute_result"
    }
   ],
   "source": [
    "\"Hari\" * 3"
   ]
  },
  {
   "cell_type": "code",
   "execution_count": 13,
   "id": "7af84e6c",
   "metadata": {},
   "outputs": [
    {
     "ename": "TypeError",
     "evalue": "can't multiply sequence by non-int of type 'str'",
     "output_type": "error",
     "traceback": [
      "\u001b[1;31m---------------------------------------------------------------------------\u001b[0m",
      "\u001b[1;31mTypeError\u001b[0m                                 Traceback (most recent call last)",
      "Cell \u001b[1;32mIn[13], line 1\u001b[0m\n\u001b[1;32m----> 1\u001b[0m \u001b[38;5;124m\"\u001b[39m\u001b[38;5;124mHari\u001b[39m\u001b[38;5;124m\"\u001b[39m \u001b[38;5;241m*\u001b[39m \u001b[38;5;124m\"\u001b[39m\u001b[38;5;124mpriya\u001b[39m\u001b[38;5;124m\"\u001b[39m\n",
      "\u001b[1;31mTypeError\u001b[0m: can't multiply sequence by non-int of type 'str'"
     ]
    }
   ],
   "source": [
    "\"Hari\" * \"priya\""
   ]
  },
  {
   "cell_type": "code",
   "execution_count": 7,
   "id": "c87f44e8",
   "metadata": {},
   "outputs": [
    {
     "name": "stdout",
     "output_type": "stream",
     "text": [
      "2.0\n"
     ]
    }
   ],
   "source": [
    "# Division - Will give Quotient(float) - gives you exact answer- Exact Accuracy\n",
    "\n",
    "print(a / b)"
   ]
  },
  {
   "cell_type": "code",
   "execution_count": 11,
   "id": "febcfba1",
   "metadata": {},
   "outputs": [
    {
     "name": "stdout",
     "output_type": "stream",
     "text": [
      "2.3333333333333335\n"
     ]
    }
   ],
   "source": [
    "print(10.5 / 4.5)"
   ]
  },
  {
   "cell_type": "code",
   "execution_count": 5,
   "id": "e37928da",
   "metadata": {},
   "outputs": [
    {
     "name": "stdout",
     "output_type": "stream",
     "text": [
      "4.375\n"
     ]
    }
   ],
   "source": [
    "print(35 / 8)"
   ]
  },
  {
   "cell_type": "code",
   "execution_count": 8,
   "id": "3a7f76d4",
   "metadata": {},
   "outputs": [
    {
     "name": "stdout",
     "output_type": "stream",
     "text": [
      "2\n"
     ]
    }
   ],
   "source": [
    "# floor division - The result is floored to the nearest smaler integer\n",
    "\n",
    "print(a // b)"
   ]
  },
  {
   "cell_type": "code",
   "execution_count": 14,
   "id": "a1ac04e0",
   "metadata": {},
   "outputs": [
    {
     "name": "stdout",
     "output_type": "stream",
     "text": [
      "21\n"
     ]
    }
   ],
   "source": [
    "print(87 // 4)"
   ]
  },
  {
   "cell_type": "code",
   "execution_count": 9,
   "id": "92d0fd03",
   "metadata": {},
   "outputs": [
    {
     "name": "stdout",
     "output_type": "stream",
     "text": [
      "2\n"
     ]
    }
   ],
   "source": [
    "x = 12\n",
    "y = 5\n",
    "print(x // y)"
   ]
  },
  {
   "cell_type": "code",
   "execution_count": 19,
   "id": "1282cf97",
   "metadata": {},
   "outputs": [
    {
     "name": "stdout",
     "output_type": "stream",
     "text": [
      "1\n"
     ]
    }
   ],
   "source": [
    "print(3//2)"
   ]
  },
  {
   "cell_type": "code",
   "execution_count": 14,
   "id": "f8cf7344",
   "metadata": {},
   "outputs": [
    {
     "name": "stdout",
     "output_type": "stream",
     "text": [
      "1\n"
     ]
    }
   ],
   "source": [
    "# Modulus - This gives remainder\n",
    "a = 100\n",
    "b = 3\n",
    "print(a % b)"
   ]
  },
  {
   "cell_type": "code",
   "execution_count": 15,
   "id": "62c8b036",
   "metadata": {},
   "outputs": [
    {
     "name": "stdout",
     "output_type": "stream",
     "text": [
      "0\n"
     ]
    }
   ],
   "source": [
    "print( 9 % 3)"
   ]
  },
  {
   "cell_type": "code",
   "execution_count": 16,
   "id": "fa612632",
   "metadata": {},
   "outputs": [
    {
     "name": "stdout",
     "output_type": "stream",
     "text": [
      "2\n"
     ]
    }
   ],
   "source": [
    "print( 30 % 7)"
   ]
  },
  {
   "cell_type": "code",
   "execution_count": 15,
   "id": "c90ae00e",
   "metadata": {},
   "outputs": [
    {
     "name": "stdout",
     "output_type": "stream",
     "text": [
      "8\n"
     ]
    }
   ],
   "source": [
    "# power\n",
    "\n",
    "print(2**3)"
   ]
  },
  {
   "cell_type": "code",
   "execution_count": 16,
   "id": "14d0c256",
   "metadata": {},
   "outputs": [
    {
     "name": "stdout",
     "output_type": "stream",
     "text": [
      "3125\n"
     ]
    }
   ],
   "source": [
    "print(5**5)"
   ]
  },
  {
   "cell_type": "code",
   "execution_count": 17,
   "id": "856c98fe",
   "metadata": {},
   "outputs": [
    {
     "name": "stdout",
     "output_type": "stream",
     "text": [
      "100\n"
     ]
    }
   ],
   "source": [
    "print(10 ** 2)"
   ]
  },
  {
   "cell_type": "code",
   "execution_count": 23,
   "id": "c8df96ea",
   "metadata": {},
   "outputs": [
    {
     "name": "stdout",
     "output_type": "stream",
     "text": [
      "-------------Addition-------------\n",
      "Addition of 10 and 7 is 17\n",
      "\n",
      "-------------Subtraction-------------\n",
      "Subtraction of 10 and 7 is 3\n",
      "\n",
      "-------------Multiplication-------------\n",
      "Product of 10 and 7 is 70\n",
      "\n",
      "-------------Division-------------\n",
      "Division of 10 and 7 is 1.4285714285714286\n",
      "\n",
      "-------------Floor Division-------------\n",
      "Floor division of 10 and 7 is 1\n",
      "\n",
      "-------------To the power-------------\n",
      "power of 10 and 7 is 10000000\n",
      "\n",
      "-------------Modulus-------------\n",
      "Modulus of 10 and 7 is 3\n"
     ]
    }
   ],
   "source": [
    "num1 = 10\n",
    "num2 = 7\n",
    "\n",
    "print(\"-------------Addition-------------\")\n",
    "print(f\"Addition of {num1} and {num2} is {num1 + num2}\")\n",
    "print()\n",
    "print(\"-------------Subtraction-------------\")\n",
    "print(f\"Subtraction of {num1} and {num2} is {num1 - num2}\")\n",
    "print()\n",
    "print(\"-------------Multiplication-------------\")\n",
    "print(f\"Product of {num1} and {num2} is {num1 * num2}\")\n",
    "print()\n",
    "print(\"-------------Division-------------\")\n",
    "print(f\"Division of {num1} and {num2} is {num1 / num2}\")\n",
    "print()\n",
    "print(\"-------------Floor Division-------------\")\n",
    "print(f\"Floor division of {num1} and {num2} is {num1 // num2}\")\n",
    "print()\n",
    "print(\"-------------To the power-------------\")\n",
    "print(f\"power of {num1} and {num2} is {num1 ** num2}\")\n",
    "print()\n",
    "print(\"-------------Modulus-------------\")\n",
    "print(f\"Modulus of {num1} and {num2} is {num1 % num2}\")"
   ]
  },
  {
   "cell_type": "markdown",
   "id": "84e8e717",
   "metadata": {},
   "source": [
    "### Comparison operator / relational operator\n",
    "\n",
    "```\n",
    "1.True if equal (==)\n",
    "2.True if not equal (!=)\n",
    "3.Less than (<)\n",
    "4.Greater than (>)\n",
    "5.Less than or equal to (<=)\n",
    "6.Greater than or equal to (>=)\n",
    "```"
   ]
  },
  {
   "cell_type": "code",
   "execution_count": 24,
   "id": "4c481056",
   "metadata": {},
   "outputs": [
    {
     "name": "stdout",
     "output_type": "stream",
     "text": [
      "True\n"
     ]
    }
   ],
   "source": [
    "# True if equal (==)\n",
    "\n",
    "a = 10\n",
    "b = 10\n",
    "print(a==b)"
   ]
  },
  {
   "cell_type": "code",
   "execution_count": 18,
   "id": "7f52d7e8",
   "metadata": {},
   "outputs": [
    {
     "name": "stdout",
     "output_type": "stream",
     "text": [
      "True\n"
     ]
    }
   ],
   "source": [
    "print(100 == 100)"
   ]
  },
  {
   "cell_type": "code",
   "execution_count": 42,
   "id": "738aa229",
   "metadata": {},
   "outputs": [
    {
     "name": "stdout",
     "output_type": "stream",
     "text": [
      "False\n"
     ]
    }
   ],
   "source": [
    "s = 10\n",
    "t = \"10\"\n",
    "print(s == t)"
   ]
  },
  {
   "cell_type": "code",
   "execution_count": 25,
   "id": "15c4e677",
   "metadata": {},
   "outputs": [
    {
     "name": "stdout",
     "output_type": "stream",
     "text": [
      "False\n"
     ]
    }
   ],
   "source": [
    "print(10==20)"
   ]
  },
  {
   "cell_type": "code",
   "execution_count": 19,
   "id": "6f1dfd10",
   "metadata": {},
   "outputs": [
    {
     "name": "stdout",
     "output_type": "stream",
     "text": [
      "False\n"
     ]
    }
   ],
   "source": [
    "print(100 == 50)"
   ]
  },
  {
   "cell_type": "code",
   "execution_count": 20,
   "id": "f0adc099",
   "metadata": {},
   "outputs": [
    {
     "name": "stdout",
     "output_type": "stream",
     "text": [
      "True\n"
     ]
    }
   ],
   "source": [
    "print(\"Hari\" == \"Hari\")"
   ]
  },
  {
   "cell_type": "code",
   "execution_count": 21,
   "id": "d9b85ab3",
   "metadata": {},
   "outputs": [
    {
     "name": "stdout",
     "output_type": "stream",
     "text": [
      "False\n"
     ]
    }
   ],
   "source": [
    "print(\"Hari\" == \"priya\")"
   ]
  },
  {
   "cell_type": "code",
   "execution_count": 26,
   "id": "c8cae137",
   "metadata": {},
   "outputs": [
    {
     "name": "stdout",
     "output_type": "stream",
     "text": [
      "True\n"
     ]
    }
   ],
   "source": [
    "# True if not equal (!=)\n",
    "\n",
    "a = 10\n",
    "b = 20\n",
    "print(a!=b)"
   ]
  },
  {
   "cell_type": "code",
   "execution_count": 27,
   "id": "79695818",
   "metadata": {},
   "outputs": [
    {
     "name": "stdout",
     "output_type": "stream",
     "text": [
      "False\n"
     ]
    }
   ],
   "source": [
    "print(10!=10)"
   ]
  },
  {
   "cell_type": "code",
   "execution_count": 22,
   "id": "808ddd45",
   "metadata": {},
   "outputs": [
    {
     "name": "stdout",
     "output_type": "stream",
     "text": [
      "True\n"
     ]
    }
   ],
   "source": [
    "print(100 != 50)"
   ]
  },
  {
   "cell_type": "code",
   "execution_count": 24,
   "id": "bcf5c911",
   "metadata": {},
   "outputs": [
    {
     "name": "stdout",
     "output_type": "stream",
     "text": [
      "False\n"
     ]
    }
   ],
   "source": [
    "print(100 != 100)"
   ]
  },
  {
   "cell_type": "code",
   "execution_count": 25,
   "id": "ee17e372",
   "metadata": {},
   "outputs": [
    {
     "name": "stdout",
     "output_type": "stream",
     "text": [
      "True\n"
     ]
    }
   ],
   "source": [
    "print(\"Hari\" != \"priya\")"
   ]
  },
  {
   "cell_type": "code",
   "execution_count": 28,
   "id": "15a2864f",
   "metadata": {},
   "outputs": [
    {
     "name": "stdout",
     "output_type": "stream",
     "text": [
      "True\n"
     ]
    }
   ],
   "source": [
    "# Less than (<)\n",
    "\n",
    "a = 5\n",
    "b = 10\n",
    "print(a < b)"
   ]
  },
  {
   "cell_type": "code",
   "execution_count": 29,
   "id": "620556d5",
   "metadata": {},
   "outputs": [
    {
     "name": "stdout",
     "output_type": "stream",
     "text": [
      "False\n"
     ]
    }
   ],
   "source": [
    "print(10 < 5)"
   ]
  },
  {
   "cell_type": "code",
   "execution_count": 26,
   "id": "8cfb5002",
   "metadata": {},
   "outputs": [
    {
     "name": "stdout",
     "output_type": "stream",
     "text": [
      "False\n"
     ]
    }
   ],
   "source": [
    "print(100 < 50)"
   ]
  },
  {
   "cell_type": "code",
   "execution_count": 27,
   "id": "f9638b94",
   "metadata": {},
   "outputs": [
    {
     "name": "stdout",
     "output_type": "stream",
     "text": [
      "False\n"
     ]
    }
   ],
   "source": [
    "print(\"H\" < \"A\")  # Ascii value of \"H\" is 72 and Ascii value of \"A\" is 65 ( 72 < 65) --> False"
   ]
  },
  {
   "cell_type": "code",
   "execution_count": 28,
   "id": "f319faa6",
   "metadata": {},
   "outputs": [
    {
     "name": "stdout",
     "output_type": "stream",
     "text": [
      "True\n"
     ]
    }
   ],
   "source": [
    "print(\"M\" < \"N\") # M = 77 and N = 78 so true"
   ]
  },
  {
   "cell_type": "code",
   "execution_count": 30,
   "id": "d0baa217",
   "metadata": {},
   "outputs": [
    {
     "name": "stdout",
     "output_type": "stream",
     "text": [
      "True\n"
     ]
    }
   ],
   "source": [
    "# Greater than (<)\n",
    "\n",
    "a = 100\n",
    "b = 50\n",
    "print(a > b)"
   ]
  },
  {
   "cell_type": "code",
   "execution_count": 29,
   "id": "cb00b8c8",
   "metadata": {},
   "outputs": [
    {
     "name": "stdout",
     "output_type": "stream",
     "text": [
      "True\n"
     ]
    }
   ],
   "source": [
    "print(100 > 50)"
   ]
  },
  {
   "cell_type": "code",
   "execution_count": 31,
   "id": "d3eac049",
   "metadata": {},
   "outputs": [
    {
     "name": "stdout",
     "output_type": "stream",
     "text": [
      "False\n"
     ]
    }
   ],
   "source": [
    "print(50 > 100)"
   ]
  },
  {
   "cell_type": "code",
   "execution_count": 30,
   "id": "06ad03c4",
   "metadata": {},
   "outputs": [
    {
     "name": "stdout",
     "output_type": "stream",
     "text": [
      "True\n"
     ]
    }
   ],
   "source": [
    "print(\"H\" > \"A\")"
   ]
  },
  {
   "cell_type": "code",
   "execution_count": 31,
   "id": "a701576d",
   "metadata": {},
   "outputs": [
    {
     "name": "stdout",
     "output_type": "stream",
     "text": [
      "False\n"
     ]
    }
   ],
   "source": [
    "print(\"M\" > \"N\")"
   ]
  },
  {
   "cell_type": "code",
   "execution_count": 32,
   "id": "51b1328d",
   "metadata": {},
   "outputs": [
    {
     "name": "stdout",
     "output_type": "stream",
     "text": [
      "True\n"
     ]
    }
   ],
   "source": [
    "# Less than or equal to (<=)\n",
    "\n",
    "a = 4\n",
    "b = 10\n",
    "\n",
    "print(a <= b)"
   ]
  },
  {
   "cell_type": "code",
   "execution_count": 32,
   "id": "a8218015",
   "metadata": {},
   "outputs": [
    {
     "name": "stdout",
     "output_type": "stream",
     "text": [
      "True\n"
     ]
    }
   ],
   "source": [
    "print(10 <= 10)"
   ]
  },
  {
   "cell_type": "code",
   "execution_count": 33,
   "id": "e0401e7f",
   "metadata": {},
   "outputs": [
    {
     "name": "stdout",
     "output_type": "stream",
     "text": [
      "False\n"
     ]
    }
   ],
   "source": [
    "print(10 <= 4)"
   ]
  },
  {
   "cell_type": "code",
   "execution_count": 34,
   "id": "4c2b0dea",
   "metadata": {},
   "outputs": [
    {
     "name": "stdout",
     "output_type": "stream",
     "text": [
      "True\n"
     ]
    }
   ],
   "source": [
    "print(10 <= 10)"
   ]
  },
  {
   "cell_type": "code",
   "execution_count": 33,
   "id": "47ebfdcc",
   "metadata": {},
   "outputs": [
    {
     "name": "stdout",
     "output_type": "stream",
     "text": [
      "True\n"
     ]
    }
   ],
   "source": [
    "print(\"M\" <= \"M\")"
   ]
  },
  {
   "cell_type": "code",
   "execution_count": 34,
   "id": "da9284b6",
   "metadata": {},
   "outputs": [
    {
     "name": "stdout",
     "output_type": "stream",
     "text": [
      "False\n"
     ]
    }
   ],
   "source": [
    "print(\"H\" < \"A\")"
   ]
  },
  {
   "cell_type": "code",
   "execution_count": 35,
   "id": "dee6c378",
   "metadata": {},
   "outputs": [
    {
     "name": "stdout",
     "output_type": "stream",
     "text": [
      "True\n"
     ]
    }
   ],
   "source": [
    "# Greater than or equal to (>=)\n",
    "\n",
    "a = 100\n",
    "b = 50\n",
    "print(a >= b)"
   ]
  },
  {
   "cell_type": "code",
   "execution_count": 36,
   "id": "1c914a2c",
   "metadata": {},
   "outputs": [
    {
     "name": "stdout",
     "output_type": "stream",
     "text": [
      "True\n"
     ]
    }
   ],
   "source": [
    "print(100 >= 100)"
   ]
  },
  {
   "cell_type": "code",
   "execution_count": 37,
   "id": "432f530e",
   "metadata": {},
   "outputs": [
    {
     "name": "stdout",
     "output_type": "stream",
     "text": [
      "False\n"
     ]
    }
   ],
   "source": [
    "print(50 >= 200)"
   ]
  },
  {
   "cell_type": "code",
   "execution_count": 35,
   "id": "ba39a59d",
   "metadata": {},
   "outputs": [
    {
     "name": "stdout",
     "output_type": "stream",
     "text": [
      "True\n"
     ]
    }
   ],
   "source": [
    "print(\"H\" >= \"A\")"
   ]
  },
  {
   "cell_type": "code",
   "execution_count": 41,
   "id": "c5006adf",
   "metadata": {},
   "outputs": [
    {
     "name": "stdout",
     "output_type": "stream",
     "text": [
      "Is both values of operands are equal?  False\n",
      "Is both values of operands are not equal?  True\n",
      "Is the value of left operand is less than the value of right operands?  True\n",
      "Is the value of left operand is greater than the value of right operand?  False\n",
      "Is the value of left operand is less than or equal to right operand?  True\n",
      "Is the value of left operand is greater than or equal to right operand?  False\n"
     ]
    }
   ],
   "source": [
    "x = 20\n",
    "y = 30\n",
    "\n",
    "print(\"Is both values of operands are equal? \",x == y)\n",
    "print(\"Is both values of operands are not equal? \",x!=y)\n",
    "print(\"Is the value of left operand is less than the value of right operands? \",x < y)\n",
    "print(\"Is the value of left operand is greater than the value of right operand? \",x > y)\n",
    "print(\"Is the value of left operand is less than or equal to right operand? \",x <= y)\n",
    "print(\"Is the value of left operand is greater than or equal to right operand? \",x >= y)"
   ]
  },
  {
   "cell_type": "markdown",
   "id": "231b0a31",
   "metadata": {},
   "source": [
    "### Assignment operators\n",
    "\n",
    "```\n",
    "1. =\n",
    "2. +=\n",
    "3. -=\n",
    "4. *=\n",
    "5. /=\n",
    "6. **=\n",
    "7. //=\n",
    "```"
   ]
  },
  {
   "cell_type": "code",
   "execution_count": 43,
   "id": "93794c4b",
   "metadata": {},
   "outputs": [
    {
     "name": "stdout",
     "output_type": "stream",
     "text": [
      "10\n"
     ]
    }
   ],
   "source": [
    "# += \n",
    "\n",
    "a = 5\n",
    "a = a + 5\n",
    "print(a)"
   ]
  },
  {
   "cell_type": "code",
   "execution_count": 44,
   "id": "6d01b0bc",
   "metadata": {},
   "outputs": [
    {
     "name": "stdout",
     "output_type": "stream",
     "text": [
      "15\n"
     ]
    }
   ],
   "source": [
    "a = 10\n",
    "a += 5\n",
    "print(a)"
   ]
  },
  {
   "cell_type": "code",
   "execution_count": 36,
   "id": "6e972af3",
   "metadata": {},
   "outputs": [
    {
     "name": "stdout",
     "output_type": "stream",
     "text": [
      "200\n"
     ]
    }
   ],
   "source": [
    "c = 100\n",
    "c += 100\n",
    "print(c)"
   ]
  },
  {
   "cell_type": "code",
   "execution_count": 45,
   "id": "5997ad55",
   "metadata": {},
   "outputs": [
    {
     "name": "stdout",
     "output_type": "stream",
     "text": [
      "5\n"
     ]
    }
   ],
   "source": [
    "# -=\n",
    "\n",
    "b = 10\n",
    "b = b - 5\n",
    "print(b)"
   ]
  },
  {
   "cell_type": "code",
   "execution_count": 49,
   "id": "842c4654",
   "metadata": {},
   "outputs": [
    {
     "name": "stdout",
     "output_type": "stream",
     "text": [
      "5\n"
     ]
    }
   ],
   "source": [
    "b = 10\n",
    "b -= 5\n",
    "print(b)"
   ]
  },
  {
   "cell_type": "code",
   "execution_count": 37,
   "id": "f04b53cc",
   "metadata": {},
   "outputs": [
    {
     "name": "stdout",
     "output_type": "stream",
     "text": [
      "50\n"
     ]
    }
   ],
   "source": [
    "c = 100\n",
    "c -= 50\n",
    "print(c)"
   ]
  },
  {
   "cell_type": "code",
   "execution_count": 50,
   "id": "41159b2d",
   "metadata": {},
   "outputs": [
    {
     "name": "stdout",
     "output_type": "stream",
     "text": [
      "25\n"
     ]
    }
   ],
   "source": [
    "# *=\n",
    "\n",
    "c = 5\n",
    "c = c * 5\n",
    "print(c)"
   ]
  },
  {
   "cell_type": "code",
   "execution_count": 38,
   "id": "dc754e9d",
   "metadata": {},
   "outputs": [
    {
     "name": "stdout",
     "output_type": "stream",
     "text": [
      "500\n"
     ]
    }
   ],
   "source": [
    "b = 100\n",
    "b *= 5\n",
    "print(b)"
   ]
  },
  {
   "cell_type": "code",
   "execution_count": 51,
   "id": "55037fc1",
   "metadata": {},
   "outputs": [
    {
     "name": "stdout",
     "output_type": "stream",
     "text": [
      "4\n"
     ]
    }
   ],
   "source": [
    "c = 2\n",
    "c *= 2\n",
    "print(c)"
   ]
  },
  {
   "cell_type": "code",
   "execution_count": 52,
   "id": "4dd7488f",
   "metadata": {},
   "outputs": [
    {
     "name": "stdout",
     "output_type": "stream",
     "text": [
      "20.0\n"
     ]
    }
   ],
   "source": [
    "# /=\n",
    "\n",
    "d = 100\n",
    "d = d / 5\n",
    "print(d)"
   ]
  },
  {
   "cell_type": "code",
   "execution_count": 53,
   "id": "285f026d",
   "metadata": {},
   "outputs": [
    {
     "name": "stdout",
     "output_type": "stream",
     "text": [
      "5.0\n"
     ]
    }
   ],
   "source": [
    "d = 50\n",
    "d /= 10\n",
    "print(d)"
   ]
  },
  {
   "cell_type": "code",
   "execution_count": 54,
   "id": "fe23d62a",
   "metadata": {},
   "outputs": [],
   "source": [
    "# = \n",
    "\n",
    "a = 10"
   ]
  },
  {
   "cell_type": "code",
   "execution_count": 39,
   "id": "3e7d1327",
   "metadata": {},
   "outputs": [
    {
     "name": "stdout",
     "output_type": "stream",
     "text": [
      "0\n"
     ]
    }
   ],
   "source": [
    "# %=\n",
    "\n",
    "a = 100\n",
    "a %= 4\n",
    "print(a)"
   ]
  },
  {
   "cell_type": "code",
   "execution_count": 56,
   "id": "f6a857fd",
   "metadata": {},
   "outputs": [
    {
     "name": "stdout",
     "output_type": "stream",
     "text": [
      "2\n"
     ]
    }
   ],
   "source": [
    "b = 50\n",
    "b %= 3\n",
    "print(b)"
   ]
  },
  {
   "cell_type": "code",
   "execution_count": 57,
   "id": "3f44861d",
   "metadata": {},
   "outputs": [
    {
     "name": "stdout",
     "output_type": "stream",
     "text": [
      "4\n"
     ]
    }
   ],
   "source": [
    "# **=\n",
    "\n",
    "a = 2\n",
    "a **= 2\n",
    "print(a)"
   ]
  },
  {
   "cell_type": "code",
   "execution_count": 41,
   "id": "65d2ead1",
   "metadata": {},
   "outputs": [
    {
     "name": "stdout",
     "output_type": "stream",
     "text": [
      "81\n"
     ]
    }
   ],
   "source": [
    "d = 9\n",
    "d **= 2\n",
    "print(d)"
   ]
  },
  {
   "cell_type": "code",
   "execution_count": 58,
   "id": "e82bb17f",
   "metadata": {},
   "outputs": [
    {
     "name": "stdout",
     "output_type": "stream",
     "text": [
      "33\n"
     ]
    }
   ],
   "source": [
    "# //=\n",
    "\n",
    "a = 100\n",
    "a //= 3\n",
    "print(a)"
   ]
  },
  {
   "cell_type": "code",
   "execution_count": 42,
   "id": "a4e0da6e",
   "metadata": {},
   "outputs": [
    {
     "name": "stdout",
     "output_type": "stream",
     "text": [
      "21\n"
     ]
    }
   ],
   "source": [
    "d = 42 \n",
    "d //= 2\n",
    "print(d)"
   ]
  },
  {
   "cell_type": "markdown",
   "id": "bd0274e1",
   "metadata": {},
   "source": [
    "### Bitwise operator\n",
    "\n",
    "```\n",
    "1. Complement (~)\n",
    "2. And (&)\n",
    "3. Or (|)\n",
    "4. Xor (^)\n",
    "5. Left shift (<<)\n",
    "6. Right shift (>>)\n",
    "```"
   ]
  },
  {
   "cell_type": "code",
   "execution_count": 45,
   "id": "64296c9a",
   "metadata": {},
   "outputs": [
    {
     "name": "stdout",
     "output_type": "stream",
     "text": [
      "-13\n"
     ]
    }
   ],
   "source": [
    "# Complement (~)\n",
    "\n",
    "\"\"\"\n",
    "0 --> 1\n",
    "1 --> 0\n",
    "\"\"\"\n",
    "\n",
    "print(~12)"
   ]
  },
  {
   "cell_type": "code",
   "execution_count": 1,
   "id": "4ff30b88",
   "metadata": {},
   "outputs": [
    {
     "name": "stdout",
     "output_type": "stream",
     "text": [
      "-36\n"
     ]
    }
   ],
   "source": [
    "print(~35)"
   ]
  },
  {
   "cell_type": "code",
   "execution_count": 8,
   "id": "420bcdf0",
   "metadata": {},
   "outputs": [
    {
     "name": "stdout",
     "output_type": "stream",
     "text": [
      "-10\n"
     ]
    }
   ],
   "source": [
    "print(~9)"
   ]
  },
  {
   "cell_type": "code",
   "execution_count": 9,
   "id": "2f50fdc2",
   "metadata": {},
   "outputs": [
    {
     "name": "stdout",
     "output_type": "stream",
     "text": [
      "-101\n"
     ]
    }
   ],
   "source": [
    "print(~100)"
   ]
  },
  {
   "cell_type": "code",
   "execution_count": 43,
   "id": "3c16512c",
   "metadata": {},
   "outputs": [
    {
     "name": "stdout",
     "output_type": "stream",
     "text": [
      "12\n"
     ]
    }
   ],
   "source": [
    "# AND operator (&)\n",
    "\n",
    "\"\"\"\n",
    "0 0 0\n",
    "0 1 0\n",
    "1 0 0 \n",
    "1 1 1\n",
    "\"\"\"\n",
    "\n",
    "print(12 & 13)"
   ]
  },
  {
   "cell_type": "code",
   "execution_count": 11,
   "id": "7a43f3b6",
   "metadata": {},
   "outputs": [
    {
     "name": "stdout",
     "output_type": "stream",
     "text": [
      "8\n"
     ]
    }
   ],
   "source": [
    "print(8 & 8)"
   ]
  },
  {
   "cell_type": "code",
   "execution_count": 12,
   "id": "bcea86c5",
   "metadata": {},
   "outputs": [
    {
     "name": "stdout",
     "output_type": "stream",
     "text": [
      "5\n"
     ]
    }
   ],
   "source": [
    "print(5 & 15)"
   ]
  },
  {
   "cell_type": "code",
   "execution_count": 44,
   "id": "4e836415",
   "metadata": {},
   "outputs": [
    {
     "name": "stdout",
     "output_type": "stream",
     "text": [
      "15\n"
     ]
    }
   ],
   "source": [
    "# OR Operator (|)\n",
    "\n",
    "\"\"\"\n",
    "0 0 0\n",
    "0 1 1\n",
    "1 0 1\n",
    "1 1 0\n",
    "\"\"\"\n",
    "\n",
    "print( 15 | 4)"
   ]
  },
  {
   "cell_type": "code",
   "execution_count": 14,
   "id": "89725932",
   "metadata": {},
   "outputs": [
    {
     "name": "stdout",
     "output_type": "stream",
     "text": [
      "13\n"
     ]
    }
   ],
   "source": [
    "print(9 | 5)"
   ]
  },
  {
   "cell_type": "code",
   "execution_count": 46,
   "id": "f096707f",
   "metadata": {},
   "outputs": [
    {
     "name": "stdout",
     "output_type": "stream",
     "text": [
      "11\n"
     ]
    }
   ],
   "source": [
    "# XOR Operator (^)\n",
    "\n",
    "\"\"\"\n",
    "0 0 0\n",
    "0 1 1\n",
    "1 0 1\n",
    "1 1 0\n",
    "\"\"\"\n",
    "\n",
    "print(15 ^ 4)"
   ]
  },
  {
   "cell_type": "code",
   "execution_count": 16,
   "id": "7ab7b1ef",
   "metadata": {},
   "outputs": [
    {
     "name": "stdout",
     "output_type": "stream",
     "text": [
      "12\n"
     ]
    }
   ],
   "source": [
    "print(9 ^ 5)"
   ]
  },
  {
   "cell_type": "code",
   "execution_count": 47,
   "id": "096eadf5",
   "metadata": {},
   "outputs": [
    {
     "name": "stdout",
     "output_type": "stream",
     "text": [
      "40\n",
      "312\n"
     ]
    }
   ],
   "source": [
    "# Left shift (<<)\n",
    "\n",
    "\"\"\"\n",
    "eg.10 << 2\n",
    "\n",
    "10 - 0000 1010\n",
    "left shift 2\n",
    "\n",
    "consider like\n",
    "\n",
    "1010 . 00\n",
    "Ans: 10100.0\n",
    "     101000\n",
    "0 * 1 = 0\n",
    "0 * 2 = 0\n",
    "0 * 4 = 0\n",
    "1 * 8 = 8\n",
    "0 * 16 = 0\n",
    "1 * 32 = 32\n",
    "\n",
    "Total = 40\n",
    "\n",
    "\"\"\"\n",
    "print(10 << 2)\n",
    "print(39 << 3)"
   ]
  },
  {
   "cell_type": "code",
   "execution_count": 27,
   "id": "f76d8fa5",
   "metadata": {},
   "outputs": [
    {
     "name": "stdout",
     "output_type": "stream",
     "text": [
      "56\n"
     ]
    }
   ],
   "source": [
    "print(14 << 2)"
   ]
  },
  {
   "cell_type": "code",
   "execution_count": 28,
   "id": "0774ead5",
   "metadata": {},
   "outputs": [
    {
     "name": "stdout",
     "output_type": "stream",
     "text": [
      "88\n"
     ]
    }
   ],
   "source": [
    "print(11 << 3)"
   ]
  },
  {
   "cell_type": "code",
   "execution_count": 2,
   "id": "d8629d77",
   "metadata": {},
   "outputs": [
    {
     "name": "stdout",
     "output_type": "stream",
     "text": [
      "40\n"
     ]
    }
   ],
   "source": [
    "print(10 << 2)"
   ]
  },
  {
   "cell_type": "code",
   "execution_count": 48,
   "id": "5a5b8517",
   "metadata": {},
   "outputs": [
    {
     "name": "stdout",
     "output_type": "stream",
     "text": [
      "2\n",
      "1\n"
     ]
    }
   ],
   "source": [
    "# Right shift (>>)\n",
    "\n",
    "\"\"\"\n",
    "eg.10 >> 2\n",
    "\n",
    "10 - 1010\n",
    "Right shift = 2\n",
    "\n",
    "consider\n",
    "\n",
    "1010.00\n",
    "Ans = 101.000\n",
    "      10.1000\n",
    "      \n",
    "Ans = 10\n",
    "\n",
    "0 * 1 = 1\n",
    "1 * 2 = 2\n",
    "Total = 2\n",
    "\n",
    "\"\"\"\n",
    "print(10 >> 2)\n",
    "print(11 >> 3)"
   ]
  },
  {
   "cell_type": "code",
   "execution_count": 30,
   "id": "38522d40",
   "metadata": {},
   "outputs": [
    {
     "name": "stdout",
     "output_type": "stream",
     "text": [
      "3\n"
     ]
    }
   ],
   "source": [
    "print(15 >> 2)"
   ]
  },
  {
   "cell_type": "code",
   "execution_count": 31,
   "id": "ccd3e621",
   "metadata": {},
   "outputs": [
    {
     "name": "stdout",
     "output_type": "stream",
     "text": [
      "1\n"
     ]
    }
   ],
   "source": [
    "print(16 >> 4)"
   ]
  },
  {
   "cell_type": "code",
   "execution_count": 3,
   "id": "62b855a5",
   "metadata": {},
   "outputs": [
    {
     "name": "stdout",
     "output_type": "stream",
     "text": [
      "2\n"
     ]
    }
   ],
   "source": [
    "print(10 >> 2)"
   ]
  },
  {
   "cell_type": "code",
   "execution_count": 4,
   "id": "fb5a4189",
   "metadata": {},
   "outputs": [
    {
     "name": "stdout",
     "output_type": "stream",
     "text": [
      "The Bitwise AND operator is  0\n",
      "The Bitwise OR operator is  14\n",
      "The Bitwise NOT operator is  -21\n",
      "The Bitwise XOR operator is  12\n",
      "The Bitwise Left shift operator is  72\n",
      "The Bitwise Right shift operator is  1\n"
     ]
    }
   ],
   "source": [
    "print(\"The Bitwise AND operator is \",8 & 7)\n",
    "print(\"The Bitwise OR operator is \",4 | 10)\n",
    "print(\"The Bitwise NOT operator is \",~20)\n",
    "print(\"The Bitwise XOR operator is \",15 ^ 3)\n",
    "print(\"The Bitwise Left shift operator is \",9 << 3)\n",
    "print(\"The Bitwise Right shift operator is \",9 >> 3)"
   ]
  },
  {
   "cell_type": "markdown",
   "id": "d27021e7",
   "metadata": {},
   "source": [
    "### Compound operators\n",
    "\n",
    "```\n",
    "Arithmetic assignment opoerator\n",
    "\n",
    "1.+=\n",
    "2.-=\n",
    "3.*=\n",
    "4./=\n",
    "5.%=\n",
    "\n",
    "Bitwise compound assignment operator\n",
    "\n",
    "1.&=\n",
    "2.|=\n",
    "3.^=\n",
    "4.<<=\n",
    "5.>>=\n",
    "\n",
    "Increment and Decrement operators\n",
    "\n",
    "1.++\n",
    "2.--  \n",
    "```"
   ]
  },
  {
   "cell_type": "code",
   "execution_count": 11,
   "id": "67667142",
   "metadata": {},
   "outputs": [
    {
     "name": "stdout",
     "output_type": "stream",
     "text": [
      "20\n",
      "10\n",
      "100\n",
      "10.0\n",
      "0.0\n"
     ]
    }
   ],
   "source": [
    "# Arithmetic assignment opoerator\n",
    "\n",
    "# +=\n",
    "# -=\n",
    "# *=\n",
    "# /=\n",
    "# %=\n",
    "\n",
    "a = 10\n",
    "a += 10\n",
    "print(a)\n",
    "\n",
    "a -= 10\n",
    "print(a)\n",
    "\n",
    "a *= 10\n",
    "print(a)\n",
    "\n",
    "a /= 10\n",
    "print(a)\n",
    "\n",
    "a %= 10\n",
    "print(a)"
   ]
  },
  {
   "cell_type": "code",
   "execution_count": 22,
   "id": "91779b6b",
   "metadata": {},
   "outputs": [
    {
     "name": "stdout",
     "output_type": "stream",
     "text": [
      "10\n",
      "10\n",
      "0\n",
      "10\n",
      "2\n"
     ]
    }
   ],
   "source": [
    "# Bitwise compound assignment operator\n",
    "\n",
    "# &=\n",
    "# |=\n",
    "# ^=\n",
    "# <<=\n",
    "# >>=\n",
    "\n",
    "a = 10\n",
    "b = 5\n",
    "a &= 10\n",
    "print(a)\n",
    "\n",
    "a |= 10\n",
    "print(a)\n",
    "\n",
    "a ^= 10\n",
    "print(a)\n",
    "\n",
    "b <<= 1\n",
    "print(b)\n",
    "\n",
    "b >>= 2\n",
    "print(b)"
   ]
  },
  {
   "cell_type": "code",
   "execution_count": 26,
   "id": "3e8f244d",
   "metadata": {},
   "outputs": [],
   "source": [
    "# Increment and Decrement operators\n",
    "\n",
    "# ++\n",
    "# --    "
   ]
  },
  {
   "cell_type": "markdown",
   "id": "61e9eeab",
   "metadata": {},
   "source": [
    "### Logical operators\n",
    "\n",
    "```\n",
    "1.AND\n",
    "2.OR\n",
    "3.NOT\n",
    "```"
   ]
  },
  {
   "cell_type": "code",
   "execution_count": 27,
   "id": "2af0642c",
   "metadata": {},
   "outputs": [
    {
     "name": "stdout",
     "output_type": "stream",
     "text": [
      "10\n"
     ]
    }
   ],
   "source": [
    "# AND\n",
    "x = 5\n",
    "y = 10\n",
    "print(x and y)"
   ]
  },
  {
   "cell_type": "code",
   "execution_count": 6,
   "id": "4cc0d0c2",
   "metadata": {},
   "outputs": [
    {
     "name": "stdout",
     "output_type": "stream",
     "text": [
      "5\n"
     ]
    }
   ],
   "source": [
    "x = 3\n",
    "y = 5\n",
    "print(x and y)"
   ]
  },
  {
   "cell_type": "code",
   "execution_count": 28,
   "id": "b904acf3",
   "metadata": {},
   "outputs": [
    {
     "name": "stdout",
     "output_type": "stream",
     "text": [
      "0\n"
     ]
    }
   ],
   "source": [
    "a = 0\n",
    "b = 5\n",
    "print(a and b)"
   ]
  },
  {
   "cell_type": "code",
   "execution_count": 32,
   "id": "dcf2f894",
   "metadata": {},
   "outputs": [
    {
     "name": "stdout",
     "output_type": "stream",
     "text": [
      "0\n"
     ]
    }
   ],
   "source": [
    "c = 0\n",
    "d = 0\n",
    "print(c and d)"
   ]
  },
  {
   "cell_type": "code",
   "execution_count": 30,
   "id": "d6ae9eda",
   "metadata": {},
   "outputs": [
    {
     "name": "stdout",
     "output_type": "stream",
     "text": [
      "10\n"
     ]
    }
   ],
   "source": [
    "# OR \n",
    "\n",
    "x = 10\n",
    "y = 0\n",
    "print(x or y)"
   ]
  },
  {
   "cell_type": "code",
   "execution_count": 7,
   "id": "7c396013",
   "metadata": {},
   "outputs": [
    {
     "name": "stdout",
     "output_type": "stream",
     "text": [
      "2\n"
     ]
    }
   ],
   "source": [
    "a = 2\n",
    "b = 5\n",
    "print(a or b)"
   ]
  },
  {
   "cell_type": "code",
   "execution_count": 33,
   "id": "93197527",
   "metadata": {},
   "outputs": [
    {
     "name": "stdout",
     "output_type": "stream",
     "text": [
      "10\n"
     ]
    }
   ],
   "source": [
    "a = 10\n",
    "b = 2\n",
    "print(a or b)"
   ]
  },
  {
   "cell_type": "code",
   "execution_count": 36,
   "id": "dd51d706",
   "metadata": {},
   "outputs": [
    {
     "data": {
      "text/plain": [
       "False"
      ]
     },
     "execution_count": 36,
     "metadata": {},
     "output_type": "execute_result"
    }
   ],
   "source": [
    "# NOT\n",
    "\n",
    "not(12 and 3)"
   ]
  },
  {
   "cell_type": "code",
   "execution_count": 39,
   "id": "c4ccc3f0",
   "metadata": {},
   "outputs": [
    {
     "data": {
      "text/plain": [
       "True"
      ]
     },
     "execution_count": 39,
     "metadata": {},
     "output_type": "execute_result"
    }
   ],
   "source": [
    "not 0"
   ]
  },
  {
   "cell_type": "code",
   "execution_count": 40,
   "id": "4589e0a3",
   "metadata": {},
   "outputs": [
    {
     "data": {
      "text/plain": [
       "False"
      ]
     },
     "execution_count": 40,
     "metadata": {},
     "output_type": "execute_result"
    }
   ],
   "source": [
    "not 1"
   ]
  },
  {
   "cell_type": "markdown",
   "id": "27ed2e1c",
   "metadata": {},
   "source": [
    "### Membership operators\n",
    "\n",
    "```\n",
    "1.in\n",
    "2.not in\n",
    "```"
   ]
  },
  {
   "cell_type": "code",
   "execution_count": 41,
   "id": "aae37dae",
   "metadata": {},
   "outputs": [
    {
     "data": {
      "text/plain": [
       "True"
      ]
     },
     "execution_count": 41,
     "metadata": {},
     "output_type": "execute_result"
    }
   ],
   "source": [
    "# in\n",
    "a = \"Haripriya\"\n",
    "\"a\" in a"
   ]
  },
  {
   "cell_type": "code",
   "execution_count": 51,
   "id": "6d7598dc",
   "metadata": {},
   "outputs": [
    {
     "data": {
      "text/plain": [
       "False"
      ]
     },
     "execution_count": 51,
     "metadata": {},
     "output_type": "execute_result"
    }
   ],
   "source": [
    "a = \"Haripriya\"\n",
    "\"h\" in a                 # python is case sensitive"
   ]
  },
  {
   "cell_type": "code",
   "execution_count": 52,
   "id": "19432a9b",
   "metadata": {},
   "outputs": [
    {
     "data": {
      "text/plain": [
       "False"
      ]
     },
     "execution_count": 52,
     "metadata": {},
     "output_type": "execute_result"
    }
   ],
   "source": [
    "# not in\n",
    "x = \"xyz\"\n",
    "\"y\" not in x"
   ]
  },
  {
   "cell_type": "markdown",
   "id": "047fa6cd",
   "metadata": {},
   "source": [
    "### Identity operators\n",
    "\n",
    "```\n",
    "1.is \n",
    "2.is not\n",
    "```"
   ]
  },
  {
   "cell_type": "code",
   "execution_count": 53,
   "id": "adbe4031",
   "metadata": {},
   "outputs": [
    {
     "name": "stdout",
     "output_type": "stream",
     "text": [
      "True\n"
     ]
    }
   ],
   "source": [
    "# This operator works with based on memory location of values\n",
    "# is\n",
    "\n",
    "a = 5\n",
    "b = 5\n",
    "print(a is b)"
   ]
  },
  {
   "cell_type": "code",
   "execution_count": 54,
   "id": "fbd3d5a4",
   "metadata": {},
   "outputs": [
    {
     "name": "stdout",
     "output_type": "stream",
     "text": [
      "True\n"
     ]
    }
   ],
   "source": [
    "# is not \n",
    "\n",
    "x = 5\n",
    "y = 10\n",
    "print(x is not y)"
   ]
  },
  {
   "cell_type": "code",
   "execution_count": null,
   "id": "0759f57b",
   "metadata": {},
   "outputs": [],
   "source": []
  }
 ],
 "metadata": {
  "kernelspec": {
   "display_name": "Python 3 (ipykernel)",
   "language": "python",
   "name": "python3"
  },
  "language_info": {
   "codemirror_mode": {
    "name": "ipython",
    "version": 3
   },
   "file_extension": ".py",
   "mimetype": "text/x-python",
   "name": "python",
   "nbconvert_exporter": "python",
   "pygments_lexer": "ipython3",
   "version": "3.9.19"
  }
 },
 "nbformat": 4,
 "nbformat_minor": 5
}
