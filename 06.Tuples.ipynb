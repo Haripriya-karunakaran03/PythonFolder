{
 "cells": [
  {
   "cell_type": "code",
   "execution_count": 1,
   "id": "bdc51516",
   "metadata": {},
   "outputs": [
    {
     "name": "stdout",
     "output_type": "stream",
     "text": [
      "<class 'tuple'>\n"
     ]
    }
   ],
   "source": [
    "T = (1,2,3,4,5)\n",
    "print(type(T))"
   ]
  },
  {
   "cell_type": "code",
   "execution_count": 2,
   "id": "bcfd589b",
   "metadata": {},
   "outputs": [
    {
     "name": "stdout",
     "output_type": "stream",
     "text": [
      "<class 'tuple'>\n"
     ]
    }
   ],
   "source": [
    "t = (1,1.5,\"Hari\",4+8j,True)\n",
    "print(type(t))"
   ]
  },
  {
   "cell_type": "code",
   "execution_count": 4,
   "id": "4ad24af4",
   "metadata": {},
   "outputs": [],
   "source": [
    "T1 = ([1,2,3,4],{1:10,2:20})   # Can store list and dictionary also"
   ]
  },
  {
   "cell_type": "code",
   "execution_count": 6,
   "id": "e2435424",
   "metadata": {},
   "outputs": [
    {
     "name": "stdout",
     "output_type": "stream",
     "text": [
      "<class 'tuple'>\n"
     ]
    }
   ],
   "source": [
    "T2 = (10,20,30,(\"Haripriya\",4+5j,True),100,10.5)  # nested tuple\n",
    "print(type(T2))"
   ]
  },
  {
   "cell_type": "code",
   "execution_count": 7,
   "id": "61fe4a09",
   "metadata": {},
   "outputs": [
    {
     "name": "stdout",
     "output_type": "stream",
     "text": [
      "6\n"
     ]
    }
   ],
   "source": [
    "T2 = (10,20,30,(\"Haripriya\",4+5j,True),100,10.5)\n",
    "print(len(T2))"
   ]
  },
  {
   "cell_type": "code",
   "execution_count": 13,
   "id": "771ac367",
   "metadata": {},
   "outputs": [
    {
     "data": {
      "text/plain": [
       "10"
      ]
     },
     "execution_count": 13,
     "metadata": {},
     "output_type": "execute_result"
    }
   ],
   "source": [
    "t = (10,20,30,40,50)\n",
    "min(t)"
   ]
  },
  {
   "cell_type": "code",
   "execution_count": 14,
   "id": "a51229db",
   "metadata": {},
   "outputs": [
    {
     "data": {
      "text/plain": [
       "50"
      ]
     },
     "execution_count": 14,
     "metadata": {},
     "output_type": "execute_result"
    }
   ],
   "source": [
    "t = (10,20,30,40,50)\n",
    "max(t)"
   ]
  },
  {
   "cell_type": "code",
   "execution_count": 11,
   "id": "adab128b",
   "metadata": {},
   "outputs": [
    {
     "name": "stdout",
     "output_type": "stream",
     "text": [
      "(10, 20, 30, 40, 50) <class 'tuple'>\n",
      "[10, 20, 30, 40, 50] <class 'list'>\n"
     ]
    }
   ],
   "source": [
    "# Type conversion between tuple to list and list to tuple is possible\n",
    "\n",
    "t = (10,20,30,40,50)\n",
    "l = list(t)\n",
    "print(t,type(t))\n",
    "print(l,type(l))"
   ]
  },
  {
   "cell_type": "code",
   "execution_count": 12,
   "id": "ccba4854",
   "metadata": {},
   "outputs": [
    {
     "name": "stdout",
     "output_type": "stream",
     "text": [
      "[10, 20, 30, 40, 50] <class 'list'>\n",
      "(10, 20, 30, 40, 50) <class 'tuple'>\n"
     ]
    }
   ],
   "source": [
    "l1 = [10,20,30,40,50]\n",
    "print(l1,type(l1))\n",
    "t1 = tuple(l1)\n",
    "print(t1,type(t1))"
   ]
  },
  {
   "cell_type": "code",
   "execution_count": 50,
   "id": "5f8d8950",
   "metadata": {},
   "outputs": [
    {
     "data": {
      "text/plain": [
       "('H', 'A', 'R', 'I', 'P', 'R', 'I', 'Y', 'A')"
      ]
     },
     "execution_count": 50,
     "metadata": {},
     "output_type": "execute_result"
    }
   ],
   "source": [
    "S = \"HARIPRIYA\"\n",
    "tuple(S)"
   ]
  },
  {
   "cell_type": "code",
   "execution_count": 34,
   "id": "c20d5bf6",
   "metadata": {},
   "outputs": [
    {
     "data": {
      "text/plain": [
       "(1, 2, 3, 4, 5, 6, 7, 8, 9, 10)"
      ]
     },
     "execution_count": 34,
     "metadata": {},
     "output_type": "execute_result"
    }
   ],
   "source": [
    "# concatenation\n",
    "a = (1,2,3,4,5)\n",
    "b = (6,7,8,9,10)\n",
    "a + b"
   ]
  },
  {
   "cell_type": "code",
   "execution_count": 37,
   "id": "05567eef",
   "metadata": {},
   "outputs": [
    {
     "ename": "TypeError",
     "evalue": "can only concatenate list (not \"tuple\") to list",
     "output_type": "error",
     "traceback": [
      "\u001b[1;31m---------------------------------------------------------------------------\u001b[0m",
      "\u001b[1;31mTypeError\u001b[0m                                 Traceback (most recent call last)",
      "Cell \u001b[1;32mIn[37], line 3\u001b[0m\n\u001b[0;32m      1\u001b[0m l \u001b[38;5;241m=\u001b[39m [\u001b[38;5;241m1\u001b[39m,\u001b[38;5;241m2\u001b[39m,\u001b[38;5;241m3\u001b[39m]\n\u001b[0;32m      2\u001b[0m t \u001b[38;5;241m=\u001b[39m (\u001b[38;5;241m2\u001b[39m,\u001b[38;5;241m4\u001b[39m,\u001b[38;5;241m6\u001b[39m)\n\u001b[1;32m----> 3\u001b[0m \u001b[38;5;28mprint\u001b[39m(l\u001b[38;5;241m+\u001b[39mt)\n",
      "\u001b[1;31mTypeError\u001b[0m: can only concatenate list (not \"tuple\") to list"
     ]
    }
   ],
   "source": [
    "l = [1,2,3]\n",
    "t = (2,4,6)\n",
    "print(l+t)"
   ]
  },
  {
   "cell_type": "code",
   "execution_count": 35,
   "id": "339b7df6",
   "metadata": {},
   "outputs": [
    {
     "data": {
      "text/plain": [
       "(1, 2, 3, 4, 5, 1, 2, 3, 4, 5)"
      ]
     },
     "execution_count": 35,
     "metadata": {},
     "output_type": "execute_result"
    }
   ],
   "source": [
    "# replication\n",
    "\n",
    "a = (1,2,3,4,5)\n",
    "a * 2"
   ]
  },
  {
   "cell_type": "code",
   "execution_count": 38,
   "id": "806ef5be",
   "metadata": {},
   "outputs": [
    {
     "name": "stdout",
     "output_type": "stream",
     "text": [
      "True\n",
      "True\n",
      "False\n"
     ]
    }
   ],
   "source": [
    "# membership\n",
    "\n",
    "a = (1,2,3,4,5)\n",
    "print(1 in a)\n",
    "print(2 in a)\n",
    "print(10 in a)"
   ]
  },
  {
   "cell_type": "code",
   "execution_count": 39,
   "id": "e7c832b4",
   "metadata": {},
   "outputs": [
    {
     "name": "stdout",
     "output_type": "stream",
     "text": [
      "1\n",
      "2\n",
      "3\n",
      "4\n",
      "5\n",
      "6\n",
      "7\n",
      "8\n",
      "9\n",
      "10\n"
     ]
    }
   ],
   "source": [
    "x = (1, 2, 3, 4, 5, 6, 7, 8, 9, 10)\n",
    "for i in x:\n",
    "    print(i)"
   ]
  },
  {
   "cell_type": "code",
   "execution_count": 41,
   "id": "363a2667",
   "metadata": {},
   "outputs": [
    {
     "name": "stdout",
     "output_type": "stream",
     "text": [
      "0 1\n",
      "1 2\n",
      "2 3\n",
      "3 4\n",
      "4 5\n",
      "5 6\n",
      "6 7\n",
      "7 8\n",
      "8 9\n",
      "9 10\n"
     ]
    }
   ],
   "source": [
    "x = (1, 2, 3, 4, 5, 6, 7, 8, 9, 10)\n",
    "for i in range(0,len(x)):\n",
    "    print(i,x[i])"
   ]
  },
  {
   "cell_type": "code",
   "execution_count": 75,
   "id": "41405d04",
   "metadata": {},
   "outputs": [
    {
     "name": "stdout",
     "output_type": "stream",
     "text": [
      "(0, 'Sunday')\n",
      "(1, 'Monday')\n",
      "(2, 'Tuesday')\n",
      "(3, 'Wednesday')\n",
      "(4, 'Thursday')\n",
      "(5, 'Friday')\n",
      "(6, 'Saturday')\n"
     ]
    }
   ],
   "source": [
    "\"\"\"\n",
    "Enumerate - It's a built-in function that allows you to iterate over an iterable (like a list, tuple, or string) and \n",
    "simultaneously access both the index (position) and the value of each element.\n",
    "It's particularly useful when you need to keep track of the iteration count or reference elements \n",
    "based on their index within a loop.\n",
    "\n",
    "\"\"\"\n",
    "\n",
    "tup = (\"Sunday\",\"Monday\",\"Tuesday\",\"Wednesday\",\"Thursday\",\"Friday\",\"Saturday\")\n",
    "\n",
    "for i in enumerate(tup):\n",
    "    print(i)"
   ]
  },
  {
   "cell_type": "code",
   "execution_count": 77,
   "id": "e4ebfb40",
   "metadata": {},
   "outputs": [
    {
     "name": "stdout",
     "output_type": "stream",
     "text": [
      "(2, 'Sunday')\n",
      "(3, 'Monday')\n",
      "(4, 'Tuesday')\n",
      "(5, 'Wednesday')\n",
      "(6, 'Thursday')\n",
      "(7, 'Friday')\n",
      "(8, 'Saturday')\n"
     ]
    }
   ],
   "source": [
    "tup = (\"Sunday\",\"Monday\",\"Tuesday\",\"Wednesday\",\"Thursday\",\"Friday\",\"Saturday\")\n",
    "\n",
    "for i in enumerate(tup,2):\n",
    "    print(i)"
   ]
  },
  {
   "cell_type": "code",
   "execution_count": 49,
   "id": "c2f4306f",
   "metadata": {},
   "outputs": [
    {
     "name": "stdout",
     "output_type": "stream",
     "text": [
      "-1\n",
      "1\n",
      "0\n"
     ]
    }
   ],
   "source": [
    "# cmp()\n",
    "\n",
    "def cmp(t1,t2):\n",
    "    return bool(t1 > t2) - bool(t1 < t2)\n",
    "print(cmp((1,2,3),(2,3,4)))      # t1 is lesser than t2 becoz it gives -1 as output\n",
    "\n",
    "def cmp(t3,t4):\n",
    "    return bool(t3 > t4) - bool(t3 < t4)\n",
    "print(cmp((4,5,6),(1,2,3)))      # t3 is greater than t4 becoz it gives 1 as output\n",
    "\n",
    "def cmp(t5,t6):\n",
    "    return bool(t5 > t6) - bool(t5 < t6)\n",
    "print(cmp((4,5,6),(4,5,6)))     # # t5 is equal to t6 becoz it gives 0 as output"
   ]
  },
  {
   "cell_type": "markdown",
   "id": "5b67f517",
   "metadata": {},
   "source": [
    "### Fact"
   ]
  },
  {
   "cell_type": "code",
   "execution_count": 72,
   "id": "7855707a",
   "metadata": {},
   "outputs": [
    {
     "name": "stdout",
     "output_type": "stream",
     "text": [
      "<class 'str'>\n",
      "<class 'int'>\n"
     ]
    }
   ],
   "source": [
    "# if a tuple includes only one element, you should put a comma after the element. Otherwise, it is not considered as a tuple\n",
    "  \n",
    "my_tuple = (\"apple\")    # it also enclosed with () but the type is string ...\n",
    "print(type(my_tuple))\n",
    "\n",
    "my_tup_num = (10)\n",
    "print(type(my_tup_num))"
   ]
  },
  {
   "cell_type": "code",
   "execution_count": 73,
   "id": "aff46fbe",
   "metadata": {},
   "outputs": [
    {
     "name": "stdout",
     "output_type": "stream",
     "text": [
      "<class 'tuple'>\n",
      "<class 'tuple'>\n"
     ]
    }
   ],
   "source": [
    "my_tuple = (\"apple\",)  # to make one element in the tuple,do separate it with comma\n",
    "print(type(my_tuple))\n",
    "\n",
    "my_tup_num = (10,)\n",
    "print(type(my_tup_num))"
   ]
  },
  {
   "cell_type": "markdown",
   "id": "2c18aba3",
   "metadata": {},
   "source": [
    "### Indexing"
   ]
  },
  {
   "cell_type": "code",
   "execution_count": 15,
   "id": "ca5175ec",
   "metadata": {},
   "outputs": [],
   "source": [
    "tup = (\"Sunday\",\"Monday\",\"Tuesday\",\"Wednesday\",\"Thursday\",\"Friday\",\"Saturday\")"
   ]
  },
  {
   "cell_type": "code",
   "execution_count": 16,
   "id": "25ab837d",
   "metadata": {},
   "outputs": [
    {
     "data": {
      "text/plain": [
       "'Sunday'"
      ]
     },
     "execution_count": 16,
     "metadata": {},
     "output_type": "execute_result"
    }
   ],
   "source": [
    "tup[0]"
   ]
  },
  {
   "cell_type": "code",
   "execution_count": 17,
   "id": "9630a6d8",
   "metadata": {},
   "outputs": [
    {
     "data": {
      "text/plain": [
       "'Monday'"
      ]
     },
     "execution_count": 17,
     "metadata": {},
     "output_type": "execute_result"
    }
   ],
   "source": [
    "tup[1]"
   ]
  },
  {
   "cell_type": "code",
   "execution_count": 18,
   "id": "37989c0d",
   "metadata": {},
   "outputs": [
    {
     "data": {
      "text/plain": [
       "'Saturday'"
      ]
     },
     "execution_count": 18,
     "metadata": {},
     "output_type": "execute_result"
    }
   ],
   "source": [
    "tup[-1]"
   ]
  },
  {
   "cell_type": "code",
   "execution_count": 19,
   "id": "40b3b331",
   "metadata": {},
   "outputs": [
    {
     "data": {
      "text/plain": [
       "'Friday'"
      ]
     },
     "execution_count": 19,
     "metadata": {},
     "output_type": "execute_result"
    }
   ],
   "source": [
    "tup[-2]"
   ]
  },
  {
   "cell_type": "code",
   "execution_count": 20,
   "id": "b5eee8d2",
   "metadata": {},
   "outputs": [
    {
     "data": {
      "text/plain": [
       "'Wednesday'"
      ]
     },
     "execution_count": 20,
     "metadata": {},
     "output_type": "execute_result"
    }
   ],
   "source": [
    "tup[3]"
   ]
  },
  {
   "cell_type": "code",
   "execution_count": 30,
   "id": "97f64fdb",
   "metadata": {},
   "outputs": [
    {
     "ename": "IndexError",
     "evalue": "tuple index out of range",
     "output_type": "error",
     "traceback": [
      "\u001b[1;31m---------------------------------------------------------------------------\u001b[0m",
      "\u001b[1;31mIndexError\u001b[0m                                Traceback (most recent call last)",
      "Cell \u001b[1;32mIn[30], line 1\u001b[0m\n\u001b[1;32m----> 1\u001b[0m tup[\u001b[38;5;241m100\u001b[39m]\n",
      "\u001b[1;31mIndexError\u001b[0m: tuple index out of range"
     ]
    }
   ],
   "source": [
    "tup[100]    # There is no 100th index"
   ]
  },
  {
   "cell_type": "code",
   "execution_count": 21,
   "id": "0737ff54",
   "metadata": {},
   "outputs": [
    {
     "data": {
      "text/plain": [
       "'Haripriya'"
      ]
     },
     "execution_count": 21,
     "metadata": {},
     "output_type": "execute_result"
    }
   ],
   "source": [
    "T2 = (10,20,30,(\"Haripriya\",4+5j,True),100,10.5) # Nested indexing\n",
    "T2[3][0]"
   ]
  },
  {
   "cell_type": "markdown",
   "id": "bcd241ef",
   "metadata": {},
   "source": [
    "### Slicing"
   ]
  },
  {
   "cell_type": "code",
   "execution_count": 22,
   "id": "a2ee8115",
   "metadata": {},
   "outputs": [
    {
     "data": {
      "text/plain": [
       "('Sunday', 'Monday', 'Tuesday', 'Wednesday')"
      ]
     },
     "execution_count": 22,
     "metadata": {},
     "output_type": "execute_result"
    }
   ],
   "source": [
    "tup = (\"Sunday\",\"Monday\",\"Tuesday\",\"Wednesday\",\"Thursday\",\"Friday\",\"Saturday\")\n",
    "tup[0:4]"
   ]
  },
  {
   "cell_type": "code",
   "execution_count": 23,
   "id": "b5047681",
   "metadata": {},
   "outputs": [
    {
     "data": {
      "text/plain": [
       "()"
      ]
     },
     "execution_count": 23,
     "metadata": {},
     "output_type": "execute_result"
    }
   ],
   "source": [
    "tup[0:4:-1]"
   ]
  },
  {
   "cell_type": "code",
   "execution_count": 24,
   "id": "0dacb919",
   "metadata": {},
   "outputs": [
    {
     "data": {
      "text/plain": [
       "('Saturday', 'Friday', 'Thursday', 'Wednesday', 'Tuesday', 'Monday', 'Sunday')"
      ]
     },
     "execution_count": 24,
     "metadata": {},
     "output_type": "execute_result"
    }
   ],
   "source": [
    "tup[::-1]"
   ]
  },
  {
   "cell_type": "code",
   "execution_count": 25,
   "id": "bb01d3ff",
   "metadata": {},
   "outputs": [
    {
     "data": {
      "text/plain": [
       "()"
      ]
     },
     "execution_count": 25,
     "metadata": {},
     "output_type": "execute_result"
    }
   ],
   "source": [
    "tup[-1:-5]"
   ]
  },
  {
   "cell_type": "code",
   "execution_count": 26,
   "id": "2811fee1",
   "metadata": {},
   "outputs": [
    {
     "data": {
      "text/plain": [
       "('Saturday', 'Friday', 'Thursday', 'Wednesday')"
      ]
     },
     "execution_count": 26,
     "metadata": {},
     "output_type": "execute_result"
    }
   ],
   "source": [
    "tup[-1:-5:-1]"
   ]
  },
  {
   "cell_type": "code",
   "execution_count": 27,
   "id": "ee8ad438",
   "metadata": {},
   "outputs": [
    {
     "data": {
      "text/plain": [
       "('Sunday', 'Monday', 'Tuesday', 'Wednesday', 'Thursday', 'Friday', 'Saturday')"
      ]
     },
     "execution_count": 27,
     "metadata": {},
     "output_type": "execute_result"
    }
   ],
   "source": [
    "tup[0:]"
   ]
  },
  {
   "cell_type": "code",
   "execution_count": 28,
   "id": "3ebbaa52",
   "metadata": {},
   "outputs": [
    {
     "data": {
      "text/plain": [
       "('Sunday', 'Monday', 'Tuesday', 'Wednesday', 'Thursday', 'Friday', 'Saturday')"
      ]
     },
     "execution_count": 28,
     "metadata": {},
     "output_type": "execute_result"
    }
   ],
   "source": [
    "tup[::]"
   ]
  },
  {
   "cell_type": "code",
   "execution_count": 31,
   "id": "d227c9ee",
   "metadata": {},
   "outputs": [
    {
     "data": {
      "text/plain": [
       "('Sunday', 'Monday', 'Tuesday', 'Wednesday', 'Thursday', 'Friday', 'Saturday')"
      ]
     },
     "execution_count": 31,
     "metadata": {},
     "output_type": "execute_result"
    }
   ],
   "source": [
    "tup[:300]"
   ]
  },
  {
   "cell_type": "code",
   "execution_count": 32,
   "id": "8d814ed9",
   "metadata": {},
   "outputs": [
    {
     "data": {
      "text/plain": [
       "('Sunday', 'Monday', 'Tuesday', 'Wednesday', 'Thursday', 'Friday', 'Saturday')"
      ]
     },
     "execution_count": 32,
     "metadata": {},
     "output_type": "execute_result"
    }
   ],
   "source": [
    "tup[:]"
   ]
  },
  {
   "cell_type": "markdown",
   "id": "614bd5c1",
   "metadata": {},
   "source": [
    "### Basic methods"
   ]
  },
  {
   "cell_type": "code",
   "execution_count": 51,
   "id": "545855df",
   "metadata": {},
   "outputs": [
    {
     "data": {
      "text/plain": [
       "11"
      ]
     },
     "execution_count": 51,
     "metadata": {},
     "output_type": "execute_result"
    }
   ],
   "source": [
    "# len()\n",
    "t = (1,2,8,0,4,10,3,5,6,2,7)\n",
    "len(t)"
   ]
  },
  {
   "cell_type": "code",
   "execution_count": 52,
   "id": "d63a8c8b",
   "metadata": {},
   "outputs": [
    {
     "data": {
      "text/plain": [
       "10"
      ]
     },
     "execution_count": 52,
     "metadata": {},
     "output_type": "execute_result"
    }
   ],
   "source": [
    "# max()\n",
    "max(t)"
   ]
  },
  {
   "cell_type": "code",
   "execution_count": 53,
   "id": "58b70d1f",
   "metadata": {},
   "outputs": [
    {
     "data": {
      "text/plain": [
       "0"
      ]
     },
     "execution_count": 53,
     "metadata": {},
     "output_type": "execute_result"
    }
   ],
   "source": [
    "# min()\n",
    "min(t)"
   ]
  },
  {
   "cell_type": "code",
   "execution_count": 38,
   "id": "e7faedfa",
   "metadata": {},
   "outputs": [
    {
     "ename": "AttributeError",
     "evalue": "'tuple' object has no attribute 'sort'",
     "output_type": "error",
     "traceback": [
      "\u001b[1;31m---------------------------------------------------------------------------\u001b[0m",
      "\u001b[1;31mAttributeError\u001b[0m                            Traceback (most recent call last)",
      "Cell \u001b[1;32mIn[38], line 2\u001b[0m\n\u001b[0;32m      1\u001b[0m t \u001b[38;5;241m=\u001b[39m (\u001b[38;5;241m1\u001b[39m,\u001b[38;5;241m2\u001b[39m,\u001b[38;5;241m8\u001b[39m,\u001b[38;5;241m0\u001b[39m,\u001b[38;5;241m4\u001b[39m,\u001b[38;5;241m10\u001b[39m,\u001b[38;5;241m3\u001b[39m,\u001b[38;5;241m5\u001b[39m,\u001b[38;5;241m6\u001b[39m,\u001b[38;5;241m2\u001b[39m,\u001b[38;5;241m7\u001b[39m)\n\u001b[1;32m----> 2\u001b[0m t\u001b[38;5;241m.\u001b[39msort()\n",
      "\u001b[1;31mAttributeError\u001b[0m: 'tuple' object has no attribute 'sort'"
     ]
    }
   ],
   "source": [
    "t = (1,2,8,0,4,10,3,5,6,2,7)\n",
    "t.sort()"
   ]
  },
  {
   "cell_type": "code",
   "execution_count": 43,
   "id": "9824336d",
   "metadata": {},
   "outputs": [
    {
     "name": "stdout",
     "output_type": "stream",
     "text": [
      "(0, 1, 2, 2, 3, 4, 5, 6, 7, 8, 10)\n",
      "(10, 8, 7, 6, 5, 4, 3, 2, 2, 1, 0)\n"
     ]
    }
   ],
   "source": [
    "t = (1,2,8,0,4,10,3,5,6,2,7)\n",
    "print(tuple(sorted(tuple(t))))\n",
    "\n",
    "print(tuple(sorted(t,reverse = True)))\n"
   ]
  },
  {
   "cell_type": "code",
   "execution_count": 56,
   "id": "31db72cb",
   "metadata": {},
   "outputs": [
    {
     "data": {
      "text/plain": [
       "[0, 1, 2, 2, 3, 4, 5, 6, 7, 8, 10]"
      ]
     },
     "execution_count": 56,
     "metadata": {},
     "output_type": "execute_result"
    }
   ],
   "source": [
    "sorted(t)"
   ]
  },
  {
   "cell_type": "markdown",
   "id": "d6f92c6e",
   "metadata": {},
   "source": [
    "### Tuples are immutable!!!"
   ]
  },
  {
   "cell_type": "code",
   "execution_count": 60,
   "id": "a410739b",
   "metadata": {},
   "outputs": [
    {
     "name": "stdout",
     "output_type": "stream",
     "text": [
      "-----list------\n",
      "[2, 10, 4, 3, 6, 14, 30]\n",
      "------tuple-------\n"
     ]
    },
    {
     "ename": "AttributeError",
     "evalue": "'tuple' object has no attribute 'remove'",
     "output_type": "error",
     "traceback": [
      "\u001b[1;31m---------------------------------------------------------------------------\u001b[0m",
      "\u001b[1;31mAttributeError\u001b[0m                            Traceback (most recent call last)",
      "Cell \u001b[1;32mIn[60], line 9\u001b[0m\n\u001b[0;32m      7\u001b[0m \u001b[38;5;28mprint\u001b[39m(\u001b[38;5;124m\"\u001b[39m\u001b[38;5;124m------tuple-------\u001b[39m\u001b[38;5;124m\"\u001b[39m)\n\u001b[0;32m      8\u001b[0m t \u001b[38;5;241m=\u001b[39m (\u001b[38;5;241m1\u001b[39m,\u001b[38;5;241m2\u001b[39m,\u001b[38;5;241m10\u001b[39m,\u001b[38;5;241m4\u001b[39m,\u001b[38;5;241m3\u001b[39m,\u001b[38;5;241m6\u001b[39m,\u001b[38;5;241m14\u001b[39m,\u001b[38;5;241m30\u001b[39m)\n\u001b[1;32m----> 9\u001b[0m t\u001b[38;5;241m.\u001b[39mremove(\u001b[38;5;241m1\u001b[39m)\n",
      "\u001b[1;31mAttributeError\u001b[0m: 'tuple' object has no attribute 'remove'"
     ]
    }
   ],
   "source": [
    "# we cant either remove or add elements in tuple\n",
    "\n",
    "print(\"-----list------\")\n",
    "l = [1,2,10,4,3,6,14,30]\n",
    "l.remove(1)\n",
    "print(l)\n",
    "print(\"------tuple-------\")\n",
    "t = (1,2,10,4,3,6,14,30)\n",
    "t.remove(1)"
   ]
  },
  {
   "cell_type": "code",
   "execution_count": 61,
   "id": "3baa5f92",
   "metadata": {},
   "outputs": [
    {
     "name": "stdout",
     "output_type": "stream",
     "text": [
      "-----list------\n",
      "[2, 10, 4, 3, 6, 14, 30]\n",
      "------tuple-------\n"
     ]
    },
    {
     "ename": "TypeError",
     "evalue": "'tuple' object doesn't support item deletion",
     "output_type": "error",
     "traceback": [
      "\u001b[1;31m---------------------------------------------------------------------------\u001b[0m",
      "\u001b[1;31mTypeError\u001b[0m                                 Traceback (most recent call last)",
      "Cell \u001b[1;32mIn[61], line 7\u001b[0m\n\u001b[0;32m      5\u001b[0m \u001b[38;5;28mprint\u001b[39m(\u001b[38;5;124m\"\u001b[39m\u001b[38;5;124m------tuple-------\u001b[39m\u001b[38;5;124m\"\u001b[39m)\n\u001b[0;32m      6\u001b[0m t \u001b[38;5;241m=\u001b[39m (\u001b[38;5;241m1\u001b[39m,\u001b[38;5;241m2\u001b[39m,\u001b[38;5;241m10\u001b[39m,\u001b[38;5;241m4\u001b[39m,\u001b[38;5;241m3\u001b[39m,\u001b[38;5;241m6\u001b[39m,\u001b[38;5;241m14\u001b[39m,\u001b[38;5;241m30\u001b[39m)\n\u001b[1;32m----> 7\u001b[0m \u001b[38;5;28;01mdel\u001b[39;00m t[\u001b[38;5;241m0\u001b[39m]\n",
      "\u001b[1;31mTypeError\u001b[0m: 'tuple' object doesn't support item deletion"
     ]
    }
   ],
   "source": [
    "print(\"-----list------\")\n",
    "l = [1,2,10,4,3,6,14,30]\n",
    "del l[0]\n",
    "print(l)\n",
    "print(\"------tuple-------\")\n",
    "t = (1,2,10,4,3,6,14,30)\n",
    "del t[0]      # since tuple is immutable ,we cant remove any elements which will change the tuple"
   ]
  },
  {
   "cell_type": "code",
   "execution_count": 62,
   "id": "299fe7fb",
   "metadata": {},
   "outputs": [
    {
     "name": "stdout",
     "output_type": "stream",
     "text": [
      "-----list------\n",
      "[1000, 2, 10, 4, 3, 6, 14, 30]\n",
      "------tuple-------\n"
     ]
    },
    {
     "ename": "TypeError",
     "evalue": "'tuple' object does not support item assignment",
     "output_type": "error",
     "traceback": [
      "\u001b[1;31m---------------------------------------------------------------------------\u001b[0m",
      "\u001b[1;31mTypeError\u001b[0m                                 Traceback (most recent call last)",
      "Cell \u001b[1;32mIn[62], line 7\u001b[0m\n\u001b[0;32m      5\u001b[0m \u001b[38;5;28mprint\u001b[39m(\u001b[38;5;124m\"\u001b[39m\u001b[38;5;124m------tuple-------\u001b[39m\u001b[38;5;124m\"\u001b[39m)\n\u001b[0;32m      6\u001b[0m t \u001b[38;5;241m=\u001b[39m (\u001b[38;5;241m1\u001b[39m,\u001b[38;5;241m2\u001b[39m,\u001b[38;5;241m10\u001b[39m,\u001b[38;5;241m4\u001b[39m,\u001b[38;5;241m3\u001b[39m,\u001b[38;5;241m6\u001b[39m,\u001b[38;5;241m14\u001b[39m,\u001b[38;5;241m30\u001b[39m)\n\u001b[1;32m----> 7\u001b[0m t[\u001b[38;5;241m0\u001b[39m] \u001b[38;5;241m=\u001b[39m \u001b[38;5;241m1000\u001b[39m\n",
      "\u001b[1;31mTypeError\u001b[0m: 'tuple' object does not support item assignment"
     ]
    }
   ],
   "source": [
    "print(\"-----list------\")\n",
    "l = [1,2,10,4,3,6,14,30]\n",
    "l[0] = 1000\n",
    "print(l)\n",
    "print(\"------tuple-------\")\n",
    "t = (1,2,10,4,3,6,14,30)      # we cant even change the value in tuple\n",
    "t[0] = 1000"
   ]
  },
  {
   "cell_type": "code",
   "execution_count": 63,
   "id": "405487c6",
   "metadata": {},
   "outputs": [],
   "source": [
    "# An element in a tuple can not be deleted since it is immutable.\n",
    "# But a whole tuple can be deleted\n",
    "\n",
    "t1 = (74,2,3,2)\n",
    "del t1"
   ]
  },
  {
   "cell_type": "code",
   "execution_count": 64,
   "id": "ac9c99a9",
   "metadata": {},
   "outputs": [
    {
     "ename": "NameError",
     "evalue": "name 't1' is not defined",
     "output_type": "error",
     "traceback": [
      "\u001b[1;31m---------------------------------------------------------------------------\u001b[0m",
      "\u001b[1;31mNameError\u001b[0m                                 Traceback (most recent call last)",
      "Cell \u001b[1;32mIn[64], line 1\u001b[0m\n\u001b[1;32m----> 1\u001b[0m t1\n",
      "\u001b[1;31mNameError\u001b[0m: name 't1' is not defined"
     ]
    }
   ],
   "source": [
    "t1"
   ]
  },
  {
   "cell_type": "markdown",
   "id": "07261aed",
   "metadata": {},
   "source": [
    "### Tuple is ordered too!!!"
   ]
  },
  {
   "cell_type": "code",
   "execution_count": 66,
   "id": "c11a45c2",
   "metadata": {},
   "outputs": [
    {
     "data": {
      "text/plain": [
       "False"
      ]
     },
     "execution_count": 66,
     "metadata": {},
     "output_type": "execute_result"
    }
   ],
   "source": [
    "t = (1,2,4,6,1,9,4)   # both tuples has same values but those are not equal becox the order is different\n",
    "t1 = (1,4,2,6,1,9,4)\n",
    "\n",
    "t == t1"
   ]
  },
  {
   "cell_type": "code",
   "execution_count": 67,
   "id": "dcdd3a1f",
   "metadata": {},
   "outputs": [
    {
     "data": {
      "text/plain": [
       "True"
      ]
     },
     "execution_count": 67,
     "metadata": {},
     "output_type": "execute_result"
    }
   ],
   "source": [
    "t = (1,2,4,6,1,9,4)\n",
    "t1 = (1,2,4,6,1,9,4)\n",
    "\n",
    "t == t1"
   ]
  },
  {
   "cell_type": "markdown",
   "id": "32ae78ab",
   "metadata": {},
   "source": [
    "### Tuple inbuild methods"
   ]
  },
  {
   "cell_type": "code",
   "execution_count": 79,
   "id": "f8d13cee",
   "metadata": {},
   "outputs": [
    {
     "data": {
      "text/plain": [
       "1"
      ]
     },
     "execution_count": 79,
     "metadata": {},
     "output_type": "execute_result"
    }
   ],
   "source": [
    "# we have only two inbuild methods which is becoz the tuple is immutable\n",
    "tup = (\"Sunday\",\"Monday\",\"Tuesday\",\"Wednesday\",\"Thursday\",\"Friday\",\"Saturday\")\n",
    "\n",
    "tup.count(\"Sunday\")"
   ]
  },
  {
   "cell_type": "code",
   "execution_count": 80,
   "id": "b18a05c2",
   "metadata": {},
   "outputs": [
    {
     "data": {
      "text/plain": [
       "3"
      ]
     },
     "execution_count": 80,
     "metadata": {},
     "output_type": "execute_result"
    }
   ],
   "source": [
    "# count() helps to find the number of times the particular element has occured\n",
    "\n",
    "t = (1,2,3,1,4,3,2,5,6,2)\n",
    "t.count(2)"
   ]
  },
  {
   "cell_type": "code",
   "execution_count": 81,
   "id": "6c752e32",
   "metadata": {},
   "outputs": [
    {
     "data": {
      "text/plain": [
       "1"
      ]
     },
     "execution_count": 81,
     "metadata": {},
     "output_type": "execute_result"
    }
   ],
   "source": [
    "# index() helps to find the index of specified element\n",
    "\n",
    "t.index(2)"
   ]
  },
  {
   "cell_type": "code",
   "execution_count": 82,
   "id": "0f42976e",
   "metadata": {},
   "outputs": [
    {
     "ename": "ValueError",
     "evalue": "tuple.index(x): x not in tuple",
     "output_type": "error",
     "traceback": [
      "\u001b[1;31m---------------------------------------------------------------------------\u001b[0m",
      "\u001b[1;31mValueError\u001b[0m                                Traceback (most recent call last)",
      "Cell \u001b[1;32mIn[82], line 1\u001b[0m\n\u001b[1;32m----> 1\u001b[0m t\u001b[38;5;241m.\u001b[39mindex(\u001b[38;5;241m10\u001b[39m)\n",
      "\u001b[1;31mValueError\u001b[0m: tuple.index(x): x not in tuple"
     ]
    }
   ],
   "source": [
    "t.index(10)"
   ]
  },
  {
   "cell_type": "code",
   "execution_count": 84,
   "id": "15ab2ceb",
   "metadata": {},
   "outputs": [
    {
     "data": {
      "text/plain": [
       "[1, 1, 2, 2, 2, 3, 3, 4, 5, 6]"
      ]
     },
     "execution_count": 84,
     "metadata": {},
     "output_type": "execute_result"
    }
   ],
   "source": [
    "# sorted\n",
    "\n",
    "t = (1,2,3,1,4,3,2,5,6,2)\n",
    "sorted(t)"
   ]
  },
  {
   "cell_type": "code",
   "execution_count": 85,
   "id": "02510748",
   "metadata": {},
   "outputs": [
    {
     "data": {
      "text/plain": [
       "[6, 5, 4, 3, 3, 2, 2, 2, 1, 1]"
      ]
     },
     "execution_count": 85,
     "metadata": {},
     "output_type": "execute_result"
    }
   ],
   "source": [
    "sorted(t,reverse = True)"
   ]
  },
  {
   "cell_type": "markdown",
   "id": "9b917dd4",
   "metadata": {},
   "source": [
    "### Udemy exercises"
   ]
  },
  {
   "cell_type": "markdown",
   "id": "b51ed55b",
   "metadata": {},
   "source": [
    "#### Exercise 50\n",
    "```\n",
    "Two following tuples are given:\n",
    "\n",
    "dji1 = ('AAPL.US', 'IBM.US', 'MSFT.US')\n",
    "dji2 = ('HD.US', 'GS.US', 'NKE.US')\n",
    "\n",
    "\n",
    "Combine these tuples into one as shown below and print the result to the console.\n",
    "\n",
    "Expected result:\n",
    "('AAPL.US', 'IBM.US', 'MSFT.US', 'HD.US', 'GS.US', 'NKE.US')\n",
    "```"
   ]
  },
  {
   "cell_type": "code",
   "execution_count": 1,
   "id": "0d050146",
   "metadata": {},
   "outputs": [
    {
     "name": "stdout",
     "output_type": "stream",
     "text": [
      "('AAPL.US', 'IBM.US', 'MSFT.US', 'HD.US', 'GS.US', 'NKE.US')\n"
     ]
    }
   ],
   "source": [
    "dji1 = ('AAPL.US', 'IBM.US', 'MSFT.US')\n",
    "dji2 = ('HD.US', 'GS.US', 'NKE.US')\n",
    "print(dji1+dji2)"
   ]
  },
  {
   "cell_type": "markdown",
   "id": "36d3841a",
   "metadata": {},
   "source": [
    "#### Exercise 51\n",
    "```\n",
    "The following tuples are given:\n",
    "\n",
    "dji1 = ('AAPL.US', 'IBM.US', 'MSFT.US')\n",
    "dji2 = ('HD.US', 'GS.US', 'NKE.US')\n",
    "\n",
    "\n",
    "Nest these tuples into one tuple as shown below and print the result to the console.\n",
    "\n",
    "Expected result:\n",
    "\n",
    "(('AAPL.US', 'IBM.US', 'MSFT.US'), ('HD.US', 'GS.US', 'NKE.US'))\n",
    "```"
   ]
  },
  {
   "cell_type": "code",
   "execution_count": 9,
   "id": "6b442cb3",
   "metadata": {},
   "outputs": [
    {
     "name": "stdout",
     "output_type": "stream",
     "text": [
      "(('AAPL.US', 'IBM.US', 'MSFT.US'),('HD.US', 'GS.US', 'NKE.US'))\n"
     ]
    }
   ],
   "source": [
    "dji1 = ('AAPL.US', 'IBM.US', 'MSFT.US')\n",
    "dji2 = ('HD.US', 'GS.US', 'NKE.US')\n",
    "print(f\"({dji1},{dji2})\")"
   ]
  },
  {
   "cell_type": "code",
   "execution_count": 10,
   "id": "1b6a347b",
   "metadata": {},
   "outputs": [
    {
     "name": "stdout",
     "output_type": "stream",
     "text": [
      "(('AAPL.US', 'IBM.US', 'MSFT.US'), ('HD.US', 'GS.US', 'NKE.US'))\n"
     ]
    }
   ],
   "source": [
    "# correct format\n",
    "dji1 = ('AAPL.US', 'IBM.US', 'MSFT.US')\n",
    "dji2 = ('HD.US', 'GS.US', 'NKE.US')\n",
    "result = (dji1,dji2)\n",
    "print(result)"
   ]
  },
  {
   "cell_type": "code",
   "execution_count": 12,
   "id": "565c806f",
   "metadata": {},
   "outputs": [
    {
     "name": "stdout",
     "output_type": "stream",
     "text": [
      "(('AAPL.US', 'IBM.US', 'MSFT.US'), ('HD.US', 'GS.US', 'NKE.US'))\n"
     ]
    }
   ],
   "source": [
    "dji1 = ('AAPL.US', 'IBM.US', 'MSFT.US')\n",
    "dji2 = ('HD.US', 'GS.US', 'NKE.US')\n",
    "print((dji1,dji2))"
   ]
  },
  {
   "cell_type": "markdown",
   "id": "6ce444ce",
   "metadata": {},
   "source": [
    "#### Exercise 52\n",
    "```\n",
    "Tuples are immutable. The following tuple is given:\n",
    "\n",
    "members = (('Kate', 23), ('Tom', 19))\n",
    "\n",
    "Insert a tuple ('John', 26) between Kate and Tom as shown below. Print the result to the console.\n",
    "\n",
    "Tip: You have to create a new tuple.\n",
    "\n",
    "Expected result:\n",
    "(('Kate', 23), ('John', 26), ('Tom', 19))\n",
    "```"
   ]
  },
  {
   "cell_type": "code",
   "execution_count": 20,
   "id": "f54b6873",
   "metadata": {},
   "outputs": [
    {
     "name": "stdout",
     "output_type": "stream",
     "text": [
      "(('Kate', 23), ('John', 26), ('Tom', 19))\n"
     ]
    }
   ],
   "source": [
    "members = (('Kate', 23), ('Tom', 19))\n",
    "\n",
    "members = (members[0],('John', 26),members[1])\n",
    "print(members)"
   ]
  },
  {
   "cell_type": "markdown",
   "id": "379fbc3e",
   "metadata": {},
   "source": [
    "#### Exercise 53\n",
    "```\n",
    "The following tuple is given:\n",
    "\n",
    "default = ('YES', 'NO', 'NO', 'YES', 'NO')\n",
    "\n",
    "Using the appropriate method return the number of occurrences of the string 'YES' and print the result to the console as shown below.\n",
    "\n",
    "Expected result:\n",
    "Number of occurrences: 2\n",
    "```"
   ]
  },
  {
   "cell_type": "code",
   "execution_count": 24,
   "id": "fd3b21c6",
   "metadata": {},
   "outputs": [
    {
     "name": "stdout",
     "output_type": "stream",
     "text": [
      "Number of occurrences: 2\n"
     ]
    }
   ],
   "source": [
    "default = ('YES', 'NO', 'NO', 'YES', 'NO')\n",
    "print(f\"Number of occurrences: {default.count('YES')}\")"
   ]
  },
  {
   "cell_type": "markdown",
   "id": "d9a965e2",
   "metadata": {},
   "source": [
    "#### Exercise 54\n",
    "```\n",
    "Sort the given tuple (from A to Z):\n",
    "\n",
    "names = ('Monica', 'Tom', 'John', 'Michael')\n",
    "\n",
    "Print the sorted tuple to the console as shown below.\n",
    "\n",
    "Expected result:\n",
    "('John', 'Michael', 'Monica', 'Tom')\n",
    "```"
   ]
  },
  {
   "cell_type": "code",
   "execution_count": 27,
   "id": "c9b0f33f",
   "metadata": {},
   "outputs": [
    {
     "name": "stdout",
     "output_type": "stream",
     "text": [
      "('John', 'Michael', 'Monica', 'Tom')\n"
     ]
    }
   ],
   "source": [
    "names = ('Monica', 'Tom', 'John', 'Michael')\n",
    "print(tuple(sorted(names)))"
   ]
  },
  {
   "cell_type": "markdown",
   "id": "6808aa52",
   "metadata": {},
   "source": [
    "#### Exercise 55\n",
    "```\n",
    "The following tuple is given (name, age):\n",
    "\n",
    "info = (('Monica', 19), ('Tom', 21), ('John', 18))\n",
    "\n",
    "Sort this tuple:\n",
    "\n",
    "ascending by age\n",
    "\n",
    "descending by age\n",
    "\n",
    "And print the result to the console as shown below.\n",
    "\n",
    "Expected result:\n",
    "Ascending: (('John', 18), ('Monica', 19), ('Tom', 21))\n",
    "Descending: (('Tom', 21), ('Monica', 19), ('John', 18))\n",
    "```"
   ]
  },
  {
   "cell_type": "code",
   "execution_count": 32,
   "id": "249c0d1b",
   "metadata": {},
   "outputs": [
    {
     "name": "stdout",
     "output_type": "stream",
     "text": [
      "Ascending: (('John', 18), ('Monica', 19), ('Tom', 21))\n",
      "Descending: (('Tom', 21), ('Monica', 19), ('John', 18))\n"
     ]
    }
   ],
   "source": [
    "info = (('Monica', 19), ('Tom', 21), ('John', 18))\n",
    "Ascending = tuple(sorted(info))\n",
    "Descending = tuple(sorted(info,reverse = True))\n",
    "print(f\"Ascending: {Ascending}\")\n",
    "print(f\"Descending: {Descending}\")"
   ]
  },
  {
   "cell_type": "code",
   "execution_count": 34,
   "id": "3f402841",
   "metadata": {},
   "outputs": [
    {
     "name": "stdout",
     "output_type": "stream",
     "text": [
      "Ascending: (('John', 18), ('Monica', 19), ('Tom', 21))\n",
      "Descending: (('Tom', 21), ('Monica', 19), ('John', 18))\n"
     ]
    }
   ],
   "source": [
    "info = (('Monica', 19), ('Tom', 21), ('John', 18))\n",
    "Ascending = tuple(sorted(info,key = lambda item : item[1]))\n",
    "Descending = tuple(sorted(info,key = lambda item : item[1],reverse = True))\n",
    "print(f\"Ascending: {Ascending}\")\n",
    "print(f\"Descending: {Descending}\")"
   ]
  },
  {
   "cell_type": "markdown",
   "id": "2f3ae975",
   "metadata": {},
   "source": [
    "#### Exercise 56\n",
    "```\n",
    "The following tuple is given:\n",
    "\n",
    "stocks = (\n",
    "    (\"Apple Inc\", (\"AAPL.US\", 310)),\n",
    "    (\"Microsoft Corp\", (\"MSFT.US\", 184)),\n",
    ")\n",
    "\n",
    "Extract a ticker for Apple and print the result to the console.\n",
    "\n",
    "Expected result:\n",
    "AAPL.US\n",
    "```"
   ]
  },
  {
   "cell_type": "code",
   "execution_count": 36,
   "id": "5808e13e",
   "metadata": {},
   "outputs": [
    {
     "name": "stdout",
     "output_type": "stream",
     "text": [
      "AAPL.US\n"
     ]
    }
   ],
   "source": [
    "stocks = (\n",
    "    (\"Apple Inc\", (\"AAPL.US\", 310)),\n",
    "    (\"Microsoft Corp\", (\"MSFT.US\", 184)),\n",
    ")\n",
    "print(stocks[0][1][0])"
   ]
  },
  {
   "cell_type": "code",
   "execution_count": null,
   "id": "8145412f",
   "metadata": {},
   "outputs": [],
   "source": []
  }
 ],
 "metadata": {
  "kernelspec": {
   "display_name": "Python 3 (ipykernel)",
   "language": "python",
   "name": "python3"
  },
  "language_info": {
   "codemirror_mode": {
    "name": "ipython",
    "version": 3
   },
   "file_extension": ".py",
   "mimetype": "text/x-python",
   "name": "python",
   "nbconvert_exporter": "python",
   "pygments_lexer": "ipython3",
   "version": "3.11.4"
  }
 },
 "nbformat": 4,
 "nbformat_minor": 5
}
