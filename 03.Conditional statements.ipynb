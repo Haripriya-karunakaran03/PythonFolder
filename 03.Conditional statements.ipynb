{
 "cells": [
  {
   "cell_type": "markdown",
   "id": "1bf38ec3",
   "metadata": {},
   "source": [
    "### If Statement"
   ]
  },
  {
   "cell_type": "code",
   "execution_count": 1,
   "id": "b9ae423f",
   "metadata": {},
   "outputs": [
    {
     "name": "stdout",
     "output_type": "stream",
     "text": [
      "Enter a number: 10\n",
      "Enter a number: 5\n",
      "Yes!,a is greater than b\n"
     ]
    }
   ],
   "source": [
    "a = int(input(\"Enter a number: \"))\n",
    "b = int(input(\"Enter a number: \"))\n",
    "\n",
    "if a > b:\n",
    "    print(\"Yes!,a is greater than b\")"
   ]
  },
  {
   "cell_type": "code",
   "execution_count": 3,
   "id": "61160bf4",
   "metadata": {},
   "outputs": [
    {
     "name": "stdout",
     "output_type": "stream",
     "text": [
      "Enter a number: 5\n",
      "Enter a number: 10\n"
     ]
    }
   ],
   "source": [
    "a = int(input(\"Enter a number: \"))\n",
    "b = int(input(\"Enter a number: \"))\n",
    "\n",
    "if a > b:\n",
    "    print(\"Yes!,a is greater than b\")   # If statement will execute only if the condiiton true otherwise it wont print anything unless we use else"
   ]
  },
  {
   "cell_type": "code",
   "execution_count": 4,
   "id": "31167c9f",
   "metadata": {},
   "outputs": [
    {
     "name": "stdout",
     "output_type": "stream",
     "text": [
      "Enter a number: 5\n",
      "Enter a number: 10\n",
      "Condition is False,Good bye!\n"
     ]
    }
   ],
   "source": [
    "a = int(input(\"Enter a number: \"))\n",
    "b = int(input(\"Enter a number: \"))\n",
    "\n",
    "if a > b:\n",
    "    print(\"Yes!,a is greater than b\")   # If statement will execute only if the condiiton true otherwise it wont print anything unless we use else\n",
    "print(\"Condition is False,Good bye!\")"
   ]
  },
  {
   "cell_type": "code",
   "execution_count": 8,
   "id": "7737331b",
   "metadata": {},
   "outputs": [
    {
     "name": "stdout",
     "output_type": "stream",
     "text": [
      "The pi value 3.14 is greater than golden ratio value 1.618.\n",
      "Done!\n"
     ]
    }
   ],
   "source": [
    "pi = 3.14\n",
    "golden_ratio = 1.618\n",
    "\n",
    "if pi > golden_ratio:\n",
    "    print(f\"The pi value {pi} is greater than golden ratio value {golden_ratio}.\")\n",
    "print(\"Done!\")"
   ]
  },
  {
   "cell_type": "code",
   "execution_count": 9,
   "id": "092cf876",
   "metadata": {},
   "outputs": [
    {
     "name": "stdout",
     "output_type": "stream",
     "text": [
      "Yes!,It is True\n"
     ]
    }
   ],
   "source": [
    "if True:\n",
    "    print(\"Yes!,It is True\")"
   ]
  },
  {
   "cell_type": "code",
   "execution_count": 11,
   "id": "89881f3d",
   "metadata": {},
   "outputs": [
    {
     "name": "stdout",
     "output_type": "stream",
     "text": [
      "If the if condition gets false then it wont print anything\n"
     ]
    }
   ],
   "source": [
    "b = False\n",
    "\n",
    "if b:\n",
    "    print(\"Yes\")\n",
    "print(\"If the if condition gets false then it wont print anything\")"
   ]
  },
  {
   "cell_type": "code",
   "execution_count": 1,
   "id": "f9a1849c",
   "metadata": {},
   "outputs": [
    {
     "name": "stdout",
     "output_type": "stream",
     "text": [
      "Yes\n"
     ]
    }
   ],
   "source": [
    "a = 5\n",
    "if a > 2:\n",
    "    print(\"Yes\")"
   ]
  },
  {
   "cell_type": "code",
   "execution_count": 3,
   "id": "9775e805",
   "metadata": {},
   "outputs": [
    {
     "name": "stdout",
     "output_type": "stream",
     "text": [
      "enter number: 4\n",
      "No!,Smaller\n"
     ]
    }
   ],
   "source": [
    "a = int(input(\"enter number: \"))\n",
    "\n",
    "if a > 50:\n",
    "    print(\"Yes\")\n",
    "print(\"No!,Smaller\")"
   ]
  },
  {
   "cell_type": "code",
   "execution_count": 5,
   "id": "47b55741",
   "metadata": {},
   "outputs": [
    {
     "name": "stdout",
     "output_type": "stream",
     "text": [
      "Enter number: 55\n",
      "Yes\n"
     ]
    }
   ],
   "source": [
    "a = int(input(\"Enter number: \"))\n",
    "\n",
    "if a > 50 and a < 100:\n",
    "    print(\"Yes\")"
   ]
  },
  {
   "cell_type": "code",
   "execution_count": 6,
   "id": "37eb030f",
   "metadata": {},
   "outputs": [
    {
     "name": "stdout",
     "output_type": "stream",
     "text": [
      "Enter number: 40\n"
     ]
    }
   ],
   "source": [
    "a = int(input(\"Enter number: \"))\n",
    "\n",
    "if a > 50 and a < 100:\n",
    "    print(\"Yes\")"
   ]
  },
  {
   "cell_type": "code",
   "execution_count": 7,
   "id": "e6a1383a",
   "metadata": {},
   "outputs": [
    {
     "name": "stdout",
     "output_type": "stream",
     "text": [
      "Enter number: 40\n",
      "Yes\n"
     ]
    }
   ],
   "source": [
    "a = int(input(\"Enter number: \"))\n",
    "\n",
    "if a > 50 or a < 100:\n",
    "    print(\"Yes\")"
   ]
  },
  {
   "cell_type": "code",
   "execution_count": 8,
   "id": "068e1e01",
   "metadata": {},
   "outputs": [
    {
     "name": "stdout",
     "output_type": "stream",
     "text": [
      "a is greater than b\n"
     ]
    }
   ],
   "source": [
    "a = 10\n",
    "b = 5\n",
    "if a > b:\n",
    "    print(\"a is greater than b\")"
   ]
  },
  {
   "cell_type": "code",
   "execution_count": 13,
   "id": "636dbd09",
   "metadata": {},
   "outputs": [
    {
     "name": "stdout",
     "output_type": "stream",
     "text": [
      "CORRECT\n"
     ]
    }
   ],
   "source": [
    "var = \"Beautiful\"\n",
    "# if if condition is true , it will print the below statement else it will not print anything\n",
    "if var == \"Beautiful\":\n",
    "    print(\"CORRECT\")"
   ]
  },
  {
   "cell_type": "code",
   "execution_count": 14,
   "id": "767b7f73",
   "metadata": {},
   "outputs": [],
   "source": [
    "var = \"Beautiful\"\n",
    "\n",
    "if var == \"Beautifl\":\n",
    "    print(\"CORRECT\")"
   ]
  },
  {
   "cell_type": "markdown",
   "id": "99e74e88",
   "metadata": {},
   "source": [
    "### if-else statement"
   ]
  },
  {
   "cell_type": "code",
   "execution_count": 9,
   "id": "b6655ad7",
   "metadata": {},
   "outputs": [
    {
     "name": "stdout",
     "output_type": "stream",
     "text": [
      "Enter number for x value: 10\n",
      "Enter number for y value: 5\n",
      "X is greater than Y\n"
     ]
    }
   ],
   "source": [
    "x = int(input(\"Enter number for x value: \"))\n",
    "y = int(input(\"Enter number for y value: \"))\n",
    "\n",
    "if x > y:\n",
    "    print(\"X is greater than Y\")\n",
    "else:\n",
    "    print(\"X is smaller than Y\")"
   ]
  },
  {
   "cell_type": "code",
   "execution_count": 10,
   "id": "2d7bb8f9",
   "metadata": {},
   "outputs": [
    {
     "name": "stdout",
     "output_type": "stream",
     "text": [
      "Enter number for x value: 5\n",
      "Enter number for y value: 10\n",
      "X is smaller than Y\n"
     ]
    }
   ],
   "source": [
    "x = int(input(\"Enter number for x value: \"))\n",
    "y = int(input(\"Enter number for y value: \"))\n",
    "\n",
    "if x > y:\n",
    "    print(\"X is greater than Y\")\n",
    "else:\n",
    "    print(\"X is smaller than Y\")"
   ]
  },
  {
   "cell_type": "code",
   "execution_count": 11,
   "id": "d60f455b",
   "metadata": {},
   "outputs": [
    {
     "name": "stdout",
     "output_type": "stream",
     "text": [
      "The pi 3.14 is greater than golden_ratio 1.618\n"
     ]
    }
   ],
   "source": [
    "pi = 3.14\n",
    "golden_ratio = 1.618\n",
    "\n",
    "if pi < golden_ratio:\n",
    "    print(f\"The pi {pi} is smaller than golden_ratio {golden_ratio}\")\n",
    "else:\n",
    "    print(f\"The pi {pi} is greater than golden_ratio {golden_ratio}\")"
   ]
  },
  {
   "cell_type": "code",
   "execution_count": 12,
   "id": "57e1fc7f",
   "metadata": {},
   "outputs": [
    {
     "name": "stdout",
     "output_type": "stream",
     "text": [
      "Enter number: 15\n",
      "num is smaller than 20\n",
      "I am in else block...\n"
     ]
    }
   ],
   "source": [
    "num = int(input(\"Enter number: \"))\n",
    "\n",
    "if num > 20:\n",
    "    print(\"num is greater than 20\")\n",
    "    print(\"I am in if block...\")\n",
    "else:\n",
    "    print(\"num is smaller than 20\")\n",
    "    print(\"I am in else block...\")"
   ]
  },
  {
   "cell_type": "code",
   "execution_count": 14,
   "id": "eb02542c",
   "metadata": {},
   "outputs": [
    {
     "name": "stdout",
     "output_type": "stream",
     "text": [
      "Enter number: 35\n",
      "This is odd number and the number not divides by 2\n"
     ]
    }
   ],
   "source": [
    "number = int(input(\"Enter number: \"))\n",
    "\n",
    "if number % 2 == 0:\n",
    "    print(\"This is even number and the number divides by 2\")\n",
    "else:\n",
    "    print(\"This is odd number and the number not divides by 2\")"
   ]
  },
  {
   "cell_type": "code",
   "execution_count": 16,
   "id": "26fe1c6f",
   "metadata": {},
   "outputs": [
    {
     "name": "stdout",
     "output_type": "stream",
     "text": [
      "Enter the number: 40\n",
      "Number divides by 2 and 4\n"
     ]
    }
   ],
   "source": [
    "num1 = int(input(\"Enter the number: \"))\n",
    "\n",
    "if num1 % 2 == 0 and num1 % 4 == 0:\n",
    "    print(\"Number divides by 2 and 4\")\n",
    "else:\n",
    "    print(\"None\")"
   ]
  },
  {
   "cell_type": "code",
   "execution_count": 17,
   "id": "d63cd0b7",
   "metadata": {},
   "outputs": [
    {
     "name": "stdout",
     "output_type": "stream",
     "text": [
      "Enter the number: 5\n",
      "None\n"
     ]
    }
   ],
   "source": [
    "num1 = int(input(\"Enter the number: \"))\n",
    "\n",
    "if num1 % 2 == 0 and num1 % 4 == 0:\n",
    "    print(\"Number divides by 2 and 4\")\n",
    "else:\n",
    "    print(\"None\")"
   ]
  },
  {
   "cell_type": "code",
   "execution_count": 19,
   "id": "90edf01d",
   "metadata": {},
   "outputs": [
    {
     "name": "stdout",
     "output_type": "stream",
     "text": [
      "Enter number: -2\n",
      "Negative\n"
     ]
    }
   ],
   "source": [
    "Number = int(input(\"Enter number: \"))\n",
    "\n",
    "if Number < 0:\n",
    "    print(\"Negative\")\n",
    "else:\n",
    "    print(\"Positive\")"
   ]
  },
  {
   "cell_type": "code",
   "execution_count": 20,
   "id": "c50bd404",
   "metadata": {},
   "outputs": [
    {
     "name": "stdout",
     "output_type": "stream",
     "text": [
      "Enter x value: 100\n",
      "Enter y value: 50\n",
      "Largest value is  100\n"
     ]
    }
   ],
   "source": [
    "x = int(input(\"Enter x value: \"))\n",
    "y = int(input(\"Enter y value: \"))\n",
    "if x > y:\n",
    "    print(\"Largest value is \",x)\n",
    "else:\n",
    "    print(\"Largest value is \",y)"
   ]
  },
  {
   "cell_type": "code",
   "execution_count": 15,
   "id": "79e2b523",
   "metadata": {},
   "outputs": [
    {
     "name": "stdout",
     "output_type": "stream",
     "text": [
      "Enter word: BEAUTIFUL\n",
      "Yes!,Correct\n"
     ]
    }
   ],
   "source": [
    "var = input(\"Enter word: \")\n",
    "\n",
    "if var == \"BEAUTIFUL\":\n",
    "    print(\"Yes!,Correct\")\n",
    "else:\n",
    "    print(\"No!,incorrect\")"
   ]
  },
  {
   "cell_type": "code",
   "execution_count": 16,
   "id": "50b44832",
   "metadata": {},
   "outputs": [
    {
     "name": "stdout",
     "output_type": "stream",
     "text": [
      "Enter word: beautiful\n",
      "No!,incorrect\n"
     ]
    }
   ],
   "source": [
    "var = input(\"Enter word: \")\n",
    "\n",
    "if var == \"BEAUTIFUL\":\n",
    "    print(\"Yes!,Correct\")\n",
    "else:\n",
    "    print(\"No!,incorrect\")"
   ]
  },
  {
   "cell_type": "markdown",
   "id": "55eb5838",
   "metadata": {},
   "source": [
    "### elif statement"
   ]
  },
  {
   "cell_type": "code",
   "execution_count": 22,
   "id": "2ddbad91",
   "metadata": {},
   "outputs": [
    {
     "name": "stdout",
     "output_type": "stream",
     "text": [
      "Enter number: 0\n",
      "Zero!\n"
     ]
    }
   ],
   "source": [
    "number = int(input(\"Enter number: \"))\n",
    "if number > 0:\n",
    "    print(\"Positive number!\")\n",
    "elif number < 0:\n",
    "    print(\"Negative number!\")\n",
    "else:\n",
    "    print(\"Zero!\")"
   ]
  },
  {
   "cell_type": "code",
   "execution_count": 26,
   "id": "56b325a8",
   "metadata": {},
   "outputs": [
    {
     "name": "stdout",
     "output_type": "stream",
     "text": [
      "Enter a letter: o\n",
      "This is a vowel o\n"
     ]
    }
   ],
   "source": [
    "var  = input(\"Enter a letter: \")\n",
    "\n",
    "if var == \"a\" or var == \"A\":\n",
    "    print(f\"This is a vowel {var}\")\n",
    "elif var == \"e\" or var == \"E\":\n",
    "    print(f\"This is a vowel {var}\")\n",
    "elif var == \"i\" or var == \"I\":\n",
    "    print(f\"This is a vowel {var}\")\n",
    "elif var == \"o\" or var == \"O\":\n",
    "    print(f\"This is a vowel {var}\")\n",
    "elif var == \"u\" or var == \"U\":\n",
    "    print(f\"This is a vowel {var}\")\n",
    "else:\n",
    "    print(f\"This is a Consonant {var}\")\n",
    "    "
   ]
  },
  {
   "cell_type": "code",
   "execution_count": 27,
   "id": "43a7ca0d",
   "metadata": {},
   "outputs": [
    {
     "name": "stdout",
     "output_type": "stream",
     "text": [
      "Enter a number: 15\n",
      "The given number is divisible by 3\n"
     ]
    }
   ],
   "source": [
    "num = int(input(\"Enter a number: \"))\n",
    "\n",
    "if num % 2 == 0:\n",
    "    print(\"the given number is divisble by 2\")\n",
    "elif num % 3 == 0:\n",
    "    print(\"The given number is divisible by 3\")\n",
    "elif num % 5 == 0:\n",
    "    print(\"The given number is divisble by 5\")\n",
    "else:\n",
    "    print(\"others\")"
   ]
  },
  {
   "cell_type": "code",
   "execution_count": 17,
   "id": "5d31777e",
   "metadata": {},
   "outputs": [
    {
     "name": "stdout",
     "output_type": "stream",
     "text": [
      "Enter your friend name: sangeeth\n",
      "Hello sangeeth\n"
     ]
    }
   ],
   "source": [
    "name = input(\"Enter your friend name: \")\n",
    "\n",
    "if name == \"John\":\n",
    "    print(\"Hello John\")\n",
    "elif name == \"Andrues\":\n",
    "    print(\"Hello Andrues\")\n",
    "elif name == \"preethi\":\n",
    "    print(\"Hello preethi\")\n",
    "elif name == \"sangeeth\":\n",
    "    print(\"Hello sangeeth\")\n",
    "else:\n",
    "    print(\"Welcome\")"
   ]
  },
  {
   "cell_type": "markdown",
   "id": "f57fadea",
   "metadata": {},
   "source": [
    "### Nested if statement"
   ]
  },
  {
   "cell_type": "code",
   "execution_count": 80,
   "id": "39406cf8",
   "metadata": {},
   "outputs": [
    {
     "name": "stdout",
     "output_type": "stream",
     "text": [
      "Enter number: -10\n",
      "negative\n"
     ]
    }
   ],
   "source": [
    "num = int(input(\"Enter number: \"))\n",
    "\n",
    "if num >= 0:\n",
    "    if num == 0:\n",
    "        print(\"Zero\")\n",
    "    else:\n",
    "        print(\"Posiive\")\n",
    "else:\n",
    "    print(\"negative\")"
   ]
  },
  {
   "cell_type": "code",
   "execution_count": 30,
   "id": "9199236c",
   "metadata": {},
   "outputs": [
    {
     "name": "stdout",
     "output_type": "stream",
     "text": [
      "Enter Subject Tamil marks: 20\n",
      "Enter Subject English marks: 17\n",
      "Enter Subject Maths marks: 10\n",
      "Enter Subject Science marks: 14\n",
      "Enter Subject Social marks: 16\n",
      "The total marks that student got in this exam is  77\n",
      "Student grade is 'B'\n"
     ]
    }
   ],
   "source": [
    "Total_marks = 100\n",
    "Tamil = int(input(\"Enter Subject Tamil marks: \"))\n",
    "English = int(input(\"Enter Subject English marks: \"))\n",
    "Maths = int(input(\"Enter Subject Maths marks: \"))\n",
    "Science = int(input(\"Enter Subject Science marks: \"))\n",
    "Social_science = int(input(\"Enter Subject Social marks: \"))\n",
    "\n",
    "Student_mark = Tamil + English + Maths + Science + Social_science\n",
    "print(\"The total marks that student got in this exam is \",Student_mark)\n",
    "if Student_mark <= Total_marks:\n",
    "    if Student_mark >= 90 and Student_mark <= 100:\n",
    "        print(\"Student grade is 'O'\")\n",
    "    elif Student_mark >= 80 and Student_mark <= 89:\n",
    "        print(\"Student grade is 'A'\")\n",
    "    elif Student_mark >= 70 and Student_mark <= 79:\n",
    "        print(\"Student grade is 'B'\")\n",
    "    elif Student_mark >= 60 and Student_mark <= 69:\n",
    "        print(\"Student grade is 'C'\")\n",
    "    elif Student_mark >= 50 and Student_mark <= 59:\n",
    "        print(\"Student grade is 'D'\")\n",
    "    elif Student_mark >= 40 and Student_mark <= 49:\n",
    "        print(\"Student grade is 'E'\")\n",
    "    else:\n",
    "        print(\"Student got falied in Exam\")\n",
    "else:\n",
    "    print(\"Invalid\")"
   ]
  },
  {
   "cell_type": "code",
   "execution_count": 31,
   "id": "ec22bf03",
   "metadata": {},
   "outputs": [
    {
     "name": "stdout",
     "output_type": "stream",
     "text": [
      "Enter Subject Tamil marks: 101\n",
      "Enter Subject English marks: 20\n",
      "Enter Subject Maths marks: 10\n",
      "Enter Subject Science marks: 3\n",
      "Enter Subject Social marks: 5\n",
      "The total marks that student got in this exam is  139\n",
      "Invalid\n"
     ]
    }
   ],
   "source": [
    "Total_marks = 100\n",
    "Tamil = int(input(\"Enter Subject Tamil marks: \"))\n",
    "English = int(input(\"Enter Subject English marks: \"))\n",
    "Maths = int(input(\"Enter Subject Maths marks: \"))\n",
    "Science = int(input(\"Enter Subject Science marks: \"))\n",
    "Social_science = int(input(\"Enter Subject Social marks: \"))\n",
    "\n",
    "Student_mark = Tamil + English + Maths + Science + Social_science\n",
    "print(\"The total marks that student got in this exam is \",Student_mark)\n",
    "if Student_mark <= Total_marks:\n",
    "    if Student_mark >= 90 and Student_mark <= 100:\n",
    "        print(\"Student grade is 'O'\")\n",
    "    elif Student_mark >= 80 and Student_mark <= 89:\n",
    "        print(\"Student grade is 'A'\")\n",
    "    elif Student_mark >= 70 and Student_mark <= 79:\n",
    "        print(\"Student grade is 'B'\")\n",
    "    elif Student_mark >= 60 and Student_mark <= 69:\n",
    "        print(\"Student grade is 'C'\")\n",
    "    elif Student_mark >= 50 and Student_mark <= 59:\n",
    "        print(\"Student grade is 'D'\")\n",
    "    elif Student_mark >= 40 and Student_mark <= 49:\n",
    "        print(\"Student grade is 'E'\")\n",
    "    else:\n",
    "        print(\"Student got falied in Exam\")\n",
    "else:\n",
    "    print(\"Invalid\")"
   ]
  },
  {
   "cell_type": "code",
   "execution_count": 24,
   "id": "794b6075",
   "metadata": {},
   "outputs": [
    {
     "name": "stdout",
     "output_type": "stream",
     "text": [
      "Its string\n"
     ]
    }
   ],
   "source": [
    "num = \"fghj\"\n",
    "if isinstance(num,int):\n",
    "    if num > 0:\n",
    "        print(\"Positive\")\n",
    "    elif num < 0:\n",
    "        print(\"Negative\")\n",
    "    else:\n",
    "        print(\"Zero\")\n",
    "elif isinstance(num,str):\n",
    "    print(\"Its string\")\n",
    "else:\n",
    "    print(\"Its float\")"
   ]
  },
  {
   "cell_type": "code",
   "execution_count": 25,
   "id": "5b0a91ee",
   "metadata": {},
   "outputs": [
    {
     "name": "stdout",
     "output_type": "stream",
     "text": [
      "Negative\n"
     ]
    }
   ],
   "source": [
    "num = -100\n",
    "if isinstance(num,int):\n",
    "    if num > 0:\n",
    "        print(\"Positive\")\n",
    "    elif num < 0:\n",
    "        print(\"Negative\")\n",
    "    else:\n",
    "        print(\"Zero\")\n",
    "elif isinstance(num,str):\n",
    "    print(\"Its string\")\n",
    "else:\n",
    "    print(\"Its float\")"
   ]
  },
  {
   "cell_type": "code",
   "execution_count": 26,
   "id": "9f235c7a",
   "metadata": {},
   "outputs": [
    {
     "name": "stdout",
     "output_type": "stream",
     "text": [
      "Its float\n"
     ]
    }
   ],
   "source": [
    "num = 1.5\n",
    "if isinstance(num,int):\n",
    "    if num > 0:\n",
    "        print(\"Positive\")\n",
    "    elif num < 0:\n",
    "        print(\"Negative\")\n",
    "    else:\n",
    "        print(\"Zero\")\n",
    "elif isinstance(num,str):\n",
    "    print(\"Its string\")\n",
    "else:\n",
    "    print(\"Its float\")"
   ]
  },
  {
   "cell_type": "markdown",
   "id": "84c08843",
   "metadata": {},
   "source": [
    "### Short hand if else statements or if else ternary expression or conditional expression"
   ]
  },
  {
   "cell_type": "code",
   "execution_count": 1,
   "id": "349b26b0",
   "metadata": {},
   "outputs": [
    {
     "name": "stdout",
     "output_type": "stream",
     "text": [
      "a is greater than b\n"
     ]
    }
   ],
   "source": [
    "# Short hand if \n",
    "\n",
    "a = 10\n",
    "b = 5\n",
    "\n",
    "if a > b : print(\"a is greater than b\")"
   ]
  },
  {
   "cell_type": "code",
   "execution_count": 2,
   "id": "fd51b155",
   "metadata": {},
   "outputs": [],
   "source": [
    "a = 10\n",
    "b = 5\n",
    "\n",
    "if a < b : print(\"a is greater than b\")"
   ]
  },
  {
   "cell_type": "code",
   "execution_count": 28,
   "id": "dcd5feb7",
   "metadata": {},
   "outputs": [
    {
     "ename": "SyntaxError",
     "evalue": "invalid syntax (1851102944.py, line 3)",
     "output_type": "error",
     "traceback": [
      "\u001b[1;36m  Cell \u001b[1;32mIn[28], line 3\u001b[1;36m\u001b[0m\n\u001b[1;33m    if var == \"BEAUTIFUL\" print(\"Correct\")\u001b[0m\n\u001b[1;37m                          ^\u001b[0m\n\u001b[1;31mSyntaxError\u001b[0m\u001b[1;31m:\u001b[0m invalid syntax\n"
     ]
    }
   ],
   "source": [
    "var = \"BEAUTIFUL\"\n",
    "\n",
    "if var == \"BEAUTIFUL\" print(\"Correct\")"
   ]
  },
  {
   "cell_type": "code",
   "execution_count": 29,
   "id": "f659f7ee",
   "metadata": {},
   "outputs": [
    {
     "name": "stdout",
     "output_type": "stream",
     "text": [
      "Correct\n"
     ]
    }
   ],
   "source": [
    "var = \"BEAUTIFUL\"\n",
    "\n",
    "if var == \"BEAUTIFUL\":print(\"Correct\")   # semi colon is imp in short if statemet"
   ]
  },
  {
   "cell_type": "code",
   "execution_count": 3,
   "id": "92da13c2",
   "metadata": {},
   "outputs": [
    {
     "name": "stdout",
     "output_type": "stream",
     "text": [
      "x is greater than y\n"
     ]
    }
   ],
   "source": [
    "#Short hand if else\n",
    "\n",
    "x = 100\n",
    "y = 10\n",
    "\n",
    "print(\"x is greater than y\") if x > y else print(\"Y is greater than X\")"
   ]
  },
  {
   "cell_type": "code",
   "execution_count": 2,
   "id": "98bd6e05",
   "metadata": {},
   "outputs": [
    {
     "name": "stdout",
     "output_type": "stream",
     "text": [
      "5\n",
      "odd\n"
     ]
    }
   ],
   "source": [
    "x = int(input())\n",
    "print(\"Even\") if x % 2 == 0 else print(\"odd\")"
   ]
  },
  {
   "cell_type": "code",
   "execution_count": 4,
   "id": "bf7badc9",
   "metadata": {},
   "outputs": [
    {
     "name": "stdout",
     "output_type": "stream",
     "text": [
      "Y is greater than X\n"
     ]
    }
   ],
   "source": [
    "x = 10\n",
    "y = 100\n",
    "\n",
    "print(\"x is greater than y\") if x > y else print(\"Y is greater than X\")"
   ]
  },
  {
   "cell_type": "code",
   "execution_count": 30,
   "id": "f9341efb",
   "metadata": {},
   "outputs": [
    {
     "name": "stdout",
     "output_type": "stream",
     "text": [
      "Enter word: beau\n",
      "No!,incorrect\n"
     ]
    }
   ],
   "source": [
    "var = input(\"Enter word: \")\n",
    "\n",
    "print(\"Yes!,corect\") if var == \"beautiful\" else print(\"No!,incorrect\")"
   ]
  },
  {
   "cell_type": "code",
   "execution_count": 31,
   "id": "cb11dcb9",
   "metadata": {},
   "outputs": [
    {
     "name": "stdout",
     "output_type": "stream",
     "text": [
      "Enter word: beautiful\n",
      "Yes!,corect\n"
     ]
    }
   ],
   "source": [
    "var = input(\"Enter word: \")\n",
    "\n",
    "print(\"Yes!,corect\") if var == \"beautiful\" else print(\"No!,incorrect\")"
   ]
  },
  {
   "cell_type": "code",
   "execution_count": 6,
   "id": "2d443e1a",
   "metadata": {},
   "outputs": [
    {
     "name": "stdout",
     "output_type": "stream",
     "text": [
      "==\n"
     ]
    }
   ],
   "source": [
    "# short hand if elif else\n",
    "\n",
    "a = 330\n",
    "b = 330\n",
    "\n",
    "print(\"A\") if a > b else print(\"==\") if a == b else print(\"B\")"
   ]
  },
  {
   "cell_type": "code",
   "execution_count": 9,
   "id": "a7c243aa",
   "metadata": {},
   "outputs": [
    {
     "name": "stdout",
     "output_type": "stream",
     "text": [
      "==\n",
      "==\n"
     ]
    }
   ],
   "source": [
    "a = 330\n",
    "b = 330\n",
    "\n",
    "if a > b:\n",
    "    print(\"A\")\n",
    "elif a == b:\n",
    "    print(\"==\")\n",
    "else:\n",
    "    print(\"B\")\n",
    "    \n",
    "    #both are same\n",
    "    \n",
    "a = 330\n",
    "b = 330\n",
    "\n",
    "print(\"A\") if a > b else print(\"==\") if a == b else print(\"B\")"
   ]
  },
  {
   "cell_type": "code",
   "execution_count": 10,
   "id": "99568efc",
   "metadata": {},
   "outputs": [
    {
     "name": "stdout",
     "output_type": "stream",
     "text": [
      "Enter number: 100\n",
      "Enter number: 50\n",
      "Enter number: 10\n",
      "A\n"
     ]
    }
   ],
   "source": [
    "a = int(input(\"Enter number: \"))\n",
    "b = int(input(\"Enter number: \"))\n",
    "c = int(input(\"Enter number: \"))\n",
    "\n",
    "print(\"A\") if a > b else print(\"B\") if b > c else print(\"C\")  # else print(\"B\") if b > c - elif part"
   ]
  },
  {
   "cell_type": "code",
   "execution_count": 11,
   "id": "dbb7cff0",
   "metadata": {},
   "outputs": [
    {
     "name": "stdout",
     "output_type": "stream",
     "text": [
      "Enter number: 10\n",
      "Enter number: 100\n",
      "Enter number: 500\n",
      "C\n"
     ]
    }
   ],
   "source": [
    "a = int(input(\"Enter number: \"))\n",
    "b = int(input(\"Enter number: \"))\n",
    "c = int(input(\"Enter number: \"))\n",
    "\n",
    "print(\"A\") if a > b else print(\"B\") if b > c else print(\"C\")"
   ]
  },
  {
   "cell_type": "code",
   "execution_count": 12,
   "id": "e5971a5d",
   "metadata": {},
   "outputs": [
    {
     "name": "stdout",
     "output_type": "stream",
     "text": [
      "Enter number: 10\n",
      "Enter number: 100\n",
      "Enter number: 5\n",
      "B\n"
     ]
    }
   ],
   "source": [
    "a = int(input(\"Enter number: \"))\n",
    "b = int(input(\"Enter number: \"))\n",
    "c = int(input(\"Enter number: \"))\n",
    "\n",
    "print(\"A\") if a > b else print(\"B\") if b > c else print(\"C\")"
   ]
  },
  {
   "cell_type": "code",
   "execution_count": 32,
   "id": "0782bf26",
   "metadata": {},
   "outputs": [
    {
     "name": "stdout",
     "output_type": "stream",
     "text": [
      "Enter your friend name: john\n",
      "hello john\n"
     ]
    }
   ],
   "source": [
    "name = input(\"Enter your friend name: \")\n",
    "\n",
    "print(\"hello john\") if name == \"john\" else print(\"Hello sangeeth\") if name == \"sangeeth\" else print(\"Hello preethi\") if name == preethi else print(\"welcome\")"
   ]
  },
  {
   "cell_type": "code",
   "execution_count": 35,
   "id": "6262227c",
   "metadata": {},
   "outputs": [
    {
     "name": "stdout",
     "output_type": "stream",
     "text": [
      "Enter your friend name: tyuio\n",
      "welcome\n"
     ]
    }
   ],
   "source": [
    "name = input(\"Enter your friend name: \")\n",
    "\n",
    "print(\"hello john\") if name == \"john\" else print(\"Hello sangeeth\") if name == \"sangeeth\" else print(\"Hello preethi\") if name == \"preethi\" else print(\"welcome\")"
   ]
  },
  {
   "cell_type": "markdown",
   "id": "3e3c9e30",
   "metadata": {},
   "source": [
    "### Udemy Exercise"
   ]
  },
  {
   "cell_type": "markdown",
   "id": "bdb8227c",
   "metadata": {},
   "source": [
    "#### Exercise 78\n",
    "```\n",
    "The following filename is given:\n",
    "\n",
    "filename = '01012020_sales.xlsx'\n",
    "\n",
    "Check if the file has the 'xlsx' extension. Print to the console 'YES' if true, 'NO' if false.\n",
    "\n",
    "Expected result:\n",
    "\n",
    "YES\n",
    "```"
   ]
  },
  {
   "cell_type": "code",
   "execution_count": 32,
   "id": "9335e99c",
   "metadata": {},
   "outputs": [
    {
     "name": "stdout",
     "output_type": "stream",
     "text": [
      "YES\n"
     ]
    }
   ],
   "source": [
    "filename = '01012020_sales.xlsx'\n",
    "\n",
    "if \"xlsx\" in filename:\n",
    "    print(\"YES\")\n",
    "else:\n",
    "    print(\"NO\")"
   ]
  },
  {
   "cell_type": "code",
   "execution_count": 33,
   "id": "d57e6e5d",
   "metadata": {},
   "outputs": [
    {
     "name": "stdout",
     "output_type": "stream",
     "text": [
      "YES\n"
     ]
    }
   ],
   "source": [
    "filename = '01012020_sales.xlsx'\n",
    "\n",
    "if filename.endswith(\"xlsx\"):\n",
    "    print(\"YES\")\n",
    "else:\n",
    "    print(\"NO\")"
   ]
  },
  {
   "cell_type": "markdown",
   "id": "12b727e5",
   "metadata": {},
   "source": [
    "#### Exercise 79\n",
    "```\n",
    "The following code is given:\n",
    "\n",
    "code = 'DSVNDOICSN'\n",
    "\n",
    "Check if the code variable has only uppercase letters. If so, print 'YES' to the console.\n",
    "\n",
    "Expected result:\n",
    "YES\n",
    "```"
   ]
  },
  {
   "cell_type": "code",
   "execution_count": 35,
   "id": "da156d1c",
   "metadata": {},
   "outputs": [
    {
     "name": "stdout",
     "output_type": "stream",
     "text": [
      "YES\n"
     ]
    }
   ],
   "source": [
    "code = 'DSVNDOICSN'\n",
    "\n",
    "if code.isupper():\n",
    "    print(\"YES\")\n",
    "else:\n",
    "    print(\"NO\")"
   ]
  },
  {
   "cell_type": "markdown",
   "id": "42516631",
   "metadata": {},
   "source": [
    "#### Exercise 80\n",
    "```\n",
    "The following variable is given:\n",
    "\n",
    "number = 1.0\n",
    "\n",
    "Test whether the variable is an instance of the built-in class int. Print 'YES' if true, 'NO' if false.\n",
    "\n",
    "Expected result:\n",
    "NO\n",
    "```"
   ]
  },
  {
   "cell_type": "code",
   "execution_count": 37,
   "id": "9886896e",
   "metadata": {},
   "outputs": [
    {
     "name": "stdout",
     "output_type": "stream",
     "text": [
      "NO\n"
     ]
    }
   ],
   "source": [
    "number = 1.0\n",
    "\n",
    "if isinstance(number,int):\n",
    "    print(\"YES\")\n",
    "else:\n",
    "    print(\"NO\")"
   ]
  },
  {
   "cell_type": "markdown",
   "id": "57b49105",
   "metadata": {},
   "source": [
    "#### Exercise 81\n",
    "```\n",
    "The following password is given:\n",
    "\n",
    "password = 'cskdnjcasa#!'\n",
    "\n",
    "Check if the password has 11 characters.\n",
    "\n",
    "If so, print 'Password correct', otherwise 'Password too short'.\n",
    "\n",
    "Expected result:\n",
    "Password correct\n",
    "```"
   ]
  },
  {
   "cell_type": "code",
   "execution_count": 44,
   "id": "a7a2a358",
   "metadata": {},
   "outputs": [
    {
     "name": "stdout",
     "output_type": "stream",
     "text": [
      "Password correct\n"
     ]
    }
   ],
   "source": [
    "password = \"cskdnjcasa#!\"\n",
    "if len(password) >= 11:\n",
    "    print(\"Password correct\")\n",
    "else:\n",
    "    print(\"Password too short\")"
   ]
  },
  {
   "cell_type": "code",
   "execution_count": 43,
   "id": "d11f0ad3",
   "metadata": {},
   "outputs": [
    {
     "name": "stdout",
     "output_type": "stream",
     "text": [
      "12\n"
     ]
    }
   ],
   "source": [
    "count = 0\n",
    "for i in password:\n",
    "    count = count + 1\n",
    "print(count)"
   ]
  },
  {
   "cell_type": "markdown",
   "id": "fa3b1a9c",
   "metadata": {},
   "source": [
    "#### Exercise 82\n",
    "```\n",
    "The following password is given:\n",
    "\n",
    "password = 'cskdnjcasa#!'\n",
    "\n",
    "Check if the password has at least 11 characters and contains the special character '!'.\n",
    "\n",
    "If so, print 'Password correct', otherwise 'Password incorrect'.\n",
    "\n",
    "Expected result:\n",
    "Password correct\n",
    "```"
   ]
  },
  {
   "cell_type": "code",
   "execution_count": 46,
   "id": "aafc43a9",
   "metadata": {},
   "outputs": [
    {
     "name": "stdout",
     "output_type": "stream",
     "text": [
      "Password correct\n"
     ]
    }
   ],
   "source": [
    "password = 'cskdnjcasa#!'\n",
    "\n",
    "if len(password) >= 11 and \"!\" in password:\n",
    "    print(\"Password correct\")\n",
    "else:\n",
    "    print(\"Password incorrect\")"
   ]
  },
  {
   "cell_type": "markdown",
   "id": "01eab520",
   "metadata": {},
   "source": [
    "#### Exercise 83\n",
    "```\n",
    "The following list is given:\n",
    "project_ids = ['02134', '24253']\n",
    "\n",
    "Check if the following project id:\n",
    "\n",
    "project_id = '02135'\n",
    "\n",
    "is in the project_ids list. If not, add this project_id to the list and print this list to the console.\n",
    "\n",
    "Expected result:\n",
    "['02134', '24253', '02135']\n",
    "```"
   ]
  },
  {
   "cell_type": "code",
   "execution_count": 57,
   "id": "a930d1d6",
   "metadata": {},
   "outputs": [
    {
     "name": "stdout",
     "output_type": "stream",
     "text": [
      "['02134', '24253', '02135']\n"
     ]
    }
   ],
   "source": [
    "project_ids = ['02134', '24253']\n",
    "project_id = '02135'\n",
    "\n",
    "if project_id in project_ids:\n",
    "    print(project_ids)\n",
    "else:\n",
    "    project_ids.append(project_id)\n",
    "    print(project_ids)"
   ]
  },
  {
   "cell_type": "code",
   "execution_count": 59,
   "id": "e9c44551",
   "metadata": {},
   "outputs": [
    {
     "name": "stdout",
     "output_type": "stream",
     "text": [
      "['02134', '24253', '02135']\n"
     ]
    }
   ],
   "source": [
    "project_ids = ['02134', '24253']\n",
    "project_id = '02135'\n",
    "\n",
    "if not project_id in project_ids:\n",
    "    project_ids.append(project_id)\n",
    "print(project_ids)"
   ]
  },
  {
   "cell_type": "markdown",
   "id": "a96cb7d7",
   "metadata": {},
   "source": [
    "#### Exercise 84\n",
    "```\n",
    "The following dictionary is given:\n",
    "project_ids = {\n",
    "    '01': 'open', \n",
    "    '02': 'new',\n",
    "    '03': 'in progress',\n",
    "    '04': 'completed'\n",
    "}\n",
    "\n",
    "Using the conditional statement, check if the project status with id = '02' is set to 'new'. If so, change its status to 'open' and print the dictionary to the console.\n",
    "\n",
    "Expected result:\n",
    "{'01': 'open', '02': 'open', '03': 'in progress', '04': 'completed'}\n",
    "```"
   ]
  },
  {
   "cell_type": "code",
   "execution_count": 74,
   "id": "6ae304ba",
   "metadata": {},
   "outputs": [
    {
     "name": "stdout",
     "output_type": "stream",
     "text": [
      "{'01': 'open', '02': 'open', '03': 'in progress', '04': 'completed'}\n"
     ]
    }
   ],
   "source": [
    "project_ids = {\n",
    "    '01': 'open', \n",
    "    '02': 'new',\n",
    "    '03': 'in progress',\n",
    "    '04': 'completed'\n",
    "}\n",
    "\n",
    "if project_ids['02'] == 'new':\n",
    "    project_ids['02'] = 'open'\n",
    "print(project_ids)"
   ]
  },
  {
   "cell_type": "markdown",
   "id": "425a05ea",
   "metadata": {},
   "source": [
    "#### Exercise 85\n",
    "```\n",
    "Write a program that checks if the given item:\n",
    "\n",
    "item = '001'\n",
    "\n",
    "is in the list:\n",
    "\n",
    "items = ['001', '000', '003', '005', '006']\n",
    "\n",
    "If so, remove this item from the list and print this list to the console.\n",
    "\n",
    "Expected result:\n",
    "['000', '003', '005', '006']\n",
    "```"
   ]
  },
  {
   "cell_type": "code",
   "execution_count": 76,
   "id": "e33e63e2",
   "metadata": {},
   "outputs": [
    {
     "name": "stdout",
     "output_type": "stream",
     "text": [
      "['000', '003', '005', '006']\n"
     ]
    }
   ],
   "source": [
    "items = ['001', '000', '003', '005', '006']\n",
    "item = '001'\n",
    "\n",
    "if item in items:\n",
    "    items.remove(item)\n",
    "print(items)"
   ]
  },
  {
   "cell_type": "code",
   "execution_count": 77,
   "id": "0373b227",
   "metadata": {},
   "outputs": [
    {
     "name": "stdout",
     "output_type": "stream",
     "text": [
      "['000', '003', '005', '006']\n"
     ]
    }
   ],
   "source": [
    "items = ['001', '000', '003', '005', '006']\n",
    "item = '001'\n",
    "\n",
    "for i in items:\n",
    "    if i == item:\n",
    "        items.remove(i)\n",
    "print(items)"
   ]
  },
  {
   "cell_type": "code",
   "execution_count": null,
   "id": "ff738414",
   "metadata": {},
   "outputs": [],
   "source": []
  }
 ],
 "metadata": {
  "kernelspec": {
   "display_name": "Python 3 (ipykernel)",
   "language": "python",
   "name": "python3"
  },
  "language_info": {
   "codemirror_mode": {
    "name": "ipython",
    "version": 3
   },
   "file_extension": ".py",
   "mimetype": "text/x-python",
   "name": "python",
   "nbconvert_exporter": "python",
   "pygments_lexer": "ipython3",
   "version": "3.9.19"
  }
 },
 "nbformat": 4,
 "nbformat_minor": 5
}
