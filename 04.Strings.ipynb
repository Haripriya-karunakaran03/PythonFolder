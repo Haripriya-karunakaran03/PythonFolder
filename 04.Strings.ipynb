{
 "cells": [
  {
   "cell_type": "code",
   "execution_count": 1,
   "id": "b9e58def",
   "metadata": {},
   "outputs": [
    {
     "name": "stdout",
     "output_type": "stream",
     "text": [
      "<class 'str'>\n"
     ]
    }
   ],
   "source": [
    "x = \"Haripriya\"     #Double quotes\n",
    "print(type(x))"
   ]
  },
  {
   "cell_type": "code",
   "execution_count": 9,
   "id": "5b65330d",
   "metadata": {},
   "outputs": [],
   "source": [
    "a = 'Xyz'     # Single quotes"
   ]
  },
  {
   "cell_type": "code",
   "execution_count": 12,
   "id": "9cb63d22",
   "metadata": {},
   "outputs": [
    {
     "name": "stdout",
     "output_type": "stream",
     "text": [
      "<class 'str'>\n",
      "<class 'int'>\n"
     ]
    }
   ],
   "source": [
    "num = \"1234\"\n",
    "print(type(num))\n",
    "num1 = 1234\n",
    "print(type(num1))"
   ]
  },
  {
   "cell_type": "code",
   "execution_count": 14,
   "id": "491ba6c5",
   "metadata": {},
   "outputs": [
    {
     "data": {
      "text/plain": [
       "str"
      ]
     },
     "execution_count": 14,
     "metadata": {},
     "output_type": "execute_result"
    }
   ],
   "source": [
    "type(\"xy#&=+!\")"
   ]
  },
  {
   "cell_type": "code",
   "execution_count": 15,
   "id": "eb40e17f",
   "metadata": {},
   "outputs": [
    {
     "data": {
      "text/plain": [
       "str"
      ]
     },
     "execution_count": 15,
     "metadata": {},
     "output_type": "execute_result"
    }
   ],
   "source": [
    "type('123&!9=')"
   ]
  },
  {
   "cell_type": "code",
   "execution_count": 16,
   "id": "ed392b5c",
   "metadata": {},
   "outputs": [
    {
     "name": "stdout",
     "output_type": "stream",
     "text": [
      "<class 'str'>\n"
     ]
    }
   ],
   "source": [
    "my_name = \"\"\"            \n",
    "          Hello\n",
    "          world\n",
    "\"\"\"\n",
    "print(type(my_name))   #triple quotes"
   ]
  },
  {
   "cell_type": "code",
   "execution_count": 18,
   "id": "862f0b35",
   "metadata": {},
   "outputs": [
    {
     "data": {
      "text/plain": [
       "'hellohellohellohellohello'"
      ]
     },
     "execution_count": 18,
     "metadata": {},
     "output_type": "execute_result"
    }
   ],
   "source": [
    "\"hello\"*5                    # String replication"
   ]
  },
  {
   "cell_type": "code",
   "execution_count": 19,
   "id": "b892710d",
   "metadata": {},
   "outputs": [
    {
     "data": {
      "text/plain": [
       "'helloworld'"
      ]
     },
     "execution_count": 19,
     "metadata": {},
     "output_type": "execute_result"
    }
   ],
   "source": [
    "\"hello\" + \"world\"    # string concatenation"
   ]
  },
  {
   "cell_type": "code",
   "execution_count": 34,
   "id": "4b06da94",
   "metadata": {},
   "outputs": [
    {
     "name": "stdout",
     "output_type": "stream",
     "text": [
      "y\n",
      "o\n",
      "u\n",
      " \n",
      "a\n",
      "r\n",
      "e\n",
      " \n",
      "g\n",
      "o\n",
      "o\n",
      "d\n"
     ]
    }
   ],
   "source": [
    "s = \"you are good\"\n",
    "for i in s:\n",
    "    print(i)"
   ]
  },
  {
   "cell_type": "code",
   "execution_count": 36,
   "id": "59ec8ab7",
   "metadata": {},
   "outputs": [
    {
     "name": "stdout",
     "output_type": "stream",
     "text": [
      "y\n",
      "o\n",
      "u\n",
      " \n",
      "a\n",
      "r\n",
      "e\n",
      " \n",
      "g\n",
      "o\n",
      "o\n",
      "d\n"
     ]
    }
   ],
   "source": [
    "for i in range(0,len(s)):\n",
    "    print(s[i])"
   ]
  },
  {
   "cell_type": "code",
   "execution_count": 1,
   "id": "a8342117",
   "metadata": {},
   "outputs": [
    {
     "name": "stdout",
     "output_type": "stream",
     "text": [
      "<class 'str'> <class 'str'> <class 'str'>\n"
     ]
    }
   ],
   "source": [
    "str1 = 'Haripriya'\n",
    "str2 = \"Haripri\"\n",
    "str3 = \"\"\"\n",
    "        Hello,\n",
    "        hey\n",
    "\"\"\"\n",
    "\n",
    "print(type(str1),type(str2),type(str3))"
   ]
  },
  {
   "cell_type": "markdown",
   "id": "139f5a26",
   "metadata": {},
   "source": [
    "### Indexing in strings"
   ]
  },
  {
   "cell_type": "code",
   "execution_count": 4,
   "id": "89f5773c",
   "metadata": {},
   "outputs": [
    {
     "data": {
      "text/plain": [
       "'M'"
      ]
     },
     "execution_count": 4,
     "metadata": {},
     "output_type": "execute_result"
    }
   ],
   "source": [
    "var = \"My first program is Hello world\"\n",
    "\n",
    "var[0]    #positive indexing(forward indexing) - starts with 0"
   ]
  },
  {
   "cell_type": "code",
   "execution_count": 5,
   "id": "452fef8c",
   "metadata": {},
   "outputs": [
    {
     "data": {
      "text/plain": [
       "' '"
      ]
     },
     "execution_count": 5,
     "metadata": {},
     "output_type": "execute_result"
    }
   ],
   "source": [
    "var[2]"
   ]
  },
  {
   "cell_type": "code",
   "execution_count": 6,
   "id": "963c88f7",
   "metadata": {},
   "outputs": [
    {
     "data": {
      "text/plain": [
       "'f'"
      ]
     },
     "execution_count": 6,
     "metadata": {},
     "output_type": "execute_result"
    }
   ],
   "source": [
    "var[3]"
   ]
  },
  {
   "cell_type": "code",
   "execution_count": 8,
   "id": "8c6f85a9",
   "metadata": {},
   "outputs": [
    {
     "data": {
      "text/plain": [
       "'d'"
      ]
     },
     "execution_count": 8,
     "metadata": {},
     "output_type": "execute_result"
    }
   ],
   "source": [
    "var[-1]   #Negative indexing(Backward indexing) - starts with -1"
   ]
  },
  {
   "cell_type": "code",
   "execution_count": 1,
   "id": "39c93a83",
   "metadata": {},
   "outputs": [
    {
     "name": "stdout",
     "output_type": "stream",
     "text": [
      "H\n"
     ]
    }
   ],
   "source": [
    "Name = \"Hello world!\"\n",
    "print(Name[0])"
   ]
  },
  {
   "cell_type": "code",
   "execution_count": 2,
   "id": "2260f33d",
   "metadata": {},
   "outputs": [
    {
     "data": {
      "text/plain": [
       "'!'"
      ]
     },
     "execution_count": 2,
     "metadata": {},
     "output_type": "execute_result"
    }
   ],
   "source": [
    "Name[-1]"
   ]
  },
  {
   "cell_type": "code",
   "execution_count": 3,
   "id": "4b723638",
   "metadata": {},
   "outputs": [
    {
     "data": {
      "text/plain": [
       "'w'"
      ]
     },
     "execution_count": 3,
     "metadata": {},
     "output_type": "execute_result"
    }
   ],
   "source": [
    "Name[6]"
   ]
  },
  {
   "cell_type": "code",
   "execution_count": 7,
   "id": "0420546d",
   "metadata": {},
   "outputs": [
    {
     "data": {
      "text/plain": [
       "'w'"
      ]
     },
     "execution_count": 7,
     "metadata": {},
     "output_type": "execute_result"
    }
   ],
   "source": [
    "Name[-6]"
   ]
  },
  {
   "cell_type": "code",
   "execution_count": 18,
   "id": "8caf93a2",
   "metadata": {},
   "outputs": [
    {
     "ename": "IndexError",
     "evalue": "string index out of range",
     "output_type": "error",
     "traceback": [
      "\u001b[1;31m---------------------------------------------------------------------------\u001b[0m",
      "\u001b[1;31mIndexError\u001b[0m                                Traceback (most recent call last)",
      "Cell \u001b[1;32mIn[18], line 1\u001b[0m\n\u001b[1;32m----> 1\u001b[0m Name[\u001b[38;5;241m100\u001b[39m]\n",
      "\u001b[1;31mIndexError\u001b[0m: string index out of range"
     ]
    }
   ],
   "source": [
    "Name[100]"
   ]
  },
  {
   "cell_type": "code",
   "execution_count": 29,
   "id": "9d3e0131",
   "metadata": {},
   "outputs": [
    {
     "data": {
      "text/plain": [
       "'!'"
      ]
     },
     "execution_count": 29,
     "metadata": {},
     "output_type": "execute_result"
    }
   ],
   "source": [
    "Name[len(Name)-1]         # to access last character,Name[12- 1] = \"!\""
   ]
  },
  {
   "cell_type": "markdown",
   "id": "dbc3f163",
   "metadata": {},
   "source": [
    "### String slicing"
   ]
  },
  {
   "cell_type": "code",
   "execution_count": 8,
   "id": "c7427cd8",
   "metadata": {},
   "outputs": [],
   "source": [
    "number = \"1234567890\"\n",
    "\n",
    "\n",
    "\"\"\"\n",
    "1 2 3 4 5 6 7 8 9 0\n",
    "0 1 2 3 4 5 6 7 8 9 - index\n",
    "\"\"\""
   ]
  },
  {
   "cell_type": "code",
   "execution_count": 11,
   "id": "6b960c00",
   "metadata": {},
   "outputs": [
    {
     "data": {
      "text/plain": [
       "'12345'"
      ]
     },
     "execution_count": 11,
     "metadata": {},
     "output_type": "execute_result"
    }
   ],
   "source": [
    "number[0:5:1]                       # 5th index is excluded"
   ]
  },
  {
   "cell_type": "code",
   "execution_count": 12,
   "id": "5280bc84",
   "metadata": {},
   "outputs": [
    {
     "data": {
      "text/plain": [
       "'12345'"
      ]
     },
     "execution_count": 12,
     "metadata": {},
     "output_type": "execute_result"
    }
   ],
   "source": [
    "number[0:5]"
   ]
  },
  {
   "cell_type": "code",
   "execution_count": 13,
   "id": "5aa71ef5",
   "metadata": {},
   "outputs": [
    {
     "data": {
      "text/plain": [
       "'135'"
      ]
     },
     "execution_count": 13,
     "metadata": {},
     "output_type": "execute_result"
    }
   ],
   "source": [
    "number[0:5:2]"
   ]
  },
  {
   "cell_type": "code",
   "execution_count": 14,
   "id": "d755d18c",
   "metadata": {},
   "outputs": [
    {
     "data": {
      "text/plain": [
       "'0'"
      ]
     },
     "execution_count": 14,
     "metadata": {},
     "output_type": "execute_result"
    }
   ],
   "source": [
    "number[-1:]"
   ]
  },
  {
   "cell_type": "code",
   "execution_count": 15,
   "id": "471325f0",
   "metadata": {},
   "outputs": [
    {
     "data": {
      "text/plain": [
       "'67890'"
      ]
     },
     "execution_count": 15,
     "metadata": {},
     "output_type": "execute_result"
    }
   ],
   "source": [
    "number[5:]"
   ]
  },
  {
   "cell_type": "code",
   "execution_count": 16,
   "id": "3cc5f984",
   "metadata": {},
   "outputs": [],
   "source": [
    "letter = \"Hello world!,My first program\""
   ]
  },
  {
   "cell_type": "code",
   "execution_count": 17,
   "id": "7ff366bb",
   "metadata": {},
   "outputs": [
    {
     "data": {
      "text/plain": [
       "'Hello'"
      ]
     },
     "execution_count": 17,
     "metadata": {},
     "output_type": "execute_result"
    }
   ],
   "source": [
    "letter[0:5]"
   ]
  },
  {
   "cell_type": "code",
   "execution_count": 19,
   "id": "5eaf8fd1",
   "metadata": {},
   "outputs": [
    {
     "data": {
      "text/plain": [
       "'Hello world!,My first program'"
      ]
     },
     "execution_count": 19,
     "metadata": {},
     "output_type": "execute_result"
    }
   ],
   "source": [
    "letter[0:100]"
   ]
  },
  {
   "cell_type": "code",
   "execution_count": 20,
   "id": "87329626",
   "metadata": {},
   "outputs": [
    {
     "data": {
      "text/plain": [
       "''"
      ]
     },
     "execution_count": 20,
     "metadata": {},
     "output_type": "execute_result"
    }
   ],
   "source": [
    "letter[-1:-4:1]      # if start and end are negative and jump is positive then empty string"
   ]
  },
  {
   "cell_type": "code",
   "execution_count": 21,
   "id": "f70d8e16",
   "metadata": {},
   "outputs": [
    {
     "data": {
      "text/plain": [
       "''"
      ]
     },
     "execution_count": 21,
     "metadata": {},
     "output_type": "execute_result"
    }
   ],
   "source": [
    "letter[-1:-5:2]"
   ]
  },
  {
   "cell_type": "code",
   "execution_count": 22,
   "id": "a8a9af4b",
   "metadata": {},
   "outputs": [
    {
     "data": {
      "text/plain": [
       "'mar'"
      ]
     },
     "execution_count": 22,
     "metadata": {},
     "output_type": "execute_result"
    }
   ],
   "source": [
    "letter[-1:-4:-1]"
   ]
  },
  {
   "cell_type": "code",
   "execution_count": 24,
   "id": "a7da08d7",
   "metadata": {},
   "outputs": [
    {
     "data": {
      "text/plain": [
       "''"
      ]
     },
     "execution_count": 24,
     "metadata": {},
     "output_type": "execute_result"
    }
   ],
   "source": [
    "letter[0:100:-1]    # if start and end are positive and jump is negative then empty string"
   ]
  },
  {
   "cell_type": "code",
   "execution_count": 25,
   "id": "ec6387e9",
   "metadata": {},
   "outputs": [
    {
     "data": {
      "text/plain": [
       "''"
      ]
     },
     "execution_count": 25,
     "metadata": {},
     "output_type": "execute_result"
    }
   ],
   "source": [
    "letter[0:-5:-1]"
   ]
  },
  {
   "cell_type": "code",
   "execution_count": 26,
   "id": "d3301885",
   "metadata": {},
   "outputs": [
    {
     "data": {
      "text/plain": [
       "'Hello wo'"
      ]
     },
     "execution_count": 26,
     "metadata": {},
     "output_type": "execute_result"
    }
   ],
   "source": [
    "letter[:8]  # by default,start is zero"
   ]
  },
  {
   "cell_type": "code",
   "execution_count": 28,
   "id": "869c574a",
   "metadata": {},
   "outputs": [
    {
     "data": {
      "text/plain": [
       "'margorp tsrif yM,!dlrow olleH'"
      ]
     },
     "execution_count": 28,
     "metadata": {},
     "output_type": "execute_result"
    }
   ],
   "source": [
    " letter[::-1]   # reverse of a string"
   ]
  },
  {
   "cell_type": "markdown",
   "id": "faae5633",
   "metadata": {},
   "source": [
    "### Strings are immutable\n",
    "```\n",
    "WE CANT CHANGE ANY VALUE IN STRING\n",
    "```"
   ]
  },
  {
   "cell_type": "code",
   "execution_count": 30,
   "id": "5446dc4c",
   "metadata": {},
   "outputs": [
    {
     "ename": "TypeError",
     "evalue": "'str' object does not support item assignment",
     "output_type": "error",
     "traceback": [
      "\u001b[1;31m---------------------------------------------------------------------------\u001b[0m",
      "\u001b[1;31mTypeError\u001b[0m                                 Traceback (most recent call last)",
      "Cell \u001b[1;32mIn[30], line 3\u001b[0m\n\u001b[0;32m      1\u001b[0m str1 \u001b[38;5;241m=\u001b[39m \u001b[38;5;124m\"\u001b[39m\u001b[38;5;124mHaripriya\u001b[39m\u001b[38;5;124m\"\u001b[39m\n\u001b[1;32m----> 3\u001b[0m str1[\u001b[38;5;241m-\u001b[39m\u001b[38;5;241m1\u001b[39m] \u001b[38;5;241m=\u001b[39m \u001b[38;5;124m\"\u001b[39m\u001b[38;5;124mp\u001b[39m\u001b[38;5;124m\"\u001b[39m\n",
      "\u001b[1;31mTypeError\u001b[0m: 'str' object does not support item assignment"
     ]
    }
   ],
   "source": [
    "str1 = \"Haripriya\"\n",
    "\n",
    "str1[-1] = \"p\""
   ]
  },
  {
   "cell_type": "code",
   "execution_count": 31,
   "id": "43c9dfb9",
   "metadata": {},
   "outputs": [
    {
     "ename": "TypeError",
     "evalue": "'str' object does not support item assignment",
     "output_type": "error",
     "traceback": [
      "\u001b[1;31m---------------------------------------------------------------------------\u001b[0m",
      "\u001b[1;31mTypeError\u001b[0m                                 Traceback (most recent call last)",
      "Cell \u001b[1;32mIn[31], line 1\u001b[0m\n\u001b[1;32m----> 1\u001b[0m str1[\u001b[38;5;241m0\u001b[39m:\u001b[38;5;241m3\u001b[39m] \u001b[38;5;241m=\u001b[39m \u001b[38;5;124m\"\u001b[39m\u001b[38;5;124mHariii\u001b[39m\u001b[38;5;124m\"\u001b[39m\n",
      "\u001b[1;31mTypeError\u001b[0m: 'str' object does not support item assignment"
     ]
    }
   ],
   "source": [
    "str1[0:3] = \"Hariii\""
   ]
  },
  {
   "cell_type": "markdown",
   "id": "3eb47423",
   "metadata": {},
   "source": [
    "### Delete a string"
   ]
  },
  {
   "cell_type": "code",
   "execution_count": 32,
   "id": "fc8aaa60",
   "metadata": {},
   "outputs": [],
   "source": [
    "del str1"
   ]
  },
  {
   "cell_type": "code",
   "execution_count": 33,
   "id": "e7895d28",
   "metadata": {},
   "outputs": [
    {
     "ename": "NameError",
     "evalue": "name 'str1' is not defined",
     "output_type": "error",
     "traceback": [
      "\u001b[1;31m---------------------------------------------------------------------------\u001b[0m",
      "\u001b[1;31mNameError\u001b[0m                                 Traceback (most recent call last)",
      "Cell \u001b[1;32mIn[33], line 1\u001b[0m\n\u001b[1;32m----> 1\u001b[0m \u001b[38;5;28mprint\u001b[39m(str1)\n",
      "\u001b[1;31mNameError\u001b[0m: name 'str1' is not defined"
     ]
    }
   ],
   "source": [
    "print(str1)"
   ]
  },
  {
   "cell_type": "markdown",
   "id": "ecc29d10",
   "metadata": {},
   "source": [
    "### String functions"
   ]
  },
  {
   "cell_type": "code",
   "execution_count": 1,
   "id": "5e59ebd4",
   "metadata": {},
   "outputs": [
    {
     "data": {
      "text/plain": [
       "'Good morning'"
      ]
     },
     "execution_count": 1,
     "metadata": {},
     "output_type": "execute_result"
    }
   ],
   "source": [
    "x = \"Good morning\"\n",
    "x.capitalize()             # first letter will be changed to upper case"
   ]
  },
  {
   "cell_type": "code",
   "execution_count": 2,
   "id": "8fba5f72",
   "metadata": {},
   "outputs": [
    {
     "data": {
      "text/plain": [
       "'Good Morning'"
      ]
     },
     "execution_count": 2,
     "metadata": {},
     "output_type": "execute_result"
    }
   ],
   "source": [
    "x.title()         # each and every first letter of word will be changed to upper case"
   ]
  },
  {
   "cell_type": "code",
   "execution_count": 3,
   "id": "ba9eca63",
   "metadata": {},
   "outputs": [
    {
     "data": {
      "text/plain": [
       "'GOOD MORNING'"
      ]
     },
     "execution_count": 3,
     "metadata": {},
     "output_type": "execute_result"
    }
   ],
   "source": [
    "x.upper()     # converts string into upper case"
   ]
  },
  {
   "cell_type": "code",
   "execution_count": 4,
   "id": "b3175708",
   "metadata": {},
   "outputs": [
    {
     "data": {
      "text/plain": [
       "'good morning'"
      ]
     },
     "execution_count": 4,
     "metadata": {},
     "output_type": "execute_result"
    }
   ],
   "source": [
    "x.lower()     # converts string into lower case"
   ]
  },
  {
   "cell_type": "code",
   "execution_count": 5,
   "id": "24fdc475",
   "metadata": {},
   "outputs": [
    {
     "data": {
      "text/plain": [
       "'Good evening'"
      ]
     },
     "execution_count": 5,
     "metadata": {},
     "output_type": "execute_result"
    }
   ],
   "source": [
    "x.replace(\"morning\",\"evening\")    # to replace any letter or substring with other"
   ]
  },
  {
   "cell_type": "code",
   "execution_count": 9,
   "id": "64714728",
   "metadata": {},
   "outputs": [
    {
     "data": {
      "text/plain": [
       "0"
      ]
     },
     "execution_count": 9,
     "metadata": {},
     "output_type": "execute_result"
    }
   ],
   "source": [
    "x.find(\"G\")   # find() used to find the index of the letter"
   ]
  },
  {
   "cell_type": "code",
   "execution_count": 10,
   "id": "931ceb93",
   "metadata": {},
   "outputs": [
    {
     "data": {
      "text/plain": [
       "1"
      ]
     },
     "execution_count": 10,
     "metadata": {},
     "output_type": "execute_result"
    }
   ],
   "source": [
    "x.find(\"ood\")"
   ]
  },
  {
   "cell_type": "code",
   "execution_count": 11,
   "id": "c405faf1",
   "metadata": {},
   "outputs": [
    {
     "data": {
      "text/plain": [
       "-1"
      ]
     },
     "execution_count": 11,
     "metadata": {},
     "output_type": "execute_result"
    }
   ],
   "source": [
    "x.find(\"xyz\")  # if the given string is not in the string which we created,it return -1"
   ]
  },
  {
   "cell_type": "code",
   "execution_count": 12,
   "id": "e91f154f",
   "metadata": {},
   "outputs": [
    {
     "data": {
      "text/plain": [
       "322"
      ]
     },
     "execution_count": 12,
     "metadata": {},
     "output_type": "execute_result"
    }
   ],
   "source": [
    "y = \"\"\"\n",
    "There are a few reasons why strings are immutable in Python. First, it makes the language more safe. \n",
    "If strings were mutable, it would be possible to accidentally change a string in a way that was unexpected. \n",
    "For example, if two different parts of a program were both trying to modify the same string, it could lead to errors.\n",
    "\"\"\"\n",
    "y.find(\"errors\")"
   ]
  },
  {
   "cell_type": "code",
   "execution_count": 60,
   "id": "104aeb6c",
   "metadata": {},
   "outputs": [
    {
     "data": {
      "text/plain": [
       "5"
      ]
     },
     "execution_count": 60,
     "metadata": {},
     "output_type": "execute_result"
    }
   ],
   "source": [
    "# index\n",
    "\n",
    "x = \"good morning\"\n",
    "x.index(\"mo\")"
   ]
  },
  {
   "cell_type": "code",
   "execution_count": 62,
   "id": "dda2f4fc",
   "metadata": {},
   "outputs": [
    {
     "ename": "ValueError",
     "evalue": "substring not found",
     "output_type": "error",
     "traceback": [
      "\u001b[1;31m---------------------------------------------------------------------------\u001b[0m",
      "\u001b[1;31mValueError\u001b[0m                                Traceback (most recent call last)",
      "Cell \u001b[1;32mIn[62], line 1\u001b[0m\n\u001b[1;32m----> 1\u001b[0m x\u001b[38;5;241m.\u001b[39mindex(\u001b[38;5;124m\"\u001b[39m\u001b[38;5;124mz\u001b[39m\u001b[38;5;124m\"\u001b[39m)\n",
      "\u001b[1;31mValueError\u001b[0m: substring not found"
     ]
    }
   ],
   "source": [
    "x.index(\"z\") # the difference between find() and index() is when the substring is not there index will give error but find() will give -1"
   ]
  },
  {
   "cell_type": "code",
   "execution_count": 20,
   "id": "028ce6c0",
   "metadata": {},
   "outputs": [
    {
     "data": {
      "text/plain": [
       "'hello world hari priya'"
      ]
     },
     "execution_count": 20,
     "metadata": {},
     "output_type": "execute_result"
    }
   ],
   "source": [
    "# casefold() method returns a string where all the characters are in lower case\n",
    "# casefold() is more effective than lower() in handling certain special characters and non-English alphabets\n",
    "\n",
    "a = \"Hello world hari Priya\"\n",
    "a.casefold()"
   ]
  },
  {
   "cell_type": "code",
   "execution_count": 14,
   "id": "fc5fd0e8",
   "metadata": {},
   "outputs": [
    {
     "data": {
      "text/plain": [
       "'hello world hari priya#*^'"
      ]
     },
     "execution_count": 14,
     "metadata": {},
     "output_type": "execute_result"
    }
   ],
   "source": [
    "a = \"Hello world hari Priya#*^\"\n",
    "a.casefold()"
   ]
  },
  {
   "cell_type": "code",
   "execution_count": 17,
   "id": "8db7ac4e",
   "metadata": {},
   "outputs": [
    {
     "name": "stdout",
     "output_type": "stream",
     "text": [
      "&^%hello\n",
      "&^%hello\n"
     ]
    }
   ],
   "source": [
    "b = \"&^%hello\"\n",
    "print(b.lower())\n",
    "print(b.casefold())"
   ]
  },
  {
   "cell_type": "code",
   "execution_count": 21,
   "id": "4e055dbf",
   "metadata": {},
   "outputs": [
    {
     "data": {
      "text/plain": [
       "'this is a mixed case string with ß.'"
      ]
     },
     "execution_count": 21,
     "metadata": {},
     "output_type": "execute_result"
    }
   ],
   "source": [
    "\"\"\"\n",
    "When to Use Each:\n",
    "\n",
    "casefold(): Use for case-insensitive comparisons or matching, especially with international text or when precise matching is crucial.\n",
    "lower(): Use for simple lowercase conversion when language-specific nuances aren't critical, such as basic text formatting.\n",
    "\"\"\"\n",
    "text1 = \"This is a MiXed cAsE string with ß.\"\n",
    "text1.lower()"
   ]
  },
  {
   "cell_type": "code",
   "execution_count": 22,
   "id": "3c8bdcd6",
   "metadata": {},
   "outputs": [
    {
     "data": {
      "text/plain": [
       "'this is a mixed case string with ss.'"
      ]
     },
     "execution_count": 22,
     "metadata": {},
     "output_type": "execute_result"
    }
   ],
   "source": [
    "text1.casefold()"
   ]
  },
  {
   "cell_type": "code",
   "execution_count": 1,
   "id": "b8497abb-8da4-46ba-8c26-a3f9fbf4bbc7",
   "metadata": {},
   "outputs": [
    {
     "name": "stdout",
     "output_type": "stream",
     "text": [
      "ssabc\n"
     ]
    }
   ],
   "source": [
    "x = \"ßabc\"\n",
    "print(x.casefold())"
   ]
  },
  {
   "cell_type": "code",
   "execution_count": 26,
   "id": "c5179689",
   "metadata": {},
   "outputs": [
    {
     "data": {
      "text/plain": [
       "'Good morning'"
      ]
     },
     "execution_count": 26,
     "metadata": {},
     "output_type": "execute_result"
    }
   ],
   "source": [
    "# center() method will center align the string, using a specified character (space is the default) as the fill character.\n",
    "\n",
    "x"
   ]
  },
  {
   "cell_type": "code",
   "execution_count": 27,
   "id": "74a41f0d",
   "metadata": {},
   "outputs": [
    {
     "data": {
      "text/plain": [
       "'****Good morning****'"
      ]
     },
     "execution_count": 27,
     "metadata": {},
     "output_type": "execute_result"
    }
   ],
   "source": [
    "x.center(20,\"*\")"
   ]
  },
  {
   "cell_type": "code",
   "execution_count": 28,
   "id": "6c75048b",
   "metadata": {},
   "outputs": [
    {
     "data": {
      "text/plain": [
       "'---------Hello world hari Priya---------'"
      ]
     },
     "execution_count": 28,
     "metadata": {},
     "output_type": "execute_result"
    }
   ],
   "source": [
    "a = \"Hello world hari Priya\"\n",
    "\n",
    "a.center(40,\"-\")"
   ]
  },
  {
   "cell_type": "code",
   "execution_count": 55,
   "id": "dee0f2ea",
   "metadata": {},
   "outputs": [
    {
     "name": "stdout",
     "output_type": "stream",
     "text": [
      "                                          WELCOME EVERYONE                                          \n"
     ]
    }
   ],
   "source": [
    "Wc = \"WELCOME EVERYONE\"\n",
    "print(Wc.center(100))"
   ]
  },
  {
   "cell_type": "code",
   "execution_count": 56,
   "id": "34fa740e",
   "metadata": {},
   "outputs": [
    {
     "data": {
      "text/plain": [
       "'*********WELCOME EVERYONE'"
      ]
     },
     "execution_count": 56,
     "metadata": {},
     "output_type": "execute_result"
    }
   ],
   "source": [
    "Wc.rjust(25,\"*\")"
   ]
  },
  {
   "cell_type": "code",
   "execution_count": 57,
   "id": "a3bedcaa",
   "metadata": {},
   "outputs": [
    {
     "data": {
      "text/plain": [
       "'WELCOME EVERYONE*********'"
      ]
     },
     "execution_count": 57,
     "metadata": {},
     "output_type": "execute_result"
    }
   ],
   "source": [
    "Wc.ljust(25,\"*\")"
   ]
  },
  {
   "cell_type": "code",
   "execution_count": 58,
   "id": "1158c3c6",
   "metadata": {},
   "outputs": [
    {
     "data": {
      "text/plain": [
       "'                                  WELCOME EVERYONE'"
      ]
     },
     "execution_count": 58,
     "metadata": {},
     "output_type": "execute_result"
    }
   ],
   "source": [
    "Wc.rjust(50)"
   ]
  },
  {
   "cell_type": "code",
   "execution_count": 29,
   "id": "c8f71deb",
   "metadata": {},
   "outputs": [
    {
     "data": {
      "text/plain": [
       "1"
      ]
     },
     "execution_count": 29,
     "metadata": {},
     "output_type": "execute_result"
    }
   ],
   "source": [
    "# count() method returns the number of elements with the specified value\n",
    "\n",
    "a.count(\"h\")"
   ]
  },
  {
   "cell_type": "code",
   "execution_count": 30,
   "id": "ea5cbfe8",
   "metadata": {},
   "outputs": [
    {
     "data": {
      "text/plain": [
       "2"
      ]
     },
     "execution_count": 30,
     "metadata": {},
     "output_type": "execute_result"
    }
   ],
   "source": [
    "a.count(\"o\")"
   ]
  },
  {
   "cell_type": "code",
   "execution_count": 31,
   "id": "8706a93f",
   "metadata": {},
   "outputs": [
    {
     "data": {
      "text/plain": [
       "1"
      ]
     },
     "execution_count": 31,
     "metadata": {},
     "output_type": "execute_result"
    }
   ],
   "source": [
    "a.count(\"hari\")"
   ]
  },
  {
   "cell_type": "code",
   "execution_count": 35,
   "id": "ce6328b6",
   "metadata": {},
   "outputs": [
    {
     "name": "stdout",
     "output_type": "stream",
     "text": [
      "hello world!\n"
     ]
    }
   ],
   "source": [
    "# format \n",
    "\"\"\"\n",
    "The format() method formats the specified value(s) and insert them inside the string's placeholder. \n",
    "The placeholder is defined using curly brackets: {}. \n",
    "\"\"\"\n",
    "\n",
    "txt = \"hello {word}\"\n",
    "print(txt.format(word = \"world!\"))"
   ]
  },
  {
   "cell_type": "code",
   "execution_count": 34,
   "id": "55b2fefd",
   "metadata": {},
   "outputs": [
    {
     "name": "stdout",
     "output_type": "stream",
     "text": [
      "hello!,my name is haripriya and my age is 21\n"
     ]
    }
   ],
   "source": [
    "name = \"haripriya\"\n",
    "age = 21\n",
    "print(\"hello!,my name is {} and my age is {}\".format(name,age))"
   ]
  },
  {
   "cell_type": "code",
   "execution_count": 37,
   "id": "b4e99c99",
   "metadata": {},
   "outputs": [
    {
     "name": "stdout",
     "output_type": "stream",
     "text": [
      "My name is Haripriya and my age is 21\n"
     ]
    }
   ],
   "source": [
    "Name = \"Haripriya\"\n",
    "Age = 21\n",
    "print(f\"My name is {Name} and my age is {Age}\")"
   ]
  },
  {
   "cell_type": "code",
   "execution_count": 53,
   "id": "de0b747d",
   "metadata": {},
   "outputs": [
    {
     "name": "stdout",
     "output_type": "stream",
     "text": [
      "The cost of item1,item2 and item3 is 55,100 and 40 respectively\n"
     ]
    }
   ],
   "source": [
    "item1 =55\n",
    "item2 = 100\n",
    "item3 = 40\n",
    "\n",
    "print(\"The cost of item1,item2 and item3 is {},{} and {} respectively\".format(item1,item2,item3))"
   ]
  },
  {
   "cell_type": "code",
   "execution_count": 54,
   "id": "57a21f21",
   "metadata": {},
   "outputs": [
    {
     "name": "stdout",
     "output_type": "stream",
     "text": [
      "The cost of item1,item2 and item3 is 100,40 and 55 respectively\n"
     ]
    }
   ],
   "source": [
    "item1 =55\n",
    "item2 = 100\n",
    "item3 = 40\n",
    "\n",
    "print(\"The cost of item1,item2 and item3 is {1},{2} and {0} respectively\".format(item1,item2,item3))"
   ]
  },
  {
   "cell_type": "code",
   "execution_count": 38,
   "id": "7216f96c",
   "metadata": {},
   "outputs": [
    {
     "name": "stdout",
     "output_type": "stream",
     "text": [
      "Hello\n"
     ]
    }
   ],
   "source": [
    "# Strip - to remove space(space is there by default)\n",
    "\n",
    "x = \"    Hello     \"\n",
    "print(x.strip())"
   ]
  },
  {
   "cell_type": "code",
   "execution_count": 39,
   "id": "be067f65",
   "metadata": {},
   "outputs": [
    {
     "data": {
      "text/plain": [
       "'    Hello'"
      ]
     },
     "execution_count": 39,
     "metadata": {},
     "output_type": "execute_result"
    }
   ],
   "source": [
    "# rstrip - to remove space from right side\n",
    "\n",
    "x.rstrip()"
   ]
  },
  {
   "cell_type": "code",
   "execution_count": 40,
   "id": "db2d799c",
   "metadata": {},
   "outputs": [
    {
     "data": {
      "text/plain": [
       "'Hello     '"
      ]
     },
     "execution_count": 40,
     "metadata": {},
     "output_type": "execute_result"
    }
   ],
   "source": [
    "# lstrip = to remove space from left side\n",
    "\n",
    "x.lstrip()"
   ]
  },
  {
   "cell_type": "code",
   "execution_count": 41,
   "id": "3862d9db",
   "metadata": {},
   "outputs": [],
   "source": [
    "y = \"***Haripriya###\""
   ]
  },
  {
   "cell_type": "code",
   "execution_count": 42,
   "id": "bbb750c3",
   "metadata": {},
   "outputs": [
    {
     "data": {
      "text/plain": [
       "'***Haripriya'"
      ]
     },
     "execution_count": 42,
     "metadata": {},
     "output_type": "execute_result"
    }
   ],
   "source": [
    "y.rstrip(\"#\")"
   ]
  },
  {
   "cell_type": "code",
   "execution_count": 43,
   "id": "399ca246",
   "metadata": {},
   "outputs": [
    {
     "data": {
      "text/plain": [
       "'***Haripriya###'"
      ]
     },
     "execution_count": 43,
     "metadata": {},
     "output_type": "execute_result"
    }
   ],
   "source": [
    "y.rstrip(\"*\")"
   ]
  },
  {
   "cell_type": "code",
   "execution_count": 44,
   "id": "a7bdf7a5",
   "metadata": {},
   "outputs": [
    {
     "data": {
      "text/plain": [
       "'Haripriya###'"
      ]
     },
     "execution_count": 44,
     "metadata": {},
     "output_type": "execute_result"
    }
   ],
   "source": [
    "y.lstrip(\"*\")"
   ]
  },
  {
   "cell_type": "code",
   "execution_count": 45,
   "id": "abc5a9ba",
   "metadata": {},
   "outputs": [
    {
     "data": {
      "text/plain": [
       "True"
      ]
     },
     "execution_count": 45,
     "metadata": {},
     "output_type": "execute_result"
    }
   ],
   "source": [
    "# Startswith and endswith\n",
    "\n",
    "Name = \"hello i am student\"\n",
    "Name.startswith(\"h\")"
   ]
  },
  {
   "cell_type": "code",
   "execution_count": 46,
   "id": "5989b767",
   "metadata": {},
   "outputs": [
    {
     "data": {
      "text/plain": [
       "False"
      ]
     },
     "execution_count": 46,
     "metadata": {},
     "output_type": "execute_result"
    }
   ],
   "source": [
    "Name.startswith(\"z\")"
   ]
  },
  {
   "cell_type": "code",
   "execution_count": 47,
   "id": "a2a43c05",
   "metadata": {},
   "outputs": [
    {
     "data": {
      "text/plain": [
       "True"
      ]
     },
     "execution_count": 47,
     "metadata": {},
     "output_type": "execute_result"
    }
   ],
   "source": [
    "Name.endswith(\"t\")"
   ]
  },
  {
   "cell_type": "code",
   "execution_count": 48,
   "id": "bb2db7ae",
   "metadata": {},
   "outputs": [
    {
     "data": {
      "text/plain": [
       "False"
      ]
     },
     "execution_count": 48,
     "metadata": {},
     "output_type": "execute_result"
    }
   ],
   "source": [
    "Name.endswith(\"y\")"
   ]
  },
  {
   "cell_type": "code",
   "execution_count": 49,
   "id": "95bdcdb9",
   "metadata": {},
   "outputs": [
    {
     "data": {
      "text/plain": [
       "['one',\n",
       " 'two',\n",
       " 'three',\n",
       " 'four',\n",
       " 'five',\n",
       " 'six',\n",
       " 'seven',\n",
       " 'eight',\n",
       " 'nine',\n",
       " 'ten',\n",
       " 'zero']"
      ]
     },
     "execution_count": 49,
     "metadata": {},
     "output_type": "execute_result"
    }
   ],
   "source": [
    "# split() - Split String into substrings\n",
    "\n",
    "numbers = \"one two three four five six seven eight nine ten zero\"\n",
    "numbers.split()"
   ]
  },
  {
   "cell_type": "code",
   "execution_count": 2,
   "id": "ff2cd34a-9711-4847-906c-23c1b77119a6",
   "metadata": {},
   "outputs": [
    {
     "data": {
      "text/plain": [
       "['on',\n",
       " ' two thr',\n",
       " '',\n",
       " ' four fiv',\n",
       " ' six s',\n",
       " 'v',\n",
       " 'n ',\n",
       " 'ight nin',\n",
       " ' t',\n",
       " 'n z',\n",
       " 'ro']"
      ]
     },
     "execution_count": 2,
     "metadata": {},
     "output_type": "execute_result"
    }
   ],
   "source": [
    "numbers = \"one two three four five six seven eight nine ten zero\"\n",
    "numbers.split(\"e\")"
   ]
  },
  {
   "cell_type": "code",
   "execution_count": 51,
   "id": "0f0e56f7",
   "metadata": {},
   "outputs": [
    {
     "data": {
      "text/plain": [
       "['one',\n",
       " 'two',\n",
       " 'three',\n",
       " 'four',\n",
       " 'five',\n",
       " 'six',\n",
       " 'seven',\n",
       " 'eight',\n",
       " 'nine',\n",
       " 'ten',\n",
       " 'zero']"
      ]
     },
     "execution_count": 51,
     "metadata": {},
     "output_type": "execute_result"
    }
   ],
   "source": [
    "numbers = \"one*two*three*four*five*six*seven*eight*nine*ten*zero\"\n",
    "numbers.split(\"*\")"
   ]
  },
  {
   "cell_type": "code",
   "execution_count": 63,
   "id": "e796d0da",
   "metadata": {},
   "outputs": [
    {
     "name": "stdout",
     "output_type": "stream",
     "text": [
      "True\n"
     ]
    }
   ],
   "source": [
    "# isalnum - if the string contains only letters or numbers\n",
    "\n",
    "a = \"122345\"\n",
    "print(a.isalnum())"
   ]
  },
  {
   "cell_type": "code",
   "execution_count": 65,
   "id": "9e2369f1",
   "metadata": {},
   "outputs": [
    {
     "name": "stdout",
     "output_type": "stream",
     "text": [
      "True\n"
     ]
    }
   ],
   "source": [
    "a = \"ggjdh\"\n",
    "print(a.isalnum())"
   ]
  },
  {
   "cell_type": "code",
   "execution_count": 66,
   "id": "cf64509b",
   "metadata": {},
   "outputs": [
    {
     "name": "stdout",
     "output_type": "stream",
     "text": [
      "True\n"
     ]
    }
   ],
   "source": [
    "a = \"123abc\"\n",
    "print(a.isalnum())"
   ]
  },
  {
   "cell_type": "code",
   "execution_count": 67,
   "id": "1525bd85",
   "metadata": {},
   "outputs": [
    {
     "name": "stdout",
     "output_type": "stream",
     "text": [
      "False\n"
     ]
    }
   ],
   "source": [
    "a = \"123abc#\"\n",
    "print(a.isalnum())"
   ]
  },
  {
   "cell_type": "code",
   "execution_count": 68,
   "id": "13306198",
   "metadata": {},
   "outputs": [
    {
     "name": "stdout",
     "output_type": "stream",
     "text": [
      "True\n"
     ]
    }
   ],
   "source": [
    "# isalpha - only letter\n",
    "\n",
    "a = \"abcAgf\"\n",
    "print(a.isalpha())"
   ]
  },
  {
   "cell_type": "code",
   "execution_count": 69,
   "id": "ec88f288",
   "metadata": {},
   "outputs": [
    {
     "name": "stdout",
     "output_type": "stream",
     "text": [
      "False\n"
     ]
    }
   ],
   "source": [
    "a = \"123abc\"\n",
    "print(a.isalpha())"
   ]
  },
  {
   "cell_type": "code",
   "execution_count": 70,
   "id": "6872448a",
   "metadata": {},
   "outputs": [
    {
     "name": "stdout",
     "output_type": "stream",
     "text": [
      "True\n"
     ]
    }
   ],
   "source": [
    "# isnumeric - only numbers\n",
    "\n",
    "a = \"123356\"\n",
    "print(a.isnumeric())"
   ]
  },
  {
   "cell_type": "code",
   "execution_count": 72,
   "id": "91c8e5fb",
   "metadata": {},
   "outputs": [
    {
     "name": "stdout",
     "output_type": "stream",
     "text": [
      "False\n"
     ]
    }
   ],
   "source": [
    "# isupper() - check if the all letters are in upper case\n",
    "\n",
    "a = \"hariPirYa\"\n",
    "print(a.isupper())"
   ]
  },
  {
   "cell_type": "code",
   "execution_count": 73,
   "id": "52d970fe",
   "metadata": {},
   "outputs": [
    {
     "name": "stdout",
     "output_type": "stream",
     "text": [
      "True\n"
     ]
    }
   ],
   "source": [
    "a = \"HARIPRIYA\"\n",
    "print(a.isupper())"
   ]
  },
  {
   "cell_type": "code",
   "execution_count": 74,
   "id": "ad9e3ae9",
   "metadata": {},
   "outputs": [
    {
     "name": "stdout",
     "output_type": "stream",
     "text": [
      "True\n"
     ]
    }
   ],
   "source": [
    "# islower() - checks if all the letters are in lower\n",
    "\n",
    "a = \"haripriya\"\n",
    "print(a.islower())"
   ]
  },
  {
   "cell_type": "code",
   "execution_count": 75,
   "id": "b43811b0",
   "metadata": {},
   "outputs": [
    {
     "name": "stdout",
     "output_type": "stream",
     "text": [
      "False\n"
     ]
    }
   ],
   "source": [
    "a = \"Haripriya\"\n",
    "print(a.islower())"
   ]
  },
  {
   "cell_type": "code",
   "execution_count": 76,
   "id": "ffb09e8d",
   "metadata": {},
   "outputs": [
    {
     "name": "stdout",
     "output_type": "stream",
     "text": [
      "8\n"
     ]
    }
   ],
   "source": [
    "# rfind() - to find the last occurance of the specified value\n",
    "\n",
    "a = \"Haripriya\"\n",
    "\n",
    "\"\"\"\n",
    "H a r i p r i y a\n",
    "0 1 2 3 4 5 6 7 8\n",
    "\n",
    "\"\"\"\n",
    "print(a.rfind(\"a\"))"
   ]
  },
  {
   "cell_type": "code",
   "execution_count": 77,
   "id": "b4f167e2",
   "metadata": {},
   "outputs": [
    {
     "name": "stdout",
     "output_type": "stream",
     "text": [
      "6\n"
     ]
    }
   ],
   "source": [
    "print(a.rfind(\"i\"))"
   ]
  },
  {
   "cell_type": "code",
   "execution_count": 78,
   "id": "45ab3d48",
   "metadata": {},
   "outputs": [
    {
     "name": "stdout",
     "output_type": "stream",
     "text": [
      "8\n"
     ]
    }
   ],
   "source": [
    "# rindex() - to find the last occurance index of particular character\n",
    "\n",
    "print(a.rindex(\"a\"))"
   ]
  },
  {
   "cell_type": "code",
   "execution_count": 79,
   "id": "bc212c2f",
   "metadata": {},
   "outputs": [
    {
     "ename": "ValueError",
     "evalue": "substring not found",
     "output_type": "error",
     "traceback": [
      "\u001b[1;31m---------------------------------------------------------------------------\u001b[0m",
      "\u001b[1;31mValueError\u001b[0m                                Traceback (most recent call last)",
      "Cell \u001b[1;32mIn[79], line 1\u001b[0m\n\u001b[1;32m----> 1\u001b[0m \u001b[38;5;28mprint\u001b[39m(a\u001b[38;5;241m.\u001b[39mrindex(\u001b[38;5;124m\"\u001b[39m\u001b[38;5;124mz\u001b[39m\u001b[38;5;124m\"\u001b[39m))\n",
      "\u001b[1;31mValueError\u001b[0m: substring not found"
     ]
    }
   ],
   "source": [
    "print(a.rindex(\"z\"))"
   ]
  },
  {
   "cell_type": "code",
   "execution_count": 6,
   "id": "7c66b25c",
   "metadata": {},
   "outputs": [
    {
     "data": {
      "text/plain": [
       "'H a r i p r i y a'"
      ]
     },
     "execution_count": 6,
     "metadata": {},
     "output_type": "execute_result"
    }
   ],
   "source": [
    "# join() - Python join() is an inbuilt string function in Python used to join elements of the sequence separated by a string separator\n",
    "s = \"Haripriya\"\n",
    "\" \".join(s)"
   ]
  },
  {
   "cell_type": "code",
   "execution_count": 8,
   "id": "3c939c55",
   "metadata": {},
   "outputs": [
    {
     "data": {
      "text/plain": [
       "'H#a#r#i#p#r#i#y#a'"
      ]
     },
     "execution_count": 8,
     "metadata": {},
     "output_type": "execute_result"
    }
   ],
   "source": [
    "\"#\".join(s)"
   ]
  },
  {
   "cell_type": "code",
   "execution_count": 10,
   "id": "1fb3db13",
   "metadata": {},
   "outputs": [
    {
     "data": {
      "text/plain": [
       "'S.a.t.h.i.s.h. .k.u.m.a.r'"
      ]
     },
     "execution_count": 10,
     "metadata": {},
     "output_type": "execute_result"
    }
   ],
   "source": [
    "h = \"Sathish kumar\"\n",
    "\".\".join(h)"
   ]
  },
  {
   "cell_type": "code",
   "execution_count": 3,
   "id": "cf94c3ac",
   "metadata": {},
   "outputs": [
    {
     "name": "stdout",
     "output_type": "stream",
     "text": [
      "0000abc123\n"
     ]
    }
   ],
   "source": [
    "# zfill -  adds zeros (0) at the beginning of the string, until it reaches the specified length\n",
    "x = \"abc123\"\n",
    "\n",
    "print(str(x).zfill(10))"
   ]
  },
  {
   "cell_type": "code",
   "execution_count": 3,
   "id": "a49916c1-75c5-4c3e-afb1-0ba1c5b9c3ff",
   "metadata": {},
   "outputs": [
    {
     "name": "stdout",
     "output_type": "stream",
     "text": [
      "000000hari\n"
     ]
    }
   ],
   "source": [
    "a = \"hari\"\n",
    "print(a.zfill(10))"
   ]
  },
  {
   "cell_type": "markdown",
   "id": "750046b6",
   "metadata": {},
   "source": [
    "### Escape characters"
   ]
  },
  {
   "cell_type": "code",
   "execution_count": 82,
   "id": "4c01afc1",
   "metadata": {},
   "outputs": [
    {
     "ename": "SyntaxError",
     "evalue": "invalid syntax (3677107424.py, line 2)",
     "output_type": "error",
     "traceback": [
      "\u001b[1;36m  Cell \u001b[1;32mIn[82], line 2\u001b[1;36m\u001b[0m\n\u001b[1;33m    mystr = \"My favourite cartoon is \"heidi\"\"\u001b[0m\n\u001b[1;37m                                      ^\u001b[0m\n\u001b[1;31mSyntaxError\u001b[0m\u001b[1;31m:\u001b[0m invalid syntax\n"
     ]
    }
   ],
   "source": [
    "# Using double quotes in the string is not allowed.\n",
    "mystr = \"My favourite cartoon is \"heidi\"\""
   ]
  },
  {
   "cell_type": "code",
   "execution_count": 84,
   "id": "663f85cf",
   "metadata": {},
   "outputs": [
    {
     "name": "stdout",
     "output_type": "stream",
     "text": [
      "My favourite cartoon is 'Heidi'\n"
     ]
    }
   ],
   "source": [
    "mystr = \"My favourite cartoon is 'Heidi'\"   # we can use single quotes inside\n",
    "print(mystr)"
   ]
  },
  {
   "cell_type": "code",
   "execution_count": 85,
   "id": "684f37d4",
   "metadata": {},
   "outputs": [
    {
     "name": "stdout",
     "output_type": "stream",
     "text": [
      "My favorite cartoon is \"Heidi\"\n"
     ]
    }
   ],
   "source": [
    "mystr = 'My favorite cartoon is \"Heidi\"'\n",
    "print(mystr)"
   ]
  },
  {
   "cell_type": "code",
   "execution_count": 88,
   "id": "b8db28a4",
   "metadata": {},
   "outputs": [
    {
     "name": "stdout",
     "output_type": "stream",
     "text": [
      "My favorite cartoon is \"Heidi\"\n"
     ]
    }
   ],
   "source": [
    "# Using escape character to allow illegal characters\n",
    "# to double quotes itself\n",
    "\n",
    "mystr = \"My favorite cartoon is \\\"Heidi\\\"\"\n",
    "print(mystr)"
   ]
  },
  {
   "cell_type": "code",
   "execution_count": 90,
   "id": "d504ee22",
   "metadata": {},
   "outputs": [
    {
     "name": "stdout",
     "output_type": "stream",
     "text": [
      "Hello\n",
      "My name is 'Haripriya'\n"
     ]
    }
   ],
   "source": [
    "# new line escape sequence\n",
    "\n",
    "mystr = \"Hello\\nMy name is 'Haripriya'\"\n",
    "print(mystr)"
   ]
  },
  {
   "cell_type": "code",
   "execution_count": 91,
   "id": "d77fa7a8",
   "metadata": {},
   "outputs": [
    {
     "name": "stdout",
     "output_type": "stream",
     "text": [
      "Hello\tMy name is 'Haripriya'\n"
     ]
    }
   ],
   "source": [
    "#tab escape sequence\n",
    "\n",
    "mystr = \"Hello\\tMy name is 'Haripriya'\"\n",
    "print(mystr)"
   ]
  },
  {
   "cell_type": "code",
   "execution_count": 94,
   "id": "d42ef194",
   "metadata": {},
   "outputs": [
    {
     "name": "stdout",
     "output_type": "stream",
     "text": [
      "My favourite series is 'Stranger things'\n",
      "My favourite series is \"Stranger things\"\n",
      "My favourite series is \"Stranger things\"\n"
     ]
    }
   ],
   "source": [
    "mystr1 = \"My favourite series is 'Stranger things'\"\n",
    "print(mystr1)\n",
    "mystr2 = 'My favourite series is \"Stranger things\"'\n",
    "print(mystr2)\n",
    "mystr3 = \"My favourite series is \\\"Stranger things\\\"\"\n",
    "print(mystr3)"
   ]
  },
  {
   "cell_type": "markdown",
   "id": "55c24b91",
   "metadata": {},
   "source": [
    "###  Udemy exercise"
   ]
  },
  {
   "cell_type": "markdown",
   "id": "0b8644f1",
   "metadata": {},
   "source": [
    "#### Exercise 30\n",
    "```\n",
    "The following text is given:\n",
    "\n",
    "text = 'python is a popular programming language.'\n",
    "\n",
    "Use the appropriate method to replace the first letter of the text with uppercase. Print the result to the console.\n",
    "\n",
    "Expected result:\n",
    "Python is a popular programming language.\n",
    "```"
   ]
  },
  {
   "cell_type": "code",
   "execution_count": 95,
   "id": "a81c5bec",
   "metadata": {},
   "outputs": [
    {
     "name": "stdout",
     "output_type": "stream",
     "text": [
      "Python is a popular programming language.\n"
     ]
    }
   ],
   "source": [
    "text = 'python is a popular programming language.'\n",
    "print(text.capitalize())"
   ]
  },
  {
   "cell_type": "markdown",
   "id": "237ceadf",
   "metadata": {},
   "source": [
    "#### Exercise 31\n",
    "```\n",
    "The following text is given:\n",
    "text = 'python is a popular programming language.'\n",
    "\n",
    "Using the appropriate method count the number of occurrences of the letter 'p' and print the result to the console as shown below.\n",
    "\n",
    "Expected result:\n",
    "Number of occurrences: 4\n",
    "```"
   ]
  },
  {
   "cell_type": "code",
   "execution_count": 97,
   "id": "2436cd65",
   "metadata": {},
   "outputs": [
    {
     "name": "stdout",
     "output_type": "stream",
     "text": [
      "Number of occurrences: 4\n"
     ]
    }
   ],
   "source": [
    "text = 'python is a popular programming language.'\n",
    "print(f\"Number of occurrences: {text.count('p')}\")"
   ]
  },
  {
   "cell_type": "code",
   "execution_count": 98,
   "id": "1ecceae7",
   "metadata": {},
   "outputs": [
    {
     "name": "stdout",
     "output_type": "stream",
     "text": [
      "Number of occurences: 4\n"
     ]
    }
   ],
   "source": [
    "text = 'python is a popular programming language.'\n",
    "count = text.count(\"p\")\n",
    "print(f\"Number of occurences: {count}\")"
   ]
  },
  {
   "cell_type": "markdown",
   "id": "e4644be0",
   "metadata": {},
   "source": [
    "#### Exercise 32\n",
    "```\n",
    "The following codes are given:\n",
    "\n",
    "code1 = 'FVNISJND-XX-2020'\n",
    "code2 = 'FVNISJND-XY-2019'\n",
    "\n",
    "Using the appropriate method check if the codes end in '2020'. Print the result to the console as shown below.\n",
    "\n",
    "Expected result:\n",
    "code1: True\n",
    "code2: False\n",
    "```"
   ]
  },
  {
   "cell_type": "code",
   "execution_count": 99,
   "id": "9d7a5413",
   "metadata": {},
   "outputs": [
    {
     "name": "stdout",
     "output_type": "stream",
     "text": [
      "code1: True\n",
      "code2: False\n"
     ]
    }
   ],
   "source": [
    "code1 = 'FVNISJND-XX-2020'\n",
    "code2 = 'FVNISJND-XY-2019'\n",
    "print(f\"code1: {code1.endswith('2020')}\")\n",
    "print(f\"code2: {code2.endswith('2020')}\")"
   ]
  },
  {
   "cell_type": "markdown",
   "id": "d7901f9f",
   "metadata": {},
   "source": [
    "#### Exercise 33\n",
    "```\n",
    "The following paths are given:\n",
    "\n",
    "path1 = 'youtube.com/watch?v=5EhRztVxums'\n",
    "path2 = 'google.com/search?q=car'\n",
    "\n",
    "Using the appropriate method check if the paths refer to YouTube (e.g. start with 'youtube'). Print the result to the console as shown below.\n",
    "\n",
    "Expected result:\n",
    "path1: True\n",
    "path2: False\n",
    "```"
   ]
  },
  {
   "cell_type": "code",
   "execution_count": 100,
   "id": "5f380f61",
   "metadata": {},
   "outputs": [
    {
     "name": "stdout",
     "output_type": "stream",
     "text": [
      "path1: True\n",
      "path2: False\n"
     ]
    }
   ],
   "source": [
    "path1 = 'youtube.com/watch?v=5EhRztVxums'\n",
    "path2 = 'google.com/search?q=car'\n",
    "\n",
    "print(f\"path1: {path1.startswith('youtube')}\")\n",
    "print(f\"path2: {path2.startswith('youtube')}\")"
   ]
  },
  {
   "cell_type": "markdown",
   "id": "2f279cbd",
   "metadata": {},
   "source": [
    "#### Exercise 34\n",
    "```\n",
    "The following paths are given:\n",
    "\n",
    "path1 = (\n",
    "    \"https://e-smartdata.teachable.com/p/\"\n",
    "    \"sciezka-data-scientist-machine-learning-engineer\"\n",
    ")\n",
    "path2 = (\n",
    "    \"https://e-smartdata.teachable.com/p/\"\n",
    "    \"sciezka-data-scientist-deep-learning-engineer\"\n",
    ")\n",
    "path3 = (\n",
    "    \"https://e-smartdata.teachable.com/p/\"\n",
    "    \"sciezka-bi-analyst-data-analyst\"\n",
    ")\n",
    "\n",
    "Using the appropriate method, find the word 'scientist' in the given paths, returning the index for the first letter of the found word. If the word is not in the path, the method should return -1. Print the result to the console as shown below.\n",
    "\n",
    "Expected result:\n",
    "path1: 49\n",
    "path2: 49\n",
    "path3: -1\n",
    "```"
   ]
  },
  {
   "cell_type": "code",
   "execution_count": 102,
   "id": "d0d7323f",
   "metadata": {},
   "outputs": [
    {
     "name": "stdout",
     "output_type": "stream",
     "text": [
      "path1: 49\n",
      "path2: 49\n",
      "path3: -1\n"
     ]
    }
   ],
   "source": [
    "path1 = (\n",
    "    \"https://e-smartdata.teachable.com/p/\"\n",
    "    \"sciezka-data-scientist-machine-learning-engineer\"\n",
    ")\n",
    "path2 = (\n",
    "    \"https://e-smartdata.teachable.com/p/\"\n",
    "    \"sciezka-data-scientist-deep-learning-engineer\"\n",
    ")\n",
    "path3 = (\n",
    "    \"https://e-smartdata.teachable.com/p/\"\n",
    "    \"sciezka-bi-analyst-data-analyst\"\n",
    ")\n",
    "\n",
    "print(f\"path1: {path1.find('scientist')}\")\n",
    "print(f\"path2: {path2.find('scientist')}\")\n",
    "print(f\"path3: {path3.find('scientist')}\")"
   ]
  },
  {
   "cell_type": "code",
   "execution_count": 103,
   "id": "2e677849",
   "metadata": {},
   "outputs": [
    {
     "name": "stdout",
     "output_type": "stream",
     "text": [
      "path1: 49\n",
      "path2: 49\n"
     ]
    },
    {
     "ename": "ValueError",
     "evalue": "substring not found",
     "output_type": "error",
     "traceback": [
      "\u001b[1;31m---------------------------------------------------------------------------\u001b[0m",
      "\u001b[1;31mValueError\u001b[0m                                Traceback (most recent call last)",
      "Cell \u001b[1;32mIn[103], line 16\u001b[0m\n\u001b[0;32m     14\u001b[0m \u001b[38;5;28mprint\u001b[39m(\u001b[38;5;124mf\u001b[39m\u001b[38;5;124m\"\u001b[39m\u001b[38;5;124mpath1: \u001b[39m\u001b[38;5;132;01m{\u001b[39;00mpath1\u001b[38;5;241m.\u001b[39mindex(\u001b[38;5;124m'\u001b[39m\u001b[38;5;124mscientist\u001b[39m\u001b[38;5;124m'\u001b[39m)\u001b[38;5;132;01m}\u001b[39;00m\u001b[38;5;124m\"\u001b[39m)\n\u001b[0;32m     15\u001b[0m \u001b[38;5;28mprint\u001b[39m(\u001b[38;5;124mf\u001b[39m\u001b[38;5;124m\"\u001b[39m\u001b[38;5;124mpath2: \u001b[39m\u001b[38;5;132;01m{\u001b[39;00mpath2\u001b[38;5;241m.\u001b[39mindex(\u001b[38;5;124m'\u001b[39m\u001b[38;5;124mscientist\u001b[39m\u001b[38;5;124m'\u001b[39m)\u001b[38;5;132;01m}\u001b[39;00m\u001b[38;5;124m\"\u001b[39m)\n\u001b[1;32m---> 16\u001b[0m \u001b[38;5;28mprint\u001b[39m(\u001b[38;5;124mf\u001b[39m\u001b[38;5;124m\"\u001b[39m\u001b[38;5;124mpath3: \u001b[39m\u001b[38;5;132;01m{\u001b[39;00mpath3\u001b[38;5;241m.\u001b[39mindex(\u001b[38;5;124m'\u001b[39m\u001b[38;5;124mscientist\u001b[39m\u001b[38;5;124m'\u001b[39m)\u001b[38;5;132;01m}\u001b[39;00m\u001b[38;5;124m\"\u001b[39m)\n",
      "\u001b[1;31mValueError\u001b[0m: substring not found"
     ]
    }
   ],
   "source": [
    "# if we use index function,we get error\n",
    "path1 = (\n",
    "    \"https://e-smartdata.teachable.com/p/\"\n",
    "    \"sciezka-data-scientist-machine-learning-engineer\"\n",
    ")\n",
    "path2 = (\n",
    "    \"https://e-smartdata.teachable.com/p/\"\n",
    "    \"sciezka-data-scientist-deep-learning-engineer\"\n",
    ")\n",
    "path3 = (\n",
    "    \"https://e-smartdata.teachable.com/p/\"\n",
    "    \"sciezka-bi-analyst-data-analyst\"\n",
    ")\n",
    "\n",
    "print(f\"path1: {path1.index('scientist')}\")\n",
    "print(f\"path2: {path2.index('scientist')}\")\n",
    "print(f\"path3: {path3.index('scientist')}\")"
   ]
  },
  {
   "cell_type": "markdown",
   "id": "077ef68a",
   "metadata": {},
   "source": [
    "#### Exercise 35\n",
    "```\n",
    "The following codes are given:\n",
    "\n",
    "code1 = 'FVNISJND-20'\n",
    "code2 = 'FVNISJND20'\n",
    "\n",
    "Using the appropriate method, check whether the codes consist only of alphanumeric characters (numbers + letters). Print the result to the console as shown below.\n",
    "\n",
    "Expected result:\n",
    "code1: False\n",
    "code2: True\n",
    "```"
   ]
  },
  {
   "cell_type": "code",
   "execution_count": 105,
   "id": "058f44c9",
   "metadata": {},
   "outputs": [
    {
     "name": "stdout",
     "output_type": "stream",
     "text": [
      "code1: False\n",
      "code2: True\n"
     ]
    }
   ],
   "source": [
    "code1 = 'FVNISJND-20'\n",
    "code2 = 'FVNISJND20'\n",
    "\n",
    "print(f\"code1: {code1.isalnum()}\")\n",
    "print(f\"code2: {code2.isalnum()}\")"
   ]
  },
  {
   "cell_type": "markdown",
   "id": "2df977ca",
   "metadata": {},
   "source": [
    "#### Exercise 36\n",
    "```\n",
    "The following text is given:\n",
    "\n",
    "text = 'Google Colab'\n",
    "\n",
    "Using the appropriate method convert all letters to lowercase. Print the result to the console.\n",
    "\n",
    "Expected result:\n",
    "google colab\n",
    "```"
   ]
  },
  {
   "cell_type": "code",
   "execution_count": 106,
   "id": "52c7cc87",
   "metadata": {},
   "outputs": [
    {
     "name": "stdout",
     "output_type": "stream",
     "text": [
      "google colab\n"
     ]
    }
   ],
   "source": [
    "text = 'Google Colab'\n",
    "print(text.lower())"
   ]
  },
  {
   "cell_type": "code",
   "execution_count": 108,
   "id": "1bc08d67",
   "metadata": {},
   "outputs": [
    {
     "name": "stdout",
     "output_type": "stream",
     "text": [
      "google colab\n"
     ]
    }
   ],
   "source": [
    "text = 'Google Colab'\n",
    "print(text.casefold())    # casefold() is considered to be a advanced version of lower()"
   ]
  },
  {
   "cell_type": "markdown",
   "id": "e7a087ec",
   "metadata": {},
   "source": [
    "#### Exercise 37\n",
    "```\n",
    "The following text is given:\n",
    "\n",
    "text = 'Google Colab'\n",
    "\n",
    "Using the appropriate method convert all letters to uppercase. Print the result to the console.\n",
    "\n",
    "Expected result:\n",
    "GOOGLE COLAB\n",
    "```"
   ]
  },
  {
   "cell_type": "code",
   "execution_count": 109,
   "id": "d87429e4",
   "metadata": {},
   "outputs": [
    {
     "name": "stdout",
     "output_type": "stream",
     "text": [
      "GOOGLE COLAB\n"
     ]
    }
   ],
   "source": [
    "text = 'Google Colab'\n",
    "print(text.upper())"
   ]
  },
  {
   "cell_type": "markdown",
   "id": "707e565d",
   "metadata": {},
   "source": [
    "#### Exercise 38\n",
    "```\n",
    "The following text is given:\n",
    "\n",
    "text = '  Google Colab   '\n",
    "\n",
    "Using the appropriate method remove whitespace characters around the text. Print the result to the console.\n",
    "\n",
    "Expected result:\n",
    "Google Colab\n",
    "```"
   ]
  },
  {
   "cell_type": "code",
   "execution_count": 110,
   "id": "72340cc6",
   "metadata": {},
   "outputs": [
    {
     "name": "stdout",
     "output_type": "stream",
     "text": [
      "Google Colab\n"
     ]
    }
   ],
   "source": [
    "text = '  Google Colab   '\n",
    "print(text.strip())"
   ]
  },
  {
   "cell_type": "markdown",
   "id": "a123980a",
   "metadata": {},
   "source": [
    "#### Exercise 39\n",
    "```\n",
    "The following code is given:\n",
    "\n",
    "code = 'FVNISJND-XX'\n",
    "\n",
    "Using the appropriate method replace the dash with a space. Print the result to the console.\n",
    "\n",
    "Expected result:\n",
    "FVNISJND XX\n",
    "```"
   ]
  },
  {
   "cell_type": "code",
   "execution_count": 112,
   "id": "277fe7e8",
   "metadata": {},
   "outputs": [
    {
     "name": "stdout",
     "output_type": "stream",
     "text": [
      "FVNISJND XX\n"
     ]
    }
   ],
   "source": [
    "code = 'FVNISJND-XX'\n",
    "print(code.replace(\"-\",\" \"))"
   ]
  },
  {
   "cell_type": "markdown",
   "id": "9ae82d49",
   "metadata": {},
   "source": [
    "#### Exercise 40\n",
    "```\n",
    "The following text is given:\n",
    "\n",
    "text = '340-23-245-235'\n",
    "\n",
    "Using the appropriate method remove all dashes from the text. Print the result to the console.\n",
    "\n",
    "Expected result:\n",
    "34023245235\n",
    "```"
   ]
  },
  {
   "cell_type": "code",
   "execution_count": 114,
   "id": "9d725b60",
   "metadata": {},
   "outputs": [
    {
     "name": "stdout",
     "output_type": "stream",
     "text": [
      "34023245235\n"
     ]
    }
   ],
   "source": [
    "text = '340-23-245-235'\n",
    "print(text.replace(\"-\",\"\"))"
   ]
  },
  {
   "cell_type": "code",
   "execution_count": null,
   "id": "98fda95b-1aa7-4e93-892f-a4b460a3ec07",
   "metadata": {},
   "outputs": [],
   "source": []
  },
  {
   "cell_type": "markdown",
   "id": "d0398595",
   "metadata": {},
   "source": [
    "#### Exercise 41\n",
    "```\n",
    "The following text is given:\n",
    "\n",
    "text = 'Open,High,Low,Close'\n",
    "\n",
    "Using the appropriate method split the text by comma. Print the result as a list to the console as shown below.\n",
    "\n",
    "Expected result:\n",
    "['Open', 'High', 'Low', 'Close']\n",
    "```"
   ]
  },
  {
   "cell_type": "code",
   "execution_count": 115,
   "id": "c6f70ad9",
   "metadata": {},
   "outputs": [
    {
     "name": "stdout",
     "output_type": "stream",
     "text": [
      "['Open', 'High', 'Low', 'Close']\n"
     ]
    }
   ],
   "source": [
    "text = 'Open,High,Low,Close'\n",
    "\n",
    "print(text.split(\",\"))"
   ]
  },
  {
   "cell_type": "markdown",
   "id": "6ca56282",
   "metadata": {},
   "source": [
    "#### Exercise 42\n",
    "```\n",
    "The following text is given:\n",
    "\n",
    "text = \"\"\"Python is a general-purpose language.\n",
    "Python is popular.\"\"\"\n",
    "\n",
    "Using the appropriate method, split the text into sentences. Print the result as a list to the console.\n",
    "\n",
    "Expected result:\n",
    "['Python is a general-purpose language.', 'Python is popular.']\n",
    "```"
   ]
  },
  {
   "cell_type": "code",
   "execution_count": 120,
   "id": "8f4115d8",
   "metadata": {},
   "outputs": [
    {
     "name": "stdout",
     "output_type": "stream",
     "text": [
      "['Python is a general-purpose language.', 'Python is popular.']\n"
     ]
    }
   ],
   "source": [
    "text = \"\"\"Python is a general-purpose language.\n",
    "Python is popular.\"\"\"\n",
    "print(text.split(\"\\n\"))"
   ]
  },
  {
   "cell_type": "code",
   "execution_count": 121,
   "id": "f73555bc",
   "metadata": {},
   "outputs": [
    {
     "name": "stdout",
     "output_type": "stream",
     "text": [
      "['Python is a general-purpose language.', 'Python is popular.']\n"
     ]
    }
   ],
   "source": [
    "text = \"\"\"Python is a general-purpose language.\n",
    "Python is popular.\"\"\"\n",
    "print(text.splitlines())"
   ]
  },
  {
   "cell_type": "markdown",
   "id": "691d7443",
   "metadata": {},
   "source": [
    "#### Exercise 43\n",
    "```\n",
    "The following variable is given:\n",
    "\n",
    "num = 34\n",
    "\n",
    "Using the appropriate method for an object of type str, print the variable num preceded by four zeros to the console as shown below.\n",
    "\n",
    "Expected result:\n",
    "000034\n",
    "```"
   ]
  },
  {
   "cell_type": "code",
   "execution_count": 127,
   "id": "d444c677",
   "metadata": {},
   "outputs": [
    {
     "name": "stdout",
     "output_type": "stream",
     "text": [
      "000034\n"
     ]
    }
   ],
   "source": [
    "num = 34\n",
    "print(str(num).zfill(6)) #The zfill() method adds zeros (0) at the beginning of the string,until it reaches the specified length"
   ]
  },
  {
   "cell_type": "markdown",
   "id": "8d1c07da",
   "metadata": {},
   "source": [
    "#### Exercise 44\n",
    "```\n",
    "From the given url:\n",
    "\n",
    "url = (\n",
    "    \"https://e-smartdata.teachable.com/p/\"\n",
    "    \"sciezka-data-scientist-machine-learning-engineer\"\n",
    ")\n",
    "\n",
    "extract the slug after the last character '/'. Then replace all dashes with spaces and print the result to the console as shown below.\n",
    "\n",
    "Expected result:\n",
    "sciezka data scientist machine learning engineer\n",
    "```"
   ]
  },
  {
   "cell_type": "code",
   "execution_count": 133,
   "id": "1ad508d3",
   "metadata": {},
   "outputs": [
    {
     "name": "stdout",
     "output_type": "stream",
     "text": [
      "sciezka data scientist machine learning engineer\n"
     ]
    }
   ],
   "source": [
    "url = (\n",
    "    \"https://e-smartdata.teachable.com/p/\"\n",
    "    \"sciezka-data-scientist-machine-learning-engineer\"\n",
    ")\n",
    "splitted = url.split(\"/\")\n",
    "last_word = splitted[-1]\n",
    "print(last_word.replace(\"-\",\" \"))"
   ]
  },
  {
   "cell_type": "code",
   "execution_count": 134,
   "id": "e7ca6eba",
   "metadata": {},
   "outputs": [
    {
     "name": "stdout",
     "output_type": "stream",
     "text": [
      "sciezka data scientist machine learning engineer\n"
     ]
    }
   ],
   "source": [
    "url = (\n",
    "    \"https://e-smartdata.teachable.com/p/\"\n",
    "    \"sciezka-data-scientist-machine-learning-engineer\"\n",
    ")\n",
    "name = url.split('/')[-1]\n",
    "name = name.replace('-', ' ')\n",
    "print(name)"
   ]
  },
  {
   "cell_type": "markdown",
   "id": "80c62cc8",
   "metadata": {},
   "source": [
    "### Udemy slicing"
   ]
  },
  {
   "cell_type": "markdown",
   "id": "066707b7",
   "metadata": {},
   "source": [
    "#### Exercise 23\n",
    "```\n",
    "From the given file name:\n",
    "\n",
    "filename = 'view.jpg'\n",
    "\n",
    "extract extension and print it to the console.\n",
    "\n",
    "Expected result:\n",
    "jpg\n",
    "```"
   ]
  },
  {
   "cell_type": "code",
   "execution_count": 1,
   "id": "83001dc3",
   "metadata": {},
   "outputs": [
    {
     "name": "stdout",
     "output_type": "stream",
     "text": [
      "jpg\n"
     ]
    }
   ],
   "source": [
    "filename = 'view.jpg'\n",
    "print(filename[5:])"
   ]
  },
  {
   "cell_type": "code",
   "execution_count": 5,
   "id": "36bb29e3",
   "metadata": {},
   "outputs": [
    {
     "name": "stdout",
     "output_type": "stream",
     "text": [
      "jpg\n"
     ]
    }
   ],
   "source": [
    "filename = 'view.jpg'\n",
    "print(filename[-3::1])"
   ]
  },
  {
   "cell_type": "markdown",
   "id": "72681e47",
   "metadata": {},
   "source": [
    "#### Exercise 24\n",
    "```\n",
    "From the following text:\n",
    "\n",
    "string = 'PKV-89415-PLN'\n",
    "\n",
    "extract the code containing the first three and last three characters. Print the result to the console.\n",
    "\n",
    "Expected result:\n",
    "PKVPLN\n",
    "```"
   ]
  },
  {
   "cell_type": "code",
   "execution_count": 9,
   "id": "0c031881",
   "metadata": {},
   "outputs": [
    {
     "name": "stdout",
     "output_type": "stream",
     "text": [
      "PKVPLN\n"
     ]
    }
   ],
   "source": [
    "string = 'PKV-89415-PLN'\n",
    "\n",
    "first_three = string[:3]\n",
    "last_three = string[-3:]\n",
    "print(first_three + last_three)"
   ]
  },
  {
   "cell_type": "code",
   "execution_count": 10,
   "id": "1b8b5493",
   "metadata": {},
   "outputs": [
    {
     "name": "stdout",
     "output_type": "stream",
     "text": [
      "PKVPLN\n"
     ]
    }
   ],
   "source": [
    "string = 'PKV-89415-PLN'\n",
    "print(string[0:3] + string[-3:])"
   ]
  },
  {
   "cell_type": "markdown",
   "id": "231c1e03",
   "metadata": {},
   "source": [
    "#### Exercise 25\n",
    "```\n",
    "From the following text:\n",
    "\n",
    "string = '1 0 0 1 0 1'\n",
    "\n",
    "remove spaces using slicing. Then convert the result to decimal notation and print to the console as shown below.\n",
    "\n",
    "Expected result:\n",
    "\n",
    "Number found: 37\n",
    "```"
   ]
  },
  {
   "cell_type": "code",
   "execution_count": 18,
   "id": "a9e56120",
   "metadata": {},
   "outputs": [
    {
     "name": "stdout",
     "output_type": "stream",
     "text": [
      "Number found: 37\n"
     ]
    }
   ],
   "source": [
    "string = '1 0 0 1 0 1'\n",
    "binary = string[::2]\n",
    "\n",
    "decimal = int(binary,2)\n",
    "print(f\"Number found: {decimal}\")"
   ]
  },
  {
   "cell_type": "markdown",
   "id": "6ed4f95c",
   "metadata": {},
   "source": [
    "#### Exercise 26\n",
    "```\n",
    "Using the slicing, reverse the order of the characters in the following text:\n",
    "\n",
    "text = 'Python Course'\n",
    "\n",
    "Print the result to the console as shown below.\n",
    "\n",
    "Expected result:\n",
    "esruoC nohtyP\n",
    "```"
   ]
  },
  {
   "cell_type": "code",
   "execution_count": 19,
   "id": "c4ba6f5a",
   "metadata": {},
   "outputs": [
    {
     "name": "stdout",
     "output_type": "stream",
     "text": [
      "esruoC nohtyP\n"
     ]
    }
   ],
   "source": [
    "text = 'Python Course'\n",
    "\n",
    "print(text[::-1])"
   ]
  },
  {
   "cell_type": "code",
   "execution_count": null,
   "id": "69d3db0a",
   "metadata": {},
   "outputs": [],
   "source": []
  }
 ],
 "metadata": {
  "kernelspec": {
   "display_name": "Python 3 (ipykernel)",
   "language": "python",
   "name": "python3"
  },
  "language_info": {
   "codemirror_mode": {
    "name": "ipython",
    "version": 3
   },
   "file_extension": ".py",
   "mimetype": "text/x-python",
   "name": "python",
   "nbconvert_exporter": "python",
   "pygments_lexer": "ipython3",
   "version": "3.9.19"
  }
 },
 "nbformat": 4,
 "nbformat_minor": 5
}
