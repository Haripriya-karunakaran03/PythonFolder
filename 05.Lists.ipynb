{
 "cells": [
  {
   "cell_type": "code",
   "execution_count": 1,
   "id": "faa77133",
   "metadata": {},
   "outputs": [
    {
     "name": "stdout",
     "output_type": "stream",
     "text": [
      "<class 'list'>\n"
     ]
    }
   ],
   "source": [
    "fruits = [\"apple\",\"mango\",\"orange\"]\n",
    "print(type(fruits))"
   ]
  },
  {
   "cell_type": "code",
   "execution_count": 97,
   "id": "9a1ae9f1",
   "metadata": {},
   "outputs": [],
   "source": [
    "list1 = [10,20.5,\"Hari\",4+5j,False]"
   ]
  },
  {
   "cell_type": "code",
   "execution_count": 2,
   "id": "9dc4b0f6",
   "metadata": {},
   "outputs": [
    {
     "name": "stdout",
     "output_type": "stream",
     "text": [
      "<class 'list'>\n"
     ]
    }
   ],
   "source": [
    "l = [1,1.5,\"Haripriya\",3+4j,True]     # list can store any type of data\n",
    "print(type(l))"
   ]
  },
  {
   "cell_type": "code",
   "execution_count": 3,
   "id": "9c94568d",
   "metadata": {},
   "outputs": [
    {
     "data": {
      "text/plain": [
       "5"
      ]
     },
     "execution_count": 3,
     "metadata": {},
     "output_type": "execute_result"
    }
   ],
   "source": [
    "len(l)   # to find the lenght of the list"
   ]
  },
  {
   "cell_type": "code",
   "execution_count": 4,
   "id": "40efb7d9",
   "metadata": {},
   "outputs": [
    {
     "name": "stdout",
     "output_type": "stream",
     "text": [
      "Integer:  <class 'list'>\n",
      "Float:  <class 'list'>\n",
      "Strings:  <class 'list'>\n",
      "Complex number:  <class 'list'>\n",
      "Boolean:  <class 'list'>\n",
      "Nested list:  <class 'list'>\n"
     ]
    }
   ],
   "source": [
    "list1 = [10,20,30,40,50]  # integer\n",
    "print(\"Integer: \",type(list1))\n",
    "\n",
    "list2 = [1.0,1.5,2.0,2.5,3.0] # float\n",
    "print(\"Float: \",type(list2))\n",
    "\n",
    "list3 = [\"Hello\",\"Hey\",\"Hi\"] # strings\n",
    "print(\"Strings: \",type(list3))\n",
    "\n",
    "list4 = [3+4j,5+9j]\n",
    "print(\"Complex number: \",type(list4))\n",
    "\n",
    "list5 = [True,False]  # Boolean\n",
    "print(\"Boolean: \",type(list5))\n",
    "\n",
    "list6 = [5,10,15,[20,40,\"Kite\"],True,3.14]   # Nested list\n",
    "print(\"Nested list: \",type(list6))"
   ]
  },
  {
   "cell_type": "code",
   "execution_count": 5,
   "id": "eb985781",
   "metadata": {},
   "outputs": [
    {
     "name": "stdout",
     "output_type": "stream",
     "text": [
      "['monday', 'tuesday', 'wednesday', 'thursday', 'friday', 'saturday', 'sunday']\n"
     ]
    }
   ],
   "source": [
    "days = ['monday','tuesday','wednesday','thursday','friday','saturday','sunday']\n",
    "print(days)"
   ]
  },
  {
   "cell_type": "code",
   "execution_count": 60,
   "id": "13d819c3",
   "metadata": {},
   "outputs": [
    {
     "data": {
      "text/plain": [
       "True"
      ]
     },
     "execution_count": 60,
     "metadata": {},
     "output_type": "execute_result"
    }
   ],
   "source": [
    "# list membership\n",
    "days = ['monday','tuesday','wednesday','thursday','friday','saturday','sunday']\n",
    "\"monday\" in days"
   ]
  },
  {
   "cell_type": "code",
   "execution_count": 61,
   "id": "f7e3478e",
   "metadata": {},
   "outputs": [
    {
     "data": {
      "text/plain": [
       "False"
      ]
     },
     "execution_count": 61,
     "metadata": {},
     "output_type": "execute_result"
    }
   ],
   "source": [
    "days = ['monday','tuesday','wednesday','thursday','friday','saturday','sunday']\n",
    "\"holiday\" in days"
   ]
  },
  {
   "cell_type": "code",
   "execution_count": 16,
   "id": "f68cdb69",
   "metadata": {},
   "outputs": [],
   "source": [
    "dif_data = [10,20,30,(100,200,300),[1000,2000,3000]]     # can also have tuple"
   ]
  },
  {
   "cell_type": "code",
   "execution_count": 22,
   "id": "1d2365c1",
   "metadata": {},
   "outputs": [
    {
     "name": "stdout",
     "output_type": "stream",
     "text": [
      "[1, 2, 3, 4, 5, 6, 7, 8, 9, 10]\n"
     ]
    }
   ],
   "source": [
    "# Concatenation\n",
    "\n",
    "l1 = [1,2,3,4,5]\n",
    "l2 = [6,7,8,9,10]\n",
    "print(l1 + l2)"
   ]
  },
  {
   "cell_type": "code",
   "execution_count": 23,
   "id": "12e54dcb",
   "metadata": {},
   "outputs": [
    {
     "ename": "TypeError",
     "evalue": "can only concatenate list (not \"str\") to list",
     "output_type": "error",
     "traceback": [
      "\u001b[1;31m---------------------------------------------------------------------------\u001b[0m",
      "\u001b[1;31mTypeError\u001b[0m                                 Traceback (most recent call last)",
      "Cell \u001b[1;32mIn[23], line 3\u001b[0m\n\u001b[0;32m      1\u001b[0m x1 \u001b[38;5;241m=\u001b[39m [\u001b[38;5;241m10\u001b[39m,\u001b[38;5;241m20\u001b[39m,\u001b[38;5;241m30\u001b[39m,\u001b[38;5;241m40\u001b[39m]\n\u001b[0;32m      2\u001b[0m x2 \u001b[38;5;241m=\u001b[39m \u001b[38;5;124m\"\u001b[39m\u001b[38;5;124mHari\u001b[39m\u001b[38;5;124m\"\u001b[39m\n\u001b[1;32m----> 3\u001b[0m \u001b[38;5;28mprint\u001b[39m(x1 \u001b[38;5;241m+\u001b[39m x2)\n",
      "\u001b[1;31mTypeError\u001b[0m: can only concatenate list (not \"str\") to list"
     ]
    }
   ],
   "source": [
    "x1 = [10,20,30,40]\n",
    "x2 = \"Hari\"\n",
    "print(x1 + x2)"
   ]
  },
  {
   "cell_type": "code",
   "execution_count": 24,
   "id": "567c1757",
   "metadata": {},
   "outputs": [
    {
     "name": "stdout",
     "output_type": "stream",
     "text": [
      "[1, 2, 3, 4, 5, 1, 2, 3, 4, 5, 1, 2, 3, 4, 5]\n"
     ]
    }
   ],
   "source": [
    "# Repetition or replication\n",
    "\n",
    "l1 = [1,2,3,4,5]\n",
    "print(l1 * 3)"
   ]
  },
  {
   "cell_type": "code",
   "execution_count": 40,
   "id": "c1fbc62f",
   "metadata": {},
   "outputs": [
    {
     "name": "stdout",
     "output_type": "stream",
     "text": [
      "monday\n",
      "tuesday\n",
      "wednesday\n",
      "thursday\n",
      "friday\n",
      "saturday\n",
      "sunday\n"
     ]
    }
   ],
   "source": [
    "days = ['monday','tuesday','wednesday','thursday','friday','saturday','sunday']\n",
    "for i in days:\n",
    "    print(i)"
   ]
  },
  {
   "cell_type": "code",
   "execution_count": 42,
   "id": "b698a599",
   "metadata": {},
   "outputs": [
    {
     "name": "stdout",
     "output_type": "stream",
     "text": [
      "0 monday\n",
      "1 tuesday\n",
      "2 wednesday\n",
      "3 thursday\n",
      "4 friday\n",
      "5 saturday\n",
      "6 sunday\n"
     ]
    }
   ],
   "source": [
    "days = ['monday','tuesday','wednesday','thursday','friday','saturday','sunday']\n",
    "for j in range(0,len(days)):\n",
    "    print(j,days[j])"
   ]
  },
  {
   "cell_type": "code",
   "execution_count": 43,
   "id": "189f7efe",
   "metadata": {},
   "outputs": [
    {
     "name": "stdout",
     "output_type": "stream",
     "text": [
      "1 tuesday\n",
      "3 thursday\n",
      "5 saturday\n"
     ]
    }
   ],
   "source": [
    "days = ['monday','tuesday','wednesday','thursday','friday','saturday','sunday']\n",
    "for k in range(1,len(days),2):\n",
    "    print(k,days[k])"
   ]
  },
  {
   "cell_type": "code",
   "execution_count": 99,
   "id": "ef245878",
   "metadata": {},
   "outputs": [
    {
     "name": "stdout",
     "output_type": "stream",
     "text": [
      "10\n",
      "7\n"
     ]
    }
   ],
   "source": [
    "# basic methods\n",
    "# len()\n",
    "\n",
    "list2 = [1, 2, 3, 4, 5, 6, 7, 8, 9, 10]\n",
    "print(len(list2))\n",
    "days = ['monday','tuesday','wednesday','thursday','friday','saturday','sunday']\n",
    "print(len(days))"
   ]
  },
  {
   "cell_type": "code",
   "execution_count": 100,
   "id": "53e932c5",
   "metadata": {},
   "outputs": [
    {
     "name": "stdout",
     "output_type": "stream",
     "text": [
      "10\n",
      "wednesday\n"
     ]
    }
   ],
   "source": [
    "# max()\n",
    "\n",
    "list2 = [1, 2, 3, 4, 5, 6, 7, 8, 9, 10]\n",
    "print(max(list2))\n",
    "days = ['monday','tuesday','wednesday','thursday','friday','saturday','sunday']  # based on ASCII Value\n",
    "print(max(days))"
   ]
  },
  {
   "cell_type": "code",
   "execution_count": 101,
   "id": "6f725ed7",
   "metadata": {},
   "outputs": [
    {
     "name": "stdout",
     "output_type": "stream",
     "text": [
      "1\n",
      "friday\n"
     ]
    }
   ],
   "source": [
    "# min()\n",
    "\n",
    "list2 = [1, 2, 3, 4, 5, 6, 7, 8, 9, 10]\n",
    "print(min(list2))\n",
    "days = ['monday','tuesday','wednesday','thursday','friday','saturday','sunday']\n",
    "print(min(days))"
   ]
  },
  {
   "cell_type": "code",
   "execution_count": 103,
   "id": "ad5fe600",
   "metadata": {},
   "outputs": [
    {
     "ename": "TypeError",
     "evalue": "'>' not supported between instances of 'str' and 'int'",
     "output_type": "error",
     "traceback": [
      "\u001b[1;31m---------------------------------------------------------------------------\u001b[0m",
      "\u001b[1;31mTypeError\u001b[0m                                 Traceback (most recent call last)",
      "Cell \u001b[1;32mIn[103], line 2\u001b[0m\n\u001b[0;32m      1\u001b[0m list3 \u001b[38;5;241m=\u001b[39m [\u001b[38;5;241m1\u001b[39m, \u001b[38;5;241m2\u001b[39m, \u001b[38;5;241m3\u001b[39m, \u001b[38;5;241m4\u001b[39m, \u001b[38;5;241m5\u001b[39m, \u001b[38;5;241m6\u001b[39m, \u001b[38;5;241m7\u001b[39m, \u001b[38;5;241m8\u001b[39m, \u001b[38;5;241m9\u001b[39m, \u001b[38;5;241m10\u001b[39m,\u001b[38;5;124m\"\u001b[39m\u001b[38;5;124mHari\u001b[39m\u001b[38;5;124m\"\u001b[39m]\n\u001b[1;32m----> 2\u001b[0m \u001b[38;5;28mprint\u001b[39m(\u001b[38;5;28mmax\u001b[39m(list3))\n",
      "\u001b[1;31mTypeError\u001b[0m: '>' not supported between instances of 'str' and 'int'"
     ]
    }
   ],
   "source": [
    "list3 = [1, 2, 3, 4, 5, 6, 7, 8, 9, 10,\"Hari\"]\n",
    "print(max(list3))          # cant compare with different datatypes"
   ]
  },
  {
   "cell_type": "markdown",
   "id": "6ede63f6",
   "metadata": {},
   "source": [
    "### Why list is ordered?"
   ]
  },
  {
   "cell_type": "code",
   "execution_count": 18,
   "id": "67987c61",
   "metadata": {},
   "outputs": [
    {
     "data": {
      "text/plain": [
       "False"
      ]
     },
     "execution_count": 18,
     "metadata": {},
     "output_type": "execute_result"
    }
   ],
   "source": [
    "l1= [10,100,1000,10000]\n",
    "l2 = [100,1000,10,10000]   # since both list has same elements but it still gives false so list will be ordered\n",
    "l1 == l2"
   ]
  },
  {
   "cell_type": "code",
   "execution_count": 19,
   "id": "be832801",
   "metadata": {},
   "outputs": [
    {
     "data": {
      "text/plain": [
       "True"
      ]
     },
     "execution_count": 19,
     "metadata": {},
     "output_type": "execute_result"
    }
   ],
   "source": [
    "x = [10,100,1000,10000]\n",
    "y = [10,100,1000,10000]\n",
    "x == y"
   ]
  },
  {
   "cell_type": "markdown",
   "id": "1dc6f852",
   "metadata": {},
   "source": [
    "### Indexing"
   ]
  },
  {
   "cell_type": "code",
   "execution_count": 6,
   "id": "d9a071fa",
   "metadata": {},
   "outputs": [
    {
     "name": "stdout",
     "output_type": "stream",
     "text": [
      "tuesday\n"
     ]
    }
   ],
   "source": [
    "days = ['monday','tuesday','wednesday','thursday','friday','saturday','sunday']\n",
    "print(days[1])"
   ]
  },
  {
   "cell_type": "code",
   "execution_count": 7,
   "id": "81202535",
   "metadata": {},
   "outputs": [
    {
     "name": "stdout",
     "output_type": "stream",
     "text": [
      "sunday\n"
     ]
    }
   ],
   "source": [
    "print(days[len(days)-1])"
   ]
  },
  {
   "cell_type": "code",
   "execution_count": 8,
   "id": "331c55c6",
   "metadata": {},
   "outputs": [
    {
     "name": "stdout",
     "output_type": "stream",
     "text": [
      "sunday\n"
     ]
    }
   ],
   "source": [
    "print(days[-1])"
   ]
  },
  {
   "cell_type": "code",
   "execution_count": 9,
   "id": "12309627",
   "metadata": {},
   "outputs": [
    {
     "ename": "IndexError",
     "evalue": "list index out of range",
     "output_type": "error",
     "traceback": [
      "\u001b[1;31m---------------------------------------------------------------------------\u001b[0m",
      "\u001b[1;31mIndexError\u001b[0m                                Traceback (most recent call last)",
      "Cell \u001b[1;32mIn[9], line 1\u001b[0m\n\u001b[1;32m----> 1\u001b[0m \u001b[38;5;28mprint\u001b[39m(days[\u001b[38;5;241m300\u001b[39m])\n",
      "\u001b[1;31mIndexError\u001b[0m: list index out of range"
     ]
    }
   ],
   "source": [
    "print(days[300])    # it doesn't have any value at 300th position"
   ]
  },
  {
   "cell_type": "code",
   "execution_count": 10,
   "id": "c60ff90a",
   "metadata": {},
   "outputs": [
    {
     "ename": "IndexError",
     "evalue": "list index out of range",
     "output_type": "error",
     "traceback": [
      "\u001b[1;31m---------------------------------------------------------------------------\u001b[0m",
      "\u001b[1;31mIndexError\u001b[0m                                Traceback (most recent call last)",
      "Cell \u001b[1;32mIn[10], line 1\u001b[0m\n\u001b[1;32m----> 1\u001b[0m \u001b[38;5;28mprint\u001b[39m(days[\u001b[38;5;241m-\u001b[39m\u001b[38;5;241m300\u001b[39m])\n",
      "\u001b[1;31mIndexError\u001b[0m: list index out of range"
     ]
    }
   ],
   "source": [
    "print(days[-300])"
   ]
  },
  {
   "cell_type": "code",
   "execution_count": 11,
   "id": "0ea5a60e",
   "metadata": {},
   "outputs": [
    {
     "name": "stdout",
     "output_type": "stream",
     "text": [
      "monday sunday\n"
     ]
    }
   ],
   "source": [
    "print(days[0],days[-1])"
   ]
  },
  {
   "cell_type": "code",
   "execution_count": 12,
   "id": "b73f9353",
   "metadata": {},
   "outputs": [
    {
     "name": "stdout",
     "output_type": "stream",
     "text": [
      "40\n"
     ]
    }
   ],
   "source": [
    "list6 = [5,10,15,[20,40,\"Kite\"],True,3.14]  # for nested list\n",
    "\n",
    "\"\"\"\n",
    "          0   1   2\n",
    "[5,10,15,[20,40,\"Kite\"],True,3.14]\n",
    " 0  1  2       3         4    5\n",
    "\"\"\"\n",
    "\n",
    "print(list6[3][1])"
   ]
  },
  {
   "cell_type": "code",
   "execution_count": 13,
   "id": "8a96ed73",
   "metadata": {},
   "outputs": [
    {
     "name": "stdout",
     "output_type": "stream",
     "text": [
      "20\n"
     ]
    }
   ],
   "source": [
    "print(list6[3][0])"
   ]
  },
  {
   "cell_type": "code",
   "execution_count": 15,
   "id": "4b203bae",
   "metadata": {},
   "outputs": [
    {
     "name": "stdout",
     "output_type": "stream",
     "text": [
      "Kite\n"
     ]
    }
   ],
   "source": [
    "print(list6[3][2])"
   ]
  },
  {
   "cell_type": "markdown",
   "id": "437f7f92",
   "metadata": {},
   "source": [
    "### Slicing "
   ]
  },
  {
   "cell_type": "code",
   "execution_count": 20,
   "id": "ed4b8c41",
   "metadata": {},
   "outputs": [
    {
     "data": {
      "text/plain": [
       "['monday', 'tuesday', 'wednesday', 'thursday', 'friday', 'saturday', 'sunday']"
      ]
     },
     "execution_count": 20,
     "metadata": {},
     "output_type": "execute_result"
    }
   ],
   "source": [
    "days = ['monday', 'tuesday', 'wednesday', 'thursday', 'friday', 'saturday', 'sunday']\n",
    "print()"
   ]
  },
  {
   "cell_type": "code",
   "execution_count": 21,
   "id": "58965e35",
   "metadata": {},
   "outputs": [
    {
     "name": "stdout",
     "output_type": "stream",
     "text": [
      "['monday', 'tuesday', 'wednesday', 'thursday']\n"
     ]
    }
   ],
   "source": [
    "print(days[0:4])"
   ]
  },
  {
   "cell_type": "code",
   "execution_count": 25,
   "id": "5316134c",
   "metadata": {},
   "outputs": [
    {
     "name": "stdout",
     "output_type": "stream",
     "text": [
      "['sunday', 'saturday', 'friday', 'thursday', 'wednesday', 'tuesday', 'monday']\n"
     ]
    }
   ],
   "source": [
    "print(days[::-1])"
   ]
  },
  {
   "cell_type": "code",
   "execution_count": 26,
   "id": "4ab9322f",
   "metadata": {},
   "outputs": [
    {
     "name": "stdout",
     "output_type": "stream",
     "text": [
      "['monday', 'tuesday', 'wednesday', 'thursday', 'friday', 'saturday', 'sunday']\n"
     ]
    }
   ],
   "source": [
    "print(days[0:])"
   ]
  },
  {
   "cell_type": "code",
   "execution_count": 27,
   "id": "9a2af132",
   "metadata": {},
   "outputs": [
    {
     "name": "stdout",
     "output_type": "stream",
     "text": [
      "['monday', 'tuesday', 'wednesday', 'thursday', 'friday', 'saturday', 'sunday']\n"
     ]
    }
   ],
   "source": [
    "print(days[0:300])  # it will print the whole list"
   ]
  },
  {
   "cell_type": "code",
   "execution_count": 28,
   "id": "6e62abce",
   "metadata": {},
   "outputs": [
    {
     "name": "stdout",
     "output_type": "stream",
     "text": [
      "['wednesday', 'thursday', 'friday', 'saturday']\n"
     ]
    }
   ],
   "source": [
    "print(days[2:6])"
   ]
  },
  {
   "cell_type": "code",
   "execution_count": 30,
   "id": "972132d4",
   "metadata": {},
   "outputs": [
    {
     "name": "stdout",
     "output_type": "stream",
     "text": [
      "[]\n"
     ]
    }
   ],
   "source": [
    "print(days[-1:-5:1])"
   ]
  },
  {
   "cell_type": "code",
   "execution_count": 31,
   "id": "dedd831c",
   "metadata": {},
   "outputs": [
    {
     "name": "stdout",
     "output_type": "stream",
     "text": [
      "['sunday', 'saturday', 'friday', 'thursday']\n"
     ]
    }
   ],
   "source": [
    "print(days[-1:-5:-1])"
   ]
  },
  {
   "cell_type": "code",
   "execution_count": 34,
   "id": "791423a1",
   "metadata": {},
   "outputs": [
    {
     "name": "stdout",
     "output_type": "stream",
     "text": [
      "['friday', 'saturday']\n"
     ]
    }
   ],
   "source": [
    "print(days[-3:-1])"
   ]
  },
  {
   "cell_type": "code",
   "execution_count": 32,
   "id": "820a295f",
   "metadata": {},
   "outputs": [
    {
     "name": "stdout",
     "output_type": "stream",
     "text": [
      "['monday', 'wednesday', 'friday']\n"
     ]
    }
   ],
   "source": [
    "print(days[0:5:2])"
   ]
  },
  {
   "cell_type": "code",
   "execution_count": 33,
   "id": "3e082018",
   "metadata": {},
   "outputs": [
    {
     "name": "stdout",
     "output_type": "stream",
     "text": [
      "['monday', 'tuesday', 'wednesday', 'thursday', 'friday', 'saturday', 'sunday']\n"
     ]
    }
   ],
   "source": [
    "print(days[::])   # by default days[0:len(days):1]"
   ]
  },
  {
   "cell_type": "code",
   "execution_count": 35,
   "id": "93bebf32",
   "metadata": {},
   "outputs": [
    {
     "name": "stdout",
     "output_type": "stream",
     "text": [
      "['zero', 'one', 'two', 'three', 'four']\n"
     ]
    }
   ],
   "source": [
    "numbers = [\"zero\",\"one\",\"two\",\"three\",\"four\",\"five\",\"six\",\"seven\",\"eight\",\"nine\",\"ten\"]\n",
    "print(numbers[0:5])"
   ]
  },
  {
   "cell_type": "code",
   "execution_count": 39,
   "id": "c1efd2bf",
   "metadata": {},
   "outputs": [
    {
     "name": "stdout",
     "output_type": "stream",
     "text": [
      "['ten']\n"
     ]
    }
   ],
   "source": [
    "print(numbers[-1:])"
   ]
  },
  {
   "cell_type": "markdown",
   "id": "14cb7e55",
   "metadata": {},
   "source": [
    "### List is mutable"
   ]
  },
  {
   "cell_type": "code",
   "execution_count": 44,
   "id": "c513e491",
   "metadata": {},
   "outputs": [
    {
     "name": "stdout",
     "output_type": "stream",
     "text": [
      "[50, 100, 150, 200, 250]\n"
     ]
    }
   ],
   "source": [
    "nums = [50,100,200,200,250]\n",
    "nums[2] = 150\n",
    "print(nums)                        # We can change values in list so lists are mutable"
   ]
  },
  {
   "cell_type": "code",
   "execution_count": 45,
   "id": "c1f53ece",
   "metadata": {},
   "outputs": [
    {
     "name": "stdout",
     "output_type": "stream",
     "text": [
      "['Harini', 'priya', 'Haripriya']\n"
     ]
    }
   ],
   "source": [
    "names = [\"Hari\",\"priya\",\"Haripriya\"]\n",
    "names[0] = \"Harini\"\n",
    "print(names)"
   ]
  },
  {
   "cell_type": "code",
   "execution_count": 46,
   "id": "4d0c34f8",
   "metadata": {},
   "outputs": [
    {
     "name": "stdout",
     "output_type": "stream",
     "text": [
      "[10, 20, 30, [100, 200, 300], 'Hello']\n"
     ]
    }
   ],
   "source": [
    "list1 = [10,20,30,[100,200,400],\"Hello\"]\n",
    "list1[3][2] = 300\n",
    "print(list1)"
   ]
  },
  {
   "cell_type": "markdown",
   "id": "b7fa4233",
   "metadata": {},
   "source": [
    "### List inbuild methods "
   ]
  },
  {
   "cell_type": "code",
   "execution_count": 1,
   "id": "63a2bc4f",
   "metadata": {},
   "outputs": [],
   "source": [
    "# The append() method adds an element to the end of the list.\n",
    "\n",
    "days = ['monday', 'tuesday', 'wednesday', 'thursday', 'friday', 'saturday', 'sunday']"
   ]
  },
  {
   "cell_type": "code",
   "execution_count": 2,
   "id": "1906d4a3",
   "metadata": {},
   "outputs": [
    {
     "name": "stdout",
     "output_type": "stream",
     "text": [
      "['monday', 'tuesday', 'wednesday', 'thursday', 'friday', 'saturday', 'sunday', 'Holiday']\n"
     ]
    }
   ],
   "source": [
    "days.append(\"Holiday\")\n",
    "print(days)"
   ]
  },
  {
   "cell_type": "code",
   "execution_count": 4,
   "id": "53529263",
   "metadata": {},
   "outputs": [
    {
     "name": "stdout",
     "output_type": "stream",
     "text": [
      "[10, 20, 30, 40, 50, ['Hari', 'priya']]\n"
     ]
    }
   ],
   "source": [
    "l = [10,20,30,40,50]\n",
    "l1 = [\"Hari\",\"priya\"]\n",
    "l.append(l1)\n",
    "print(l)"
   ]
  },
  {
   "cell_type": "code",
   "execution_count": 24,
   "id": "2d9095bc",
   "metadata": {},
   "outputs": [
    {
     "name": "stdout",
     "output_type": "stream",
     "text": [
      "['Apple', 'Mango', 'Banana', [10, 100, 1000, 10000, 100000]]\n"
     ]
    }
   ],
   "source": [
    "l1 = [\"Apple\",\"Mango\",\"Banana\"]\n",
    "l2 = [10,100,1000,10000,100000]\n",
    "l1.append(l2)\n",
    "print(l1)"
   ]
  },
  {
   "cell_type": "code",
   "execution_count": 1,
   "id": "4075320c",
   "metadata": {},
   "outputs": [
    {
     "name": "stdout",
     "output_type": "stream",
     "text": [
      "['Apple', 'Mango', 'Banana', 10, 100, 1000, 10000, 100000]\n"
     ]
    }
   ],
   "source": [
    "# The extend() method adds the specified list elements (or any iterable) to the end of the current list.\n",
    "\n",
    "l1 = [\"Apple\",\"Mango\",\"Banana\"]\n",
    "l2 = [10,100,1000,10000,100000]\n",
    "l1.extend(l2)\n",
    "print(l1)"
   ]
  },
  {
   "cell_type": "code",
   "execution_count": 25,
   "id": "1e3f76b3",
   "metadata": {},
   "outputs": [
    {
     "name": "stdout",
     "output_type": "stream",
     "text": [
      "Append:  [1, 2, 3, 4, 5, [6, 7, 8, 9, 10]]\n",
      "Extend:  [1, 2, 3, 4, 5, 6, 7, 8, 9, 10]\n"
     ]
    }
   ],
   "source": [
    "\"\"\"\n",
    "DIFFERENCE BETWEEN append() and extend()\n",
    "append() takes a single element and adds it as is, \n",
    "while extend() takes an iterable (like a list) and appends its elements individually to the list.\n",
    "\"\"\"\n",
    "\n",
    "list1 = [1,2,3,4,5]\n",
    "list2 = [6,7,8,9,10]\n",
    "list1.append(list2)\n",
    "print(\"Append: \",list1)\n",
    "\n",
    "list1 = [1,2,3,4,5]\n",
    "list2 = [6,7,8,9,10]\n",
    "list1.extend(list2)\n",
    "print(\"Extend: \",list1)"
   ]
  },
  {
   "cell_type": "code",
   "execution_count": 6,
   "id": "5b3e31d3",
   "metadata": {},
   "outputs": [
    {
     "name": "stdout",
     "output_type": "stream",
     "text": [
      "['monday', 'tuesday', 'wednesday', 'thursday', 'friday', 'saturday', 'sunday']\n"
     ]
    }
   ],
   "source": [
    "# The pop() method removes the element at the specified position.\n",
    "\n",
    "days.pop()\n",
    "print(days)"
   ]
  },
  {
   "cell_type": "code",
   "execution_count": 7,
   "id": "a97b1116",
   "metadata": {},
   "outputs": [
    {
     "name": "stdout",
     "output_type": "stream",
     "text": [
      "['monday', 'tuesday', 'thursday', 'friday', 'saturday', 'sunday']\n"
     ]
    }
   ],
   "source": [
    "days.pop(2)\n",
    "print(days)"
   ]
  },
  {
   "cell_type": "code",
   "execution_count": 8,
   "id": "531f3b4c",
   "metadata": {},
   "outputs": [
    {
     "ename": "IndexError",
     "evalue": "pop index out of range",
     "output_type": "error",
     "traceback": [
      "\u001b[1;31m---------------------------------------------------------------------------\u001b[0m",
      "\u001b[1;31mIndexError\u001b[0m                                Traceback (most recent call last)",
      "Cell \u001b[1;32mIn[8], line 1\u001b[0m\n\u001b[1;32m----> 1\u001b[0m days\u001b[38;5;241m.\u001b[39mpop(\u001b[38;5;241m100\u001b[39m)\n",
      "\u001b[1;31mIndexError\u001b[0m: pop index out of range"
     ]
    }
   ],
   "source": [
    "days.pop(100)"
   ]
  },
  {
   "cell_type": "code",
   "execution_count": 22,
   "id": "45266800",
   "metadata": {},
   "outputs": [
    {
     "name": "stdout",
     "output_type": "stream",
     "text": [
      "[1, 1, 2, 2, 5, 10, 2, 2, 100]\n"
     ]
    }
   ],
   "source": [
    "l1 = [1,1,1,2,2,5,10,2,2,100]\n",
    "l1.pop(1)\n",
    "print(l1)"
   ]
  },
  {
   "cell_type": "code",
   "execution_count": 18,
   "id": "cd510e1d",
   "metadata": {},
   "outputs": [],
   "source": [
    "# remove() methods helps to remove the first occurance of specified value\n",
    "# difference between remove() and pop() is pop() deletes element by specified position(index) and remove() deletes by specified value\n",
    "# Difference Between pop and remove in Python and the del Keyword. The pop() function removes the last element or the element based on the index given. \n",
    "#remove() function removes the first occurrence of the specified element.\n",
    "\n",
    "day = ['monday', 'tuesday', 'wednesday', 'thursday', 'friday', 'saturday', 'sunday', 'Holiday']\n",
    "day.remove(\"Holiday\")"
   ]
  },
  {
   "cell_type": "code",
   "execution_count": 20,
   "id": "4fb95469",
   "metadata": {},
   "outputs": [
    {
     "name": "stdout",
     "output_type": "stream",
     "text": [
      "[1, 1, 2, 2, 5, 10, 2, 2, 100]\n"
     ]
    }
   ],
   "source": [
    "l1 = [1,1,1,2,2,5,10,2,2,100]\n",
    "l1.remove(1)\n",
    "print(l1)"
   ]
  },
  {
   "cell_type": "code",
   "execution_count": 27,
   "id": "5c4ed20c",
   "metadata": {},
   "outputs": [
    {
     "name": "stdout",
     "output_type": "stream",
     "text": [
      "['monday', 'tuesday', 'wednesday', 'thursday', 'friday', 'saturday', 'sunday']\n"
     ]
    }
   ],
   "source": [
    "# Using del also we can remove element\n",
    "\n",
    "day = ['monday', 'tuesday', 'wednesday', 'thursday', 'friday', 'saturday', 'sunday', 'Holiday']\n",
    "del day[-1]\n",
    "print(day)"
   ]
  },
  {
   "cell_type": "code",
   "execution_count": 9,
   "id": "d36a0b9b",
   "metadata": {},
   "outputs": [
    {
     "name": "stdout",
     "output_type": "stream",
     "text": [
      "['monday', 'tuesday', 'wednesday', 'thursday', 'friday', 'saturday', 'sunday']\n"
     ]
    }
   ],
   "source": [
    "# The insert() method inserts the specified value at the specified position.\n",
    "\n",
    "days.insert(2,\"wednesday\")\n",
    "print(days)"
   ]
  },
  {
   "cell_type": "code",
   "execution_count": 10,
   "id": "b70b94b3",
   "metadata": {},
   "outputs": [
    {
     "name": "stdout",
     "output_type": "stream",
     "text": [
      "['A', 'B', 'C', 'D', 'E', 'F']\n"
     ]
    }
   ],
   "source": [
    "Letters = [\"A\",\"B\",\"C\",\"E\",\"F\"]\n",
    "Letters.insert(3,\"D\")\n",
    "print(Letters)"
   ]
  },
  {
   "cell_type": "code",
   "execution_count": 12,
   "id": "38aad2f0",
   "metadata": {},
   "outputs": [
    {
     "name": "stdout",
     "output_type": "stream",
     "text": [
      "['sunday', 'saturday', 'friday', 'thursday', 'wednesday', 'tuesday', 'monday']\n"
     ]
    }
   ],
   "source": [
    "# Python List reverse() is an inbuilt method in the Python programming language that reverses objects of the List in place i.e. it doesn’t use any extra space but it just modifies the original list.\n",
    "\n",
    "days = ['monday', 'tuesday', 'wednesday', 'thursday', 'friday', 'saturday', 'sunday']\n",
    "days.reverse()\n",
    "print(days)"
   ]
  },
  {
   "cell_type": "code",
   "execution_count": 13,
   "id": "fb2c8340",
   "metadata": {},
   "outputs": [
    {
     "name": "stdout",
     "output_type": "stream",
     "text": [
      "['F', 'E', 'C', 'B', 'A']\n"
     ]
    }
   ],
   "source": [
    "Letters = [\"A\",\"B\",\"C\",\"E\",\"F\"]\n",
    "Letters.reverse()\n",
    "print(Letters)"
   ]
  },
  {
   "cell_type": "code",
   "execution_count": 14,
   "id": "4ef4e19b",
   "metadata": {},
   "outputs": [
    {
     "data": {
      "text/plain": [
       "['A', 'B', 'C', 'E', 'F']"
      ]
     },
     "execution_count": 14,
     "metadata": {},
     "output_type": "execute_result"
    }
   ],
   "source": [
    "Letters[::-1]"
   ]
  },
  {
   "cell_type": "code",
   "execution_count": 15,
   "id": "34c49d8a",
   "metadata": {},
   "outputs": [
    {
     "data": {
      "text/plain": [
       "4"
      ]
     },
     "execution_count": 15,
     "metadata": {},
     "output_type": "execute_result"
    }
   ],
   "source": [
    "# The count() method in Python lists returns the number of times an element appears in the list\n",
    "\n",
    "l1 = [1,1,1,2,2,5,10,2,2,100]\n",
    "l1.count(2)"
   ]
  },
  {
   "cell_type": "code",
   "execution_count": 16,
   "id": "83403ac7",
   "metadata": {},
   "outputs": [
    {
     "data": {
      "text/plain": [
       "1"
      ]
     },
     "execution_count": 16,
     "metadata": {},
     "output_type": "execute_result"
    }
   ],
   "source": [
    "Letters = [\"A\",\"B\",\"C\",\"E\",\"F\",\"A\",\"b\",\"b\"]\n",
    "Letters.count(\"B\")"
   ]
  },
  {
   "cell_type": "code",
   "execution_count": 29,
   "id": "8483959f",
   "metadata": {},
   "outputs": [
    {
     "name": "stdout",
     "output_type": "stream",
     "text": [
      "[]\n"
     ]
    }
   ],
   "source": [
    "# clear() Delete all items in the list\n",
    "\n",
    "l3 = [10,20,30,40,50,60,70,80,90,100]\n",
    "l3.clear()\n",
    "print(l3)"
   ]
  },
  {
   "cell_type": "code",
   "execution_count": 30,
   "id": "88e11542",
   "metadata": {},
   "outputs": [
    {
     "name": "stdout",
     "output_type": "stream",
     "text": [
      "[2, 3, 5, 8, 9, 10]\n"
     ]
    }
   ],
   "source": [
    "# Python list sort() method sorts the elements of a list. \n",
    "# It sorts in ascending order by default but can also sort values in descending order or in a custom manner using its parameters.\n",
    "\n",
    "\n",
    "l1 = [10,5,3,8,2,9]    # AScending\n",
    "l1.sort()\n",
    "print(l1)"
   ]
  },
  {
   "cell_type": "code",
   "execution_count": 31,
   "id": "c74d6aa9",
   "metadata": {},
   "outputs": [
    {
     "name": "stdout",
     "output_type": "stream",
     "text": [
      "[10, 9, 8, 5, 3, 2]\n"
     ]
    }
   ],
   "source": [
    "l1 = [10,5,3,8,2,9]\n",
    "l1.sort(reverse = True)   # descending\n",
    "print(l1)"
   ]
  },
  {
   "cell_type": "code",
   "execution_count": 32,
   "id": "2f8a8108",
   "metadata": {},
   "outputs": [
    {
     "data": {
      "text/plain": [
       "3"
      ]
     },
     "execution_count": 32,
     "metadata": {},
     "output_type": "execute_result"
    }
   ],
   "source": [
    "# index() returns the index or position of specified value\n",
    "l1 = [10,5,3,8,2,9]\n",
    "l1.index(8)"
   ]
  },
  {
   "cell_type": "code",
   "execution_count": 42,
   "id": "cf0f2a79",
   "metadata": {},
   "outputs": [
    {
     "data": {
      "text/plain": [
       "(1863769309248, 1863769309248)"
      ]
     },
     "execution_count": 42,
     "metadata": {},
     "output_type": "execute_result"
    }
   ],
   "source": [
    "\"\"\"\n",
    "The copy() method in Python is used to create a shallow copy of a list. \n",
    "This means that the new list will contain the same elements as the original list, \n",
    "but the two lists will be independent of each other. \n",
    "Any changes made to the new list will not be reflected in the original list, and vice versa.\n",
    "\"\"\"\n",
    "mylist1 = [1,2,3,4,5]\n",
    "mylist = mylist1\n",
    "id(mylist),id(mylist1)"
   ]
  },
  {
   "cell_type": "code",
   "execution_count": 43,
   "id": "e0f7df18",
   "metadata": {},
   "outputs": [],
   "source": [
    "mylist2 = mylist1.copy()"
   ]
  },
  {
   "cell_type": "code",
   "execution_count": 44,
   "id": "52134f67",
   "metadata": {},
   "outputs": [
    {
     "data": {
      "text/plain": [
       "1863768993600"
      ]
     },
     "execution_count": 44,
     "metadata": {},
     "output_type": "execute_result"
    }
   ],
   "source": [
    "id(mylist2)"
   ]
  },
  {
   "cell_type": "code",
   "execution_count": 45,
   "id": "025a86bf",
   "metadata": {},
   "outputs": [
    {
     "name": "stdout",
     "output_type": "stream",
     "text": [
      "[1, 2, 3, 4, 5]\n"
     ]
    }
   ],
   "source": [
    "print(mylist2)"
   ]
  },
  {
   "cell_type": "code",
   "execution_count": 46,
   "id": "ac37547d",
   "metadata": {},
   "outputs": [
    {
     "name": "stdout",
     "output_type": "stream",
     "text": [
      "[1, 2, 3, 4, 5]\n"
     ]
    }
   ],
   "source": [
    "print(mylist1)"
   ]
  },
  {
   "cell_type": "code",
   "execution_count": 47,
   "id": "815878ef",
   "metadata": {},
   "outputs": [],
   "source": [
    "mylist1[0] = 10"
   ]
  },
  {
   "cell_type": "code",
   "execution_count": 48,
   "id": "9baba0dd",
   "metadata": {},
   "outputs": [
    {
     "data": {
      "text/plain": [
       "[10, 2, 3, 4, 5]"
      ]
     },
     "execution_count": 48,
     "metadata": {},
     "output_type": "execute_result"
    }
   ],
   "source": [
    "mylist"
   ]
  },
  {
   "cell_type": "code",
   "execution_count": 49,
   "id": "8f0167f4",
   "metadata": {},
   "outputs": [
    {
     "data": {
      "text/plain": [
       "[10, 2, 3, 4, 5]"
      ]
     },
     "execution_count": 49,
     "metadata": {},
     "output_type": "execute_result"
    }
   ],
   "source": [
    "mylist1"
   ]
  },
  {
   "cell_type": "code",
   "execution_count": 50,
   "id": "b3248ad8",
   "metadata": {},
   "outputs": [
    {
     "data": {
      "text/plain": [
       "[1, 2, 3, 4, 5]"
      ]
     },
     "execution_count": 50,
     "metadata": {},
     "output_type": "execute_result"
    }
   ],
   "source": [
    "mylist2"
   ]
  },
  {
   "cell_type": "code",
   "execution_count": 51,
   "id": "98f2a1b9",
   "metadata": {},
   "outputs": [
    {
     "name": "stdout",
     "output_type": "stream",
     "text": [
      "['jan', 'feb', 'mar', 'apr', 'may', 'june', 'july']\n"
     ]
    }
   ],
   "source": [
    "# example\n",
    "\n",
    "month = [\"jan\",\"feb\",\"mar\",\"apr\",\"may\",\"june\",\"july\"]\n",
    "\n",
    "month1 = month.copy()\n",
    "print(month1)"
   ]
  },
  {
   "cell_type": "code",
   "execution_count": 52,
   "id": "f62eb882",
   "metadata": {},
   "outputs": [
    {
     "data": {
      "text/plain": [
       "(1863769312000, 1863769347328)"
      ]
     },
     "execution_count": 52,
     "metadata": {},
     "output_type": "execute_result"
    }
   ],
   "source": [
    "id(month),id(month1)     # both are same but their memory address is differnet...both works independently"
   ]
  },
  {
   "cell_type": "code",
   "execution_count": 53,
   "id": "2c8c45e0",
   "metadata": {},
   "outputs": [],
   "source": [
    "month1[0] = \"sep\""
   ]
  },
  {
   "cell_type": "code",
   "execution_count": 54,
   "id": "69038e5c",
   "metadata": {},
   "outputs": [
    {
     "data": {
      "text/plain": [
       "['sep', 'feb', 'mar', 'apr', 'may', 'june', 'july']"
      ]
     },
     "execution_count": 54,
     "metadata": {},
     "output_type": "execute_result"
    }
   ],
   "source": [
    "month1"
   ]
  },
  {
   "cell_type": "code",
   "execution_count": 55,
   "id": "cd4c783a",
   "metadata": {},
   "outputs": [
    {
     "data": {
      "text/plain": [
       "['jan', 'feb', 'mar', 'apr', 'may', 'june', 'july']"
      ]
     },
     "execution_count": 55,
     "metadata": {},
     "output_type": "execute_result"
    }
   ],
   "source": [
    "month    # it is same "
   ]
  },
  {
   "cell_type": "markdown",
   "id": "22819435",
   "metadata": {},
   "source": [
    "### All / Any\n",
    "```\n",
    "The all() method returns:\n",
    "True - If all elements in a list are true\n",
    "False - If any element in a list is false\n",
    "The any() function returns True if any element in the list is True. If not, any() returns False\n",
    "```"
   ]
  },
  {
   "cell_type": "code",
   "execution_count": 56,
   "id": "0b27f744",
   "metadata": {},
   "outputs": [
    {
     "data": {
      "text/plain": [
       "False"
      ]
     },
     "execution_count": 56,
     "metadata": {},
     "output_type": "execute_result"
    }
   ],
   "source": [
    "x = [1,2,3,0,True]      # 0 refers to false so it gives false\n",
    "all(x)"
   ]
  },
  {
   "cell_type": "code",
   "execution_count": 57,
   "id": "3e06e06c",
   "metadata": {},
   "outputs": [
    {
     "data": {
      "text/plain": [
       "True"
      ]
     },
     "execution_count": 57,
     "metadata": {},
     "output_type": "execute_result"
    }
   ],
   "source": [
    "y = [1,2,3,4,5]      # there is no false value\n",
    "all(y)"
   ]
  },
  {
   "cell_type": "code",
   "execution_count": 58,
   "id": "71871554",
   "metadata": {},
   "outputs": [
    {
     "data": {
      "text/plain": [
       "True"
      ]
     },
     "execution_count": 58,
     "metadata": {},
     "output_type": "execute_result"
    }
   ],
   "source": [
    "x = [1,2,3,0,True]   # atleast one value should be true\n",
    "any(x)"
   ]
  },
  {
   "cell_type": "code",
   "execution_count": 59,
   "id": "7aedda6a",
   "metadata": {},
   "outputs": [
    {
     "data": {
      "text/plain": [
       "False"
      ]
     },
     "execution_count": 59,
     "metadata": {},
     "output_type": "execute_result"
    }
   ],
   "source": [
    "y = [0,0,0,0,False]\n",
    "any(y)"
   ]
  },
  {
   "cell_type": "markdown",
   "id": "af2d8d6d",
   "metadata": {},
   "source": [
    "### Udemy exercises"
   ]
  },
  {
   "cell_type": "markdown",
   "id": "0cffa248",
   "metadata": {},
   "source": [
    "#### Exercise 57\n",
    "```\n",
    "To the given list:\n",
    "\n",
    "cities = ['Los Angeles', 'New York', 'Chicago']\n",
    "\n",
    "append the city: 'Houston' and print the list to the console.\n",
    "\n",
    "Expected result:\n",
    "['Los Angeles', 'New York', 'Chicago', 'Houston']\n",
    "```"
   ]
  },
  {
   "cell_type": "code",
   "execution_count": 62,
   "id": "825908a5",
   "metadata": {},
   "outputs": [
    {
     "name": "stdout",
     "output_type": "stream",
     "text": [
      "['Los Angeles', 'New York', 'Chicago', 'Houston']\n"
     ]
    }
   ],
   "source": [
    "cities = ['Los Angeles', 'New York', 'Chicago']\n",
    "cities.append(\"Houston\")\n",
    "print(cities)"
   ]
  },
  {
   "cell_type": "markdown",
   "id": "d91af49b",
   "metadata": {},
   "source": [
    "#### Exercise 58\n",
    "```\n",
    "The following list is given:\n",
    "\n",
    "idx = ['001', '002', '001', '003', '001']\n",
    "\n",
    "Using the appropriate method count the occurrences of '001'. Print the result to the console as shown below.\n",
    "\n",
    "Expected result:\n",
    "Number of occurrences: 3\n",
    "```"
   ]
  },
  {
   "cell_type": "code",
   "execution_count": 65,
   "id": "0e26ca5d",
   "metadata": {},
   "outputs": [
    {
     "name": "stdout",
     "output_type": "stream",
     "text": [
      "Number of occurrences: 3\n"
     ]
    }
   ],
   "source": [
    "idx = ['001', '002', '001', '003', '001']\n",
    "print(\"Number of occurrences:\",idx.count('001'))"
   ]
  },
  {
   "cell_type": "markdown",
   "id": "af92b216",
   "metadata": {},
   "source": [
    "#### Exercise 59\n",
    "```\n",
    "The following text is given:\n",
    "\n",
    "text = 'Python programming'\n",
    "\n",
    "Standardize the text (replace uppercase letters with lowercase). Then create a list of unique characters in the text. Remove the space from this list and sort from a to z. After all print the list to the console.\n",
    "\n",
    "Tip: You can use a set to generate unique characters.\n",
    "\n",
    "Expected result:\n",
    "['a', 'g', 'h', 'i', 'm', 'n', 'o', 'p', 'r', 't', 'y']\n",
    "```"
   ]
  },
  {
   "cell_type": "code",
   "execution_count": 11,
   "id": "dc7788b5-59ff-40de-8bf3-68a05cc79229",
   "metadata": {},
   "outputs": [
    {
     "name": "stdout",
     "output_type": "stream",
     "text": [
      "['a', 'g', 'h', 'i', 'm', 'n', 'o', 'p', 'r', 't', 'y']\n"
     ]
    }
   ],
   "source": [
    "text = 'Python programming'\n",
    "x = list(set(text.lower()))\n",
    "x.remove(\" \")\n",
    "x.sort()\n",
    "print(x)"
   ]
  },
  {
   "cell_type": "code",
   "execution_count": 76,
   "id": "b8a8ecd0",
   "metadata": {},
   "outputs": [
    {
     "name": "stdout",
     "output_type": "stream",
     "text": [
      "['a', 'g', 'h', 'i', 'm', 'n', 'o', 'p', 'r', 't', 'y']\n"
     ]
    }
   ],
   "source": [
    "text = 'Python programming'\n",
    "text1 = list(set(text.lower()))\n",
    "text1.remove(\" \")\n",
    "text1.sort()\n",
    "print(text1)"
   ]
  },
  {
   "cell_type": "markdown",
   "id": "2ef00823",
   "metadata": {},
   "source": [
    "#### Exercise 60\n",
    "```\n",
    "The following list is given:\n",
    "\n",
    "filenames = ['view.jpg', 'bear.jpg', 'ball.png']\n",
    "\n",
    "Add the file 'phone.jpg' to this list at the beginning. Then delete the file 'ball.png'. In response, print the filenames list to the console.\n",
    "\n",
    "Expected result:\n",
    "['phone.jpg', 'view.jpg', 'bear.jpg']\n",
    "```"
   ]
  },
  {
   "cell_type": "code",
   "execution_count": 80,
   "id": "60319aa8",
   "metadata": {},
   "outputs": [
    {
     "name": "stdout",
     "output_type": "stream",
     "text": [
      "['phone.jpg', 'view.jpg', 'bear.jpg']\n"
     ]
    }
   ],
   "source": [
    "filenames = ['view.jpg', 'bear.jpg', 'ball.png']\n",
    "filenames.insert(0,'phone.jpg')\n",
    "filenames.pop()\n",
    "print(filenames)"
   ]
  },
  {
   "cell_type": "code",
   "execution_count": 81,
   "id": "fb8976c0",
   "metadata": {},
   "outputs": [
    {
     "name": "stdout",
     "output_type": "stream",
     "text": [
      "['phone.jpg', 'view.jpg', 'bear.jpg']\n"
     ]
    }
   ],
   "source": [
    "filenames = ['view.jpg', 'bear.jpg', 'ball.png']\n",
    "filenames.insert(0,'phone.jpg')\n",
    "filenames.remove(\"ball.png\")\n",
    "print(filenames)"
   ]
  },
  {
   "cell_type": "markdown",
   "id": "1cd45e0a",
   "metadata": {},
   "source": [
    "#### Exercise 61\n",
    "```\n",
    "The following list represents order ids for a given day:\n",
    "day1 = ['3984', '9042', '4829', '2380']\n",
    "\n",
    "Using the appropriate method, extend this list to the next day:\n",
    "\n",
    "day2 = ['4231', '5234', '1345', '2455']\n",
    "\n",
    "Print the result to the console.\n",
    "\n",
    "Expected result:\n",
    "['3984', '9042', '4829', '2380', '4231', '5234', '1345', '2455']\n",
    "```"
   ]
  },
  {
   "cell_type": "code",
   "execution_count": 82,
   "id": "b4386b1d",
   "metadata": {},
   "outputs": [
    {
     "name": "stdout",
     "output_type": "stream",
     "text": [
      "['3984', '9042', '4829', '2380', '4231', '5234', '1345', '2455']\n"
     ]
    }
   ],
   "source": [
    "day1 = ['3984', '9042', '4829', '2380']\n",
    "day2 = ['4231', '5234', '1345', '2455']\n",
    "day1.extend(day2)\n",
    "print(day1)"
   ]
  },
  {
   "cell_type": "markdown",
   "id": "4548ae89",
   "metadata": {},
   "source": [
    "#### Exercise 62\n",
    "```\n",
    "The following tuple is given:\n",
    "\n",
    "techs = ('python', 'java', 'sql', 'aws')\n",
    "\n",
    "Sort this tuple from a to z and print it to the console.\n",
    "\n",
    "Tip: Tuples are immutable. You have to create a new one.\n",
    "\n",
    "Expected result:\n",
    "('aws', 'java', 'python', 'sql')\n",
    "```"
   ]
  },
  {
   "cell_type": "code",
   "execution_count": 86,
   "id": "c0cfecde",
   "metadata": {},
   "outputs": [
    {
     "name": "stdout",
     "output_type": "stream",
     "text": [
      "('aws', 'java', 'python', 'sql')\n"
     ]
    }
   ],
   "source": [
    "techs = ('python', 'java', 'sql', 'aws')\n",
    "list1 = list(techs)\n",
    "list1.sort()\n",
    "print(tuple(list1))"
   ]
  },
  {
   "cell_type": "code",
   "execution_count": 88,
   "id": "0fcdc8e9",
   "metadata": {},
   "outputs": [
    {
     "name": "stdout",
     "output_type": "stream",
     "text": [
      "('aws', 'java', 'python', 'sql')\n"
     ]
    }
   ],
   "source": [
    "techs = ('python', 'java', 'sql', 'aws')\n",
    "tech = tuple(sorted(techs))\n",
    "print(tech)"
   ]
  },
  {
   "cell_type": "markdown",
   "id": "71a21fdf",
   "metadata": {},
   "source": [
    "#### Exercise 63\n",
    "```\n",
    "The following list is given:\n",
    "\n",
    "hashtags = ['summer', 'time', 'vibes']\n",
    "\n",
    "Using the appropriate method, combine the elements of the list with the '#' character. Also add this sign to the beginning of the text and print the result to the console as shown below.\n",
    "\n",
    "Expected result:\n",
    "'#summer#time#vibes'\n",
    "```"
   ]
  },
  {
   "cell_type": "code",
   "execution_count": 92,
   "id": "a275819b",
   "metadata": {},
   "outputs": [
    {
     "data": {
      "text/plain": [
       "'#summer#time#vibes'"
      ]
     },
     "execution_count": 92,
     "metadata": {},
     "output_type": "execute_result"
    }
   ],
   "source": [
    "hashtags = ['summer', 'time', 'vibes']\n",
    "\"#\"+hashtags[0]+\"#\"+ hashtags[1] + \"#\"+hashtags[2]"
   ]
  },
  {
   "cell_type": "code",
   "execution_count": 95,
   "id": "0678e879",
   "metadata": {},
   "outputs": [
    {
     "name": "stdout",
     "output_type": "stream",
     "text": [
      "summer#time#vibes\n"
     ]
    }
   ],
   "source": [
    "hashtags = ['summer', 'time', 'vibes']\n",
    "print('#'.join(hashtags))"
   ]
  },
  {
   "cell_type": "code",
   "execution_count": 96,
   "id": "d4abd748",
   "metadata": {},
   "outputs": [
    {
     "name": "stdout",
     "output_type": "stream",
     "text": [
      "#summer#time#vibes\n"
     ]
    }
   ],
   "source": [
    "print(\"#\"+\"#\".join(hashtags))"
   ]
  },
  {
   "cell_type": "code",
   "execution_count": null,
   "id": "bb2c4463",
   "metadata": {},
   "outputs": [],
   "source": []
  }
 ],
 "metadata": {
  "kernelspec": {
   "display_name": "Python 3 (ipykernel)",
   "language": "python",
   "name": "python3"
  },
  "language_info": {
   "codemirror_mode": {
    "name": "ipython",
    "version": 3
   },
   "file_extension": ".py",
   "mimetype": "text/x-python",
   "name": "python",
   "nbconvert_exporter": "python",
   "pygments_lexer": "ipython3",
   "version": "3.9.19"
  }
 },
 "nbformat": 4,
 "nbformat_minor": 5
}
