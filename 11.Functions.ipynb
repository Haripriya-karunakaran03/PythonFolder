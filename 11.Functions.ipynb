{
 "cells": [
  {
   "cell_type": "code",
   "execution_count": 1,
   "id": "e64060e2",
   "metadata": {},
   "outputs": [
    {
     "data": {
      "text/plain": [
       "5"
      ]
     },
     "execution_count": 1,
     "metadata": {},
     "output_type": "execute_result"
    }
   ],
   "source": [
    "len(\"haari\")"
   ]
  },
  {
   "cell_type": "code",
   "execution_count": 2,
   "id": "d20d6f0f",
   "metadata": {},
   "outputs": [],
   "source": [
    "def fun1():\n",
    "    print(\"hello\")"
   ]
  },
  {
   "cell_type": "code",
   "execution_count": 3,
   "id": "75992519",
   "metadata": {},
   "outputs": [
    {
     "name": "stdout",
     "output_type": "stream",
     "text": [
      "hello\n"
     ]
    }
   ],
   "source": [
    "fun1()"
   ]
  },
  {
   "cell_type": "code",
   "execution_count": 4,
   "id": "519b6632",
   "metadata": {},
   "outputs": [],
   "source": [
    "def fun2():\n",
    "    return \"hello world!\""
   ]
  },
  {
   "cell_type": "code",
   "execution_count": 5,
   "id": "953b8a57",
   "metadata": {},
   "outputs": [
    {
     "data": {
      "text/plain": [
       "'hello world!'"
      ]
     },
     "execution_count": 5,
     "metadata": {},
     "output_type": "execute_result"
    }
   ],
   "source": [
    "fun2()"
   ]
  },
  {
   "cell_type": "code",
   "execution_count": 6,
   "id": "1502cf54",
   "metadata": {},
   "outputs": [],
   "source": [
    "def fun3():\n",
    "    return 10,10.5,\"Haripriya\",[12,13,14,15]"
   ]
  },
  {
   "cell_type": "code",
   "execution_count": 7,
   "id": "a96839c4",
   "metadata": {},
   "outputs": [],
   "source": [
    "a,b,c,d = fun3()"
   ]
  },
  {
   "cell_type": "code",
   "execution_count": 8,
   "id": "abd3d515",
   "metadata": {},
   "outputs": [
    {
     "data": {
      "text/plain": [
       "10"
      ]
     },
     "execution_count": 8,
     "metadata": {},
     "output_type": "execute_result"
    }
   ],
   "source": [
    "a"
   ]
  },
  {
   "cell_type": "code",
   "execution_count": 9,
   "id": "d4a12acc",
   "metadata": {},
   "outputs": [
    {
     "data": {
      "text/plain": [
       "10.5"
      ]
     },
     "execution_count": 9,
     "metadata": {},
     "output_type": "execute_result"
    }
   ],
   "source": [
    "b"
   ]
  },
  {
   "cell_type": "code",
   "execution_count": 10,
   "id": "e3fe91f3",
   "metadata": {},
   "outputs": [
    {
     "data": {
      "text/plain": [
       "'Haripriya'"
      ]
     },
     "execution_count": 10,
     "metadata": {},
     "output_type": "execute_result"
    }
   ],
   "source": [
    "c"
   ]
  },
  {
   "cell_type": "code",
   "execution_count": 11,
   "id": "710b7bc9",
   "metadata": {},
   "outputs": [
    {
     "data": {
      "text/plain": [
       "[12, 13, 14, 15]"
      ]
     },
     "execution_count": 11,
     "metadata": {},
     "output_type": "execute_result"
    }
   ],
   "source": [
    "d"
   ]
  },
  {
   "cell_type": "code",
   "execution_count": 12,
   "id": "8935fb42",
   "metadata": {},
   "outputs": [],
   "source": [
    "def fun4(n):\n",
    "    sum = 4+n\n",
    "    return sum"
   ]
  },
  {
   "cell_type": "code",
   "execution_count": 13,
   "id": "6a5ffaa3",
   "metadata": {},
   "outputs": [
    {
     "data": {
      "text/plain": [
       "104"
      ]
     },
     "execution_count": 13,
     "metadata": {},
     "output_type": "execute_result"
    }
   ],
   "source": [
    "fun4(100)"
   ]
  },
  {
   "cell_type": "code",
   "execution_count": 45,
   "id": "a2f9d214",
   "metadata": {},
   "outputs": [],
   "source": [
    "l = [10,10.5,\"Haripriya\",[10,20,30,40,50.5,60,\"Har\"]]\n",
    "l1 = []"
   ]
  },
  {
   "cell_type": "code",
   "execution_count": 46,
   "id": "07d45f6e",
   "metadata": {},
   "outputs": [
    {
     "name": "stdout",
     "output_type": "stream",
     "text": [
      "[10, 20, 30, 40, 60]\n"
     ]
    }
   ],
   "source": [
    "if type(l) == list:\n",
    "    for i in l:\n",
    "        if type(i) == list:\n",
    "            for j in i:\n",
    "                if type(j) == int:\n",
    "                    l1.append(j)\n",
    "print(l1)"
   ]
  },
  {
   "cell_type": "code",
   "execution_count": 49,
   "id": "0be2e46e",
   "metadata": {},
   "outputs": [
    {
     "name": "stdout",
     "output_type": "stream",
     "text": [
      "[10, 10, 20, 30, 40]\n"
     ]
    }
   ],
   "source": [
    "l = [10, 10.5, \"Haripriya\", [10, 20, 30, 40, \"Har\"]]\n",
    "l1 = []\n",
    "\n",
    "if isinstance(l, list):\n",
    "    for item in l:\n",
    "        if isinstance(item, int):\n",
    "            l1.append(item)\n",
    "        elif isinstance(item, list):\n",
    "            for inner_item in item:\n",
    "                if isinstance(inner_item, int):\n",
    "                    l1.append(inner_item)\n",
    "\n",
    "print(l1)"
   ]
  },
  {
   "cell_type": "code",
   "execution_count": 50,
   "id": "6f9f478e",
   "metadata": {},
   "outputs": [
    {
     "name": "stdout",
     "output_type": "stream",
     "text": [
      "[10, 10, 20, 30, 40]\n"
     ]
    }
   ],
   "source": [
    "l = [10, 10.5, \"Haripriya\", [10, 20, 30, 40, \"Har\"]]\n",
    "l1 = []\n",
    "\n",
    "if type(l) == list:\n",
    "    for i in l:\n",
    "        if type(i) == int:\n",
    "            l1.append(i)\n",
    "        elif type(i) == list:\n",
    "            for j in i:\n",
    "                if type(j) == int:\n",
    "                    l1.append(j)\n",
    "print(l1)"
   ]
  },
  {
   "cell_type": "code",
   "execution_count": 57,
   "id": "469f6185",
   "metadata": {},
   "outputs": [],
   "source": [
    "l = [10, 10.5, \"Haripriya\", [10, 20, 30, 40, \"Har\"]]\n",
    "def func(l):\n",
    "    l1 = []\n",
    "    if type(l) == list:\n",
    "        for i in l:\n",
    "            if type(i) == int:\n",
    "                l1.append(i)\n",
    "            elif type(i) == list:\n",
    "                for j in i:\n",
    "                    if type(j) == int:\n",
    "                        l1.append(j)\n",
    "    return l1\n",
    "      "
   ]
  },
  {
   "cell_type": "code",
   "execution_count": 58,
   "id": "e6335834",
   "metadata": {},
   "outputs": [
    {
     "data": {
      "text/plain": [
       "[10, 10, 20, 30, 40]"
      ]
     },
     "execution_count": 58,
     "metadata": {},
     "output_type": "execute_result"
    }
   ],
   "source": [
    "func(l)"
   ]
  },
  {
   "cell_type": "code",
   "execution_count": 3,
   "id": "b33a15fc",
   "metadata": {},
   "outputs": [],
   "source": [
    "l = []\n",
    "def fun5(x):\n",
    "    for i in x:\n",
    "        if i==\"a\" or i == \"e\" or i == \"i\" or i == \"o\" or i == \"u\":\n",
    "            l.append(i)\n",
    "    return l"
   ]
  },
  {
   "cell_type": "code",
   "execution_count": 4,
   "id": "99b69544",
   "metadata": {},
   "outputs": [
    {
     "data": {
      "text/plain": [
       "['a', 'i', 'i', 'a']"
      ]
     },
     "execution_count": 4,
     "metadata": {},
     "output_type": "execute_result"
    }
   ],
   "source": [
    "fun5(\"Haripriya\")"
   ]
  },
  {
   "cell_type": "code",
   "execution_count": 5,
   "id": "576052b8",
   "metadata": {},
   "outputs": [
    {
     "data": {
      "text/plain": [
       "['a', 'i', 'i', 'a', 'a', 'i', 'u', 'a']"
      ]
     },
     "execution_count": 5,
     "metadata": {},
     "output_type": "execute_result"
    }
   ],
   "source": [
    "fun5(\"sathishkumar\")"
   ]
  },
  {
   "cell_type": "code",
   "execution_count": 10,
   "id": "1b500ae8",
   "metadata": {},
   "outputs": [],
   "source": [
    "d = {\"a\":10,\"b\":10.5,\"c\":\"haripriya\"}\n",
    "def fun6(d):\n",
    "    if type(d) == dict:\n",
    "        for i in d:\n",
    "            return d.keys()"
   ]
  },
  {
   "cell_type": "code",
   "execution_count": 11,
   "id": "8245163b",
   "metadata": {},
   "outputs": [
    {
     "data": {
      "text/plain": [
       "dict_keys(['a', 'b', 'c'])"
      ]
     },
     "execution_count": 11,
     "metadata": {},
     "output_type": "execute_result"
    }
   ],
   "source": [
    "fun6(d)"
   ]
  },
  {
   "cell_type": "code",
   "execution_count": 12,
   "id": "36f86259",
   "metadata": {},
   "outputs": [],
   "source": [
    "x = [10,20,30,40,50]\n",
    "y = [60,70,80,90,100]\n",
    "\n",
    "def fun7(x,y):\n",
    "    if type(x) == list and type(y) == list:\n",
    "        x.extend(y)\n",
    "    return x"
   ]
  },
  {
   "cell_type": "code",
   "execution_count": 13,
   "id": "f7fb3835",
   "metadata": {},
   "outputs": [
    {
     "data": {
      "text/plain": [
       "[10, 20, 30, 40, 50, 60, 70, 80, 90, 100]"
      ]
     },
     "execution_count": 13,
     "metadata": {},
     "output_type": "execute_result"
    }
   ],
   "source": [
    "fun7(x,y)"
   ]
  },
  {
   "cell_type": "code",
   "execution_count": 14,
   "id": "a224bf06",
   "metadata": {},
   "outputs": [
    {
     "data": {
      "text/plain": [
       "[1, 2, 3, 4, 5, 6, 7, 8, 9, 10]"
      ]
     },
     "execution_count": 14,
     "metadata": {},
     "output_type": "execute_result"
    }
   ],
   "source": [
    "fun7([1,2,3,4,5],[6,7,8,9,10])"
   ]
  },
  {
   "cell_type": "code",
   "execution_count": 15,
   "id": "3d4efe1b",
   "metadata": {},
   "outputs": [],
   "source": [
    "n = 5\n",
    "\n",
    "def fun8(n):\n",
    "    for i in range(0,n):\n",
    "        for j in range(i+1):\n",
    "            print(\"*\",end=\" \")\n",
    "        print()"
   ]
  },
  {
   "cell_type": "code",
   "execution_count": 16,
   "id": "716016e3",
   "metadata": {},
   "outputs": [
    {
     "name": "stdout",
     "output_type": "stream",
     "text": [
      "* \n",
      "* * \n",
      "* * * \n",
      "* * * * \n",
      "* * * * * \n"
     ]
    }
   ],
   "source": [
    "fun8(n)"
   ]
  },
  {
   "cell_type": "code",
   "execution_count": 17,
   "id": "69734213",
   "metadata": {},
   "outputs": [
    {
     "name": "stdout",
     "output_type": "stream",
     "text": [
      "* \n",
      "* * \n",
      "* * * \n",
      "* * * * \n",
      "* * * * * \n",
      "* * * * * * \n"
     ]
    }
   ],
   "source": [
    "fun8(6)"
   ]
  },
  {
   "cell_type": "code",
   "execution_count": 27,
   "id": "e726ce65",
   "metadata": {},
   "outputs": [],
   "source": [
    "n = 5\n",
    "\n",
    "def fun8(n):\n",
    "    for i in range(0,n):\n",
    "        for j in range(i+1):\n",
    "            print(j,end=\" \")\n",
    "        print()"
   ]
  },
  {
   "cell_type": "code",
   "execution_count": 28,
   "id": "be8e0299",
   "metadata": {},
   "outputs": [
    {
     "name": "stdout",
     "output_type": "stream",
     "text": [
      "0 \n",
      "0 1 \n",
      "0 1 2 \n",
      "0 1 2 3 \n",
      "0 1 2 3 4 \n"
     ]
    }
   ],
   "source": [
    "fun8(n)"
   ]
  },
  {
   "cell_type": "code",
   "execution_count": 46,
   "id": "286829c5",
   "metadata": {},
   "outputs": [],
   "source": [
    "n = 5\n",
    "\n",
    "def fun8(n):\n",
    "    \"\"\"This is a code for number pattern\"\"\"\n",
    "    for i in range(0,n):\n",
    "        for j in range(i+1):\n",
    "            print(j,end=\" \")\n",
    "        print()"
   ]
  },
  {
   "cell_type": "code",
   "execution_count": 47,
   "id": "0ab01ee2",
   "metadata": {},
   "outputs": [
    {
     "name": "stdout",
     "output_type": "stream",
     "text": [
      "0 \n",
      "0 1 \n",
      "0 1 2 \n",
      "0 1 2 3 \n",
      "0 1 2 3 4 \n"
     ]
    }
   ],
   "source": [
    "fun8(n)"
   ]
  },
  {
   "cell_type": "code",
   "execution_count": 48,
   "id": "acd97177",
   "metadata": {},
   "outputs": [],
   "source": [
    "def fun9(s):\n",
    "    count = 0\n",
    "    for i in s:\n",
    "        count = count + 1\n",
    "    return count"
   ]
  },
  {
   "cell_type": "code",
   "execution_count": 49,
   "id": "bab4e1d6",
   "metadata": {},
   "outputs": [
    {
     "data": {
      "text/plain": [
       "9"
      ]
     },
     "execution_count": 49,
     "metadata": {},
     "output_type": "execute_result"
    }
   ],
   "source": [
    "fun9(\"Haripriya\")"
   ]
  },
  {
   "cell_type": "code",
   "execution_count": 52,
   "id": "869cf4f3",
   "metadata": {},
   "outputs": [],
   "source": [
    "l = \"Haripriya\"\n",
    "def fun10(l):\n",
    "    for i in range(0,len(l)):\n",
    "        print(l[i],i)"
   ]
  },
  {
   "cell_type": "code",
   "execution_count": 53,
   "id": "184fb3d4",
   "metadata": {},
   "outputs": [
    {
     "name": "stdout",
     "output_type": "stream",
     "text": [
      "H 0\n",
      "a 1\n",
      "r 2\n",
      "i 3\n",
      "p 4\n",
      "r 5\n",
      "i 6\n",
      "y 7\n",
      "a 8\n"
     ]
    }
   ],
   "source": [
    "fun10(l)"
   ]
  },
  {
   "cell_type": "code",
   "execution_count": 65,
   "id": "df801fbf",
   "metadata": {},
   "outputs": [],
   "source": [
    "d1 = {\"a\":10,\"b\":\"Haripriya\",\"c\":100.5,\"d\":True,\"e\":{\"1\":100,\"2\":200,\"3\":300}}"
   ]
  },
  {
   "cell_type": "code",
   "execution_count": 70,
   "id": "babf9788",
   "metadata": {},
   "outputs": [],
   "source": [
    "def fun11(d1):\n",
    "    l1 = []\n",
    "    l2 = []\n",
    "    for i in d1.values():\n",
    "        if type(i) == dict:\n",
    "            for j in i.values():\n",
    "                l1.append(j)\n",
    "        else:\n",
    "            l2.append(i)\n",
    "    return l1+l2\n",
    "                    \n",
    "            "
   ]
  },
  {
   "cell_type": "code",
   "execution_count": 71,
   "id": "f2749a9d",
   "metadata": {},
   "outputs": [
    {
     "data": {
      "text/plain": [
       "[100, 200, 300, 10, 'Haripriya', 100.5, True]"
      ]
     },
     "execution_count": 71,
     "metadata": {},
     "output_type": "execute_result"
    }
   ],
   "source": [
    "fun11(d1)"
   ]
  },
  {
   "cell_type": "code",
   "execution_count": 73,
   "id": "d8bd7638",
   "metadata": {},
   "outputs": [],
   "source": [
    "def fun12(*args):\n",
    "    l = []\n",
    "    for i in args:\n",
    "        if isinstance(i,list):\n",
    "            l.extend(i)\n",
    "    return l\n",
    "            "
   ]
  },
  {
   "cell_type": "code",
   "execution_count": 74,
   "id": "0ebfda6f",
   "metadata": {},
   "outputs": [
    {
     "data": {
      "text/plain": [
       "[1, 2, 3, 4, 5, 6, 7, 8, 9, 10, 11, 12]"
      ]
     },
     "execution_count": 74,
     "metadata": {},
     "output_type": "execute_result"
    }
   ],
   "source": [
    "fun12([1,2,3,4],[5,6,7,8],[9,10,11,12])"
   ]
  },
  {
   "cell_type": "code",
   "execution_count": 79,
   "id": "6feb4110",
   "metadata": {},
   "outputs": [],
   "source": [
    "def fun13(*args,a,b):\n",
    "    return args,a,b"
   ]
  },
  {
   "cell_type": "code",
   "execution_count": 80,
   "id": "7151d589",
   "metadata": {},
   "outputs": [
    {
     "data": {
      "text/plain": [
       "((12, 122, 1222), 100, 200)"
      ]
     },
     "execution_count": 80,
     "metadata": {},
     "output_type": "execute_result"
    }
   ],
   "source": [
    "fun13(12,122,1222,a = 100,b = 200)"
   ]
  },
  {
   "cell_type": "code",
   "execution_count": 81,
   "id": "c06dcff2",
   "metadata": {},
   "outputs": [],
   "source": [
    "def fun14(**kwargs):\n",
    "    return kwargs"
   ]
  },
  {
   "cell_type": "code",
   "execution_count": 82,
   "id": "63287254",
   "metadata": {},
   "outputs": [
    {
     "data": {
      "text/plain": [
       "{'a': 100, 'b': 200, 'c': 300, 'd': 400}"
      ]
     },
     "execution_count": 82,
     "metadata": {},
     "output_type": "execute_result"
    }
   ],
   "source": [
    "fun14(a = 100,b = 200,c = 300,d = 400)"
   ]
  },
  {
   "cell_type": "code",
   "execution_count": 84,
   "id": "54b2ce65",
   "metadata": {},
   "outputs": [],
   "source": [
    "def fun15(a,*args,**kwargs):\n",
    "    return args,kwargs,a"
   ]
  },
  {
   "cell_type": "code",
   "execution_count": 85,
   "id": "24688c59",
   "metadata": {},
   "outputs": [
    {
     "data": {
      "text/plain": [
       "((20, 30, 40), {'b': 100, 'c': 200}, 10)"
      ]
     },
     "execution_count": 85,
     "metadata": {},
     "output_type": "execute_result"
    }
   ],
   "source": [
    "fun15(10,20,30,40,b = 100,c = 200)"
   ]
  },
  {
   "cell_type": "code",
   "execution_count": 88,
   "id": "f8a7462a",
   "metadata": {},
   "outputs": [],
   "source": [
    "def fun15(n):\n",
    "    if n%2 == 0:\n",
    "        return \"even\"\n",
    "    else:\n",
    "        return \"odd\""
   ]
  },
  {
   "cell_type": "code",
   "execution_count": 89,
   "id": "957e47ae",
   "metadata": {},
   "outputs": [
    {
     "data": {
      "text/plain": [
       "'even'"
      ]
     },
     "execution_count": 89,
     "metadata": {},
     "output_type": "execute_result"
    }
   ],
   "source": [
    "fun15(100)"
   ]
  },
  {
   "cell_type": "code",
   "execution_count": 97,
   "id": "62d2dad3",
   "metadata": {},
   "outputs": [],
   "source": [
    "# default arguments\n",
    "\n",
    "def fun16(x,y=15):\n",
    "    return x,y"
   ]
  },
  {
   "cell_type": "code",
   "execution_count": 100,
   "id": "6d678076",
   "metadata": {},
   "outputs": [
    {
     "data": {
      "text/plain": [
       "(54, 15)"
      ]
     },
     "execution_count": 100,
     "metadata": {},
     "output_type": "execute_result"
    }
   ],
   "source": [
    "fun16(54)"
   ]
  },
  {
   "cell_type": "code",
   "execution_count": 101,
   "id": "3202c103",
   "metadata": {},
   "outputs": [
    {
     "data": {
      "text/plain": [
       "(10, 20)"
      ]
     },
     "execution_count": 101,
     "metadata": {},
     "output_type": "execute_result"
    }
   ],
   "source": [
    "fun16(10,20)"
   ]
  },
  {
   "cell_type": "code",
   "execution_count": 105,
   "id": "c8419b40",
   "metadata": {},
   "outputs": [],
   "source": [
    "# keyword argument\n",
    "def fun17(a,b):          \n",
    "    return a,b"
   ]
  },
  {
   "cell_type": "code",
   "execution_count": 106,
   "id": "ddbffe96",
   "metadata": {},
   "outputs": [
    {
     "data": {
      "text/plain": [
       "(10, 20)"
      ]
     },
     "execution_count": 106,
     "metadata": {},
     "output_type": "execute_result"
    }
   ],
   "source": [
    "fun17(a = 10,b = 20)"
   ]
  },
  {
   "cell_type": "code",
   "execution_count": 104,
   "id": "03d9d221",
   "metadata": {},
   "outputs": [
    {
     "data": {
      "text/plain": [
       "(20, 10)"
      ]
     },
     "execution_count": 104,
     "metadata": {},
     "output_type": "execute_result"
    }
   ],
   "source": [
    "fun17(b = 10,a = 20)\n"
   ]
  },
  {
   "cell_type": "code",
   "execution_count": 107,
   "id": "43ef8b37",
   "metadata": {},
   "outputs": [],
   "source": [
    "# positional argument\n",
    "\n",
    "def nameage(name,age):\n",
    "    print(\"My name is \",name)\n",
    "    print(\"My age is \",age)"
   ]
  },
  {
   "cell_type": "code",
   "execution_count": 108,
   "id": "7487d2e9",
   "metadata": {},
   "outputs": [
    {
     "name": "stdout",
     "output_type": "stream",
     "text": [
      "My name is  Haripriya\n",
      "My age is  21\n"
     ]
    }
   ],
   "source": [
    "nameage(\"Haripriya\",21)        #position of arguments should be correct...this is correct"
   ]
  },
  {
   "cell_type": "code",
   "execution_count": 109,
   "id": "bbab0e4b",
   "metadata": {},
   "outputs": [
    {
     "name": "stdout",
     "output_type": "stream",
     "text": [
      "My name is  21\n",
      "My age is  Haripriya\n"
     ]
    }
   ],
   "source": [
    "nameage(21,\"Haripriya\")       # this is wrong"
   ]
  },
  {
   "cell_type": "code",
   "execution_count": 110,
   "id": "24bbaeb7",
   "metadata": {},
   "outputs": [],
   "source": [
    "# arbitary keyword arguments\n",
    "\n",
    "def name(*args):\n",
    "    for i in args:\n",
    "        print(i)"
   ]
  },
  {
   "cell_type": "code",
   "execution_count": 111,
   "id": "5c19a192",
   "metadata": {},
   "outputs": [
    {
     "name": "stdout",
     "output_type": "stream",
     "text": [
      "10\n",
      "20\n",
      "30\n",
      "40\n",
      "50\n"
     ]
    }
   ],
   "source": [
    "name(10,20,30,40,50)"
   ]
  },
  {
   "cell_type": "code",
   "execution_count": 114,
   "id": "e6880688",
   "metadata": {},
   "outputs": [],
   "source": [
    "def name1(**kwargs):\n",
    "    for i in kwargs:\n",
    "        print(i,kwargs[i])"
   ]
  },
  {
   "cell_type": "code",
   "execution_count": 115,
   "id": "6fe79129",
   "metadata": {},
   "outputs": [
    {
     "name": "stdout",
     "output_type": "stream",
     "text": [
      "a 10\n",
      "b 20\n",
      "c 40\n",
      "d 30\n"
     ]
    }
   ],
   "source": [
    "name1(a=10,b=20,c=40,d=30)"
   ]
  },
  {
   "cell_type": "code",
   "execution_count": 123,
   "id": "3b2bcf09",
   "metadata": {},
   "outputs": [
    {
     "name": "stdout",
     "output_type": "stream",
     "text": [
      "The square of number is  400\n"
     ]
    }
   ],
   "source": [
    "def fun18(num):\n",
    "    return num**2\n",
    "x = fun18(20)\n",
    "print(f\"The square of number is \",x)"
   ]
  },
  {
   "cell_type": "code",
   "execution_count": null,
   "id": "3ae32d76",
   "metadata": {},
   "outputs": [],
   "source": []
  },
  {
   "cell_type": "code",
   "execution_count": null,
   "id": "0a7281fb",
   "metadata": {},
   "outputs": [],
   "source": []
  },
  {
   "cell_type": "code",
   "execution_count": null,
   "id": "ce6b047f",
   "metadata": {},
   "outputs": [],
   "source": []
  }
 ],
 "metadata": {
  "kernelspec": {
   "display_name": "Python 3 (ipykernel)",
   "language": "python",
   "name": "python3"
  },
  "language_info": {
   "codemirror_mode": {
    "name": "ipython",
    "version": 3
   },
   "file_extension": ".py",
   "mimetype": "text/x-python",
   "name": "python",
   "nbconvert_exporter": "python",
   "pygments_lexer": "ipython3",
   "version": "3.11.4"
  }
 },
 "nbformat": 4,
 "nbformat_minor": 5
}
