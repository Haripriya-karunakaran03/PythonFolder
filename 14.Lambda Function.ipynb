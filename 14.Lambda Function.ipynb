{
 "cells": [
  {
   "cell_type": "markdown",
   "id": "f1f78c5f",
   "metadata": {},
   "source": [
    "### Syntax\n",
    "\n",
    "```python\n",
    "lambda arguments: expression\n",
    "```"
   ]
  },
  {
   "cell_type": "code",
   "execution_count": 1,
   "id": "3dffcf26",
   "metadata": {},
   "outputs": [],
   "source": [
    "x = lambda a,b:a+b"
   ]
  },
  {
   "cell_type": "code",
   "execution_count": 2,
   "id": "e4b01625",
   "metadata": {},
   "outputs": [
    {
     "data": {
      "text/plain": [
       "20"
      ]
     },
     "execution_count": 2,
     "metadata": {},
     "output_type": "execute_result"
    }
   ],
   "source": [
    "x(10,10)"
   ]
  },
  {
   "cell_type": "code",
   "execution_count": 3,
   "id": "4d3d1aaa",
   "metadata": {},
   "outputs": [
    {
     "data": {
      "text/plain": [
       "200"
      ]
     },
     "execution_count": 3,
     "metadata": {},
     "output_type": "execute_result"
    }
   ],
   "source": [
    "x(100,100)"
   ]
  },
  {
   "cell_type": "code",
   "execution_count": 4,
   "id": "57bb796e",
   "metadata": {},
   "outputs": [],
   "source": [
    "y = lambda *args:args"
   ]
  },
  {
   "cell_type": "code",
   "execution_count": 5,
   "id": "8cc08422",
   "metadata": {},
   "outputs": [
    {
     "data": {
      "text/plain": [
       "(10, 20, 30, 40)"
      ]
     },
     "execution_count": 5,
     "metadata": {},
     "output_type": "execute_result"
    }
   ],
   "source": [
    "y(10,20,30,40)"
   ]
  },
  {
   "cell_type": "code",
   "execution_count": 7,
   "id": "6e7deae8",
   "metadata": {},
   "outputs": [],
   "source": [
    "z = lambda x,y:(x+y,x*y)"
   ]
  },
  {
   "cell_type": "code",
   "execution_count": 8,
   "id": "e56f4ec9",
   "metadata": {},
   "outputs": [
    {
     "data": {
      "text/plain": [
       "(20, 100)"
      ]
     },
     "execution_count": 8,
     "metadata": {},
     "output_type": "execute_result"
    }
   ],
   "source": [
    "z(10,10)"
   ]
  },
  {
   "cell_type": "code",
   "execution_count": 9,
   "id": "4ce3404d",
   "metadata": {},
   "outputs": [],
   "source": [
    "x = lambda num:[print(i) for i in range(num)]"
   ]
  },
  {
   "cell_type": "code",
   "execution_count": 10,
   "id": "1a0f1fc9",
   "metadata": {},
   "outputs": [
    {
     "name": "stdout",
     "output_type": "stream",
     "text": [
      "0\n",
      "1\n",
      "2\n",
      "3\n",
      "4\n",
      "5\n",
      "6\n",
      "7\n",
      "8\n",
      "9\n"
     ]
    },
    {
     "data": {
      "text/plain": [
       "[None, None, None, None, None, None, None, None, None, None]"
      ]
     },
     "execution_count": 10,
     "metadata": {},
     "output_type": "execute_result"
    }
   ],
   "source": [
    "x(10)"
   ]
  },
  {
   "cell_type": "code",
   "execution_count": 13,
   "id": "485c8107",
   "metadata": {},
   "outputs": [],
   "source": [
    "x = lambda num:[i for i in range(num)]"
   ]
  },
  {
   "cell_type": "code",
   "execution_count": 14,
   "id": "e61a4855",
   "metadata": {},
   "outputs": [
    {
     "data": {
      "text/plain": [
       "[0, 1, 2, 3, 4, 5, 6, 7, 8, 9]"
      ]
     },
     "execution_count": 14,
     "metadata": {},
     "output_type": "execute_result"
    }
   ],
   "source": [
    "x(10)"
   ]
  },
  {
   "cell_type": "code",
   "execution_count": 16,
   "id": "45dd7040",
   "metadata": {},
   "outputs": [
    {
     "data": {
      "text/plain": [
       "[1, 3, 4, 5, 6]"
      ]
     },
     "execution_count": 16,
     "metadata": {},
     "output_type": "execute_result"
    }
   ],
   "source": [
    "l = [1,3,4,5,6]\n",
    "[i for i in l]"
   ]
  },
  {
   "cell_type": "code",
   "execution_count": 17,
   "id": "570118a3",
   "metadata": {},
   "outputs": [],
   "source": [
    "x = lambda a:a+10"
   ]
  },
  {
   "cell_type": "code",
   "execution_count": 18,
   "id": "a2867949",
   "metadata": {},
   "outputs": [
    {
     "data": {
      "text/plain": [
       "110"
      ]
     },
     "execution_count": 18,
     "metadata": {},
     "output_type": "execute_result"
    }
   ],
   "source": [
    "x(100)"
   ]
  },
  {
   "cell_type": "code",
   "execution_count": 21,
   "id": "e51a6eef",
   "metadata": {},
   "outputs": [],
   "source": [
    "def fun(n):\n",
    "    a = 10\n",
    "    x = lambda a:a+n\n",
    "    return x"
   ]
  },
  {
   "cell_type": "code",
   "execution_count": 23,
   "id": "9f3c0ed8",
   "metadata": {},
   "outputs": [
    {
     "data": {
      "text/plain": [
       "<function __main__.fun.<locals>.<lambda>(a)>"
      ]
     },
     "execution_count": 23,
     "metadata": {},
     "output_type": "execute_result"
    }
   ],
   "source": [
    "fun(100)"
   ]
  },
  {
   "cell_type": "code",
   "execution_count": 32,
   "id": "e27c672a",
   "metadata": {},
   "outputs": [
    {
     "data": {
      "text/plain": [
       "100"
      ]
     },
     "execution_count": 32,
     "metadata": {},
     "output_type": "execute_result"
    }
   ],
   "source": [
    "def myfunc(n):\n",
    "    return lambda a : a * n\n",
    "x = myfunc(10)\n",
    "x(10)"
   ]
  },
  {
   "cell_type": "code",
   "execution_count": 33,
   "id": "595de691",
   "metadata": {},
   "outputs": [
    {
     "data": {
      "text/plain": [
       "<function __main__.myfunc.<locals>.<lambda>(a)>"
      ]
     },
     "execution_count": 33,
     "metadata": {},
     "output_type": "execute_result"
    }
   ],
   "source": [
    "myfunc(100)"
   ]
  },
  {
   "cell_type": "code",
   "execution_count": 34,
   "id": "cfa1554b",
   "metadata": {},
   "outputs": [
    {
     "data": {
      "text/plain": [
       "100"
      ]
     },
     "execution_count": 34,
     "metadata": {},
     "output_type": "execute_result"
    }
   ],
   "source": [
    "def fun1(num):\n",
    "    return lambda a:a*num\n",
    "x = fun1(10)\n",
    "x(10)"
   ]
  },
  {
   "cell_type": "code",
   "execution_count": 38,
   "id": "d30ed2b8",
   "metadata": {},
   "outputs": [
    {
     "name": "stdout",
     "output_type": "stream",
     "text": [
      "22\n",
      "33\n"
     ]
    }
   ],
   "source": [
    "def fun12(n):\n",
    "    return lambda a:a*n\n",
    "x = fun12(2)\n",
    "y = fun12(3)\n",
    "print(x(11))\n",
    "print(y(11))"
   ]
  },
  {
   "cell_type": "code",
   "execution_count": 39,
   "id": "fd9401ae",
   "metadata": {},
   "outputs": [],
   "source": [
    "x = lambda a:a.upper()"
   ]
  },
  {
   "cell_type": "code",
   "execution_count": 40,
   "id": "7b22f39d",
   "metadata": {},
   "outputs": [
    {
     "data": {
      "text/plain": [
       "'HARIPRIYA'"
      ]
     },
     "execution_count": 40,
     "metadata": {},
     "output_type": "execute_result"
    }
   ],
   "source": [
    "x(\"Haripriya\")"
   ]
  },
  {
   "cell_type": "code",
   "execution_count": 41,
   "id": "82c8aeed",
   "metadata": {},
   "outputs": [],
   "source": [
    "x = lambda a:\"Yes\" if a<10 else \"No\""
   ]
  },
  {
   "cell_type": "code",
   "execution_count": 42,
   "id": "3caa3b4e",
   "metadata": {},
   "outputs": [
    {
     "data": {
      "text/plain": [
       "'Yes'"
      ]
     },
     "execution_count": 42,
     "metadata": {},
     "output_type": "execute_result"
    }
   ],
   "source": [
    "x(5)"
   ]
  },
  {
   "cell_type": "code",
   "execution_count": 43,
   "id": "a3938055",
   "metadata": {},
   "outputs": [],
   "source": [
    "def cube(n):\n",
    "    return n*n*n"
   ]
  },
  {
   "cell_type": "code",
   "execution_count": 44,
   "id": "9c41072b",
   "metadata": {},
   "outputs": [
    {
     "data": {
      "text/plain": [
       "1000"
      ]
     },
     "execution_count": 44,
     "metadata": {},
     "output_type": "execute_result"
    }
   ],
   "source": [
    "cube(10)"
   ]
  },
  {
   "cell_type": "code",
   "execution_count": 45,
   "id": "6a391ccd",
   "metadata": {},
   "outputs": [],
   "source": [
    "x = lambda num:num*num*num"
   ]
  },
  {
   "cell_type": "code",
   "execution_count": 46,
   "id": "9b777f40",
   "metadata": {},
   "outputs": [
    {
     "data": {
      "text/plain": [
       "1000"
      ]
     },
     "execution_count": 46,
     "metadata": {},
     "output_type": "execute_result"
    }
   ],
   "source": [
    "x(10)"
   ]
  },
  {
   "cell_type": "code",
   "execution_count": 50,
   "id": "a83a5d60",
   "metadata": {},
   "outputs": [
    {
     "name": "stdout",
     "output_type": "stream",
     "text": [
      "1\n",
      "3\n",
      "5\n",
      "9\n"
     ]
    }
   ],
   "source": [
    "l = [1,3,4,5,6,10,9]\n",
    "for i in l:\n",
    "    if i%2!=0:\n",
    "        print(i)"
   ]
  },
  {
   "cell_type": "code",
   "execution_count": 52,
   "id": "83bc0ef0",
   "metadata": {},
   "outputs": [],
   "source": [
    "#filter\n",
    "l = [1,3,4,5,6,10,9]\n",
    "\n",
    "x = list(filter(lambda a:(a%2!=0),l))"
   ]
  },
  {
   "cell_type": "code",
   "execution_count": 53,
   "id": "fa529fa9",
   "metadata": {},
   "outputs": [
    {
     "data": {
      "text/plain": [
       "[1, 3, 5, 9]"
      ]
     },
     "execution_count": 53,
     "metadata": {},
     "output_type": "execute_result"
    }
   ],
   "source": [
    "x"
   ]
  },
  {
   "cell_type": "code",
   "execution_count": 58,
   "id": "d6b0e6e9",
   "metadata": {},
   "outputs": [],
   "source": [
    "age = (18,20,10,32,40,5,12)\n",
    "\n",
    "x = tuple(filter(lambda i:i>=18,age))"
   ]
  },
  {
   "cell_type": "code",
   "execution_count": 59,
   "id": "08fce1c1",
   "metadata": {},
   "outputs": [
    {
     "data": {
      "text/plain": [
       "(18, 20, 32, 40)"
      ]
     },
     "execution_count": 59,
     "metadata": {},
     "output_type": "execute_result"
    }
   ],
   "source": [
    "x"
   ]
  },
  {
   "cell_type": "code",
   "execution_count": 60,
   "id": "80e47343",
   "metadata": {},
   "outputs": [],
   "source": [
    "#map\n",
    "\n",
    "l = [1,3,4,5,6,10,9]\n",
    "x = list(map(lambda i: i**2,l))"
   ]
  },
  {
   "cell_type": "code",
   "execution_count": 61,
   "id": "ca10c8a4",
   "metadata": {},
   "outputs": [
    {
     "data": {
      "text/plain": [
       "[1, 9, 16, 25, 36, 100, 81]"
      ]
     },
     "execution_count": 61,
     "metadata": {},
     "output_type": "execute_result"
    }
   ],
   "source": [
    "x"
   ]
  },
  {
   "cell_type": "code",
   "execution_count": 62,
   "id": "9f92f480",
   "metadata": {},
   "outputs": [],
   "source": [
    "s = (\"happy\",\"sad\",\"cry\",\"irritating\")\n",
    "\n",
    "x = tuple(map(lambda i : i.upper(),s))"
   ]
  },
  {
   "cell_type": "code",
   "execution_count": 63,
   "id": "d6fe0661",
   "metadata": {},
   "outputs": [
    {
     "data": {
      "text/plain": [
       "('HAPPY', 'SAD', 'CRY', 'IRRITATING')"
      ]
     },
     "execution_count": 63,
     "metadata": {},
     "output_type": "execute_result"
    }
   ],
   "source": [
    "x"
   ]
  },
  {
   "cell_type": "code",
   "execution_count": 64,
   "id": "e55991be",
   "metadata": {},
   "outputs": [],
   "source": [
    "x = list(map(lambda i : i.upper(),s))"
   ]
  },
  {
   "cell_type": "code",
   "execution_count": 65,
   "id": "a63125ab",
   "metadata": {},
   "outputs": [
    {
     "data": {
      "text/plain": [
       "['HAPPY', 'SAD', 'CRY', 'IRRITATING']"
      ]
     },
     "execution_count": 65,
     "metadata": {},
     "output_type": "execute_result"
    }
   ],
   "source": [
    "x"
   ]
  },
  {
   "cell_type": "code",
   "execution_count": 2,
   "id": "409a3d08",
   "metadata": {},
   "outputs": [],
   "source": [
    "l = [11,13,14,15,16,18]\n",
    "\n",
    "x = list(filter(lambda i : i % 2!= 0,l))"
   ]
  },
  {
   "cell_type": "code",
   "execution_count": 3,
   "id": "193a6be7",
   "metadata": {},
   "outputs": [
    {
     "data": {
      "text/plain": [
       "[11, 13, 15]"
      ]
     },
     "execution_count": 3,
     "metadata": {},
     "output_type": "execute_result"
    }
   ],
   "source": [
    "x"
   ]
  },
  {
   "cell_type": "code",
   "execution_count": 4,
   "id": "4ce22f8d",
   "metadata": {},
   "outputs": [],
   "source": [
    "x = list(map(lambda i:i**2,l))"
   ]
  },
  {
   "cell_type": "code",
   "execution_count": 5,
   "id": "cee25e02",
   "metadata": {},
   "outputs": [
    {
     "data": {
      "text/plain": [
       "[121, 169, 196, 225, 256, 324]"
      ]
     },
     "execution_count": 5,
     "metadata": {},
     "output_type": "execute_result"
    }
   ],
   "source": [
    "x"
   ]
  },
  {
   "cell_type": "code",
   "execution_count": 14,
   "id": "83209fe2",
   "metadata": {},
   "outputs": [],
   "source": [
    "from functools import reduce\n",
    "l = [1,2,3,5,6,7,12]\n",
    "\n",
    "x = reduce(lambda i,j : i*j,l)"
   ]
  },
  {
   "cell_type": "code",
   "execution_count": 15,
   "id": "35e7ad34",
   "metadata": {},
   "outputs": [
    {
     "data": {
      "text/plain": [
       "15120"
      ]
     },
     "execution_count": 15,
     "metadata": {},
     "output_type": "execute_result"
    }
   ],
   "source": [
    "x"
   ]
  },
  {
   "cell_type": "code",
   "execution_count": 9,
   "id": "81b304ac",
   "metadata": {},
   "outputs": [
    {
     "ename": "NameError",
     "evalue": "name 'reduce' is not defined",
     "output_type": "error",
     "traceback": [
      "\u001b[1;31m---------------------------------------------------------------------------\u001b[0m",
      "\u001b[1;31mNameError\u001b[0m                                 Traceback (most recent call last)",
      "Cell \u001b[1;32mIn[9], line 2\u001b[0m\n\u001b[0;32m      1\u001b[0m li \u001b[38;5;241m=\u001b[39m [\u001b[38;5;241m5\u001b[39m, \u001b[38;5;241m8\u001b[39m, \u001b[38;5;241m10\u001b[39m, \u001b[38;5;241m20\u001b[39m, \u001b[38;5;241m50\u001b[39m, \u001b[38;5;241m100\u001b[39m]\n\u001b[1;32m----> 2\u001b[0m \u001b[38;5;28msum\u001b[39m \u001b[38;5;241m=\u001b[39m reduce((\u001b[38;5;28;01mlambda\u001b[39;00m x, y: x \u001b[38;5;241m+\u001b[39m y), li)\n\u001b[0;32m      3\u001b[0m \u001b[38;5;28mprint\u001b[39m(\u001b[38;5;28msum\u001b[39m)\n",
      "\u001b[1;31mNameError\u001b[0m: name 'reduce' is not defined"
     ]
    }
   ],
   "source": []
  },
  {
   "cell_type": "code",
   "execution_count": 1,
   "id": "cb8856e9",
   "metadata": {},
   "outputs": [],
   "source": [
    "x = lambda y:y+10"
   ]
  },
  {
   "cell_type": "code",
   "execution_count": 2,
   "id": "0492a981",
   "metadata": {},
   "outputs": [
    {
     "data": {
      "text/plain": [
       "20"
      ]
     },
     "execution_count": 2,
     "metadata": {},
     "output_type": "execute_result"
    }
   ],
   "source": [
    "x(10)"
   ]
  },
  {
   "cell_type": "code",
   "execution_count": 5,
   "id": "8184dd09",
   "metadata": {},
   "outputs": [],
   "source": [
    "a = lambda x,y:x * y"
   ]
  },
  {
   "cell_type": "code",
   "execution_count": 6,
   "id": "ffdc4035",
   "metadata": {},
   "outputs": [
    {
     "data": {
      "text/plain": [
       "100"
      ]
     },
     "execution_count": 6,
     "metadata": {},
     "output_type": "execute_result"
    }
   ],
   "source": [
    "a(10,10)"
   ]
  },
  {
   "cell_type": "code",
   "execution_count": 6,
   "id": "524fcb88",
   "metadata": {},
   "outputs": [],
   "source": [
    "l = [2,13,4,24,10]\n",
    "\n",
    "x = list(filter(lambda a:(a>10),l))"
   ]
  },
  {
   "cell_type": "code",
   "execution_count": 7,
   "id": "ece2df1e",
   "metadata": {},
   "outputs": [
    {
     "data": {
      "text/plain": [
       "[13, 24]"
      ]
     },
     "execution_count": 7,
     "metadata": {},
     "output_type": "execute_result"
    }
   ],
   "source": [
    "x"
   ]
  },
  {
   "cell_type": "code",
   "execution_count": 10,
   "id": "45f07982",
   "metadata": {},
   "outputs": [],
   "source": [
    "from functools import reduce\n",
    "\n",
    "l = range(1,11)\n",
    "x = reduce(lambda i,j:i+j,l)"
   ]
  },
  {
   "cell_type": "code",
   "execution_count": 11,
   "id": "987c11ca",
   "metadata": {},
   "outputs": [
    {
     "data": {
      "text/plain": [
       "55"
      ]
     },
     "execution_count": 11,
     "metadata": {},
     "output_type": "execute_result"
    }
   ],
   "source": [
    "x"
   ]
  },
  {
   "cell_type": "code",
   "execution_count": 1,
   "id": "8d1a6650",
   "metadata": {},
   "outputs": [],
   "source": [
    "x = lambda x,y:x+y+100"
   ]
  },
  {
   "cell_type": "code",
   "execution_count": 3,
   "id": "9f345911",
   "metadata": {},
   "outputs": [
    {
     "data": {
      "text/plain": [
       "120"
      ]
     },
     "execution_count": 3,
     "metadata": {},
     "output_type": "execute_result"
    }
   ],
   "source": [
    "x(10,10)"
   ]
  },
  {
   "cell_type": "code",
   "execution_count": 8,
   "id": "8e782d05",
   "metadata": {},
   "outputs": [],
   "source": [
    "l = [2,1,3,5,2,7,6,8,10]\n",
    "x = list(map(lambda num:num**2,l))"
   ]
  },
  {
   "cell_type": "code",
   "execution_count": 9,
   "id": "a8969bf4",
   "metadata": {},
   "outputs": [
    {
     "data": {
      "text/plain": [
       "[4, 1, 9, 25, 4, 49, 36, 64, 100]"
      ]
     },
     "execution_count": 9,
     "metadata": {},
     "output_type": "execute_result"
    }
   ],
   "source": [
    "x"
   ]
  },
  {
   "cell_type": "code",
   "execution_count": 10,
   "id": "4be39467",
   "metadata": {},
   "outputs": [],
   "source": [
    "l = [2,1,3,5,2,7,6,8,10]\n",
    "x = list(filter(lambda num:(num%2!=0),l))"
   ]
  },
  {
   "cell_type": "code",
   "execution_count": 11,
   "id": "4ca0665b",
   "metadata": {},
   "outputs": [
    {
     "data": {
      "text/plain": [
       "[1, 3, 5, 7]"
      ]
     },
     "execution_count": 11,
     "metadata": {},
     "output_type": "execute_result"
    }
   ],
   "source": [
    "x"
   ]
  },
  {
   "cell_type": "code",
   "execution_count": 16,
   "id": "b49088e1",
   "metadata": {},
   "outputs": [],
   "source": [
    "l = lambda x:\"yes\" if x%2==0 else \"no\""
   ]
  },
  {
   "cell_type": "code",
   "execution_count": 19,
   "id": "51bf24bf",
   "metadata": {},
   "outputs": [
    {
     "data": {
      "text/plain": [
       "'yes'"
      ]
     },
     "execution_count": 19,
     "metadata": {},
     "output_type": "execute_result"
    }
   ],
   "source": [
    "l(10)"
   ]
  },
  {
   "cell_type": "code",
   "execution_count": 21,
   "id": "3ede1cae",
   "metadata": {},
   "outputs": [],
   "source": [
    "# map()\n",
    "\n",
    "l = [10,20,30,40,50,100]\n",
    "x = list(map(lambda x:x*2,l))"
   ]
  },
  {
   "cell_type": "code",
   "execution_count": 22,
   "id": "e8e0eec1",
   "metadata": {},
   "outputs": [
    {
     "data": {
      "text/plain": [
       "[20, 40, 60, 80, 100, 200]"
      ]
     },
     "execution_count": 22,
     "metadata": {},
     "output_type": "execute_result"
    }
   ],
   "source": [
    "x"
   ]
  },
  {
   "cell_type": "code",
   "execution_count": 35,
   "id": "207ccc42",
   "metadata": {},
   "outputs": [],
   "source": [
    "# filter()\n",
    "\n",
    "l1 = [10,20,30,40,50,100,9]\n",
    "x = list(filter(lambda i:(i%2!=0),l1))"
   ]
  },
  {
   "cell_type": "code",
   "execution_count": 36,
   "id": "c5da90ea",
   "metadata": {},
   "outputs": [
    {
     "data": {
      "text/plain": [
       "[9]"
      ]
     },
     "execution_count": 36,
     "metadata": {},
     "output_type": "execute_result"
    }
   ],
   "source": [
    "x"
   ]
  },
  {
   "cell_type": "code",
   "execution_count": 33,
   "id": "ad4355f2",
   "metadata": {},
   "outputs": [],
   "source": []
  },
  {
   "cell_type": "code",
   "execution_count": null,
   "id": "86234683",
   "metadata": {},
   "outputs": [],
   "source": []
  },
  {
   "cell_type": "code",
   "execution_count": null,
   "id": "644c199c",
   "metadata": {},
   "outputs": [],
   "source": []
  }
 ],
 "metadata": {
  "kernelspec": {
   "display_name": "Python 3 (ipykernel)",
   "language": "python",
   "name": "python3"
  },
  "language_info": {
   "codemirror_mode": {
    "name": "ipython",
    "version": 3
   },
   "file_extension": ".py",
   "mimetype": "text/x-python",
   "name": "python",
   "nbconvert_exporter": "python",
   "pygments_lexer": "ipython3",
   "version": "3.11.4"
  }
 },
 "nbformat": 4,
 "nbformat_minor": 5
}
