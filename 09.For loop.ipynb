{
 "cells": [
  {
   "cell_type": "code",
   "execution_count": 1,
   "id": "13170485",
   "metadata": {},
   "outputs": [
    {
     "name": "stdout",
     "output_type": "stream",
     "text": [
      "apple\n",
      "mango\n",
      "orange\n"
     ]
    }
   ],
   "source": [
    "# iterating list elements through for loop\n",
    "\n",
    "fruits = [\"apple\",\"mango\",\"orange\"]\n",
    "for i in fruits:\n",
    "    print(i)"
   ]
  },
  {
   "cell_type": "code",
   "execution_count": 2,
   "id": "1a6ac0fd",
   "metadata": {},
   "outputs": [
    {
     "name": "stdout",
     "output_type": "stream",
     "text": [
      "I\n",
      " \n",
      "a\n",
      "m\n",
      " \n",
      "H\n",
      "a\n",
      "r\n",
      "i\n",
      "p\n",
      "r\n",
      "i\n",
      "y\n",
      "a\n"
     ]
    }
   ],
   "source": [
    "# iterating string through for loop\n",
    "\n",
    "x = \"I am Haripriya\"\n",
    "for i in x:\n",
    "    print(i)"
   ]
  },
  {
   "cell_type": "code",
   "execution_count": 4,
   "id": "ef39e708",
   "metadata": {},
   "outputs": [
    {
     "name": "stdout",
     "output_type": "stream",
     "text": [
      "apple\n",
      "mango\n",
      "orange\n",
      "grapes\n"
     ]
    }
   ],
   "source": [
    "# iterating each element from tuple using for loop\n",
    "\n",
    "fruits = (\"apple\",\"mango\",\"orange\",\"grapes\")\n",
    "for i in fruits:\n",
    "    print(i)"
   ]
  },
  {
   "cell_type": "code",
   "execution_count": 5,
   "id": "40ef8f70",
   "metadata": {},
   "outputs": [
    {
     "name": "stdout",
     "output_type": "stream",
     "text": [
      "apple 50\n",
      "mango 30\n",
      "grapes 40\n",
      "orange 20\n"
     ]
    }
   ],
   "source": [
    "# iterating each element from dictionary using for loop\n",
    "\n",
    "d = {\"apple\":50,\"mango\":30,\"grapes\":40,\"orange\":20}\n",
    "for i in d:\n",
    "    print(i,d[i])   # key and value"
   ]
  },
  {
   "cell_type": "code",
   "execution_count": 16,
   "id": "807646af",
   "metadata": {},
   "outputs": [
    {
     "name": "stdout",
     "output_type": "stream",
     "text": [
      "10 100\n",
      "20 200\n",
      "30 300\n"
     ]
    }
   ],
   "source": [
    "x = {10:100,20:200,30:300}\n",
    "for i in x:\n",
    "    print(i,x[i])"
   ]
  },
  {
   "cell_type": "code",
   "execution_count": 6,
   "id": "cbc0986b",
   "metadata": {},
   "outputs": [
    {
     "name": "stdout",
     "output_type": "stream",
     "text": [
      "1\n",
      "2\n",
      "4\n",
      "6\n",
      "7\n",
      "9\n"
     ]
    }
   ],
   "source": [
    "# iterating each element from set using for loop\n",
    "\n",
    "s = {1,1,4,2,1,6,2,7,4,9}\n",
    "for i in s:\n",
    "    print(i)"
   ]
  },
  {
   "cell_type": "code",
   "execution_count": 7,
   "id": "8aa73703",
   "metadata": {},
   "outputs": [
    {
     "name": "stdout",
     "output_type": "stream",
     "text": [
      "The language is:  English\n",
      "The language is:  Tamil\n",
      "The language is:  spanish\n",
      "The language is:  french\n"
     ]
    }
   ],
   "source": [
    "languages = [\"English\",\"Tamil\",\"spanish\",\"french\"]\n",
    "for i in languages:\n",
    "    print(\"The language is: \",i)"
   ]
  },
  {
   "cell_type": "code",
   "execution_count": 21,
   "id": "e6798c31",
   "metadata": {},
   "outputs": [
    {
     "name": "stdout",
     "output_type": "stream",
     "text": [
      "1\n",
      "2\n",
      "3\n",
      "4\n",
      "5\n"
     ]
    }
   ],
   "source": [
    "for i in (1,2,3,4,5):\n",
    "    print(i)"
   ]
  },
  {
   "cell_type": "code",
   "execution_count": 8,
   "id": "d51d0a25",
   "metadata": {},
   "outputs": [
    {
     "name": "stdout",
     "output_type": "stream",
     "text": [
      "[1, 4, 9, 16, 25, 36, 49, 64, 81, 100]\n"
     ]
    }
   ],
   "source": [
    "# creating a list which contains squares of numbers using for loop\n",
    "\n",
    "l = [1,2,3,4,5,6,7,8,9,10]\n",
    "l1 = []\n",
    "\n",
    "for i in l:\n",
    "    l1.append(i**2)\n",
    "print(l1)"
   ]
  },
  {
   "cell_type": "code",
   "execution_count": 13,
   "id": "a2ec7f33",
   "metadata": {},
   "outputs": [
    {
     "name": "stdout",
     "output_type": "stream",
     "text": [
      "{1: 1, 2: 4, 3: 9, 4: 16, 5: 25, 6: 36, 7: 49, 8: 64, 9: 81, 10: 100}\n"
     ]
    }
   ],
   "source": [
    "l = [1,2,3,4,5,6,7,8,9,10]\n",
    "d = {i : i**2 for i in l}\n",
    "print(d)"
   ]
  },
  {
   "cell_type": "code",
   "execution_count": 14,
   "id": "7c37228c",
   "metadata": {},
   "outputs": [
    {
     "name": "stdout",
     "output_type": "stream",
     "text": [
      "{1: 1, 2: 4, 3: 9, 4: 16, 5: 25, 6: 36, 7: 49, 8: 64, 9: 81, 10: 100}\n"
     ]
    }
   ],
   "source": [
    "l = [1,2,3,4,5,6,7,8,9,10]\n",
    "d = {}\n",
    "\n",
    "for i in l:\n",
    "    d[i] = i ** 2\n",
    "print(d)"
   ]
  },
  {
   "cell_type": "code",
   "execution_count": 71,
   "id": "3294e5b5",
   "metadata": {},
   "outputs": [
    {
     "name": "stdout",
     "output_type": "stream",
     "text": [
      "(0, 'H')\n",
      "(1, 'a')\n",
      "(2, 'r')\n",
      "(3, 'i')\n",
      "(4, 'p')\n",
      "(5, 'r')\n",
      "(6, 'i')\n",
      "(7, 'y')\n",
      "(8, 'a')\n"
     ]
    }
   ],
   "source": [
    "l = \"Haripriya\"\n",
    "for i in enumerate(l):\n",
    "    print(i)"
   ]
  },
  {
   "cell_type": "markdown",
   "id": "04f99843",
   "metadata": {},
   "source": [
    "### Iterables\n",
    "```\n",
    "In Python, iterable means an object can be used in iteration. The term is used as:\n",
    "\n",
    "An adjective: An object may be described as iterable.\n",
    "A noun: An object may be characterized as an iterable.\n",
    "If an object is iterable,it can be passed to the built-in Python function iter(),\n",
    "which returns something called an iterator\n",
    "```"
   ]
  },
  {
   "cell_type": "code",
   "execution_count": 18,
   "id": "9031e8cb",
   "metadata": {},
   "outputs": [
    {
     "name": "stdout",
     "output_type": "stream",
     "text": [
      "<str_ascii_iterator object at 0x00000187E9420280>\n",
      "<tuple_iterator object at 0x00000187E9422B90>\n",
      "<list_iterator object at 0x00000187E9422890>\n",
      "<dict_keyiterator object at 0x00000187E96567A0>\n",
      "<set_iterator object at 0x00000187E9433800>\n"
     ]
    }
   ],
   "source": [
    "print(iter(\"haripriya\"))      # string\n",
    "print(iter((10,20,30,40,50))) # tuple\n",
    "print(iter([100,200,300,400,500])) #list\n",
    "print(iter({1:10,2:20,3:30}))      # dicitionary\n",
    "print(iter({1000,2000,3000,1000})) # set"
   ]
  },
  {
   "cell_type": "code",
   "execution_count": 20,
   "id": "7b6f6312",
   "metadata": {},
   "outputs": [
    {
     "ename": "TypeError",
     "evalue": "'int' object is not iterable",
     "output_type": "error",
     "traceback": [
      "\u001b[1;31m---------------------------------------------------------------------------\u001b[0m",
      "\u001b[1;31mTypeError\u001b[0m                                 Traceback (most recent call last)",
      "Cell \u001b[1;32mIn[20], line 3\u001b[0m\n\u001b[0;32m      1\u001b[0m \u001b[38;5;66;03m# types which cant be iterated\u001b[39;00m\n\u001b[1;32m----> 3\u001b[0m \u001b[38;5;28mprint\u001b[39m(\u001b[38;5;28miter\u001b[39m(\u001b[38;5;241m42\u001b[39m))\n",
      "\u001b[1;31mTypeError\u001b[0m: 'int' object is not iterable"
     ]
    }
   ],
   "source": [
    "# types which cant be iterated\n",
    "\n",
    "print(iter(42))  # integer"
   ]
  },
  {
   "cell_type": "code",
   "execution_count": 21,
   "id": "e79f1f47",
   "metadata": {},
   "outputs": [
    {
     "ename": "TypeError",
     "evalue": "'float' object is not iterable",
     "output_type": "error",
     "traceback": [
      "\u001b[1;31m---------------------------------------------------------------------------\u001b[0m",
      "\u001b[1;31mTypeError\u001b[0m                                 Traceback (most recent call last)",
      "Cell \u001b[1;32mIn[21], line 1\u001b[0m\n\u001b[1;32m----> 1\u001b[0m \u001b[38;5;28mprint\u001b[39m(\u001b[38;5;28miter\u001b[39m(\u001b[38;5;241m3.12\u001b[39m))\n",
      "\u001b[1;31mTypeError\u001b[0m: 'float' object is not iterable"
     ]
    }
   ],
   "source": [
    "print(iter(3.12))  # float"
   ]
  },
  {
   "cell_type": "code",
   "execution_count": 22,
   "id": "892a31a5",
   "metadata": {},
   "outputs": [
    {
     "ename": "TypeError",
     "evalue": "'builtin_function_or_method' object is not iterable",
     "output_type": "error",
     "traceback": [
      "\u001b[1;31m---------------------------------------------------------------------------\u001b[0m",
      "\u001b[1;31mTypeError\u001b[0m                                 Traceback (most recent call last)",
      "Cell \u001b[1;32mIn[22], line 1\u001b[0m\n\u001b[1;32m----> 1\u001b[0m \u001b[38;5;28mprint\u001b[39m(\u001b[38;5;28miter\u001b[39m(\u001b[38;5;28mlen\u001b[39m))\n",
      "\u001b[1;31mTypeError\u001b[0m: 'builtin_function_or_method' object is not iterable"
     ]
    }
   ],
   "source": [
    "print(iter(len)) # since it is a inbuild fucntion,cant be iterated"
   ]
  },
  {
   "cell_type": "markdown",
   "id": "6436a590",
   "metadata": {},
   "source": [
    "### Iterator\n",
    "```\n",
    "An iterator is essentially a value producer that yields successive values from its \n",
    "associated iterable object. \n",
    "The built-in function next() is used to obtain the next value from in iterator.\n",
    "\n",
    "```"
   ]
  },
  {
   "cell_type": "code",
   "execution_count": 24,
   "id": "388d4c48",
   "metadata": {},
   "outputs": [
    {
     "name": "stdout",
     "output_type": "stream",
     "text": [
      "<list_iterator object at 0x00000187E931DFF0>\n"
     ]
    }
   ],
   "source": [
    "# we can use next() only if it is iterable\n",
    "\n",
    "l = [1,2,3,4,5]\n",
    "l1 = iter(l)          # now it is iterable we can use next()\n",
    "print(l1)"
   ]
  },
  {
   "cell_type": "code",
   "execution_count": 25,
   "id": "69409a57",
   "metadata": {},
   "outputs": [
    {
     "data": {
      "text/plain": [
       "1"
      ]
     },
     "execution_count": 25,
     "metadata": {},
     "output_type": "execute_result"
    }
   ],
   "source": [
    "next(l1)"
   ]
  },
  {
   "cell_type": "code",
   "execution_count": 27,
   "id": "7182a1bb",
   "metadata": {},
   "outputs": [
    {
     "data": {
      "text/plain": [
       "2"
      ]
     },
     "execution_count": 27,
     "metadata": {},
     "output_type": "execute_result"
    }
   ],
   "source": [
    "next(l1)"
   ]
  },
  {
   "cell_type": "code",
   "execution_count": 28,
   "id": "f9a32960",
   "metadata": {},
   "outputs": [
    {
     "data": {
      "text/plain": [
       "3"
      ]
     },
     "execution_count": 28,
     "metadata": {},
     "output_type": "execute_result"
    }
   ],
   "source": [
    "next(l1)"
   ]
  },
  {
   "cell_type": "code",
   "execution_count": 29,
   "id": "4ed735dc",
   "metadata": {},
   "outputs": [
    {
     "data": {
      "text/plain": [
       "4"
      ]
     },
     "execution_count": 29,
     "metadata": {},
     "output_type": "execute_result"
    }
   ],
   "source": [
    "next(l1)"
   ]
  },
  {
   "cell_type": "code",
   "execution_count": 30,
   "id": "a7b16d88",
   "metadata": {},
   "outputs": [
    {
     "data": {
      "text/plain": [
       "5"
      ]
     },
     "execution_count": 30,
     "metadata": {},
     "output_type": "execute_result"
    }
   ],
   "source": [
    "next(l1)"
   ]
  },
  {
   "cell_type": "code",
   "execution_count": 32,
   "id": "e43309b7",
   "metadata": {},
   "outputs": [
    {
     "ename": "StopIteration",
     "evalue": "",
     "output_type": "error",
     "traceback": [
      "\u001b[1;31m---------------------------------------------------------------------------\u001b[0m",
      "\u001b[1;31mStopIteration\u001b[0m                             Traceback (most recent call last)",
      "Cell \u001b[1;32mIn[32], line 1\u001b[0m\n\u001b[1;32m----> 1\u001b[0m \u001b[38;5;28mnext\u001b[39m(l1)\n",
      "\u001b[1;31mStopIteration\u001b[0m: "
     ]
    }
   ],
   "source": [
    "next(l1)   # no elements after 5"
   ]
  },
  {
   "cell_type": "code",
   "execution_count": 33,
   "id": "140e0334",
   "metadata": {},
   "outputs": [
    {
     "ename": "TypeError",
     "evalue": "'int' object is not iterable",
     "output_type": "error",
     "traceback": [
      "\u001b[1;31m---------------------------------------------------------------------------\u001b[0m",
      "\u001b[1;31mTypeError\u001b[0m                                 Traceback (most recent call last)",
      "Cell \u001b[1;32mIn[33], line 4\u001b[0m\n\u001b[0;32m      1\u001b[0m \u001b[38;5;66;03m# suppose if it is integer ,it is not iterable u cant either use next() or iter()\u001b[39;00m\n\u001b[0;32m      3\u001b[0m a \u001b[38;5;241m=\u001b[39m \u001b[38;5;241m42\u001b[39m\n\u001b[1;32m----> 4\u001b[0m a1 \u001b[38;5;241m=\u001b[39m \u001b[38;5;28miter\u001b[39m(a)\n\u001b[0;32m      5\u001b[0m \u001b[38;5;28mprint\u001b[39m(a1)\n",
      "\u001b[1;31mTypeError\u001b[0m: 'int' object is not iterable"
     ]
    }
   ],
   "source": [
    "# suppose if it is integer ,it is not iterable u cant either use next() or iter()\n",
    "\n",
    "a = 42\n",
    "a1 = iter(a)\n",
    "print(a1)"
   ]
  },
  {
   "cell_type": "code",
   "execution_count": 34,
   "id": "d50cb656",
   "metadata": {},
   "outputs": [
    {
     "ename": "NameError",
     "evalue": "name 'a1' is not defined",
     "output_type": "error",
     "traceback": [
      "\u001b[1;31m---------------------------------------------------------------------------\u001b[0m",
      "\u001b[1;31mNameError\u001b[0m                                 Traceback (most recent call last)",
      "Cell \u001b[1;32mIn[34], line 1\u001b[0m\n\u001b[1;32m----> 1\u001b[0m \u001b[38;5;28mnext\u001b[39m(a1)\n",
      "\u001b[1;31mNameError\u001b[0m: name 'a1' is not defined"
     ]
    }
   ],
   "source": [
    "next(a1)"
   ]
  },
  {
   "cell_type": "code",
   "execution_count": 3,
   "id": "c24a23f3",
   "metadata": {},
   "outputs": [
    {
     "name": "stdout",
     "output_type": "stream",
     "text": [
      "20 40 60 80 100 "
     ]
    }
   ],
   "source": [
    "# end\n",
    "a = [10,20,30,40,50]\n",
    "for i in a:\n",
    "    print(i * 2,end=\" \")"
   ]
  },
  {
   "cell_type": "code",
   "execution_count": 4,
   "id": "2dd421b1",
   "metadata": {},
   "outputs": [
    {
     "name": "stdout",
     "output_type": "stream",
     "text": [
      "10 <class 'int'>\n",
      "10.4 <class 'float'>\n",
      "Haripriya <class 'str'>\n",
      "(3+7j) <class 'complex'>\n",
      "True <class 'bool'>\n"
     ]
    }
   ],
   "source": [
    "a = [10,10.40,\"Haripriya\",3+7j,True]\n",
    "for i in a:\n",
    "    print(i,type(i))"
   ]
  },
  {
   "cell_type": "code",
   "execution_count": 5,
   "id": "00e6e64d",
   "metadata": {},
   "outputs": [
    {
     "name": "stdout",
     "output_type": "stream",
     "text": [
      "[100, 200, 300, 400, 500]\n"
     ]
    }
   ],
   "source": [
    "x = [10,20,30,40,50]\n",
    "y = []\n",
    "\n",
    "for i in x:\n",
    "    y.append(i*10)\n",
    "print(y)"
   ]
  },
  {
   "cell_type": "code",
   "execution_count": 6,
   "id": "0ae7da8f",
   "metadata": {},
   "outputs": [
    {
     "name": "stdout",
     "output_type": "stream",
     "text": [
      "10\n",
      "20\n",
      "30\n",
      "100\n",
      "200\n",
      "300\n"
     ]
    }
   ],
   "source": [
    "l = [10,20,30,[100,200,300],\"Haripriya\",3+4j]\n",
    "\n",
    "for i in l:\n",
    "    if type(i) == int:\n",
    "        print(i)\n",
    "    elif type(i) == list:\n",
    "        for j in i:\n",
    "            if type(j) == int:\n",
    "                print(j)"
   ]
  },
  {
   "cell_type": "code",
   "execution_count": 8,
   "id": "92500b50",
   "metadata": {},
   "outputs": [
    {
     "name": "stdout",
     "output_type": "stream",
     "text": [
      "a\n",
      "b\n",
      "c\n"
     ]
    }
   ],
   "source": [
    "# to get only keys or values from dictionary\n",
    "\n",
    "d1 = {\"a\":1000,\"b\":2000,\"c\":3000}\n",
    "\n",
    "for i in d1.keys():\n",
    "    print(i)"
   ]
  },
  {
   "cell_type": "code",
   "execution_count": 9,
   "id": "16784215",
   "metadata": {},
   "outputs": [
    {
     "name": "stdout",
     "output_type": "stream",
     "text": [
      "1000\n",
      "2000\n",
      "3000\n"
     ]
    }
   ],
   "source": [
    "for j in d1.values():\n",
    "    print(j)"
   ]
  },
  {
   "cell_type": "code",
   "execution_count": 10,
   "id": "f2e9c5a9",
   "metadata": {},
   "outputs": [
    {
     "name": "stdout",
     "output_type": "stream",
     "text": [
      "('a', 1000)\n",
      "('b', 2000)\n",
      "('c', 3000)\n"
     ]
    }
   ],
   "source": [
    "for k in d1.items():\n",
    "    print(k)"
   ]
  },
  {
   "cell_type": "code",
   "execution_count": 40,
   "id": "63ad9811",
   "metadata": {},
   "outputs": [
    {
     "name": "stdout",
     "output_type": "stream",
     "text": [
      "['.c', '.cpp', '.py', '.js', '.php']\n"
     ]
    }
   ],
   "source": [
    "l1 = [\"C\",\"C++\",\"Python\",\"Javascript\",\"PHP\"]\n",
    "l2 = []\n",
    "\n",
    "for i in l1:\n",
    "    if i == \"C\":\n",
    "        l2.append(\".c\")\n",
    "    elif i == \"C++\":\n",
    "        l2.append(\".cpp\")\n",
    "    elif i == \"Python\":\n",
    "        l2.append(\".py\")\n",
    "    elif i == \"Javascript\":\n",
    "        l2.append(\".js\")\n",
    "    else:\n",
    "        l2.append(\".php\")\n",
    "print(l2)"
   ]
  },
  {
   "cell_type": "markdown",
   "id": "1667f58e",
   "metadata": {},
   "source": [
    "### Range() function\n",
    "```\n",
    "The range() function returns a sequence of numbers,starting from 0 \n",
    "by default,and increments by 1 (by default),and ends at a specified number.\n",
    "```"
   ]
  },
  {
   "cell_type": "code",
   "execution_count": 1,
   "id": "f596b421",
   "metadata": {},
   "outputs": [
    {
     "name": "stdout",
     "output_type": "stream",
     "text": [
      "range(0, 9)\n"
     ]
    }
   ],
   "source": [
    "print(range(0,9))"
   ]
  },
  {
   "cell_type": "code",
   "execution_count": 2,
   "id": "7f931494",
   "metadata": {},
   "outputs": [
    {
     "data": {
      "text/plain": [
       "[0, 1, 2, 3, 4]"
      ]
     },
     "execution_count": 2,
     "metadata": {},
     "output_type": "execute_result"
    }
   ],
   "source": [
    "list(range(0,5))"
   ]
  },
  {
   "cell_type": "code",
   "execution_count": 11,
   "id": "92cdb3d1",
   "metadata": {},
   "outputs": [
    {
     "name": "stdout",
     "output_type": "stream",
     "text": [
      "0\n",
      "1\n",
      "2\n",
      "3\n",
      "4\n",
      "5\n"
     ]
    }
   ],
   "source": [
    "for i in range(0,6):\n",
    "    print(i)"
   ]
  },
  {
   "cell_type": "code",
   "execution_count": 13,
   "id": "1ede4054",
   "metadata": {},
   "outputs": [
    {
     "name": "stdout",
     "output_type": "stream",
     "text": [
      "1 2 3 4 5 6 7 8 9 10 "
     ]
    }
   ],
   "source": [
    "for i in range(1,11):\n",
    "    print(i,end=\" \")"
   ]
  },
  {
   "cell_type": "code",
   "execution_count": 14,
   "id": "92071725",
   "metadata": {},
   "outputs": [
    {
     "name": "stdout",
     "output_type": "stream",
     "text": [
      "0 2 4 6 8 10 12 14 16 18 20 "
     ]
    }
   ],
   "source": [
    "for i in range(0,21,2):    # 0 is the starting,21 is the ending and 2 is jump\n",
    "    print(i,end=\" \")"
   ]
  },
  {
   "cell_type": "code",
   "execution_count": 16,
   "id": "86482f32",
   "metadata": {},
   "outputs": [
    {
     "name": "stdout",
     "output_type": "stream",
     "text": [
      "Enter number: 30\n",
      "0 1 2 3 4 5 6 7 8 9 10 11 12 13 14 15 16 17 18 19 20 21 22 23 24 25 26 27 28 29 "
     ]
    }
   ],
   "source": [
    "number = int(input(\"Enter number: \"))\n",
    "for i in range(number):\n",
    "    print(i,end=\" \")"
   ]
  },
  {
   "cell_type": "code",
   "execution_count": 17,
   "id": "4ca5a395",
   "metadata": {},
   "outputs": [
    {
     "name": "stdout",
     "output_type": "stream",
     "text": [
      "1 1\n",
      "1 2\n",
      "1 3\n",
      "2 1\n",
      "2 2\n",
      "2 3\n",
      "3 1\n",
      "3 2\n",
      "3 3\n"
     ]
    }
   ],
   "source": [
    "for i in range(1,4):\n",
    "    for j in range(1,4):\n",
    "        print(i,j)"
   ]
  },
  {
   "cell_type": "code",
   "execution_count": 4,
   "id": "e5666214",
   "metadata": {},
   "outputs": [
    {
     "name": "stdout",
     "output_type": "stream",
     "text": [
      "0 10\n",
      "1 20\n",
      "2 30\n",
      "3 40\n",
      "4 50\n",
      "5 60\n"
     ]
    }
   ],
   "source": [
    "l = [10,20,30,40,50,60]\n",
    "for i in range(len(l)):\n",
    "    print(i,l[i])"
   ]
  },
  {
   "cell_type": "code",
   "execution_count": 19,
   "id": "e184be29",
   "metadata": {},
   "outputs": [
    {
     "name": "stdout",
     "output_type": "stream",
     "text": [
      "apple is red\n",
      "mango is yellow\n",
      "orange is orange\n",
      "grapes is violet\n"
     ]
    }
   ],
   "source": [
    "# the zip() function to iterate over two lists (fruits and colors) in parallel\n",
    "\n",
    "fruits = [\"apple\",\"mango\",\"orange\",\"grapes\"]\n",
    "colors = [\"red\",\"yellow\",\"orange\",\"violet\"]\n",
    "\n",
    "for i,j in zip(fruits,colors):\n",
    "    print(i,\"is\",j)"
   ]
  },
  {
   "cell_type": "code",
   "execution_count": 20,
   "id": "7c806c8d",
   "metadata": {},
   "outputs": [
    {
     "name": "stdout",
     "output_type": "stream",
     "text": [
      "0 apple\n",
      "1 mango\n",
      "2 orange\n",
      "3 grapes\n"
     ]
    }
   ],
   "source": [
    "fruits = [\"apple\",\"mango\",\"orange\",\"grapes\"]\n",
    "\n",
    "for i in range(len(fruits)):\n",
    "    print(i,fruits[i])"
   ]
  },
  {
   "cell_type": "code",
   "execution_count": 23,
   "id": "b9ac3a0b",
   "metadata": {},
   "outputs": [
    {
     "name": "stdout",
     "output_type": "stream",
     "text": [
      "-5 -4 -3 -2 -1 0 1 2 3 4 "
     ]
    }
   ],
   "source": [
    "for i in range(-5,5):\n",
    "    print(i,end=\" \")"
   ]
  },
  {
   "cell_type": "code",
   "execution_count": 28,
   "id": "d692b42e",
   "metadata": {},
   "outputs": [
    {
     "name": "stdout",
     "output_type": "stream",
     "text": [
      "5 4 3 2 1 0 -1 -2 -3 -4 "
     ]
    }
   ],
   "source": [
    "for i in range(5,-5,-1):\n",
    "    print(i,end=\" \")"
   ]
  },
  {
   "cell_type": "code",
   "execution_count": 51,
   "id": "45eab516",
   "metadata": {},
   "outputs": [
    {
     "name": "stdout",
     "output_type": "stream",
     "text": [
      "enter number: 10\n",
      "enter number: 5\n",
      "10*1 =  10 , 5 * 1 =  5\n",
      "10*2 =  20 , 5 * 2 =  10\n",
      "10*3 =  30 , 5 * 3 =  15\n",
      "10*4 =  40 , 5 * 4 =  20\n",
      "10*5 =  50 , 5 * 5 =  25\n",
      "10*6 =  60 , 5 * 6 =  30\n",
      "10*7 =  70 , 5 * 7 =  35\n",
      "10*8 =  80 , 5 * 8 =  40\n",
      "10*9 =  90 , 5 * 9 =  45\n",
      "10*10 =  100 , 5 * 10 =  50\n"
     ]
    }
   ],
   "source": [
    "num1 = int(input(\"enter number: \"))\n",
    "num2 = int(input(\"enter number: \"))\n",
    "\n",
    "for i in range(1,11):\n",
    "    print(f\"{num1}*{i} = \",num1 * i,\",\",f\"{num2} * {i} = \",num2 * i)"
   ]
  },
  {
   "cell_type": "code",
   "execution_count": 4,
   "id": "bd5e1875",
   "metadata": {},
   "outputs": [
    {
     "name": "stdout",
     "output_type": "stream",
     "text": [
      "0 * 10 =  0\n",
      "1 * 10 =  10\n",
      "2 * 10 =  20\n",
      "3 * 10 =  30\n",
      "4 * 10 =  40\n",
      "5 * 10 =  50\n",
      "6 * 10 =  60\n",
      "7 * 10 =  70\n",
      "8 * 10 =  80\n",
      "9 * 10 =  90\n",
      "10 * 10 =  100\n"
     ]
    }
   ],
   "source": [
    "for i in range(0,11):\n",
    "    print(f\"{i} * 10 = \",i * 10)"
   ]
  },
  {
   "cell_type": "code",
   "execution_count": 50,
   "id": "5d84716f",
   "metadata": {},
   "outputs": [
    {
     "name": "stdout",
     "output_type": "stream",
     "text": [
      "enter number: 10\n",
      "enter number: 5\n",
      "10 * 1 = 10 , 5 * 1 = 5\n",
      "10 * 2 = 20 , 5 * 2 = 10\n",
      "10 * 3 = 30 , 5 * 3 = 15\n",
      "10 * 4 = 40 , 5 * 4 = 20\n",
      "10 * 5 = 50 , 5 * 5 = 25\n",
      "10 * 6 = 60 , 5 * 6 = 30\n",
      "10 * 7 = 70 , 5 * 7 = 35\n",
      "10 * 8 = 80 , 5 * 8 = 40\n",
      "10 * 9 = 90 , 5 * 9 = 45\n",
      "10 * 10 = 100 , 5 * 10 = 50\n"
     ]
    }
   ],
   "source": [
    "num1 = int(input(\"enter number: \"))\n",
    "num2 = int(input(\"enter number: \"))\n",
    "\n",
    "for i in range(1,11):\n",
    "    print('%d * %d = %d'%(num1,i,num1*i),\",\",'%d * %d = %d'%(num2,i,num2 * i))"
   ]
  },
  {
   "cell_type": "markdown",
   "id": "cc63c5ea",
   "metadata": {},
   "source": [
    "### Pass\n",
    "```\n",
    "for loops cannot be empty,but if you for some reason have a \n",
    "for loop with no content,put in the pass statement to avoid getting an error.\n",
    "\n",
    "The pass statement to write empty loops. \n",
    "Pass is also used for empty control statements, functions, and classes.\n",
    "```"
   ]
  },
  {
   "cell_type": "code",
   "execution_count": 32,
   "id": "c79388ef",
   "metadata": {},
   "outputs": [],
   "source": [
    "s = [1,4,32,6,7]\n",
    "for i in s:\n",
    "    pass"
   ]
  },
  {
   "cell_type": "code",
   "execution_count": 35,
   "id": "1f0a81e6",
   "metadata": {},
   "outputs": [
    {
     "name": "stdout",
     "output_type": "stream",
     "text": [
      "G\n",
      "e\n",
      "e\n",
      "k\n",
      "s\n",
      "f\n",
      "o\n",
      "r\n",
      "g\n",
      "e\n",
      "e\n",
      "k\n",
      "s\n"
     ]
    }
   ],
   "source": [
    "c = \"Geeksforgeeks\" # when you do like this,it will print all elements not print the last one alone and we cant do empty in for loop\n",
    "for i in c:\n",
    "    print(i)"
   ]
  },
  {
   "cell_type": "code",
   "execution_count": 37,
   "id": "ce86f387",
   "metadata": {},
   "outputs": [
    {
     "ename": "IndentationError",
     "evalue": "expected an indented block after 'for' statement on line 2 (347176235.py, line 3)",
     "output_type": "error",
     "traceback": [
      "\u001b[1;36m  Cell \u001b[1;32mIn[37], line 3\u001b[1;36m\u001b[0m\n\u001b[1;33m    print(i)\u001b[0m\n\u001b[1;37m    ^\u001b[0m\n\u001b[1;31mIndentationError\u001b[0m\u001b[1;31m:\u001b[0m expected an indented block after 'for' statement on line 2\n"
     ]
    }
   ],
   "source": [
    "c = \"Geeksforgeeks\"\n",
    "for i in c:\n",
    "print(i)"
   ]
  },
  {
   "cell_type": "code",
   "execution_count": 36,
   "id": "ecfc9a6c",
   "metadata": {},
   "outputs": [
    {
     "name": "stdout",
     "output_type": "stream",
     "text": [
      "s\n"
     ]
    }
   ],
   "source": [
    "c = \"Geeksforgeeks\"\n",
    "for i in c:\n",
    "    pass\n",
    "print(i)        # this will print the last letter alone without any error"
   ]
  },
  {
   "cell_type": "code",
   "execution_count": 38,
   "id": "c11d34e3",
   "metadata": {},
   "outputs": [
    {
     "name": "stdout",
     "output_type": "stream",
     "text": [
      "this is how pass works,  python\n",
      "this is how pass works,  java\n",
      "this is how pass works,  html\n"
     ]
    }
   ],
   "source": [
    "list1 = [\"python\",\"pass\",\"java\",\"html\"]\n",
    "for i in list1:\n",
    "    if i == \"pass\":                     # it passess that part alone \n",
    "        pass\n",
    "    else:\n",
    "        print(\"this is how pass works, \",i)"
   ]
  },
  {
   "cell_type": "code",
   "execution_count": 39,
   "id": "3365edb9",
   "metadata": {},
   "outputs": [],
   "source": [
    "def passs(a):\n",
    "    pass                # can be in functions,classes,loops and control statements"
   ]
  },
  {
   "cell_type": "code",
   "execution_count": 56,
   "id": "b31dea75",
   "metadata": {},
   "outputs": [
    {
     "name": "stdout",
     "output_type": "stream",
     "text": [
      "p\n",
      "y\n",
      "t\n",
      "this is pass block\n",
      "h\n",
      "o\n",
      "n\n"
     ]
    }
   ],
   "source": [
    "s = \"python\"\n",
    "\n",
    "for i in s:\n",
    "    if i == \"h\":\n",
    "        pass\n",
    "        print(\"this is pass block\")\n",
    "    print(i)"
   ]
  },
  {
   "cell_type": "markdown",
   "id": "a5b51af0",
   "metadata": {},
   "source": [
    "### Continue\n",
    "```\n",
    "With the continue statement we can stop the current iteration of the loop, \n",
    "and continue with the next.\n",
    "\n",
    "\n",
    "Python continue keyword is used to skip the remaining statements of the \n",
    "current loop and go to the next iteration.\n",
    "In Python, loops repeat processes on their own in an efficient way.\n",
    "However, there might be occasions when we wish to leave the current loop entirely,\n",
    "skip iteration,or dismiss the condition controlling the loop.\n",
    "```"
   ]
  },
  {
   "cell_type": "code",
   "execution_count": 57,
   "id": "2f6bd007",
   "metadata": {},
   "outputs": [
    {
     "name": "stdout",
     "output_type": "stream",
     "text": [
      "Apple\n",
      "Mango\n"
     ]
    }
   ],
   "source": [
    "f = [\"Apple\",\"Banana\",\"Mango\"]\n",
    "\n",
    "for i in f:\n",
    "    if i == \"Banana\":       # it skips that part alone and continues next iteration\n",
    "        continue\n",
    "    print(i)"
   ]
  },
  {
   "cell_type": "code",
   "execution_count": 58,
   "id": "9a9d35a1",
   "metadata": {},
   "outputs": [
    {
     "name": "stdout",
     "output_type": "stream",
     "text": [
      "g\n",
      "k\n",
      "f\n",
      "o\n",
      "r\n",
      "g\n",
      "k\n"
     ]
    }
   ],
   "source": [
    "for i in \"geeksforgeeks\":\n",
    "    if i == \"e\" or i == \"s\":\n",
    "        continue\n",
    "    print(i)"
   ]
  },
  {
   "cell_type": "code",
   "execution_count": 60,
   "id": "59b03420",
   "metadata": {},
   "outputs": [
    {
     "name": "stdout",
     "output_type": "stream",
     "text": [
      "1\n",
      "2\n",
      "3\n",
      "4\n",
      "6\n",
      "7\n",
      "8\n",
      "9\n",
      "10\n"
     ]
    }
   ],
   "source": [
    "for i in range(1,11):\n",
    "    if i == 5:\n",
    "        continue\n",
    "    else:\n",
    "        print(i)"
   ]
  },
  {
   "cell_type": "code",
   "execution_count": 61,
   "id": "06c53413",
   "metadata": {},
   "outputs": [
    {
     "name": "stdout",
     "output_type": "stream",
     "text": [
      "1\n",
      "2\n",
      "4\n",
      "5\n",
      "5\n",
      "1\n",
      "7\n"
     ]
    }
   ],
   "source": [
    "li = [[1,2,3],[3,4,5],[5,1,7]]\n",
    "\n",
    "for i in li:\n",
    "    for j in i:\n",
    "        if j == 3:\n",
    "            continue\n",
    "        print(j)"
   ]
  },
  {
   "cell_type": "code",
   "execution_count": 62,
   "id": "044a79aa",
   "metadata": {},
   "outputs": [
    {
     "name": "stdout",
     "output_type": "stream",
     "text": [
      "P\n",
      "T\n",
      "H\n",
      "O\n",
      "N\n"
     ]
    }
   ],
   "source": [
    "letter = \"PYTHON\"\n",
    "\n",
    "for i in letter:\n",
    "    if i == \"Y\":\n",
    "        continue\n",
    "    print(i)"
   ]
  },
  {
   "cell_type": "markdown",
   "id": "f6c18b80",
   "metadata": {},
   "source": [
    "### Break \n",
    "```\n",
    "With the break statement we can stop the loop before it has looped through all the items\n",
    "```"
   ]
  },
  {
   "cell_type": "code",
   "execution_count": 63,
   "id": "ba408eb8",
   "metadata": {},
   "outputs": [
    {
     "name": "stdout",
     "output_type": "stream",
     "text": [
      "Apple\n"
     ]
    }
   ],
   "source": [
    "fruits = [\"Apple\",\"Mango\",\"Orange\"]\n",
    "for i in fruits:\n",
    "    if i == \"Mango\":\n",
    "        break\n",
    "    print(i)"
   ]
  },
  {
   "cell_type": "code",
   "execution_count": 64,
   "id": "e1ff3d9b",
   "metadata": {},
   "outputs": [
    {
     "name": "stdout",
     "output_type": "stream",
     "text": [
      "Apple\n",
      "Mango\n"
     ]
    }
   ],
   "source": [
    "fruits = [\"Apple\",\"Mango\",\"Orange\"]\n",
    "for i in fruits:\n",
    "    print(i)\n",
    "    if i == \"Mango\":\n",
    "        break"
   ]
  },
  {
   "cell_type": "code",
   "execution_count": 67,
   "id": "f654f8df",
   "metadata": {},
   "outputs": [
    {
     "name": "stdout",
     "output_type": "stream",
     "text": [
      "g\n"
     ]
    }
   ],
   "source": [
    "s = \"geeksforgeeks\"\n",
    "\n",
    "for i in s:\n",
    "    if i == \"e\" or i == \"s\":\n",
    "        break\n",
    "    print(i)"
   ]
  },
  {
   "cell_type": "code",
   "execution_count": 68,
   "id": "64026b05",
   "metadata": {},
   "outputs": [
    {
     "name": "stdout",
     "output_type": "stream",
     "text": [
      "1\n",
      "2\n",
      "3\n",
      "4\n",
      "5\n"
     ]
    }
   ],
   "source": [
    "for i in range(1,11):\n",
    "    if i == 6:\n",
    "        break\n",
    "    print(i)"
   ]
  },
  {
   "cell_type": "code",
   "execution_count": 69,
   "id": "0f660d01",
   "metadata": {},
   "outputs": [
    {
     "name": "stdout",
     "output_type": "stream",
     "text": [
      "6\n"
     ]
    }
   ],
   "source": [
    "for i in range(1,11):\n",
    "    if i == 6:\n",
    "        break\n",
    "print(i)"
   ]
  },
  {
   "cell_type": "code",
   "execution_count": 70,
   "id": "6355ac1c",
   "metadata": {},
   "outputs": [
    {
     "name": "stdout",
     "output_type": "stream",
     "text": [
      "1\n",
      "2\n",
      "3\n",
      "4\n",
      "5\n",
      "6\n"
     ]
    }
   ],
   "source": [
    "for i in range(1,11):\n",
    "    print(i)\n",
    "    if i == 6:\n",
    "        break"
   ]
  },
  {
   "cell_type": "code",
   "execution_count": 76,
   "id": "52a26f63",
   "metadata": {},
   "outputs": [
    {
     "name": "stdout",
     "output_type": "stream",
     "text": [
      "10\n",
      "20\n",
      "30\n"
     ]
    }
   ],
   "source": [
    "l = [10,20,30,40]\n",
    "l1 = 0\n",
    "for i in range(len(l)):\n",
    "    print(l[i])\n",
    "    if l[i] == 30:\n",
    "        break"
   ]
  },
  {
   "cell_type": "code",
   "execution_count": 78,
   "id": "ba62b143",
   "metadata": {},
   "outputs": [
    {
     "name": "stdout",
     "output_type": "stream",
     "text": [
      "10\n",
      "20\n"
     ]
    }
   ],
   "source": [
    "l = [10,20,30,40]\n",
    "l1 = 0\n",
    "for i in range(len(l)):\n",
    "    if l[i] == 30:\n",
    "        break\n",
    "    print(l[i])"
   ]
  },
  {
   "cell_type": "code",
   "execution_count": 4,
   "id": "1ca6158d",
   "metadata": {},
   "outputs": [
    {
     "name": "stdout",
     "output_type": "stream",
     "text": [
      "foo\n"
     ]
    }
   ],
   "source": [
    "x = [\"foo\",\"boo\",\"zoo\"]\n",
    "for i in x:\n",
    "    if \"b\" in i:\n",
    "        break\n",
    "    print(i) "
   ]
  },
  {
   "cell_type": "code",
   "execution_count": 9,
   "id": "8affea31",
   "metadata": {},
   "outputs": [
    {
     "name": "stdout",
     "output_type": "stream",
     "text": [
      "1\n",
      "2\n",
      "3\n",
      "4\n",
      "5\n",
      "6\n",
      "7\n",
      "8\n",
      "9\n",
      "10\n"
     ]
    }
   ],
   "source": [
    "for i in range(1,31):\n",
    "    if i == 10:\n",
    "        print(i)\n",
    "        break\n",
    "    print(i)"
   ]
  },
  {
   "cell_type": "markdown",
   "id": "1caa1d51",
   "metadata": {},
   "source": [
    "### for else\n",
    "```\n",
    "The else keyword in a for loop specifies a block of code to be executed when the loop is finished:\n",
    "\n",
    "The else block is executed only when the for loop is not terminated by a break statement.\n",
    "```"
   ]
  },
  {
   "cell_type": "code",
   "execution_count": 5,
   "id": "3912f168",
   "metadata": {},
   "outputs": [
    {
     "name": "stdout",
     "output_type": "stream",
     "text": [
      "0\n",
      "1\n",
      "2\n",
      "3\n",
      "4\n",
      "Loop successfully finished!\n"
     ]
    }
   ],
   "source": [
    "for i in range(0,5):\n",
    "    print(i)\n",
    "else:\n",
    "    print(\"Loop successfully finished!\")"
   ]
  },
  {
   "cell_type": "code",
   "execution_count": 6,
   "id": "0d7e519a",
   "metadata": {},
   "outputs": [
    {
     "name": "stdout",
     "output_type": "stream",
     "text": [
      "0\n",
      "1\n",
      "2\n"
     ]
    }
   ],
   "source": [
    "for i in range(0,5):\n",
    "    if i == 3:\n",
    "        break\n",
    "    print(i)\n",
    "else:\n",
    "    print(\"Loop successfully finished!\")"
   ]
  },
  {
   "cell_type": "code",
   "execution_count": 7,
   "id": "394ac088",
   "metadata": {},
   "outputs": [
    {
     "name": "stdout",
     "output_type": "stream",
     "text": [
      "abc\n",
      "def\n",
      "ghi\n",
      "loop finished!\n"
     ]
    }
   ],
   "source": [
    "l = [\"abc\",\"def\",\"ghi\"]\n",
    "\n",
    "for i in range(len(l)):\n",
    "    print(l[i])\n",
    "else:\n",
    "    print(\"loop finished!\")"
   ]
  },
  {
   "cell_type": "code",
   "execution_count": 10,
   "id": "8c4f1346",
   "metadata": {},
   "outputs": [
    {
     "name": "stdout",
     "output_type": "stream",
     "text": [
      "abc\n",
      "ghi\n",
      "loop finished!\n"
     ]
    }
   ],
   "source": [
    "l = [\"abc\",\"def\",\"ghi\"]\n",
    "\n",
    "for i in range(len(l)):\n",
    "    if l[i] == \"def\":\n",
    "        continue          # will be incomplete and will not come to else part only we used break\n",
    "    print(l[i])\n",
    "else:\n",
    "    print(\"loop finished!\")"
   ]
  },
  {
   "cell_type": "code",
   "execution_count": 11,
   "id": "002155f4",
   "metadata": {},
   "outputs": [
    {
     "name": "stdout",
     "output_type": "stream",
     "text": [
      "0\n",
      "1\n",
      "2\n",
      "3\n",
      "4\n",
      "5\n",
      "6\n",
      "7\n",
      "8\n",
      "9\n",
      "10\n",
      "11\n",
      "12\n",
      "13\n",
      "14\n",
      "15\n",
      "16\n",
      "17\n",
      "18\n",
      "19\n",
      "20\n"
     ]
    }
   ],
   "source": [
    "for i in range(50):\n",
    "    if i > 20:\n",
    "        break\n",
    "    print(i)\n",
    "else:\n",
    "    print(\"Done\")"
   ]
  },
  {
   "cell_type": "code",
   "execution_count": 12,
   "id": "20a7d28b",
   "metadata": {},
   "outputs": [
    {
     "name": "stdout",
     "output_type": "stream",
     "text": [
      "21\n",
      "22\n",
      "23\n",
      "24\n",
      "25\n",
      "26\n",
      "27\n",
      "28\n",
      "29\n",
      "30\n",
      "31\n",
      "32\n",
      "33\n",
      "34\n",
      "35\n",
      "36\n",
      "37\n",
      "38\n",
      "39\n",
      "40\n",
      "41\n",
      "42\n",
      "43\n",
      "44\n",
      "45\n",
      "46\n",
      "47\n",
      "48\n",
      "49\n",
      "Done\n"
     ]
    }
   ],
   "source": [
    "for i in range(50):\n",
    "    if i > 20:\n",
    "        print(i)\n",
    "else:\n",
    "    print(\"Done\")"
   ]
  },
  {
   "cell_type": "markdown",
   "id": "fe08777c",
   "metadata": {},
   "source": [
    "### Nested for loop"
   ]
  },
  {
   "cell_type": "code",
   "execution_count": 27,
   "id": "c7672af9",
   "metadata": {},
   "outputs": [
    {
     "name": "stdout",
     "output_type": "stream",
     "text": [
      "\n",
      "* \n",
      "* * \n",
      "* * * \n"
     ]
    }
   ],
   "source": [
    "\"\"\"\n",
    "  0 1 2 3\n",
    "0 * \n",
    "1 * *\n",
    "2 * * *\n",
    "3 * * * *\n",
    "\"\"\"\n",
    "\n",
    "for i in range(4):\n",
    "    for j in range(i):\n",
    "        print(\"*\",end=\" \")\n",
    "    print()"
   ]
  },
  {
   "cell_type": "code",
   "execution_count": 10,
   "id": "da60e9e0",
   "metadata": {},
   "outputs": [
    {
     "name": "stdout",
     "output_type": "stream",
     "text": [
      "* \n",
      "* * \n",
      "* * * \n",
      "* * * * \n",
      "* * * * * \n"
     ]
    }
   ],
   "source": [
    "for i in range(5):\n",
    "    for j in range(i + 1):\n",
    "        print(\"*\",end = \" \")\n",
    "    print()"
   ]
  },
  {
   "cell_type": "code",
   "execution_count": 28,
   "id": "06eb2d7d",
   "metadata": {},
   "outputs": [
    {
     "name": "stdout",
     "output_type": "stream",
     "text": [
      "1 \n",
      "2 2 \n",
      "3 3 3 \n",
      "4 4 4 4 \n"
     ]
    }
   ],
   "source": [
    "for i in range(1,5):\n",
    "    for j in range(i):\n",
    "        print(i,end=\" \")          # here i is row and j is column\n",
    "    print()"
   ]
  },
  {
   "cell_type": "code",
   "execution_count": 30,
   "id": "ba6bbffb",
   "metadata": {},
   "outputs": [
    {
     "name": "stdout",
     "output_type": "stream",
     "text": [
      "* * * * * \n",
      "* * * * \n",
      "* * * \n",
      "* * \n",
      "* \n"
     ]
    }
   ],
   "source": [
    "for i in range(5,0,-1):\n",
    "    for j in range(i):\n",
    "        print(\"*\",end=\" \")\n",
    "        \n",
    "    print()"
   ]
  },
  {
   "cell_type": "code",
   "execution_count": 31,
   "id": "ae97c92a",
   "metadata": {},
   "outputs": [
    {
     "name": "stdout",
     "output_type": "stream",
     "text": [
      "python 1\n",
      "python 2\n",
      "simplilearn 1\n",
      "simplilearn 2\n"
     ]
    }
   ],
   "source": [
    "l = [\"python\",\"simplilearn\"]\n",
    "l1 = [1,2]\n",
    "\n",
    "for i in l:\n",
    "    for j in l1:\n",
    "        print(i,j)\n",
    "        "
   ]
  },
  {
   "cell_type": "markdown",
   "id": "ba010350",
   "metadata": {},
   "source": [
    "### Basic programs on for loop"
   ]
  },
  {
   "cell_type": "code",
   "execution_count": 8,
   "id": "c853a20c",
   "metadata": {},
   "outputs": [
    {
     "name": "stdout",
     "output_type": "stream",
     "text": [
      "Enter a number: 4\n",
      "* \n",
      "* * \n",
      "* * * \n",
      "* * * * \n"
     ]
    }
   ],
   "source": [
    "# to print patterns\n",
    "\n",
    "num = int(input(\"Enter a number: \"))\n",
    "for i in range(num):\n",
    "    for j in range(i+1):\n",
    "        print(\"*\",end = \" \")\n",
    "    print()"
   ]
  },
  {
   "cell_type": "code",
   "execution_count": 14,
   "id": "49e836be",
   "metadata": {},
   "outputs": [
    {
     "name": "stdout",
     "output_type": "stream",
     "text": [
      "Enter number: 5\n",
      "* * * * * \n",
      "* * * * \n",
      "* * * \n",
      "* * \n",
      "* \n"
     ]
    }
   ],
   "source": [
    "number = int(input(\"Enter number: \"))\n",
    "\n",
    "for i in range(num,-1,-1):\n",
    "    for j in range(i,-1,-1):\n",
    "        print(\"*\",end = \" \")\n",
    "    print()"
   ]
  },
  {
   "cell_type": "code",
   "execution_count": 67,
   "id": "95b41614",
   "metadata": {},
   "outputs": [
    {
     "name": "stdout",
     "output_type": "stream",
     "text": [
      "1 \n",
      "2 2 \n",
      "3 3 3 \n",
      "4 4 4 4 \n",
      "5 5 5 5 5 \n"
     ]
    }
   ],
   "source": [
    "for i in range(1,6):\n",
    "    for j in range(i):\n",
    "        print(i,end = \" \")\n",
    "    print()"
   ]
  },
  {
   "cell_type": "code",
   "execution_count": 69,
   "id": "f5ea7087",
   "metadata": {},
   "outputs": [
    {
     "name": "stdout",
     "output_type": "stream",
     "text": [
      "5 5 5 5 5 \n",
      "4 4 4 4 \n",
      "3 3 3 \n",
      "2 2 \n",
      "1 \n"
     ]
    }
   ],
   "source": [
    "for i in range(5,0,-1):\n",
    "    for j in range(i):\n",
    "        print(i,end = \" \")\n",
    "    print()"
   ]
  },
  {
   "cell_type": "code",
   "execution_count": 19,
   "id": "dd63b5c6",
   "metadata": {},
   "outputs": [
    {
     "name": "stdout",
     "output_type": "stream",
     "text": [
      "11\n"
     ]
    }
   ],
   "source": [
    "# to find the lenght of the string without using inbuild functions\n",
    "\n",
    "x = \"Goodmorning\"\n",
    "count = 0\n",
    "\n",
    "for i in x:\n",
    "    count = count + 1\n",
    "print(count)"
   ]
  },
  {
   "cell_type": "code",
   "execution_count": 20,
   "id": "db4f0f89",
   "metadata": {},
   "outputs": [
    {
     "data": {
      "text/plain": [
       "11"
      ]
     },
     "execution_count": 20,
     "metadata": {},
     "output_type": "execute_result"
    }
   ],
   "source": [
    "len(x)"
   ]
  },
  {
   "cell_type": "code",
   "execution_count": 22,
   "id": "5b0ca9ce",
   "metadata": {},
   "outputs": [
    {
     "name": "stdout",
     "output_type": "stream",
     "text": [
      "d l r o w   o l l e H "
     ]
    }
   ],
   "source": [
    "# to reverse a string\n",
    "\n",
    "y = \"Hello world\"\n",
    "\n",
    "for i in y[::-1]:\n",
    "    print(i,end=\" \")"
   ]
  },
  {
   "cell_type": "code",
   "execution_count": 29,
   "id": "ff929208",
   "metadata": {},
   "outputs": [
    {
     "name": "stdout",
     "output_type": "stream",
     "text": [
      "d l r o w   o l l e H "
     ]
    }
   ],
   "source": [
    "y = \"Hello world\"\n",
    "\n",
    "for i in range(len(y)-1,-1,-1):\n",
    "    print(y[i],end = \" \")"
   ]
  },
  {
   "cell_type": "code",
   "execution_count": 30,
   "id": "6d80f6c2",
   "metadata": {},
   "outputs": [
    {
     "data": {
      "text/plain": [
       "'dlrow olleH'"
      ]
     },
     "execution_count": 30,
     "metadata": {},
     "output_type": "execute_result"
    }
   ],
   "source": [
    "y[::-1]"
   ]
  },
  {
   "cell_type": "code",
   "execution_count": 43,
   "id": "aace76f2",
   "metadata": {},
   "outputs": [
    {
     "name": "stdout",
     "output_type": "stream",
     "text": [
      "H is a consonant\n",
      "a is a vowel\n",
      "r is a consonant\n",
      "i is a vowel\n",
      "p is a consonant\n",
      "r is a consonant\n",
      "i is a vowel\n",
      "y is a consonant\n",
      "a is a vowel\n"
     ]
    }
   ],
   "source": [
    "# Vowel or consonant\n",
    "\n",
    "vowel1 = \"aeiou\"\n",
    "vowel2 = \"AEIOU\"\n",
    "\n",
    "s = \"Haripriya\"\n",
    "\n",
    "for i in s:\n",
    "    if i in vowel1 or i in vowel2:\n",
    "        print(i,\"is a vowel\")\n",
    "    else:\n",
    "        print(i,\"is a consonant\")"
   ]
  },
  {
   "cell_type": "code",
   "execution_count": 43,
   "id": "adecc85e",
   "metadata": {},
   "outputs": [
    {
     "name": "stdout",
     "output_type": "stream",
     "text": [
      "H is a consonant\n",
      "a is a vowel\n",
      "r is a consonant\n",
      "i is a vowel\n",
      "p is a consonant\n",
      "r is a consonant\n",
      "i is a vowel\n",
      "y is a consonant\n",
      "a is a vowel\n"
     ]
    }
   ],
   "source": [
    "s = \"Haripriya\"\n",
    "\n",
    "for i in s:\n",
    "    if i == \"a\" or i == \"e\" or i == \"i\" or i == \"o\" or i == \"u\" or i == \"A\" or i == \"E\" or i == \"I\" or i == \"O\" or i == \"U\":\n",
    "        print(i,\"is a vowel\")\n",
    "    else:\n",
    "        print(i,\"is a consonant\")"
   ]
  },
  {
   "cell_type": "code",
   "execution_count": 45,
   "id": "6328e37f",
   "metadata": {},
   "outputs": [
    {
     "name": "stdout",
     "output_type": "stream",
     "text": [
      "{'a', 'i'}\n",
      "{'r', 'p', 'H', 'y'}\n"
     ]
    }
   ],
   "source": [
    "# to separate vowel and consonant in separate list or string\n",
    "\n",
    "All_vowels = [\"a\",\"e\",\"i\",\"o\",\"u\",\"A\",\"E\",\"I\",\"O\",\"U\"]\n",
    "\n",
    "s = \"Haripriya\"\n",
    "\n",
    "vowels = []\n",
    "consonant = []\n",
    "\n",
    "for i in s:\n",
    "    if i in All_vowels:\n",
    "        vowels.append(i)\n",
    "    else:\n",
    "        consonant.append(i)\n",
    "print(set(vowels))\n",
    "print(set(consonant))"
   ]
  },
  {
   "cell_type": "code",
   "execution_count": 47,
   "id": "92933f01",
   "metadata": {},
   "outputs": [
    {
     "name": "stdout",
     "output_type": "stream",
     "text": [
      "aiia\n",
      "Hrpry\n"
     ]
    }
   ],
   "source": [
    "all_vowels = \"AEIOUaeiou\"\n",
    "\n",
    "s = \"Haripriya\"\n",
    "v = \"\"\n",
    "c = \"\"\n",
    "\n",
    "for i in s:\n",
    "    if i in all_vowels:\n",
    "        v = v + i\n",
    "    else:\n",
    "        c = c + i\n",
    "print(v)\n",
    "print(c)"
   ]
  },
  {
   "cell_type": "code",
   "execution_count": 49,
   "id": "0baaf1db",
   "metadata": {},
   "outputs": [
    {
     "name": "stdout",
     "output_type": "stream",
     "text": [
      "palindrome\n"
     ]
    }
   ],
   "source": [
    "# palindrome\n",
    "\n",
    "s = \"malayalam\"\n",
    "\n",
    "if s == s[::-1]:\n",
    "    print(\"palindrome\")\n",
    "else:\n",
    "    print(\"not palindrome\")"
   ]
  },
  {
   "cell_type": "code",
   "execution_count": 52,
   "id": "374b11d2",
   "metadata": {},
   "outputs": [
    {
     "name": "stdout",
     "output_type": "stream",
     "text": [
      "malayalam\n",
      "palindrome\n"
     ]
    }
   ],
   "source": [
    "s = \"malayalam\"\n",
    "s1 = \"\"\n",
    "for i in range(len(s)-1,-1,-1):\n",
    "    s1 = s1 + s[i]\n",
    "print(s1)\n",
    "if s == s1:\n",
    "    print(\"palindrome\")\n",
    "else:\n",
    "    print(\"not palindrome\")\n"
   ]
  },
  {
   "cell_type": "code",
   "execution_count": 54,
   "id": "d828f03c",
   "metadata": {},
   "outputs": [
    {
     "name": "stdout",
     "output_type": "stream",
     "text": [
      "abccba is a palindrome\n"
     ]
    }
   ],
   "source": [
    "s = \"abccba\"\n",
    "f = \"\"\n",
    "\n",
    "for i in range(len(s)-1,-1,-1):\n",
    "    f = f + s[i]\n",
    "    if f == s:\n",
    "        print(f,\"is a palindrome\")\n",
    "        break\n",
    "        \n",
    "else:\n",
    "    print(f,\"is not a palindrome\")"
   ]
  },
  {
   "cell_type": "code",
   "execution_count": 56,
   "id": "978a9c4c",
   "metadata": {},
   "outputs": [
    {
     "name": "stdout",
     "output_type": "stream",
     "text": [
      "Enter number: 12345\n",
      "54321 is not a palindrome\n"
     ]
    }
   ],
   "source": [
    "# palindrome for integer\n",
    "\n",
    "num = int(input(\"Enter number: \"))\n",
    "num_str = str(num)\n",
    "num_str1 = \"\"\n",
    "\n",
    "for i in range(len(num_str)-1,-1,-1):\n",
    "    num_str1 = num_str1 + num_str[i]\n",
    "if num_str == num_str1:\n",
    "    print(int(num_str1),\"is a palindrome\")\n",
    "else:\n",
    "    print(int(num_str1),\"is not a palindrome\")\n",
    "    "
   ]
  },
  {
   "cell_type": "code",
   "execution_count": 57,
   "id": "9151ff8f",
   "metadata": {},
   "outputs": [
    {
     "name": "stdout",
     "output_type": "stream",
     "text": [
      "0\n",
      "2\n",
      "4\n",
      "6\n",
      "8\n",
      "10\n",
      "12\n",
      "14\n",
      "16\n",
      "18\n",
      "20\n"
     ]
    }
   ],
   "source": [
    "# odd or even\n",
    "\n",
    "for i in range(0,21):\n",
    "    if i % 2 == 0:\n",
    "        print(i)\n",
    "    else:\n",
    "        pass"
   ]
  },
  {
   "cell_type": "code",
   "execution_count": 64,
   "id": "00283deb",
   "metadata": {},
   "outputs": [
    {
     "name": "stdout",
     "output_type": "stream",
     "text": [
      "Enter number: 10\n",
      "Sum of natural number between 0 to 10 is : 55\n"
     ]
    }
   ],
   "source": [
    "# sum of natural numbers\n",
    "\n",
    "number = int(input(\"Enter number: \"))\n",
    "Total = 0\n",
    "\n",
    "for i in range(number+1):\n",
    "    Total = Total + i\n",
    "print(f\"Sum of natural number between 0 to {number} is : {Total}\")\n",
    "    "
   ]
  },
  {
   "cell_type": "code",
   "execution_count": 65,
   "id": "0fc2533f",
   "metadata": {},
   "outputs": [
    {
     "name": "stdout",
     "output_type": "stream",
     "text": [
      "200\n"
     ]
    }
   ],
   "source": [
    "# sum of list of numbers\n",
    "\n",
    "l = [50,50,50,50]\n",
    "Total = 0\n",
    "\n",
    "for i in l:\n",
    "    Total = Total + i\n",
    "print(Total)"
   ]
  },
  {
   "cell_type": "code",
   "execution_count": 70,
   "id": "380fa371",
   "metadata": {},
   "outputs": [
    {
     "name": "stdout",
     "output_type": "stream",
     "text": [
      "10\n",
      "20\n",
      "30\n",
      "100\n",
      "200\n"
     ]
    }
   ],
   "source": [
    "# to extract only integer elements from list also if it is nested list\n",
    "\n",
    "l = [10,20,30,[100,200,\"Hari\"],3+5j,True]\n",
    "\n",
    "for i in l:\n",
    "    if type(i) == int:\n",
    "        print(i)\n",
    "    if type(i) == list:\n",
    "        for j in i:\n",
    "            if type(j) == int:\n",
    "                print(j)"
   ]
  },
  {
   "cell_type": "code",
   "execution_count": 77,
   "id": "6d025ece",
   "metadata": {},
   "outputs": [
    {
     "name": "stdout",
     "output_type": "stream",
     "text": [
      "Enter number: 5\n",
      "55\n"
     ]
    }
   ],
   "source": [
    "# sum of squares\n",
    "\n",
    "num = int(input(\"Enter number: \"))\n",
    "Total = 0\n",
    "\n",
    "for i in range(1,num+1):\n",
    "    Total = Total + (i**2)\n",
    "print(Total)"
   ]
  },
  {
   "cell_type": "code",
   "execution_count": 44,
   "id": "71a04839",
   "metadata": {},
   "outputs": [
    {
     "name": "stdout",
     "output_type": "stream",
     "text": [
      "['canada', 'United states']\n",
      "['india', 'China']\n"
     ]
    }
   ],
   "source": [
    "\"\"\"\n",
    "Separate the keys with two list...one will be having more than \n",
    "5 letter in key and another one will have less than 5 letters key.\n",
    "\"\"\"\n",
    "\n",
    "d = {\"india\":\"IN\",\"canada\":\"CA\",\"United states\":\"Us\",\"China\":\"CH\"}\n",
    "l1 = []\n",
    "l2 = []\n",
    "\n",
    "for i in d:\n",
    "    if len(i) > 5:\n",
    "        l1.append(i)\n",
    "    else:\n",
    "        l2.append(i)\n",
    "print(l1)\n",
    "print(l2)"
   ]
  },
  {
   "cell_type": "code",
   "execution_count": 94,
   "id": "54131c15",
   "metadata": {},
   "outputs": [
    {
     "name": "stdout",
     "output_type": "stream",
     "text": [
      "100001\n"
     ]
    }
   ],
   "source": [
    "# to find which number is maximum among different data type\n",
    "\n",
    "d = {\"ineuron\":{\"a\":100,\"b\":20,\"c\":2},\"course\":{\"d\":9,\"e\":300,\"f\":1000},\n",
    "       \"p\":\"Hari\",\"q\":[1,2,454,95,101],\"o\":(23,42,11,54,40),\"num\":100001}\n",
    "\n",
    "l = []\n",
    "\n",
    "for i in d.values():\n",
    "    if type(i) == int:\n",
    "        l.append(i)\n",
    "    elif type(i) == list or type(i) == tuple:\n",
    "        l.extend(i)\n",
    "    elif type(i) == dict:\n",
    "        for j in i.values():\n",
    "            l.append(j)\n",
    "print(max(l))"
   ]
  },
  {
   "cell_type": "code",
   "execution_count": 39,
   "id": "6ce5132f",
   "metadata": {},
   "outputs": [
    {
     "name": "stdout",
     "output_type": "stream",
     "text": [
      "10000000\n"
     ]
    }
   ],
   "source": [
    "d = {\"ineuron\":{\"a\":100,\"b\":20,\"c\":200000},\"course\":{\"d\":9,\"e\":300,\"f\":10000000},\n",
    "       \"p\":\"Hari\",\"q\":[1,2,454,95,101],\"o\":(23,42,11,54,4),\"num\":100001}\n",
    "\n",
    "maxx = 0\n",
    "for i in d.values():\n",
    "    if type(i) == dict:\n",
    "        for j in i:\n",
    "            if i[j] > maxx:\n",
    "                maxx = i[j]\n",
    "\n",
    "    elif type(i) == list or type(i) == tuple:\n",
    "        for k in i:\n",
    "            if k > maxx:\n",
    "                maxx = k\n",
    "    elif type(i) == int:\n",
    "        if i > maxx:\n",
    "            maxx = i\n",
    "\n",
    "print(maxx)"
   ]
  },
  {
   "cell_type": "markdown",
   "id": "b536e6d6",
   "metadata": {},
   "source": [
    "## Udemy exercises"
   ]
  },
  {
   "cell_type": "markdown",
   "id": "d4dd35fe",
   "metadata": {},
   "source": [
    "#### Exercise 86\n",
    "```\n",
    "Write a program that finds all two-digit numbers divisible by 11 (use a for loop). \n",
    "Print the result to the console as comma-separated values as shown below.\n",
    "\n",
    "Expected result:\n",
    "11,22,33,44,55,66,77,88,99\n",
    "```"
   ]
  },
  {
   "cell_type": "code",
   "execution_count": 106,
   "id": "01cd7848",
   "metadata": {},
   "outputs": [
    {
     "name": "stdout",
     "output_type": "stream",
     "text": [
      "11,22,33,44,55,66,77,88,99"
     ]
    }
   ],
   "source": [
    "for i in range(10,100):\n",
    "    if i % 11 == 0:\n",
    "        if i == 99:\n",
    "            print(i,end=\"\")\n",
    "        else:\n",
    "            print(i,end=\",\")"
   ]
  },
  {
   "cell_type": "code",
   "execution_count": 110,
   "id": "c75fbeee",
   "metadata": {},
   "outputs": [
    {
     "name": "stdout",
     "output_type": "stream",
     "text": [
      "11,22,33,44,55,66,77,88,99\n"
     ]
    }
   ],
   "source": [
    "result = []\n",
    "\n",
    "for i in range(10,100):\n",
    "    if i % 11 == 0:\n",
    "        result.append(str(i))\n",
    "print(\",\".join(result))"
   ]
  },
  {
   "cell_type": "markdown",
   "id": "50d86ca5",
   "metadata": {},
   "source": [
    "#### Exercise 87\n",
    "```\n",
    "Write a program that finds all two-digit numbers divisible by 11 and \n",
    "indivisible by 3 (use a for loop). \n",
    "Print the result to the console as comma-separated values as shown below.\n",
    "\n",
    "Expected result:\n",
    "11,22,44,55,77,88\n",
    "```"
   ]
  },
  {
   "cell_type": "code",
   "execution_count": 7,
   "id": "d038f9f8",
   "metadata": {},
   "outputs": [
    {
     "name": "stdout",
     "output_type": "stream",
     "text": [
      "11,22,44,55,77,88\n"
     ]
    }
   ],
   "source": [
    "l = []\n",
    "for i in range(10,100):\n",
    "    if i % 11 == 0 and i % 3 != 0:\n",
    "        l.append(str(i))\n",
    "print(\",\".join(l))"
   ]
  },
  {
   "cell_type": "code",
   "execution_count": 11,
   "id": "05ae4366",
   "metadata": {},
   "outputs": [
    {
     "name": "stdout",
     "output_type": "stream",
     "text": [
      "11,22,44,55,77,88"
     ]
    }
   ],
   "source": [
    "for i in range(10,100):\n",
    "    if i % 11 == 0 and i % 3 != 0:\n",
    "        if i == 88:\n",
    "            print(i,end=\"\")\n",
    "        else:\n",
    "            print(i,end=\",\")"
   ]
  },
  {
   "cell_type": "markdown",
   "id": "4ef3c7ec",
   "metadata": {},
   "source": [
    "#### Exercise 88\n",
    "```\n",
    "The following list of numbers is given:\n",
    "\n",
    "items = [1, 3, 4, 5, 6, 9, 10, 17, 23, 24]\n",
    "\n",
    "Write a program that removes odd numbers and returns the remaining ones. \n",
    "Print the result to the console.\n",
    "\n",
    "Expected results:\n",
    "[4, 6, 10, 24]\n",
    "```"
   ]
  },
  {
   "cell_type": "code",
   "execution_count": 12,
   "id": "01403d91",
   "metadata": {},
   "outputs": [
    {
     "name": "stdout",
     "output_type": "stream",
     "text": [
      "[4, 6, 10, 24]\n"
     ]
    }
   ],
   "source": [
    "items = [1, 3, 4, 5, 6, 9, 10, 17, 23, 24]\n",
    "item = []\n",
    "\n",
    "for i in items:\n",
    "    if i % 2 == 0:\n",
    "        item.append(i)\n",
    "print(item)"
   ]
  },
  {
   "cell_type": "code",
   "execution_count": 13,
   "id": "e771f3e8",
   "metadata": {},
   "outputs": [
    {
     "name": "stdout",
     "output_type": "stream",
     "text": [
      "[4, 6, 10, 24]\n"
     ]
    }
   ],
   "source": [
    "items = [1, 3, 4, 5, 6, 9, 10, 17, 23, 24]\n",
    "item = []\n",
    "\n",
    "for i in items:\n",
    "    if not i % 2 != 0:\n",
    "        item.append(i)\n",
    "print(item)       "
   ]
  },
  {
   "cell_type": "markdown",
   "id": "ffe795d7",
   "metadata": {},
   "source": [
    "#### Exercise 89\n",
    "```\n",
    "The following list is given:\n",
    "\n",
    "items = [1, 5, 3, 2, 2, 4, 2, 4]\n",
    "\n",
    "Write a program that removes duplicates from the list (the order must be kept) \n",
    "and print the list to the console.\n",
    "Expected result:\n",
    "[1, 5, 3, 2, 4]\n",
    "```"
   ]
  },
  {
   "cell_type": "code",
   "execution_count": 17,
   "id": "3f058997",
   "metadata": {},
   "outputs": [
    {
     "name": "stdout",
     "output_type": "stream",
     "text": [
      "[1, 5, 3, 2, 4]\n"
     ]
    }
   ],
   "source": [
    "items = [1, 5, 3, 2, 2, 4, 2, 4]\n",
    "item = []\n",
    "\n",
    "for i in items:\n",
    "    if i not in item:\n",
    "        item.append(i)\n",
    "    else:\n",
    "        pass\n",
    "print(item)"
   ]
  },
  {
   "cell_type": "markdown",
   "id": "d4b332f2",
   "metadata": {},
   "source": [
    "#### Exercise 90\n",
    "```\n",
    "The following text is given:\n",
    "\n",
    "text = 'Python is a very popular programming language'\n",
    "\n",
    "Write a program which extracts exactly the first four words as a list. \n",
    "Standardize each word, i.e. replace uppercase letters with lowercase. \n",
    "Present the result in a list and print to the console as shown below.\n",
    "\n",
    "Expected result:\n",
    "['python', 'is', 'a', 'very']\n",
    "```"
   ]
  },
  {
   "cell_type": "code",
   "execution_count": 44,
   "id": "969aa34f",
   "metadata": {},
   "outputs": [
    {
     "name": "stdout",
     "output_type": "stream",
     "text": [
      "['python', 'is', 'a', 'very']\n"
     ]
    }
   ],
   "source": [
    "text = 'Python is a very popular programming language'.lower()\n",
    "\n",
    "text1 = text.split(\" \")\n",
    "l = []\n",
    "for i in range(len(text1)):\n",
    "    if i == 4:\n",
    "        break\n",
    "    l.append(text1[i])\n",
    "print(l)"
   ]
  },
  {
   "cell_type": "code",
   "execution_count": 48,
   "id": "c91fd3b7",
   "metadata": {},
   "outputs": [
    {
     "name": "stdout",
     "output_type": "stream",
     "text": [
      "['python', 'is', 'a', 'very']\n"
     ]
    }
   ],
   "source": [
    "text = 'Python is a very popular programming language'.lower()\n",
    "l = []\n",
    "text1 = text.split(\" \")\n",
    "\n",
    "for i,j in enumerate(text1):\n",
    "    if i < 4:\n",
    "        l.append(j)\n",
    "print(l)"
   ]
  },
  {
   "cell_type": "markdown",
   "id": "0f201f69",
   "metadata": {},
   "source": [
    "#### Exercise 91\n",
    "```\n",
    "Write a program that returns a list of values above the given threshold = 0.5 from the following list:\n",
    "\n",
    "probabilities = [0.21, 0.91, 0.34, 0.55, 0.76, 0.02]\n",
    "\n",
    "Expected result:\n",
    "[0.91, 0.55, 0.76]\n",
    "```"
   ]
  },
  {
   "cell_type": "code",
   "execution_count": 49,
   "id": "1c80106d",
   "metadata": {},
   "outputs": [
    {
     "name": "stdout",
     "output_type": "stream",
     "text": [
      "[0.91, 0.55, 0.76]\n"
     ]
    }
   ],
   "source": [
    "probabilities = [0.21, 0.91, 0.34, 0.55, 0.76, 0.02]\n",
    "l1 = []\n",
    "\n",
    "for i in probabilities:\n",
    "    if i > 0.5:\n",
    "        l1.append(i)\n",
    "print(l1)"
   ]
  },
  {
   "cell_type": "markdown",
   "id": "1fb0acad",
   "metadata": {},
   "source": [
    "#### Exercise 92\n",
    "```\n",
    "Consider the problem of binary classification in machine learning. The machine learning model returns the probability of belonging to the class. If it's less than 0.5, the sample is assigned to class 0, otherwise to class 1.\n",
    "\n",
    "A list of probabilities from the machine learning model is given:\n",
    "\n",
    "probabilities = [0.21, 0.91, 0.34, 0.55, 0.76, 0.02]\n",
    "\n",
    "Write a program that assigns class 0 for values less than 0.5 and 1 for values greater than or equal to 0.5. \n",
    "Print the result to the console as shown below.\n",
    "\n",
    "Expected result:\n",
    "[0, 1, 0, 1, 1, 0]\n",
    "```"
   ]
  },
  {
   "cell_type": "code",
   "execution_count": 51,
   "id": "33d9287d",
   "metadata": {},
   "outputs": [
    {
     "name": "stdout",
     "output_type": "stream",
     "text": [
      "[0, 1, 0, 1, 1, 0]\n"
     ]
    }
   ],
   "source": [
    "probabilities = [0.21, 0.91, 0.34, 0.55, 0.76, 0.02]\n",
    "l1 = []\n",
    "\n",
    "for i in probabilities:\n",
    "    if i >= 0.5:\n",
    "        l1.append(1)\n",
    "    else:\n",
    "        l1.append(0)\n",
    "print(l1)"
   ]
  },
  {
   "cell_type": "markdown",
   "id": "b5e5eb95",
   "metadata": {},
   "source": [
    "#### Exercise 93\n",
    "```\n",
    "Write a program that creates a histogram as a dictionary of the following values:\n",
    "\n",
    "items = ['x', 'y', 'z', 'y', 'x', 'y', 'y', 'z', 'x']\n",
    "\n",
    "In response print histogram to the console.\n",
    "\n",
    "Expected result:\n",
    "{'x': 3, 'y': 4, 'z': 2}\n",
    "```"
   ]
  },
  {
   "cell_type": "code",
   "execution_count": 60,
   "id": "d2375948",
   "metadata": {},
   "outputs": [
    {
     "name": "stdout",
     "output_type": "stream",
     "text": [
      "{'x': 3, 'y': 4, 'z': 2}\n"
     ]
    }
   ],
   "source": [
    "items = ['x', 'y', 'z', 'y', 'x', 'y', 'y', 'z', 'x']\n",
    "d = {}\n",
    "\n",
    "for i in items:\n",
    "    if i not in d.keys():\n",
    "        d[i] = 1\n",
    "    else:\n",
    "        d[i] = d[i] + 1\n",
    "print(d)"
   ]
  },
  {
   "cell_type": "markdown",
   "id": "a9d34cab",
   "metadata": {},
   "source": [
    "#### Exercise 94\n",
    "```\n",
    "The following text is given:\n",
    "\n",
    "text = \"\"\"Python is powerful... and fast\n",
    "plays well with others\n",
    "runs everywhere\n",
    "is friendly & easy to learn\n",
    "is Open\n",
    "These are some of the reasons people who use Python would rather not use anything else\"\"\"\n",
    "\n",
    "Create a list of words from the given text. Then standardize this text (change uppercase letters to lowercase, remove punctuation marks). Extract words longer than six characters and print the result to the console.\n",
    "\n",
    "Expected result:\n",
    "['powerful', 'everywhere', 'friendly', 'reasons', 'anything']\n",
    "```"
   ]
  },
  {
   "cell_type": "code",
   "execution_count": 81,
   "id": "45bdcab4",
   "metadata": {},
   "outputs": [
    {
     "name": "stdout",
     "output_type": "stream",
     "text": [
      "['powerful', 'everywhere', 'friendly', 'reasons', 'anything']\n"
     ]
    }
   ],
   "source": [
    "text = \"\"\"Python is powerful... and fast\n",
    "plays well with others\n",
    "runs everywhere\n",
    "is friendly & easy to learn\n",
    "is Open\n",
    "These are some of the reasons people who use Python would rather not use anything else\"\"\".lower()\n",
    "\n",
    "x = text.split()\n",
    "words = [i.replace(\".\",\"\").replace(\",\",\"\") for i in x]\n",
    "words = [i for i in words if len(i) > 6]\n",
    "print(words)"
   ]
  },
  {
   "cell_type": "markdown",
   "id": "d1971855",
   "metadata": {},
   "source": [
    "#### Exercise 95\n",
    "```\n",
    "The list of stock indexes is given:\n",
    "\n",
    "indexes = [\n",
    "    \"BOVESPA\",\n",
    "    \"DOW JONES COMP\",\n",
    "    \"DOW JONES INDU\",\n",
    "    \"DOW JONES TRANS\",\n",
    "    \"DOW JONES UTIL\",\n",
    "    \"IPC\",\n",
    "    \"IPSA\",\n",
    "    \"MERVAL\",\n",
    "    \"NASDAQ COMP\",\n",
    "    \"NASDAQ100\",\n",
    "    \"S&P500\",\n",
    "    \"S&P/TSX COMP\",\n",
    "]\n",
    "\n",
    "Iterate through the indexes list and print to the console only those indexes containing 'DOW' or 'S&P'.\n",
    "\n",
    "Expected result:\n",
    "\n",
    "DOW JONES COMP\n",
    "DOW JONES INDU\n",
    "DOW JONES TRANS\n",
    "DOW JONES UTIL\n",
    "S&P500\n",
    "S&P/TSX COMP\n",
    "```"
   ]
  },
  {
   "cell_type": "code",
   "execution_count": 108,
   "id": "861ef088",
   "metadata": {},
   "outputs": [
    {
     "name": "stdout",
     "output_type": "stream",
     "text": [
      "DOW JONES COMP\n",
      "DOW JONES INDU\n",
      "DOW JONES TRANS\n",
      "DOW JONES UTIL\n",
      "S&P500\n",
      "S&P/TSX COMP\n"
     ]
    }
   ],
   "source": [
    "indexes = [\n",
    "    \"BOVESPA\",\n",
    "    \"DOW JONES COMP\",\n",
    "    \"DOW JONES INDU\",\n",
    "    \"DOW JONES TRANS\",\n",
    "    \"DOW JONES UTIL\",\n",
    "    \"IPC\",\n",
    "    \"IPSA\",\n",
    "    \"MERVAL\",\n",
    "    \"NASDAQ COMP\",\n",
    "    \"NASDAQ100\",\n",
    "    \"S&P500\",\n",
    "    \"S&P/TSX COMP\",\n",
    "]\n",
    "\n",
    "for i in indexes:\n",
    "    if \"DOW\" in i or \"S&P\" in i:\n",
    "        print(i)"
   ]
  },
  {
   "cell_type": "markdown",
   "id": "273ec064",
   "metadata": {},
   "source": [
    "#### Exercise 96\n",
    "```\n",
    "A dictionary of companies from the WIG.GAMES index is given. The key is the 3-letter company ticker and value - close price:\n",
    "\n",
    "gaming = {\n",
    "    '11B': 362.5,\n",
    "    'CDR': 297.0,\n",
    "    'CIG': 0.85,\n",
    "    'PLW': 318.0,\n",
    "    'TEN': 300.0\n",
    "}\n",
    "\n",
    "Iterate through this dictionary and print the tickers of those companies where closing price is greater than 100.00 PLN.\n",
    "\n",
    "Expected result:\n",
    "11B\n",
    "CDR\n",
    "PLW\n",
    "TEN\n",
    "```"
   ]
  },
  {
   "cell_type": "code",
   "execution_count": 111,
   "id": "8d502eeb",
   "metadata": {},
   "outputs": [
    {
     "name": "stdout",
     "output_type": "stream",
     "text": [
      "11B\n",
      "CDR\n",
      "PLW\n",
      "TEN\n"
     ]
    }
   ],
   "source": [
    "gaming = {\n",
    "    '11B': 362.5,\n",
    "    'CDR': 297.0,\n",
    "    'CIG': 0.85,\n",
    "    'PLW': 318.0,\n",
    "    'TEN': 300.0\n",
    "}\n",
    "\n",
    "for i in gaming.keys():\n",
    "    if gaming[i] > 100.00:\n",
    "        print(i)"
   ]
  },
  {
   "cell_type": "code",
   "execution_count": 113,
   "id": "e3ba1898",
   "metadata": {},
   "outputs": [
    {
     "name": "stdout",
     "output_type": "stream",
     "text": [
      "11B\n",
      "CDR\n",
      "PLW\n",
      "TEN\n"
     ]
    }
   ],
   "source": [
    "gaming = {\n",
    "    '11B': 362.5,\n",
    "    'CDR': 297.0,\n",
    "    'CIG': 0.85,\n",
    "    'PLW': 318.0,\n",
    "    'TEN': 300.0\n",
    "}\n",
    "\n",
    "for i,j in gaming.items():\n",
    "    if j > 100.00:\n",
    "        print(i)"
   ]
  },
  {
   "cell_type": "markdown",
   "id": "156bf784",
   "metadata": {},
   "source": [
    "#### Exercise 97\n",
    "```\n",
    "A list of names entered by users into the system is given below (without validation process):\n",
    "\n",
    "names = ['Jack', 'Leon', 'Alice', '32-3c', 'Bob']\n",
    "\n",
    "Iterate through the names list and check if each name is correct (contains only letters). If so, print to the console following message: f'Hello {name}!' otherwise do nothing.\n",
    "\n",
    "Tip: Use the str.isalpha() method.\n",
    "\n",
    "Expected result:\n",
    "Hello Jack!\n",
    "Hello Leon!\n",
    "Hello Alice!\n",
    "Hello Bob!\n",
    "```"
   ]
  },
  {
   "cell_type": "code",
   "execution_count": 115,
   "id": "c9d4621f",
   "metadata": {},
   "outputs": [
    {
     "name": "stdout",
     "output_type": "stream",
     "text": [
      "Hello Jack!\n",
      "Hello Leon!\n",
      "Hello Alice!\n",
      "Hello Bob!\n"
     ]
    }
   ],
   "source": [
    "names = ['Jack', 'Leon', 'Alice', '32-3c', 'Bob']\n",
    "\n",
    "for i in names:\n",
    "    if i.isalpha():\n",
    "        print(f\"Hello {i}!\")"
   ]
  },
  {
   "cell_type": "markdown",
   "id": "a4d1c093",
   "metadata": {},
   "source": [
    "#### Exercise 98\n",
    "```\n",
    "Write a program that compares two lists and returns True if the lists contain at least one of the same element. Otherwise, it will return False.\n",
    "\n",
    "Use break statement in the solution and print result to the console.\n",
    "\n",
    "Lists:\n",
    "\n",
    "list1 = [1, 2, 0]\n",
    "list2 = [4, 5, 6, 1]\n",
    "\n",
    "Expected result:\n",
    "True\n",
    "```"
   ]
  },
  {
   "cell_type": "code",
   "execution_count": 3,
   "id": "e087e907",
   "metadata": {},
   "outputs": [
    {
     "name": "stdout",
     "output_type": "stream",
     "text": [
      "True\n"
     ]
    }
   ],
   "source": [
    "list1 = [1, 2, 0]\n",
    "list2 = [4, 5, 6, 1]\n",
    "\n",
    "for i in list1:\n",
    "    if i in list2:\n",
    "        print(\"True\")\n",
    "        break\n",
    "    else:\n",
    "        print(\"False\")"
   ]
  },
  {
   "cell_type": "code",
   "execution_count": 11,
   "id": "077cef4b",
   "metadata": {},
   "outputs": [
    {
     "name": "stdout",
     "output_type": "stream",
     "text": [
      "True\n"
     ]
    }
   ],
   "source": [
    "list1 = [1, 2, 0]\n",
    "list2 = [4, 5, 6, 1]\n",
    "result = False\n",
    "\n",
    "for i in list1:\n",
    "    if i in list2:\n",
    "        result = True\n",
    "        break\n",
    "print(result)"
   ]
  },
  {
   "cell_type": "markdown",
   "id": "2b44d1e9",
   "metadata": {},
   "source": [
    "#### Exercise 99\n",
    "```\n",
    "The following list of hashtags is given:\n",
    "\n",
    "hashtags = ['holiday', 'sport', 'fit', None, 'fashion']\n",
    "\n",
    "Check if all objects in the list are of str type. If so, print True, otherwise print False. Use the break statement in your solution.\n",
    "\n",
    "Expected result:\n",
    "False\n",
    "```"
   ]
  },
  {
   "cell_type": "code",
   "execution_count": 13,
   "id": "66ebaa0c",
   "metadata": {},
   "outputs": [
    {
     "name": "stdout",
     "output_type": "stream",
     "text": [
      "False\n"
     ]
    }
   ],
   "source": [
    "hashtags = ['holiday', 'sport', 'fit', None, 'fashion']\n",
    "result = True\n",
    "for i in hashtags:\n",
    "    if type(i) != str:\n",
    "        result = False\n",
    "        break\n",
    "print(result)"
   ]
  },
  {
   "cell_type": "code",
   "execution_count": 14,
   "id": "3fed3352",
   "metadata": {},
   "outputs": [
    {
     "name": "stdout",
     "output_type": "stream",
     "text": [
      "False\n"
     ]
    }
   ],
   "source": [
    "hashtags = ['holiday', 'sport', 'fit', None, 'fashion']\n",
    "result = True\n",
    "\n",
    "for i in hashtags:\n",
    "    if not isinstance(i,str):\n",
    "        result = False\n",
    "        break\n",
    "print(result)"
   ]
  },
  {
   "cell_type": "markdown",
   "id": "1d902c66",
   "metadata": {},
   "source": [
    "#### Exercise 100\n",
    "```\n",
    "Write a program that checks if the given number is a prime number (use the break statement):\n",
    "number = 13\n",
    "Print one of the following to the console depends on the result:\n",
    "\n",
    "13 - prime number\n",
    "13 - not a prime number\n",
    "\n",
    "Expected result:\n",
    "13 - prime number\n",
    "```"
   ]
  },
  {
   "cell_type": "code",
   "execution_count": 24,
   "id": "ad04d022",
   "metadata": {},
   "outputs": [
    {
     "name": "stdout",
     "output_type": "stream",
     "text": [
      "13 - prime number\n"
     ]
    }
   ],
   "source": [
    "number = 13\n",
    "\n",
    "result = True\n",
    "for i in range(2,number):\n",
    "    if number % i == 0:\n",
    "        result = False\n",
    "        break\n",
    "if result == True:\n",
    "    print(f\"{number} - prime number\")\n",
    "else:\n",
    "    print(f\"{number} - not a prime number\")"
   ]
  },
  {
   "cell_type": "markdown",
   "id": "256c77b4",
   "metadata": {},
   "source": [
    "#### Exercise 101\n",
    "```\n",
    "The list of companies from the WIG.GAMES index is given with the closing price and currency:\n",
    "\n",
    "gaming = {\n",
    "    '11B': [362.5, 'PLN'],\n",
    "    'CDR': [74.25, 'USD'],\n",
    "    'CIG': [0.85, 'PLN'],\n",
    "    'PLW': [79.5, 'USD'],\n",
    "    'TEN': [300.0, 'PLN']\n",
    "}\n",
    "\n",
    "Using the continue statement, create a for loop that will change the closing price from USD to PLN in this dictionary. Take USDPLN = 4.0.\n",
    "\n",
    "In response, print the gaming dictionary to the console.\n",
    "\n",
    "Expected result:\n",
    "{'11B': [362.5, 'PLN'], 'CDR': [297.0, 'PLN'], 'CIG': [0.85, 'PLN'], 'PLW': [318.0, 'PLN'], 'TEN': [300.0, 'PLN']}\n",
    "```"
   ]
  },
  {
   "cell_type": "code",
   "execution_count": 29,
   "id": "4d1830e8",
   "metadata": {},
   "outputs": [
    {
     "name": "stdout",
     "output_type": "stream",
     "text": [
      "{'11B': [362.5, 'PLN'], 'CDR': [297.0, 'PLN'], 'CIG': [0.85, 'PLN'], 'PLW': [318.0, 'PLN'], 'TEN': [300.0, 'PLN']}\n"
     ]
    }
   ],
   "source": [
    "gaming = {\n",
    "    '11B': [362.5, 'PLN'],\n",
    "    'CDR': [74.25, 'USD'],\n",
    "    'CIG': [0.85, 'PLN'],\n",
    "    'PLW': [79.5, 'USD'],\n",
    "    'TEN': [300.0, 'PLN']\n",
    "}\n",
    "\n",
    "for i,j in gaming.items():\n",
    "    if j[1] == \"PLN\":\n",
    "        continue\n",
    "    j[0] = j[0] * 4.0\n",
    "    j[1] = \"PLN\"\n",
    "print(gaming)"
   ]
  },
  {
   "cell_type": "markdown",
   "id": "20d62823",
   "metadata": {},
   "source": [
    "#### Exercise 102\n",
    "```\n",
    "The list of names is given (one is missing):\n",
    "\n",
    "names = ['Jack', 'Leon', 'Alice', None, 'Bob']\n",
    "\n",
    "Using the continue statement, print only the correct names to the console as shown below.\n",
    "\n",
    "Expected result:\n",
    "Jack\n",
    "Leon\n",
    "Alice\n",
    "Bob\n",
    "```"
   ]
  },
  {
   "cell_type": "code",
   "execution_count": 34,
   "id": "f3eb275d",
   "metadata": {},
   "outputs": [
    {
     "name": "stdout",
     "output_type": "stream",
     "text": [
      "Jack\n",
      "Leon\n",
      "Alice\n",
      "Bob\n"
     ]
    }
   ],
   "source": [
    "names = ['Jack', 'Leon', 'Alice', None, 'Bob']\n",
    "\n",
    "for i in names:\n",
    "    if type(i) != str:\n",
    "        continue\n",
    "    else:\n",
    "        print(i)"
   ]
  },
  {
   "cell_type": "code",
   "execution_count": 35,
   "id": "b8efbbd8",
   "metadata": {},
   "outputs": [
    {
     "name": "stdout",
     "output_type": "stream",
     "text": [
      "Jack\n",
      "Leon\n",
      "Alice\n",
      "Bob\n"
     ]
    }
   ],
   "source": [
    "names = ['Jack', 'Leon', 'Alice', None, 'Bob']\n",
    "\n",
    "for i in names:\n",
    "    if not isinstance(i,str):\n",
    "        continue\n",
    "    else:\n",
    "        print(i)"
   ]
  },
  {
   "cell_type": "code",
   "execution_count": 36,
   "id": "3b0d459d",
   "metadata": {},
   "outputs": [
    {
     "name": "stdout",
     "output_type": "stream",
     "text": [
      "Jack\n",
      "Leon\n",
      "Alice\n",
      "Bob\n"
     ]
    }
   ],
   "source": [
    "names = ['Jack', 'Leon', 'Alice', None, 'Bob']\n",
    "\n",
    "for i in names:\n",
    "    if not isinstance(i,str):\n",
    "        continue\n",
    "    print(i)"
   ]
  },
  {
   "cell_type": "code",
   "execution_count": 38,
   "id": "f9af3338",
   "metadata": {},
   "outputs": [
    {
     "name": "stdout",
     "output_type": "stream",
     "text": [
      "Jack\n",
      "Leon\n",
      "Alice\n",
      "Bob\n"
     ]
    }
   ],
   "source": [
    "names = ['Jack', 'Leon', 'Alice', None, 'Bob']\n",
    "\n",
    "for i in names:\n",
    "    if i is None:\n",
    "        continue\n",
    "    print(i)     "
   ]
  },
  {
   "cell_type": "code",
   "execution_count": null,
   "id": "77ad7397",
   "metadata": {},
   "outputs": [],
   "source": []
  }
 ],
 "metadata": {
  "kernelspec": {
   "display_name": "Python 3 (ipykernel)",
   "language": "python",
   "name": "python3"
  },
  "language_info": {
   "codemirror_mode": {
    "name": "ipython",
    "version": 3
   },
   "file_extension": ".py",
   "mimetype": "text/x-python",
   "name": "python",
   "nbconvert_exporter": "python",
   "pygments_lexer": "ipython3",
   "version": "3.9.19"
  }
 },
 "nbformat": 4,
 "nbformat_minor": 5
}
