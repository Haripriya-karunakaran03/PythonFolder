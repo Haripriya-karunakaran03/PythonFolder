{
 "cells": [
  {
   "cell_type": "code",
   "execution_count": 1,
   "id": "d3246d03",
   "metadata": {},
   "outputs": [
    {
     "data": {
      "text/plain": [
       "dict"
      ]
     },
     "execution_count": 1,
     "metadata": {},
     "output_type": "execute_result"
    }
   ],
   "source": [
    "d = {}\n",
    "type(d)"
   ]
  },
  {
   "cell_type": "code",
   "execution_count": 85,
   "id": "d74789f9",
   "metadata": {},
   "outputs": [
    {
     "name": "stdout",
     "output_type": "stream",
     "text": [
      "<class 'set'>\n"
     ]
    }
   ],
   "source": [
    "s = {1}\n",
    "print(type(s))"
   ]
  },
  {
   "cell_type": "code",
   "execution_count": 2,
   "id": "f63f0737",
   "metadata": {},
   "outputs": [
    {
     "data": {
      "text/plain": [
       "dict"
      ]
     },
     "execution_count": 2,
     "metadata": {},
     "output_type": "execute_result"
    }
   ],
   "source": [
    "d1 = dict()\n",
    "type(d1)"
   ]
  },
  {
   "cell_type": "code",
   "execution_count": 88,
   "id": "8da8ab12",
   "metadata": {},
   "outputs": [
    {
     "name": "stdout",
     "output_type": "stream",
     "text": [
      "{1: 10, 2: 20}\n"
     ]
    }
   ],
   "source": [
    "d = dict([(1,10),(2,20)])\n",
    "print(d)"
   ]
  },
  {
   "cell_type": "code",
   "execution_count": 4,
   "id": "22e61200",
   "metadata": {},
   "outputs": [
    {
     "name": "stdout",
     "output_type": "stream",
     "text": [
      "<class 'dict'>\n"
     ]
    }
   ],
   "source": [
    "fruits = {\"Apple\":50,\"Mango\":30,\"Orange\":40}\n",
    "print(type(fruits))"
   ]
  },
  {
   "cell_type": "code",
   "execution_count": 17,
   "id": "d254e6e3",
   "metadata": {},
   "outputs": [
    {
     "name": "stdout",
     "output_type": "stream",
     "text": [
      "{'a': 10, 'b': 100, 'c': 400}\n"
     ]
    }
   ],
   "source": [
    "y = dict([(\"a\",10),(\"b\",100),(\"c\",400)])  # can use dict keyword to create a dictionary\n",
    "print(y)"
   ]
  },
  {
   "cell_type": "code",
   "execution_count": 6,
   "id": "324414d5",
   "metadata": {},
   "outputs": [
    {
     "name": "stdout",
     "output_type": "stream",
     "text": [
      "<class 'dict'>\n"
     ]
    }
   ],
   "source": [
    "# Any type of data is allowed\n",
    "\n",
    "d = {\"a\":10,\"b\":10.4,\"c\":\"Haripiya\",\"d\":True,\"e\":4+5j}\n",
    "print(type(d))"
   ]
  },
  {
   "cell_type": "code",
   "execution_count": 93,
   "id": "33b0c5c9",
   "metadata": {},
   "outputs": [
    {
     "name": "stdout",
     "output_type": "stream",
     "text": [
      "Haripriya\n",
      "2\n",
      "4\n"
     ]
    }
   ],
   "source": [
    "d1 = {\"string\":\"Haripriya\",\"Tuple\":(1,2,3,4),\"List\":[1,2,3,4,5],\"dict\":{1:2,3:4}}\n",
    "print(d1[\"string\"])\n",
    "print(d1[\"Tuple\"][1])\n",
    "print(d1[\"dict\"][3])"
   ]
  },
  {
   "cell_type": "code",
   "execution_count": 42,
   "id": "bab13526",
   "metadata": {},
   "outputs": [],
   "source": [
    "# you can even use inbuild functions as key\n",
    "\n",
    "v = {print:10,float:300,dict:400}"
   ]
  },
  {
   "cell_type": "code",
   "execution_count": 10,
   "id": "e9a31a7b",
   "metadata": {},
   "outputs": [
    {
     "ename": "SyntaxError",
     "evalue": "invalid syntax (2768021885.py, line 3)",
     "output_type": "error",
     "traceback": [
      "\u001b[1;36m  Cell \u001b[1;32mIn[10], line 3\u001b[1;36m\u001b[0m\n\u001b[1;33m    di = {\"a_\":100,4:200,* = 300,_4 = 400}\u001b[0m\n\u001b[1;37m                         ^\u001b[0m\n\u001b[1;31mSyntaxError\u001b[0m\u001b[1;31m:\u001b[0m invalid syntax\n"
     ]
    }
   ],
   "source": [
    "# We cant have key names with special character like variables\n",
    "\n",
    "di = {\"a_\":100,4:200,* = 300,_4 = 400}"
   ]
  },
  {
   "cell_type": "code",
   "execution_count": 12,
   "id": "45e2ae8a",
   "metadata": {},
   "outputs": [
    {
     "data": {
      "text/plain": [
       "400"
      ]
     },
     "execution_count": 12,
     "metadata": {},
     "output_type": "execute_result"
    }
   ],
   "source": [
    "# keys name can be same but it is better to give unique key names\n",
    "\n",
    "x = {\"key1\":10,\"key2\":\"hari\",\"key3\":800,\"key1\":400}\n",
    "x[\"key1\"]    # internally it updates the value so key1 value is not 10 but 400  so it gets confused"
   ]
  },
  {
   "cell_type": "code",
   "execution_count": 13,
   "id": "75091d12",
   "metadata": {},
   "outputs": [
    {
     "name": "stdout",
     "output_type": "stream",
     "text": [
      "<class 'str'>\n"
     ]
    }
   ],
   "source": [
    "# to check type of the value in dictionary\n",
    "\n",
    "d = {\"a\":10,\"b\":10.4,\"c\":\"Haripiya\",\"d\":True,\"e\":4+5j}\n",
    "\n",
    "print(type(d[\"c\"]))"
   ]
  },
  {
   "cell_type": "code",
   "execution_count": 94,
   "id": "fe525893",
   "metadata": {},
   "outputs": [
    {
     "data": {
      "text/plain": [
       "int"
      ]
     },
     "execution_count": 94,
     "metadata": {},
     "output_type": "execute_result"
    }
   ],
   "source": [
    "d = {\"a\":10,\"b\":10.4,\"c\":\"Haripiya\",\"d\":True,\"e\":4+5j}\n",
    "type(d[\"a\"])"
   ]
  },
  {
   "cell_type": "code",
   "execution_count": 14,
   "id": "07cf0036",
   "metadata": {},
   "outputs": [
    {
     "name": "stdout",
     "output_type": "stream",
     "text": [
      "<class 'complex'>\n"
     ]
    }
   ],
   "source": [
    "print(type(d[\"e\"]))"
   ]
  },
  {
   "cell_type": "code",
   "execution_count": 31,
   "id": "128ba25c",
   "metadata": {},
   "outputs": [
    {
     "name": "stdout",
     "output_type": "stream",
     "text": [
      "3\n"
     ]
    }
   ],
   "source": [
    "# to find the lenght of the dictionary\n",
    "\n",
    "a = {\"Apple\":50,\"Mango\":30,\"Orange\":40}\n",
    "print(len(a))"
   ]
  },
  {
   "cell_type": "code",
   "execution_count": 26,
   "id": "f1a4be52",
   "metadata": {},
   "outputs": [
    {
     "name": "stdout",
     "output_type": "stream",
     "text": [
      "Apple\n",
      "Mango\n",
      "Orange\n"
     ]
    }
   ],
   "source": [
    "# to iterate using for loop\n",
    "a = {\"Apple\":50,\"Mango\":30,\"Orange\":40}\n",
    "for i in a:\n",
    "    print(i)"
   ]
  },
  {
   "cell_type": "code",
   "execution_count": 30,
   "id": "d77bb894",
   "metadata": {},
   "outputs": [
    {
     "name": "stdout",
     "output_type": "stream",
     "text": [
      "50\n",
      "30\n",
      "40\n"
     ]
    }
   ],
   "source": [
    "a = {\"Apple\":50,\"Mango\":30,\"Orange\":40}\n",
    "for i in a:\n",
    "    print(a[i])"
   ]
  },
  {
   "cell_type": "code",
   "execution_count": 27,
   "id": "19e76202",
   "metadata": {},
   "outputs": [
    {
     "name": "stdout",
     "output_type": "stream",
     "text": [
      "50\n",
      "30\n",
      "40\n"
     ]
    }
   ],
   "source": [
    "a = {\"Apple\":50,\"Mango\":30,\"Orange\":40}\n",
    "for i in a.values():\n",
    "    print(i)"
   ]
  },
  {
   "cell_type": "code",
   "execution_count": 28,
   "id": "f54ac330",
   "metadata": {},
   "outputs": [
    {
     "name": "stdout",
     "output_type": "stream",
     "text": [
      "Apple\n",
      "Mango\n",
      "Orange\n"
     ]
    }
   ],
   "source": [
    "a = {\"Apple\":50,\"Mango\":30,\"Orange\":40}\n",
    "for i in a.keys():\n",
    "    print(i)"
   ]
  },
  {
   "cell_type": "code",
   "execution_count": 35,
   "id": "62848f8f",
   "metadata": {},
   "outputs": [
    {
     "name": "stdout",
     "output_type": "stream",
     "text": [
      "('Apple', 50)\n",
      "('Mango', 30)\n",
      "('Orange', 40)\n"
     ]
    }
   ],
   "source": [
    "a = {\"Apple\":50,\"Mango\":30,\"Orange\":40}\n",
    "for i in a.items():\n",
    "    print(i)"
   ]
  },
  {
   "cell_type": "code",
   "execution_count": 96,
   "id": "a8ba4a9d",
   "metadata": {},
   "outputs": [
    {
     "name": "stdout",
     "output_type": "stream",
     "text": [
      "(0, 'Apple')\n",
      "(1, 'Mango')\n",
      "(2, 'Orange')\n"
     ]
    }
   ],
   "source": [
    "a = {\"Apple\":50,\"Mango\":30,\"Orange\":40}\n",
    "\n",
    "for i in enumerate(a):\n",
    "    print(i)"
   ]
  },
  {
   "cell_type": "code",
   "execution_count": 98,
   "id": "32d55511",
   "metadata": {},
   "outputs": [
    {
     "data": {
      "text/plain": [
       "True"
      ]
     },
     "execution_count": 98,
     "metadata": {},
     "output_type": "execute_result"
    }
   ],
   "source": [
    "# Membership\n",
    "\n",
    "fruits = {\"Apple\":50,\"Mango\":30,\"Orange\":40}\n",
    "\"Apple\" in fruits"
   ]
  },
  {
   "cell_type": "code",
   "execution_count": 45,
   "id": "aad3cd19",
   "metadata": {},
   "outputs": [
    {
     "data": {
      "text/plain": [
       "False"
      ]
     },
     "execution_count": 45,
     "metadata": {},
     "output_type": "execute_result"
    }
   ],
   "source": [
    "\"Grapes\" in fruits"
   ]
  },
  {
   "cell_type": "code",
   "execution_count": 51,
   "id": "5f46a0b0",
   "metadata": {},
   "outputs": [
    {
     "ename": "TypeError",
     "evalue": "unsupported operand type(s) for +: 'dict' and 'dict'",
     "output_type": "error",
     "traceback": [
      "\u001b[1;31m---------------------------------------------------------------------------\u001b[0m",
      "\u001b[1;31mTypeError\u001b[0m                                 Traceback (most recent call last)",
      "Cell \u001b[1;32mIn[51], line 5\u001b[0m\n\u001b[0;32m      3\u001b[0m d1 \u001b[38;5;241m=\u001b[39m {\u001b[38;5;241m1\u001b[39m:\u001b[38;5;241m10\u001b[39m,\u001b[38;5;241m2\u001b[39m:\u001b[38;5;241m20\u001b[39m,\u001b[38;5;241m3\u001b[39m:\u001b[38;5;241m30\u001b[39m}\n\u001b[0;32m      4\u001b[0m d2 \u001b[38;5;241m=\u001b[39m {\u001b[38;5;241m4\u001b[39m:\u001b[38;5;241m40\u001b[39m,\u001b[38;5;241m5\u001b[39m:\u001b[38;5;241m50\u001b[39m,\u001b[38;5;241m6\u001b[39m:\u001b[38;5;241m60\u001b[39m}\n\u001b[1;32m----> 5\u001b[0m \u001b[38;5;28mprint\u001b[39m(d1 \u001b[38;5;241m+\u001b[39m d2)\n\u001b[0;32m      7\u001b[0m d1 \u001b[38;5;241m=\u001b[39m {\u001b[38;5;241m1\u001b[39m:\u001b[38;5;241m10\u001b[39m,\u001b[38;5;241m2\u001b[39m:\u001b[38;5;241m20\u001b[39m,\u001b[38;5;241m3\u001b[39m:\u001b[38;5;241m30\u001b[39m}\n\u001b[0;32m      8\u001b[0m d2 \u001b[38;5;241m=\u001b[39m {\u001b[38;5;241m4\u001b[39m:\u001b[38;5;241m40\u001b[39m,\u001b[38;5;241m5\u001b[39m:\u001b[38;5;241m50\u001b[39m,\u001b[38;5;241m6\u001b[39m:\u001b[38;5;241m60\u001b[39m}\n",
      "\u001b[1;31mTypeError\u001b[0m: unsupported operand type(s) for +: 'dict' and 'dict'"
     ]
    }
   ],
   "source": [
    "# Concatenation in dictionary is not possible even though both are homogeneous\n",
    "\n",
    "d1 = {1:10,2:20,3:30}\n",
    "d2 = {4:40,5:50,6:60}\n",
    "print(d1 + d2)\n"
   ]
  },
  {
   "cell_type": "code",
   "execution_count": 52,
   "id": "35021f57",
   "metadata": {},
   "outputs": [
    {
     "ename": "TypeError",
     "evalue": "unsupported operand type(s) for *: 'dict' and 'dict'",
     "output_type": "error",
     "traceback": [
      "\u001b[1;31m---------------------------------------------------------------------------\u001b[0m",
      "\u001b[1;31mTypeError\u001b[0m                                 Traceback (most recent call last)",
      "Cell \u001b[1;32mIn[52], line 3\u001b[0m\n\u001b[0;32m      1\u001b[0m d1 \u001b[38;5;241m=\u001b[39m {\u001b[38;5;241m1\u001b[39m:\u001b[38;5;241m10\u001b[39m,\u001b[38;5;241m2\u001b[39m:\u001b[38;5;241m20\u001b[39m,\u001b[38;5;241m3\u001b[39m:\u001b[38;5;241m30\u001b[39m}\n\u001b[0;32m      2\u001b[0m d2 \u001b[38;5;241m=\u001b[39m {\u001b[38;5;241m4\u001b[39m:\u001b[38;5;241m40\u001b[39m,\u001b[38;5;241m5\u001b[39m:\u001b[38;5;241m50\u001b[39m,\u001b[38;5;241m6\u001b[39m:\u001b[38;5;241m60\u001b[39m}\n\u001b[1;32m----> 3\u001b[0m \u001b[38;5;28mprint\u001b[39m(d1 \u001b[38;5;241m*\u001b[39m d2)\n",
      "\u001b[1;31mTypeError\u001b[0m: unsupported operand type(s) for *: 'dict' and 'dict'"
     ]
    }
   ],
   "source": [
    "d1 = {1:10,2:20,3:30}\n",
    "d2 = {4:40,5:50,6:60}\n",
    "print(d1 * d2)"
   ]
  },
  {
   "cell_type": "code",
   "execution_count": 84,
   "id": "23f9ccfb",
   "metadata": {},
   "outputs": [
    {
     "name": "stdout",
     "output_type": "stream",
     "text": [
      "Haripriya\n",
      "{'H': 1, 'a': 2, 'r': 2, 'i': 2, 'p': 1, 'y': 1}\n"
     ]
    }
   ],
   "source": [
    "# take a string as an input and find the frequency of eac letter in the string\n",
    "\n",
    "s = input()\n",
    "d = {}\n",
    "\n",
    "for i in s:\n",
    "    if i in d:\n",
    "        d[i] = d[i] + 1\n",
    "    else:\n",
    "        d[i] = 1\n",
    "print(d)"
   ]
  },
  {
   "cell_type": "markdown",
   "id": "bd03a893",
   "metadata": {},
   "source": [
    "### Dictionaries cannot be accessed with indexing and slicing"
   ]
  },
  {
   "cell_type": "code",
   "execution_count": 18,
   "id": "95c7f55d",
   "metadata": {},
   "outputs": [
    {
     "ename": "KeyError",
     "evalue": "0",
     "output_type": "error",
     "traceback": [
      "\u001b[1;31m---------------------------------------------------------------------------\u001b[0m",
      "\u001b[1;31mKeyError\u001b[0m                                  Traceback (most recent call last)",
      "Cell \u001b[1;32mIn[18], line 4\u001b[0m\n\u001b[0;32m      1\u001b[0m \u001b[38;5;66;03m# Dictionaries can be accessed with keys only\u001b[39;00m\n\u001b[0;32m      3\u001b[0m a \u001b[38;5;241m=\u001b[39m {\u001b[38;5;124m\"\u001b[39m\u001b[38;5;124mApple\u001b[39m\u001b[38;5;124m\"\u001b[39m:\u001b[38;5;241m50\u001b[39m,\u001b[38;5;124m\"\u001b[39m\u001b[38;5;124mMango\u001b[39m\u001b[38;5;124m\"\u001b[39m:\u001b[38;5;241m30\u001b[39m,\u001b[38;5;124m\"\u001b[39m\u001b[38;5;124mOrange\u001b[39m\u001b[38;5;124m\"\u001b[39m:\u001b[38;5;241m40\u001b[39m}\n\u001b[1;32m----> 4\u001b[0m a[\u001b[38;5;241m0\u001b[39m]\n",
      "\u001b[1;31mKeyError\u001b[0m: 0"
     ]
    }
   ],
   "source": [
    "# Dictionaries can be accessed with keys only\n",
    "\n",
    "a = {\"Apple\":50,\"Mango\":30,\"Orange\":40}\n",
    "a[0]"
   ]
  },
  {
   "cell_type": "code",
   "execution_count": 19,
   "id": "62fe460d",
   "metadata": {},
   "outputs": [
    {
     "name": "stdout",
     "output_type": "stream",
     "text": [
      "50\n"
     ]
    }
   ],
   "source": [
    "a = {\"Apple\":50,\"Mango\":30,\"Orange\":40}\n",
    "print(a[\"Apple\"])"
   ]
  },
  {
   "cell_type": "code",
   "execution_count": 20,
   "id": "ddafa259",
   "metadata": {},
   "outputs": [
    {
     "name": "stdout",
     "output_type": "stream",
     "text": [
      "30\n"
     ]
    }
   ],
   "source": [
    "a = {\"Apple\":50,\"Mango\":30,\"Orange\":40}\n",
    "print(a[\"Mango\"])"
   ]
  },
  {
   "cell_type": "code",
   "execution_count": 21,
   "id": "3dd20059",
   "metadata": {},
   "outputs": [
    {
     "name": "stdout",
     "output_type": "stream",
     "text": [
      "{'Apple': 50, 'Mango': 30, 'Orange': 40, 'key4': 1000}\n"
     ]
    }
   ],
   "source": [
    "# To add item in a dictionary\n",
    "\n",
    "a[\"key4\"] = 1000\n",
    "print(a)"
   ]
  },
  {
   "cell_type": "code",
   "execution_count": 22,
   "id": "529d165c",
   "metadata": {},
   "outputs": [],
   "source": [
    "# to remove item in a dictionary\n",
    "\n",
    "del a[\"key4\"]"
   ]
  },
  {
   "cell_type": "code",
   "execution_count": 23,
   "id": "dea8f4e8",
   "metadata": {},
   "outputs": [
    {
     "data": {
      "text/plain": [
       "{'Apple': 50, 'Mango': 30, 'Orange': 40}"
      ]
     },
     "execution_count": 23,
     "metadata": {},
     "output_type": "execute_result"
    }
   ],
   "source": [
    "a"
   ]
  },
  {
   "cell_type": "code",
   "execution_count": 24,
   "id": "94c23990",
   "metadata": {},
   "outputs": [],
   "source": [
    "# to change any value of the item in a dictionary\n",
    "\n",
    "a = {\"Apple\":50,\"Mango\":30,\"Orange\":40}\n",
    "a[\"Apple\"] = 100"
   ]
  },
  {
   "cell_type": "code",
   "execution_count": 25,
   "id": "41bce5f9",
   "metadata": {},
   "outputs": [
    {
     "data": {
      "text/plain": [
       "{'Apple': 100, 'Mango': 30, 'Orange': 40}"
      ]
     },
     "execution_count": 25,
     "metadata": {},
     "output_type": "execute_result"
    }
   ],
   "source": [
    "a"
   ]
  },
  {
   "cell_type": "code",
   "execution_count": 34,
   "id": "ce0d1377",
   "metadata": {},
   "outputs": [
    {
     "name": "stdout",
     "output_type": "stream",
     "text": [
      "Name:  Haripriya\n",
      "Age:  21\n",
      "Place:  Chennai\n",
      "Date of birth:  03/09/2002\n"
     ]
    }
   ],
   "source": [
    "Details = {\"Name\":\"Haripriya\",\"Age\":21,\"Place\":\"Chennai\",\"DOB\":\"03/09/2002\"}\n",
    "\n",
    "print(\"Name: \",Details[\"Name\"])\n",
    "print(\"Age: \",Details[\"Age\"])\n",
    "print(\"Place: \",Details[\"Place\"])\n",
    "print(\"Date of birth: \",Details[\"DOB\"])"
   ]
  },
  {
   "cell_type": "code",
   "execution_count": 36,
   "id": "4fe3e286",
   "metadata": {},
   "outputs": [
    {
     "ename": "KeyError",
     "evalue": "'grapes'",
     "output_type": "error",
     "traceback": [
      "\u001b[1;31m---------------------------------------------------------------------------\u001b[0m",
      "\u001b[1;31mKeyError\u001b[0m                                  Traceback (most recent call last)",
      "Cell \u001b[1;32mIn[36], line 4\u001b[0m\n\u001b[0;32m      1\u001b[0m \u001b[38;5;66;03m# the key is not actually in the dictionary\u001b[39;00m\n\u001b[0;32m      3\u001b[0m a \u001b[38;5;241m=\u001b[39m {\u001b[38;5;124m\"\u001b[39m\u001b[38;5;124mApple\u001b[39m\u001b[38;5;124m\"\u001b[39m:\u001b[38;5;241m50\u001b[39m,\u001b[38;5;124m\"\u001b[39m\u001b[38;5;124mMango\u001b[39m\u001b[38;5;124m\"\u001b[39m:\u001b[38;5;241m30\u001b[39m,\u001b[38;5;124m\"\u001b[39m\u001b[38;5;124mOrange\u001b[39m\u001b[38;5;124m\"\u001b[39m:\u001b[38;5;241m40\u001b[39m}\n\u001b[1;32m----> 4\u001b[0m a[\u001b[38;5;124m\"\u001b[39m\u001b[38;5;124mgrapes\u001b[39m\u001b[38;5;124m\"\u001b[39m]\n",
      "\u001b[1;31mKeyError\u001b[0m: 'grapes'"
     ]
    }
   ],
   "source": [
    "# the key is not actually in the dictionary\n",
    "\n",
    "a = {\"Apple\":50,\"Mango\":30,\"Orange\":40}\n",
    "a[\"grapes\"]"
   ]
  },
  {
   "cell_type": "code",
   "execution_count": 39,
   "id": "70719de3",
   "metadata": {},
   "outputs": [
    {
     "data": {
      "text/plain": [
       "'Hari'"
      ]
     },
     "execution_count": 39,
     "metadata": {},
     "output_type": "execute_result"
    }
   ],
   "source": [
    "x = {1:\"Hari\",2:10,3:300.4}\n",
    "x[1]"
   ]
  },
  {
   "cell_type": "markdown",
   "id": "5c778fbf",
   "metadata": {},
   "source": [
    "### Dictionary is mutable!!!"
   ]
  },
  {
   "cell_type": "code",
   "execution_count": 46,
   "id": "9355aa17",
   "metadata": {},
   "outputs": [
    {
     "name": "stdout",
     "output_type": "stream",
     "text": [
      "{'Apple': 100, 'Mango': 30, 'Orange': 40}\n"
     ]
    }
   ],
   "source": [
    "fruits = {\"Apple\":50,\"Mango\":30,\"Orange\":40}\n",
    "\n",
    "fruits[\"Apple\"] = 100\n",
    "print(fruits)"
   ]
  },
  {
   "cell_type": "markdown",
   "id": "3d6940db",
   "metadata": {},
   "source": [
    "### Inbuild functions"
   ]
  },
  {
   "cell_type": "code",
   "execution_count": 47,
   "id": "02191675",
   "metadata": {},
   "outputs": [],
   "source": [
    "numbers = {\"one\":10,\"two\":20,\"three\":30,\"four\":40,\"five\":50}"
   ]
  },
  {
   "cell_type": "code",
   "execution_count": 49,
   "id": "c9d12041",
   "metadata": {},
   "outputs": [
    {
     "data": {
      "text/plain": [
       "10"
      ]
     },
     "execution_count": 49,
     "metadata": {},
     "output_type": "execute_result"
    }
   ],
   "source": [
    "# get() - To get value of the key or Returns the value of the specified key.\n",
    "\n",
    "numbers.get(\"one\")"
   ]
  },
  {
   "cell_type": "code",
   "execution_count": 99,
   "id": "9a4b8117",
   "metadata": {},
   "outputs": [
    {
     "data": {
      "text/plain": [
       "30"
      ]
     },
     "execution_count": 99,
     "metadata": {},
     "output_type": "execute_result"
    }
   ],
   "source": [
    "numbers = {\"one\":10,\"two\":20,\"three\":30,\"four\":40,\"five\":50}\n",
    "numbers.get(\"three\")"
   ]
  },
  {
   "cell_type": "code",
   "execution_count": 57,
   "id": "acdade95",
   "metadata": {},
   "outputs": [
    {
     "name": "stdout",
     "output_type": "stream",
     "text": [
      "{'a': {1000, 3000, 2000}, 'c': {1000, 3000, 2000}, 'b': {1000, 3000, 2000}}\n"
     ]
    }
   ],
   "source": [
    "# fromkeys() - Returns a dictionary with the specified keys and value\n",
    "\n",
    "\n",
    "d = {}\n",
    "keys = {\"a\",\"b\",\"c\"}\n",
    "values = {1000,2000,3000}\n",
    "\n",
    "d1 = d.fromkeys(keys,values)\n",
    "print(d1)"
   ]
  },
  {
   "cell_type": "code",
   "execution_count": 101,
   "id": "a1fa1c74",
   "metadata": {},
   "outputs": [
    {
     "name": "stdout",
     "output_type": "stream",
     "text": [
      "{'o': 1000, 'r': 1000, 'a': 1000, 'n': 1000, 'g': 1000, 'e': 1000}\n"
     ]
    }
   ],
   "source": [
    "l = {}\n",
    "\n",
    "l1 = l.fromkeys(\"orange\",1000)\n",
    "print(l1)"
   ]
  },
  {
   "cell_type": "code",
   "execution_count": 59,
   "id": "8fa06134",
   "metadata": {},
   "outputs": [
    {
     "name": "stdout",
     "output_type": "stream",
     "text": [
      "{'one': 10, 'two': 20, 'three': 30, 'four': 40, 'five': 50}\n"
     ]
    }
   ],
   "source": [
    "# copy() - Returns a copy of the dictionary.\n",
    "\n",
    "numbers = {\"one\":10,\"two\":20,\"three\":30,\"four\":40,\"five\":50}\n",
    "numbers_1 = numbers.copy()\n",
    "print(numbers_1)"
   ]
  },
  {
   "cell_type": "code",
   "execution_count": 103,
   "id": "c1e2467a",
   "metadata": {},
   "outputs": [
    {
     "name": "stdout",
     "output_type": "stream",
     "text": [
      "{'one': 10, 'two': 20, 'three': 30, 'four': 40, 'five': 50}\n"
     ]
    }
   ],
   "source": [
    "numbers = {\"one\":10,\"two\":20,\"three\":30,\"four\":40,\"five\":50}\n",
    "number = numbers.copy()\n",
    "print(number)"
   ]
  },
  {
   "cell_type": "code",
   "execution_count": 61,
   "id": "2e787f74",
   "metadata": {},
   "outputs": [
    {
     "name": "stdout",
     "output_type": "stream",
     "text": [
      "{}\n"
     ]
    }
   ],
   "source": [
    "# clear() - Remove all the items from the dictionary.\n",
    "\n",
    "numbers = {\"one\":10,\"two\":20,\"three\":30,\"four\":40,\"five\":50}\n",
    "numbers.clear()\n",
    "print(numbers)"
   ]
  },
  {
   "cell_type": "code",
   "execution_count": 62,
   "id": "b4e800d9",
   "metadata": {},
   "outputs": [
    {
     "name": "stdout",
     "output_type": "stream",
     "text": [
      "dict_items([('one', 10), ('two', 20), ('three', 30), ('four', 40), ('five', 50)])\n"
     ]
    }
   ],
   "source": [
    "# items() - It returns all the key-value pairs as a tuple.\n",
    "\n",
    "numbers = {\"one\":10,\"two\":20,\"three\":30,\"four\":40,\"five\":50}\n",
    "key_val = numbers.items()\n",
    "print(key_val)"
   ]
  },
  {
   "cell_type": "code",
   "execution_count": 63,
   "id": "752ec74e",
   "metadata": {},
   "outputs": [
    {
     "data": {
      "text/plain": [
       "dict_keys(['one', 'two', 'three', 'four', 'five'])"
      ]
     },
     "execution_count": 63,
     "metadata": {},
     "output_type": "execute_result"
    }
   ],
   "source": [
    "# keys() - It returns all the keys of the dictionary.\n",
    "\n",
    "numbers = {\"one\":10,\"two\":20,\"three\":30,\"four\":40,\"five\":50}\n",
    "numbers.keys()"
   ]
  },
  {
   "cell_type": "code",
   "execution_count": 65,
   "id": "0b75e24c",
   "metadata": {},
   "outputs": [
    {
     "data": {
      "text/plain": [
       "dict_values([10, 20, 30, 40, 50])"
      ]
     },
     "execution_count": 65,
     "metadata": {},
     "output_type": "execute_result"
    }
   ],
   "source": [
    "# values() - Returns a list of values in a dictionary.\n",
    "\n",
    "numbers = {\"one\":10,\"two\":20,\"three\":30,\"four\":40,\"five\":50}\n",
    "numbers.values()"
   ]
  },
  {
   "cell_type": "code",
   "execution_count": 67,
   "id": "3f5ea749",
   "metadata": {},
   "outputs": [
    {
     "name": "stdout",
     "output_type": "stream",
     "text": [
      "{'one': 10, 'two': 20, 'three': 30, 'four': 40}\n"
     ]
    }
   ],
   "source": [
    "# pop() - Removes the item with the specified key.\n",
    "\n",
    "numbers = {\"one\":10,\"two\":20,\"three\":30,\"four\":40,\"five\":50}\n",
    "numbers.pop(\"five\")\n",
    "print(numbers)"
   ]
  },
  {
   "cell_type": "code",
   "execution_count": 105,
   "id": "fd448275",
   "metadata": {},
   "outputs": [
    {
     "data": {
      "text/plain": [
       "{'one': 10, 'two': 20, 'three': 30, 'five': 50}"
      ]
     },
     "execution_count": 105,
     "metadata": {},
     "output_type": "execute_result"
    }
   ],
   "source": [
    "numbers = {\"one\":10,\"two\":20,\"three\":30,\"four\":40,\"five\":50}\n",
    "numbers.pop(\"four\")\n",
    "numbers"
   ]
  },
  {
   "cell_type": "code",
   "execution_count": 68,
   "id": "1dedddb5",
   "metadata": {},
   "outputs": [
    {
     "ename": "KeyError",
     "evalue": "'six'",
     "output_type": "error",
     "traceback": [
      "\u001b[1;31m---------------------------------------------------------------------------\u001b[0m",
      "\u001b[1;31mKeyError\u001b[0m                                  Traceback (most recent call last)",
      "Cell \u001b[1;32mIn[68], line 2\u001b[0m\n\u001b[0;32m      1\u001b[0m numbers \u001b[38;5;241m=\u001b[39m {\u001b[38;5;124m\"\u001b[39m\u001b[38;5;124mone\u001b[39m\u001b[38;5;124m\"\u001b[39m:\u001b[38;5;241m10\u001b[39m,\u001b[38;5;124m\"\u001b[39m\u001b[38;5;124mtwo\u001b[39m\u001b[38;5;124m\"\u001b[39m:\u001b[38;5;241m20\u001b[39m,\u001b[38;5;124m\"\u001b[39m\u001b[38;5;124mthree\u001b[39m\u001b[38;5;124m\"\u001b[39m:\u001b[38;5;241m30\u001b[39m,\u001b[38;5;124m\"\u001b[39m\u001b[38;5;124mfour\u001b[39m\u001b[38;5;124m\"\u001b[39m:\u001b[38;5;241m40\u001b[39m,\u001b[38;5;124m\"\u001b[39m\u001b[38;5;124mfive\u001b[39m\u001b[38;5;124m\"\u001b[39m:\u001b[38;5;241m50\u001b[39m}\n\u001b[1;32m----> 2\u001b[0m numbers\u001b[38;5;241m.\u001b[39mpop(\u001b[38;5;124m\"\u001b[39m\u001b[38;5;124msix\u001b[39m\u001b[38;5;124m\"\u001b[39m)\n",
      "\u001b[1;31mKeyError\u001b[0m: 'six'"
     ]
    }
   ],
   "source": [
    "numbers = {\"one\":10,\"two\":20,\"three\":30,\"four\":40,\"five\":50}\n",
    "numbers.pop(\"six\")"
   ]
  },
  {
   "cell_type": "code",
   "execution_count": 70,
   "id": "7100a085",
   "metadata": {},
   "outputs": [
    {
     "data": {
      "text/plain": [
       "('five', 50)"
      ]
     },
     "execution_count": 70,
     "metadata": {},
     "output_type": "execute_result"
    }
   ],
   "source": [
    "# popitem - removes the most recent key-value pair entered or Returns the last inserted key and value as a tuple\n",
    "\n",
    "numbers = {\"one\":10,\"two\":20,\"three\":30,\"four\":40,\"five\":50}\n",
    "numbers.popitem()"
   ]
  },
  {
   "cell_type": "code",
   "execution_count": 72,
   "id": "5957f027",
   "metadata": {},
   "outputs": [
    {
     "data": {
      "text/plain": [
       "('six', 60)"
      ]
     },
     "execution_count": 72,
     "metadata": {},
     "output_type": "execute_result"
    }
   ],
   "source": [
    "numbers = {\"one\":10,\"two\":20,\"three\":30,\"four\":40,\"five\":50}\n",
    "numbers[\"six\"] = 60\n",
    "numbers.popitem()"
   ]
  },
  {
   "cell_type": "code",
   "execution_count": 73,
   "id": "7e6157e4",
   "metadata": {},
   "outputs": [
    {
     "data": {
      "text/plain": [
       "{'one': 10, 'two': 20, 'three': 30, 'four': 40, 'five': 50}"
      ]
     },
     "execution_count": 73,
     "metadata": {},
     "output_type": "execute_result"
    }
   ],
   "source": [
    "numbers"
   ]
  },
  {
   "cell_type": "code",
   "execution_count": 81,
   "id": "1c502364",
   "metadata": {},
   "outputs": [
    {
     "data": {
      "text/plain": [
       "{'one': 10, 'two': 20, 'three': 30, 'four': 40, 'five': 50, 'six': 60}"
      ]
     },
     "execution_count": 81,
     "metadata": {},
     "output_type": "execute_result"
    }
   ],
   "source": [
    "\"\"\"\n",
    "setdefault()-The setdefault() method is designed to retrieve a value from a dictionary based on a given key,\n",
    "but it also has the capability to insert a new key-value pair with a default value if the key doesn't already exist.\n",
    "Returns the value of the specified key. If the key does not exist: insert the key, with the specified value.\n",
    "\"\"\"\n",
    "\n",
    "\n",
    "numbers = {\"one\":10,\"two\":20,\"three\":30,\"four\":40,\"five\":50}\n",
    "numbers.setdefault(\"six\",60)\n",
    "numbers"
   ]
  },
  {
   "cell_type": "code",
   "execution_count": 77,
   "id": "f7cea2db",
   "metadata": {},
   "outputs": [
    {
     "name": "stdout",
     "output_type": "stream",
     "text": [
      "{'fruit': 'apple', 'color': 'red'}\n"
     ]
    }
   ],
   "source": [
    "# Example 1: Key exists\n",
    "\n",
    "my_dict = {\"fruit\": \"apple\", \"color\": \"red\"}\n",
    "fruit = my_dict.setdefault(\"fruit\", \"banana\")  # Key exists, returns \"apple\"\n",
    "print(my_dict) # Output: {\"fruit\": \"apple\", \"color\": \"red\"} (no change)"
   ]
  },
  {
   "cell_type": "code",
   "execution_count": 78,
   "id": "19712b07",
   "metadata": {},
   "outputs": [
    {
     "name": "stdout",
     "output_type": "stream",
     "text": [
      "{'fruit': 'apple', 'color': 'red', 'size': 'medium'}\n"
     ]
    }
   ],
   "source": [
    "# Example 2: Key doesn't exist\n",
    "color = my_dict.setdefault(\"size\", \"medium\")  # Key doesn't exist, inserts \"size\": \"medium\"\n",
    "print(my_dict)  # Output: {\"fruit\": \"apple\", \"color\": \"red\", \"size\": \"medium\"}"
   ]
  },
  {
   "cell_type": "code",
   "execution_count": 79,
   "id": "5cfea7d5",
   "metadata": {},
   "outputs": [
    {
     "name": "stdout",
     "output_type": "stream",
     "text": [
      "{'fruit': 'apple', 'color': 'red', 'size': 'medium', 'missing_key': None}\n"
     ]
    }
   ],
   "source": [
    "# Example 3: Omitting default value\n",
    "value = my_dict.setdefault(\"missing_key\")  # Key doesn't exist, inserts \"missing_key\": None\n",
    "print(my_dict)  # Output: {..., \"missing_key\": None}"
   ]
  },
  {
   "cell_type": "code",
   "execution_count": 83,
   "id": "92842c57",
   "metadata": {},
   "outputs": [
    {
     "name": "stdout",
     "output_type": "stream",
     "text": [
      "{'one': 1000, 'two': 20, 'three': 30, 'four': 40, 'five': 50}\n"
     ]
    }
   ],
   "source": [
    "# update() - Adds or changes dictionary items\n",
    "\n",
    "numbers = {\"one\":10,\"two\":20,\"three\":30,\"four\":40,\"five\":50}\n",
    "numbers.update({\"one\":1000})\n",
    "print(numbers)"
   ]
  },
  {
   "cell_type": "markdown",
   "id": "447c67b3",
   "metadata": {},
   "source": [
    "### Udemy exercises"
   ]
  },
  {
   "cell_type": "markdown",
   "id": "c1e0787c",
   "metadata": {},
   "source": [
    "#### Exercise 64\n",
    "```\n",
    "Create a dictionary from the following pairs (key, value):\n",
    "\n",
    "'USA': 'Washington'\n",
    "'Germany': 'Berlin'\n",
    "'Austria': 'Vienna'\n",
    "\n",
    "\n",
    "and print it to the console.\n",
    "\n",
    "Expected result:\n",
    "\n",
    "{'USA': 'Washington', 'Germany': 'Berlin', 'Austria': 'Vienna'}\n",
    "```"
   ]
  },
  {
   "cell_type": "code",
   "execution_count": 107,
   "id": "790cdf3e",
   "metadata": {},
   "outputs": [
    {
     "name": "stdout",
     "output_type": "stream",
     "text": [
      "dict[('USA', 'Washington'), ('Germany', 'Berlin'), ('Austria', 'Vienna')]\n"
     ]
    }
   ],
   "source": [
    "dic = dict[(\"USA\",\"Washington\"),(\"Germany\",\"Berlin\"),(\"Austria\",\"Vienna\")]\n",
    "print(dic)"
   ]
  },
  {
   "cell_type": "code",
   "execution_count": 108,
   "id": "26b80288",
   "metadata": {},
   "outputs": [
    {
     "name": "stdout",
     "output_type": "stream",
     "text": [
      "{'USA': 'Washington', 'Germany': 'Berlin', 'Austria': 'Vienna'}\n"
     ]
    }
   ],
   "source": [
    "d = {'USA': 'Washington','Germany': 'Berlin','Austria': 'Vienna'}\n",
    "print(d)"
   ]
  },
  {
   "cell_type": "markdown",
   "id": "7a18c40d",
   "metadata": {},
   "source": [
    "#### Exercise 65\n",
    "```\n",
    "The following dictionary is given:\n",
    "\n",
    "capitals = {\n",
    "    'USA': 'Washington',\n",
    "    'Germany': 'Berlin',\n",
    "    'Austria': 'Vienna'\n",
    "}\n",
    "\n",
    "Use the appropriate method to extract all keys from the capitals dictionary and print to the console.\n",
    "\n",
    "Expected result:\n",
    "dict_keys(['USA', 'Germany', 'Austria'])\n",
    "```"
   ]
  },
  {
   "cell_type": "code",
   "execution_count": 109,
   "id": "09c49299",
   "metadata": {},
   "outputs": [
    {
     "data": {
      "text/plain": [
       "dict_keys(['USA', 'Germany', 'Austria'])"
      ]
     },
     "execution_count": 109,
     "metadata": {},
     "output_type": "execute_result"
    }
   ],
   "source": [
    "capitals = {'USA': 'Washington','Germany': 'Berlin','Austria': 'Vienna'}\n",
    "capitals.keys()"
   ]
  },
  {
   "cell_type": "markdown",
   "id": "52066bb4",
   "metadata": {},
   "source": [
    "#### Exercise 66\n",
    "```\n",
    "The following dictionary is given:\n",
    "\n",
    "capitals = {\n",
    "    'USA': 'Washington',\n",
    "    'Germany': 'Berlin',\n",
    "    'Austria': 'Vienna'\n",
    "}\n",
    "\n",
    "Use the appropriate method to extract all values from the capitals dictionary and print to the console.\n",
    "\n",
    "Expected result:\n",
    "\n",
    "dict_values(['Washington', 'Berlin', 'Vienna'])\n",
    "```"
   ]
  },
  {
   "cell_type": "code",
   "execution_count": 110,
   "id": "70fb9d96",
   "metadata": {},
   "outputs": [
    {
     "name": "stdout",
     "output_type": "stream",
     "text": [
      "dict_values(['Washington', 'Berlin', 'Vienna'])\n"
     ]
    }
   ],
   "source": [
    "capitals = {'USA': 'Washington','Germany': 'Berlin','Austria': 'Vienna'}\n",
    "print(capitals.values())"
   ]
  },
  {
   "cell_type": "markdown",
   "id": "f2f49857",
   "metadata": {},
   "source": [
    "#### Exercise 67\n",
    "```\n",
    "The following dictionary is given:\n",
    "\n",
    "capitals = {\n",
    "    'USA': 'Washington',\n",
    "    'Germany': 'Berlin',\n",
    "    'Austria': 'Vienna'\n",
    "}\n",
    "\n",
    "Using the appropriate method, extract the list containing tuple objects (key, value) from the capitals dictionary and print to the console as shown below.\n",
    "\n",
    "Expected result:\n",
    "dict_items([('USA', 'Washington'), ('Germany', 'Berlin'), ('Austria', 'Vienna')])\n",
    "```"
   ]
  },
  {
   "cell_type": "code",
   "execution_count": 111,
   "id": "68d1065b",
   "metadata": {},
   "outputs": [
    {
     "name": "stdout",
     "output_type": "stream",
     "text": [
      "dict_items([('USA', 'Washington'), ('Germany', 'Berlin'), ('Austria', 'Vienna')])\n"
     ]
    }
   ],
   "source": [
    "capitals = {'USA': 'Washington','Germany': 'Berlin','Austria': 'Vienna'}\n",
    "print(capitals.items())"
   ]
  },
  {
   "cell_type": "markdown",
   "id": "3e92a7a1",
   "metadata": {},
   "source": [
    "#### Exercise 68\n",
    "```\n",
    "The following dictionary is given:\n",
    "\n",
    "capitals = {\n",
    "    'USA': 'Washington',\n",
    "    'Germany': 'Berlin',\n",
    "    'Austria': 'Vienna'\n",
    "}\n",
    "\n",
    "Using the dict.get() method, extract the value for the key 'Austria' and print it to the console.\n",
    "\n",
    "Expected result:\n",
    "Vienna\n",
    "```"
   ]
  },
  {
   "cell_type": "code",
   "execution_count": 112,
   "id": "1d89507e",
   "metadata": {},
   "outputs": [
    {
     "name": "stdout",
     "output_type": "stream",
     "text": [
      "Vienna\n"
     ]
    }
   ],
   "source": [
    "capitals = {\n",
    "    'USA': 'Washington',\n",
    "    'Germany': 'Berlin',\n",
    "    'Austria': 'Vienna'\n",
    "}\n",
    "\n",
    "print(capitals.get(\"Austria\"))"
   ]
  },
  {
   "cell_type": "code",
   "execution_count": 114,
   "id": "006b8b21",
   "metadata": {},
   "outputs": [
    {
     "name": "stdout",
     "output_type": "stream",
     "text": [
      "Vienna\n"
     ]
    }
   ],
   "source": [
    "print(capitals[\"Austria\"])"
   ]
  },
  {
   "cell_type": "markdown",
   "id": "d84b03d8",
   "metadata": {},
   "source": [
    "#### Exercise 69\n",
    "```\n",
    "The following dictionary is given:\n",
    "\n",
    "stocks = {\n",
    "    'MSFT.US': {'Microsoft Corp': 184},\n",
    "    'AAPL.US': {'Apple Inc': 310},\n",
    "    'MMM.US': {'3M Co': 148}\n",
    "}\n",
    "\n",
    "Extract the value for the key 'AAPL.US' and print it to the console.\n",
    "\n",
    "Expected result:\n",
    "{'Apple Inc': 310}\n",
    "```"
   ]
  },
  {
   "cell_type": "code",
   "execution_count": 113,
   "id": "0b16b7fc",
   "metadata": {},
   "outputs": [
    {
     "name": "stdout",
     "output_type": "stream",
     "text": [
      "{'Apple Inc': 310}\n"
     ]
    }
   ],
   "source": [
    "stocks = {\n",
    "    'MSFT.US': {'Microsoft Corp': 184},\n",
    "    'AAPL.US': {'Apple Inc': 310},\n",
    "    'MMM.US': {'3M Co': 148}\n",
    "}\n",
    "print(stocks['AAPL.US'])"
   ]
  },
  {
   "cell_type": "code",
   "execution_count": 115,
   "id": "8fbd5e68",
   "metadata": {},
   "outputs": [
    {
     "name": "stdout",
     "output_type": "stream",
     "text": [
      "{'Apple Inc': 310}\n"
     ]
    }
   ],
   "source": [
    "stocks = {\n",
    "    'MSFT.US': {'Microsoft Corp': 184},\n",
    "    'AAPL.US': {'Apple Inc': 310},\n",
    "    'MMM.US': {'3M Co': 148}\n",
    "}\n",
    "print(stocks.get(\"AAPL.US\"))"
   ]
  },
  {
   "cell_type": "markdown",
   "id": "afb23919",
   "metadata": {},
   "source": [
    "#### Exercise 70\n",
    "```\n",
    "The following dictionary is given:\n",
    "\n",
    "stocks = {\n",
    "    'MSFT.US': {'Microsoft Corp': 184},\n",
    "    'AAPL.US': {'Apple Inc': 310},\n",
    "    'MMM.US': {'3M Co': 148}\n",
    "}\n",
    "\n",
    "Get the price for Microsoft (value for the 'Microsoft Corp' key) and print it to the console.\n",
    "\n",
    "Expected result:\n",
    "184\n",
    "```"
   ]
  },
  {
   "cell_type": "code",
   "execution_count": 116,
   "id": "d326b746",
   "metadata": {},
   "outputs": [
    {
     "name": "stdout",
     "output_type": "stream",
     "text": [
      "184\n"
     ]
    }
   ],
   "source": [
    "stocks = {\n",
    "    'MSFT.US': {'Microsoft Corp': 184},\n",
    "    'AAPL.US': {'Apple Inc': 310},\n",
    "    'MMM.US': {'3M Co': 148}\n",
    "}\n",
    "\n",
    "print(stocks['MSFT.US'][\"Microsoft Corp\"])"
   ]
  },
  {
   "cell_type": "markdown",
   "id": "1ac69e37",
   "metadata": {},
   "source": [
    "#### Exercise 71\n",
    "```\n",
    "The following dictionary is given:\n",
    "\n",
    "stocks = {\n",
    "    'MSFT.US': {'Microsoft Corp': 184},\n",
    "    'AAPL.US': {'Apple Inc': 310},\n",
    "    'MMM.US': {'3M Co': 148}\n",
    "}\n",
    "\n",
    "Update the price for Microsoft to 190 and print the value for the 'MSFT.US' key to the console.\n",
    "\n",
    "Expected result:\n",
    "\n",
    "{'Microsoft Corp': 190}\n",
    "```"
   ]
  },
  {
   "cell_type": "code",
   "execution_count": 129,
   "id": "bca49a31",
   "metadata": {},
   "outputs": [
    {
     "name": "stdout",
     "output_type": "stream",
     "text": [
      "{'Microsoft Corp': 190}\n"
     ]
    }
   ],
   "source": [
    "stocks = {\n",
    "    'MSFT.US': {'Microsoft Corp': 184},\n",
    "    'AAPL.US': {'Apple Inc': 310},\n",
    "    'MMM.US': {'3M Co': 148}\n",
    "}\n",
    "\n",
    "stocks[\"MSFT.US\"][\"Microsoft Corp\"] = 190\n",
    "print(stocks[\"MSFT.US\"])\n"
   ]
  },
  {
   "cell_type": "code",
   "execution_count": 122,
   "id": "18ab8125",
   "metadata": {},
   "outputs": [
    {
     "name": "stdout",
     "output_type": "stream",
     "text": [
      "None\n",
      "{'MSFT.US': {'Microsoft': 190}, 'AAPL.US': {'Apple Inc': 310}, 'MMM.US': {'3M Co': 148}}\n"
     ]
    }
   ],
   "source": [
    "stocks = {\n",
    "    'MSFT.US': {'Microsoft Corp': 184},\n",
    "    'AAPL.US': {'Apple Inc': 310},\n",
    "    'MMM.US': {'3M Co': 148}\n",
    "}\n",
    "\n",
    "print(stocks.update({\"MSFT.US\":{\"Microsoft\":190}}))\n",
    "print(stocks)"
   ]
  },
  {
   "cell_type": "markdown",
   "id": "e83fc2e3",
   "metadata": {},
   "source": [
    "#### Exercise 72\n",
    "```\n",
    "The following dictionary is given:\n",
    "\n",
    "stocks = {\n",
    "    'MSFT.US': {'Microsoft Corp': 184},\n",
    "    'AAPL.US': {'Apple Inc': 310},\n",
    "    'MMM.US': {'3M Co': 148}\n",
    "}\n",
    "\n",
    "Add a fourth pair to this dictionary with the key 'V.US' and the value: {'Visa Inc': 185}. Print the values of the stocks dictionary to the console.\n",
    "\n",
    "Expected result:\n",
    "dict_values([{'Microsoft Corp': 184}, {'Apple Inc': 310}, {'3M Co': 148}, {'Visa Inc': 185}])\n",
    "```"
   ]
  },
  {
   "cell_type": "code",
   "execution_count": 131,
   "id": "513e7dbb",
   "metadata": {},
   "outputs": [
    {
     "name": "stdout",
     "output_type": "stream",
     "text": [
      "dict_values([{'Microsoft Corp': 184}, {'Apple Inc': 310}, {'3M Co': 148}, {'Visa Inc': 185}])\n"
     ]
    }
   ],
   "source": [
    "stocks = {\n",
    "    'MSFT.US': {'Microsoft Corp': 184},\n",
    "    'AAPL.US': {'Apple Inc': 310},\n",
    "    'MMM.US': {'3M Co': 148}\n",
    "}\n",
    "\n",
    "stocks[\"V.US\"] = {'Visa Inc': 185}\n",
    "print(stocks.values())"
   ]
  },
  {
   "cell_type": "code",
   "execution_count": 133,
   "id": "80292d99",
   "metadata": {},
   "outputs": [
    {
     "name": "stdout",
     "output_type": "stream",
     "text": [
      "dict_values([{'Microsoft Corp': 184}, {'Apple Inc': 310}, {'3M Co': 148}, {'Visa Inc': 185}])\n"
     ]
    }
   ],
   "source": [
    "stocks = {\n",
    "    'MSFT.US': {'Microsoft Corp': 184},\n",
    "    'AAPL.US': {'Apple Inc': 310},\n",
    "    'MMM.US': {'3M Co': 148}\n",
    "}\n",
    "\n",
    "stocks.update({'V.US':{'Visa Inc': 185}})\n",
    "print(stocks.values())"
   ]
  },
  {
   "cell_type": "markdown",
   "id": "16688939",
   "metadata": {},
   "source": [
    "#### Exercise 73\n",
    "```\n",
    "A list of tickers from the Dow Jones index is given:\n",
    "\n",
    "tickers = [\n",
    "    'AAPL.US', 'AXP.US', 'BA.US', 'CAT.US',\n",
    "    'CSCO.US', 'CVX.US', 'DIS.US', 'DOW.US',\n",
    "    'GS.US', 'HD.US', 'IBM.US', 'INTC.US'\n",
    "]\n",
    "\n",
    "Transform this list into a list of two-element tuple objects (index, ticker) and print it to the console.\n",
    "\n",
    "Formatted result for better view:\n",
    "\n",
    "\n",
    "[(0, 'AAPL.US'),\n",
    " (1, 'AXP.US'),\n",
    " (2, 'BA.US'),\n",
    " (3, 'CAT.US'),\n",
    " (4, 'CSCO.US'),\n",
    " (5, 'CVX.US'),\n",
    " (6, 'DIS.US'),\n",
    " (7, 'DOW.US'),\n",
    " (8, 'GS.US'),\n",
    " (9, 'HD.US'),\n",
    " (10, 'IBM.US'),\n",
    " (11, 'INTC.US')]\n",
    "\n",
    "Expected result:\n",
    "\n",
    "\n",
    "[(0, 'AAPL.US'), (1, 'AXP.US'), (2, 'BA.US'), (3, 'CAT.US'), (4, 'CSCO.US'), (5, 'CVX.US'), (6, 'DIS.US'), (7, 'DOW.US'), (8, 'GS.US'), (9, 'HD.US'), (10, 'IBM.US'), (11, 'INTC.US')]\n",
    "```"
   ]
  },
  {
   "cell_type": "code",
   "execution_count": 7,
   "id": "8e73f8a2",
   "metadata": {},
   "outputs": [
    {
     "name": "stdout",
     "output_type": "stream",
     "text": [
      "[(0, 'AAPL.US'), (1, 'AXP.US'), (2, 'BA.US'), (3, 'CAT.US'), (4, 'CSCO.US'), (5, 'CVX.US'), (6, 'DIS.US'), (7, 'DOW.US'), (8, 'GS.US'), (9, 'HD.US'), (10, 'IBM.US'), (11, 'INTC.US')]\n"
     ]
    }
   ],
   "source": [
    "tickers = [\n",
    "    'AAPL.US', 'AXP.US', 'BA.US', 'CAT.US',\n",
    "    'CSCO.US', 'CVX.US', 'DIS.US', 'DOW.US',\n",
    "    'GS.US', 'HD.US', 'IBM.US', 'INTC.US'\n",
    "]\n",
    "print(list(enumerate(tickers)))"
   ]
  },
  {
   "cell_type": "code",
   "execution_count": 6,
   "id": "1420792b",
   "metadata": {},
   "outputs": [
    {
     "name": "stdout",
     "output_type": "stream",
     "text": [
      "(0, 'AAPL.US')\n",
      "(1, 'AXP.US')\n",
      "(2, 'BA.US')\n",
      "(3, 'CAT.US')\n",
      "(4, 'CSCO.US')\n",
      "(5, 'CVX.US')\n",
      "(6, 'DIS.US')\n",
      "(7, 'DOW.US')\n",
      "(8, 'GS.US')\n",
      "(9, 'HD.US')\n",
      "(10, 'IBM.US')\n",
      "(11, 'INTC.US')\n"
     ]
    }
   ],
   "source": [
    "tickers = [\n",
    "    'AAPL.US', 'AXP.US', 'BA.US', 'CAT.US',\n",
    "    'CSCO.US', 'CVX.US', 'DIS.US', 'DOW.US',\n",
    "    'GS.US', 'HD.US', 'IBM.US', 'INTC.US'\n",
    "]\n",
    "\n",
    "for i in enumerate(tickers):\n",
    "    print(i)"
   ]
  },
  {
   "cell_type": "markdown",
   "id": "c76f6182",
   "metadata": {},
   "source": [
    "#### Exercise 74\n",
    "```\n",
    "A list of tickers from the Dow Jones index is given:\n",
    "\n",
    "tickers = [\n",
    "    'AAPL.US', 'AXP.US', 'BA.US', 'CAT.US',\n",
    "    'CSCO.US', 'CVX.US', 'DIS.US', 'DOW.US',\n",
    "    'GS.US', 'HD.US', 'IBM.US', 'INTC.US'\n",
    "]\n",
    "\n",
    "Transform this list into a dictionary (index, ticker) and print it to the console.\n",
    "Formatted result for better view:\n",
    "\n",
    "{0: 'AAPL.US',\n",
    " 1: 'AXP.US',\n",
    " 2: 'BA.US',\n",
    " 3: 'CAT.US',\n",
    " 4: 'CSCO.US',\n",
    " 5: 'CVX.US',\n",
    " 6: 'DIS.US',\n",
    " 7: 'DOW.US',\n",
    " 8: 'GS.US',\n",
    " 9: 'HD.US',\n",
    " 10: 'IBM.US',\n",
    " 11: 'INTC.US'}\n",
    "\n",
    "\n",
    "Expected result:\n",
    "\n",
    "{0: 'AAPL.US', 1: 'AXP.US', 2: 'BA.US', 3: 'CAT.US', 4: 'CSCO.US', 5: 'CVX.US', 6: 'DIS.US', 7: 'DOW.US', 8: 'GS.US', 9: 'HD.US', 10: 'IBM.US', 11: 'INTC.US'}\n",
    "```"
   ]
  },
  {
   "cell_type": "code",
   "execution_count": 11,
   "id": "c2307269",
   "metadata": {},
   "outputs": [
    {
     "name": "stdout",
     "output_type": "stream",
     "text": [
      "{0: 'AAPL.US', 1: 'AXP.US', 2: 'BA.US', 3: 'CAT.US', 4: 'CSCO.US', 5: 'CVX.US', 6: 'DIS.US', 7: 'DOW.US', 8: 'GS.US', 9: 'HD.US', 10: 'IBM.US', 11: 'INTC.US'}\n"
     ]
    }
   ],
   "source": [
    "tickers = [\n",
    "    'AAPL.US', 'AXP.US', 'BA.US', 'CAT.US',\n",
    "    'CSCO.US', 'CVX.US', 'DIS.US', 'DOW.US',\n",
    "    'GS.US', 'HD.US', 'IBM.US', 'INTC.US'\n",
    "]\n",
    "\n",
    "print(dict(enumerate(tickers)))"
   ]
  },
  {
   "cell_type": "markdown",
   "id": "325f1341",
   "metadata": {},
   "source": [
    "#### Exercise 75\n",
    "```\n",
    "The following dictionary is given:\n",
    "\n",
    "project_ids = {\n",
    "    '01': 'open', \n",
    "    '03': 'in progress',\n",
    "    '05': 'in progress',\n",
    "    '04': 'completed'\n",
    "}\n",
    "\n",
    "Extract a list of unique values (sorted alphabetically) from the project_ids dictionary and print it to the console.\n",
    "Expected result:\n",
    "['completed', 'in progress', 'open']\n",
    "```"
   ]
  },
  {
   "cell_type": "code",
   "execution_count": 16,
   "id": "2c6662af",
   "metadata": {},
   "outputs": [
    {
     "name": "stdout",
     "output_type": "stream",
     "text": [
      "['completed', 'in progress', 'open']\n"
     ]
    }
   ],
   "source": [
    "project_ids = {\n",
    "    '01': 'open', \n",
    "    '03': 'in progress',\n",
    "    '05': 'in progress',\n",
    "    '04': 'completed'\n",
    "}\n",
    "\n",
    "unique_values = set(project_ids.values())\n",
    "print(sorted(list(unique_values)))"
   ]
  },
  {
   "cell_type": "code",
   "execution_count": 18,
   "id": "73cd391c",
   "metadata": {},
   "outputs": [
    {
     "name": "stdout",
     "output_type": "stream",
     "text": [
      "['completed', 'in progress', 'open']\n"
     ]
    }
   ],
   "source": [
    "project_ids = {\n",
    "    '01': 'open', \n",
    "    '03': 'in progress',\n",
    "    '05': 'in progress',\n",
    "    '04': 'completed'\n",
    "}\n",
    "\n",
    "unique_values = list(set(project_ids.values()))\n",
    "unique_values.sort()\n",
    "print(unique_values)"
   ]
  },
  {
   "cell_type": "code",
   "execution_count": 19,
   "id": "62307341",
   "metadata": {},
   "outputs": [
    {
     "name": "stdout",
     "output_type": "stream",
     "text": [
      "['completed', 'in progress', 'open']\n"
     ]
    }
   ],
   "source": [
    "project_ids = {\n",
    "    '01': 'open', \n",
    "    '03': 'in progress',\n",
    "    '05': 'in progress',\n",
    "    '04': 'completed'\n",
    "}\n",
    "\n",
    "print(sorted(list(set(project_ids.values()))))"
   ]
  },
  {
   "cell_type": "markdown",
   "id": "8c8f2a85",
   "metadata": {},
   "source": [
    "#### Exercise 76\n",
    "```\n",
    "The following dictionary is given:\n",
    "\n",
    "stats = {'site': 'e-smartdata.org', 'traffic': 100, 'type': 'organic'}\n",
    "\n",
    "Delete the 'traffic' key pair from this dictionary and print it to the console.\n",
    "\n",
    "Expected result:\n",
    "\n",
    "{'site': 'e-smartdata.org', 'type': 'organic'}\n",
    "```"
   ]
  },
  {
   "cell_type": "code",
   "execution_count": 21,
   "id": "55670d58",
   "metadata": {},
   "outputs": [
    {
     "name": "stdout",
     "output_type": "stream",
     "text": [
      "{'site': 'e-smartdata.org', 'type': 'organic'}\n"
     ]
    }
   ],
   "source": [
    "stats = {'site': 'e-smartdata.org', 'traffic': 100, 'type': 'organic'}\n",
    "del stats[\"traffic\"]\n",
    "print(stats)"
   ]
  },
  {
   "cell_type": "code",
   "execution_count": 23,
   "id": "4d9e7dc9",
   "metadata": {},
   "outputs": [
    {
     "name": "stdout",
     "output_type": "stream",
     "text": [
      "{'site': 'e-smartdata.org', 'type': 'organic'}\n"
     ]
    }
   ],
   "source": [
    "stats = {'site': 'e-smartdata.org', 'traffic': 100, 'type': 'organic'}\n",
    "stats.pop(\"traffic\")\n",
    "print(stats)"
   ]
  },
  {
   "cell_type": "markdown",
   "id": "705c1af0",
   "metadata": {},
   "source": [
    "#### Exercise 77\n",
    "```\n",
    "The following dictionary is given:\n",
    "\n",
    "users = {'001': 'Mark', '002': 'Monica', '003': 'Jacob'}\n",
    "\n",
    "Try to print value for key '004'.\n",
    "\n",
    "In this exercise use the dict.get() method. When the key is not in the dictionary set default value to the string 'indefinite'.\n",
    "Expected result:\n",
    "'indefinite'\n",
    "```"
   ]
  },
  {
   "cell_type": "code",
   "execution_count": 26,
   "id": "d334e9c1",
   "metadata": {},
   "outputs": [
    {
     "name": "stdout",
     "output_type": "stream",
     "text": [
      "{'001': 'Mark', '002': 'Monica', '003': 'Jacob', '004': 'indefinite'}\n"
     ]
    }
   ],
   "source": [
    "users = {'001': 'Mark', '002': 'Monica', '003': 'Jacob'}\n",
    "\n",
    "if \"004\" in users:\n",
    "    users.get()\n",
    "else:\n",
    "    users.setdefault(\"004\",\"indefinite\")\n",
    "print(users)"
   ]
  },
  {
   "cell_type": "code",
   "execution_count": 67,
   "id": "3daf2525",
   "metadata": {},
   "outputs": [
    {
     "name": "stdout",
     "output_type": "stream",
     "text": [
      "indefinite\n"
     ]
    }
   ],
   "source": [
    "users = {'001': 'Mark', '002': 'Monica', '003': 'Jacob'}\n",
    "print(users.get(\"004\",\"indefinite\"))"
   ]
  },
  {
   "cell_type": "code",
   "execution_count": 48,
   "id": "e6caa54a",
   "metadata": {},
   "outputs": [
    {
     "name": "stdout",
     "output_type": "stream",
     "text": [
      "ayirpiraH\n"
     ]
    }
   ],
   "source": [
    "# reverse a string\n",
    "\n",
    "s = \"Haripriya\"\n",
    "s1 = \"\"\n",
    "i = len(s) - 1\n",
    "while i >= 0:\n",
    "    s1 = s1 + s[i]\n",
    "    i = i - 1\n",
    "print(s1)\n",
    "    "
   ]
  },
  {
   "cell_type": "code",
   "execution_count": 28,
   "id": "66bc2c6d",
   "metadata": {},
   "outputs": [
    {
     "name": "stdout",
     "output_type": "stream",
     "text": [
      "ayirpiraH\n"
     ]
    }
   ],
   "source": [
    "s = \"Haripriya\"\n",
    "print(s[::-1])"
   ]
  },
  {
   "cell_type": "code",
   "execution_count": 51,
   "id": "a658755d",
   "metadata": {},
   "outputs": [
    {
     "name": "stdout",
     "output_type": "stream",
     "text": [
      "ayirpiraH\n"
     ]
    }
   ],
   "source": [
    "s = \"Haripriya\"\n",
    "s1 = \"\"\n",
    "\n",
    "for i in s[::-1]:\n",
    "    s1 = s1 + i\n",
    "print(s1)"
   ]
  },
  {
   "cell_type": "code",
   "execution_count": 68,
   "id": "8a42c1e8",
   "metadata": {},
   "outputs": [
    {
     "name": "stdout",
     "output_type": "stream",
     "text": [
      "['1', '2', '3']\n",
      "['g', 'h', 'd', 's', 'h', 'f']\n"
     ]
    }
   ],
   "source": [
    "# separate numbers and letters from string and add it ina list separately\n",
    "\n",
    "s = \"123ghdshf\"\n",
    "l1 = []\n",
    "l2 = []\n",
    "\n",
    "for i in s:\n",
    "    if i.isdigit():\n",
    "        l1.append(i)\n",
    "    else:\n",
    "        l2.append(i)\n",
    "print(l1)\n",
    "print(l2)"
   ]
  },
  {
   "cell_type": "code",
   "execution_count": 69,
   "id": "279f0795",
   "metadata": {},
   "outputs": [
    {
     "name": "stdout",
     "output_type": "stream",
     "text": [
      "[1, 2]\n",
      "['a', 'u']\n"
     ]
    }
   ],
   "source": [
    "l = [1,2,\"a\",\"u\"]\n",
    "\n",
    "l1 = []\n",
    "l2 = []\n",
    "\n",
    "for i in l:\n",
    "    if type(i) == int:\n",
    "        l1.append(i)\n",
    "    else:\n",
    "        l2.append(i)\n",
    "print(l1)\n",
    "print(l2)"
   ]
  },
  {
   "cell_type": "code",
   "execution_count": 74,
   "id": "ced6abd8",
   "metadata": {},
   "outputs": [
    {
     "name": "stdout",
     "output_type": "stream",
     "text": [
      "[1, 2]\n",
      "['a', 'u']\n"
     ]
    }
   ],
   "source": [
    "l = [1,2,\"a\",\"u\"]\n",
    "\n",
    "l1 = []\n",
    "l2 = []\n",
    "\n",
    "[l1.append(i) if type(i) == int else l2.append(i) for i in l]\n",
    "print(l1)\n",
    "print(l2)"
   ]
  },
  {
   "cell_type": "code",
   "execution_count": null,
   "id": "6a3a2f66",
   "metadata": {},
   "outputs": [],
   "source": []
  },
  {
   "cell_type": "code",
   "execution_count": null,
   "id": "336ba061",
   "metadata": {},
   "outputs": [],
   "source": []
  }
 ],
 "metadata": {
  "kernelspec": {
   "display_name": "Python 3 (ipykernel)",
   "language": "python",
   "name": "python3"
  },
  "language_info": {
   "codemirror_mode": {
    "name": "ipython",
    "version": 3
   },
   "file_extension": ".py",
   "mimetype": "text/x-python",
   "name": "python",
   "nbconvert_exporter": "python",
   "pygments_lexer": "ipython3",
   "version": "3.11.4"
  }
 },
 "nbformat": 4,
 "nbformat_minor": 5
}
